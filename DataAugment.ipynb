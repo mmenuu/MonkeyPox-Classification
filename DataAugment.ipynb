{
  "nbformat": 4,
  "nbformat_minor": 0,
  "metadata": {
    "colab": {
      "provenance": [],
      "include_colab_link": true
    },
    "kernelspec": {
      "name": "python3",
      "display_name": "Python 3"
    },
    "language_info": {
      "name": "python"
    }
  },
  "cells": [
    {
      "cell_type": "markdown",
      "metadata": {
        "id": "view-in-github",
        "colab_type": "text"
      },
      "source": [
        "<a href=\"https://colab.research.google.com/github/mmenuu/MonkeyPox-Classification/blob/main/DataAugment.ipynb\" target=\"_parent\"><img src=\"https://colab.research.google.com/assets/colab-badge.svg\" alt=\"Open In Colab\"/></a>"
      ]
    },
    {
      "cell_type": "code",
      "source": [
        "import numpy as np\n",
        "import imageio\n",
        "from os import listdir\n",
        "import albumentations as A\n",
        "import shutil"
      ],
      "metadata": {
        "id": "bQ3Gz-4FwLaW"
      },
      "execution_count": null,
      "outputs": []
    },
    {
      "cell_type": "code",
      "execution_count": null,
      "metadata": {
        "colab": {
          "base_uri": "https://localhost:8080/"
        },
        "id": "rYvz9FfkZp5W",
        "outputId": "43ff92b9-dd9b-4664-a0c1-2baf2ad8d96f"
      },
      "outputs": [
        {
          "output_type": "stream",
          "name": "stdout",
          "text": [
            "Drive already mounted at /content/drive; to attempt to forcibly remount, call drive.mount(\"/content/drive\", force_remount=True).\n"
          ]
        }
      ],
      "source": [
        "from google.colab import drive\n",
        "drive.mount('/content/drive')"
      ]
    },
    {
      "cell_type": "code",
      "source": [
        "def read_image(url):\n",
        "    image = imageio.imread(url)\n",
        "    return image\n",
        "\n",
        "def augment_and_return(aug,image):\n",
        "    aimg = aug(image=image)['image']\n",
        "    return aimg\n",
        "\n",
        "def save_augment_img(aimg,img,directory):\n",
        "    uri = directory + '/' + img\n",
        "    imageio.imwrite(uri,aimg)"
      ],
      "metadata": {
        "id": "9o6IbQubwORq"
      },
      "execution_count": null,
      "outputs": []
    },
    {
      "cell_type": "markdown",
      "source": [
        "Horizontal Flip\n",
        "\n",
        "\n",
        "\n",
        "\n",
        "\n"
      ],
      "metadata": {
        "id": "d9jJvvKwwTXq"
      }
    },
    {
      "cell_type": "code",
      "source": [
        "chicken_input_path = '/content/drive/MyDrive/Deep Learning Project/Monkeypox Skin Image Dataset/Chickenpox/'\n",
        "chicken_hori_output_path = '/content/drive/MyDrive/Deep Learning Project/Menu_Aug/Flip_hor/Chickenpox/'\n",
        "chicken_input_images = listdir(chicken_input_path)\n",
        "chicken_input_images.sort()\n",
        "for i in chicken_input_images:\n",
        "  hori_aug = A.HorizontalFlip(p=1)\n",
        "for i in chicken_input_images:\n",
        "    path2img = chicken_input_path + i\n",
        "    img = read_image(path2img)\n",
        "    aimg = augment_and_return(hori_aug,img)\n",
        "    save_augment_img(aimg,i,chicken_hori_output_path)"
      ],
      "metadata": {
        "id": "k_JAni2iwQuu",
        "colab": {
          "base_uri": "https://localhost:8080/",
          "height": 363
        },
        "outputId": "d6f9510b-e8a5-424b-90f6-e47c2373f90e"
      },
      "execution_count": null,
      "outputs": [
        {
          "output_type": "error",
          "ename": "FileNotFoundError",
          "evalue": "ignored",
          "traceback": [
            "\u001b[0;31m---------------------------------------------------------------------------\u001b[0m",
            "\u001b[0;31mFileNotFoundError\u001b[0m                         Traceback (most recent call last)",
            "\u001b[0;32m<ipython-input-40-3ccc6461da9f>\u001b[0m in \u001b[0;36m<module>\u001b[0;34m\u001b[0m\n\u001b[1;32m      9\u001b[0m     \u001b[0mimg\u001b[0m \u001b[0;34m=\u001b[0m \u001b[0mread_image\u001b[0m\u001b[0;34m(\u001b[0m\u001b[0mpath2img\u001b[0m\u001b[0;34m)\u001b[0m\u001b[0;34m\u001b[0m\u001b[0;34m\u001b[0m\u001b[0m\n\u001b[1;32m     10\u001b[0m     \u001b[0maimg\u001b[0m \u001b[0;34m=\u001b[0m \u001b[0maugment_and_return\u001b[0m\u001b[0;34m(\u001b[0m\u001b[0mhori_aug\u001b[0m\u001b[0;34m,\u001b[0m\u001b[0mimg\u001b[0m\u001b[0;34m)\u001b[0m\u001b[0;34m\u001b[0m\u001b[0;34m\u001b[0m\u001b[0m\n\u001b[0;32m---> 11\u001b[0;31m     \u001b[0msave_augment_img\u001b[0m\u001b[0;34m(\u001b[0m\u001b[0maimg\u001b[0m\u001b[0;34m,\u001b[0m\u001b[0mi\u001b[0m\u001b[0;34m,\u001b[0m\u001b[0mchicken_hori_output_path\u001b[0m\u001b[0;34m)\u001b[0m\u001b[0;34m\u001b[0m\u001b[0;34m\u001b[0m\u001b[0m\n\u001b[0m",
            "\u001b[0;32m<ipython-input-38-dec21b9b4713>\u001b[0m in \u001b[0;36msave_augment_img\u001b[0;34m(aimg, img, directory)\u001b[0m\n\u001b[1;32m      9\u001b[0m \u001b[0;32mdef\u001b[0m \u001b[0msave_augment_img\u001b[0m\u001b[0;34m(\u001b[0m\u001b[0maimg\u001b[0m\u001b[0;34m,\u001b[0m\u001b[0mimg\u001b[0m\u001b[0;34m,\u001b[0m\u001b[0mdirectory\u001b[0m\u001b[0;34m)\u001b[0m\u001b[0;34m:\u001b[0m\u001b[0;34m\u001b[0m\u001b[0;34m\u001b[0m\u001b[0m\n\u001b[1;32m     10\u001b[0m     \u001b[0muri\u001b[0m \u001b[0;34m=\u001b[0m \u001b[0mdirectory\u001b[0m \u001b[0;34m+\u001b[0m \u001b[0;34m'/'\u001b[0m \u001b[0;34m+\u001b[0m \u001b[0mimg\u001b[0m\u001b[0;34m\u001b[0m\u001b[0;34m\u001b[0m\u001b[0m\n\u001b[0;32m---> 11\u001b[0;31m     \u001b[0mimageio\u001b[0m\u001b[0;34m.\u001b[0m\u001b[0mimwrite\u001b[0m\u001b[0;34m(\u001b[0m\u001b[0muri\u001b[0m\u001b[0;34m,\u001b[0m\u001b[0maimg\u001b[0m\u001b[0;34m)\u001b[0m\u001b[0;34m\u001b[0m\u001b[0;34m\u001b[0m\u001b[0m\n\u001b[0m",
            "\u001b[0;32m/usr/local/lib/python3.7/dist-packages/imageio/core/functions.py\u001b[0m in \u001b[0;36mimwrite\u001b[0;34m(uri, im, format, **kwargs)\u001b[0m\n\u001b[1;32m    301\u001b[0m \u001b[0;34m\u001b[0m\u001b[0m\n\u001b[1;32m    302\u001b[0m     \u001b[0;31m# Get writer and write first\u001b[0m\u001b[0;34m\u001b[0m\u001b[0;34m\u001b[0m\u001b[0;34m\u001b[0m\u001b[0m\n\u001b[0;32m--> 303\u001b[0;31m     \u001b[0mwriter\u001b[0m \u001b[0;34m=\u001b[0m \u001b[0mget_writer\u001b[0m\u001b[0;34m(\u001b[0m\u001b[0muri\u001b[0m\u001b[0;34m,\u001b[0m \u001b[0mformat\u001b[0m\u001b[0;34m,\u001b[0m \u001b[0;34m\"i\"\u001b[0m\u001b[0;34m,\u001b[0m \u001b[0;34m**\u001b[0m\u001b[0mkwargs\u001b[0m\u001b[0;34m)\u001b[0m\u001b[0;34m\u001b[0m\u001b[0;34m\u001b[0m\u001b[0m\n\u001b[0m\u001b[1;32m    304\u001b[0m     \u001b[0;32mwith\u001b[0m \u001b[0mwriter\u001b[0m\u001b[0;34m:\u001b[0m\u001b[0;34m\u001b[0m\u001b[0;34m\u001b[0m\u001b[0m\n\u001b[1;32m    305\u001b[0m         \u001b[0mwriter\u001b[0m\u001b[0;34m.\u001b[0m\u001b[0mappend_data\u001b[0m\u001b[0;34m(\u001b[0m\u001b[0mim\u001b[0m\u001b[0;34m)\u001b[0m\u001b[0;34m\u001b[0m\u001b[0;34m\u001b[0m\u001b[0m\n",
            "\u001b[0;32m/usr/local/lib/python3.7/dist-packages/imageio/core/functions.py\u001b[0m in \u001b[0;36mget_writer\u001b[0;34m(uri, format, mode, **kwargs)\u001b[0m\n\u001b[1;32m    215\u001b[0m \u001b[0;34m\u001b[0m\u001b[0m\n\u001b[1;32m    216\u001b[0m     \u001b[0;31m# Create request object\u001b[0m\u001b[0;34m\u001b[0m\u001b[0;34m\u001b[0m\u001b[0;34m\u001b[0m\u001b[0m\n\u001b[0;32m--> 217\u001b[0;31m     \u001b[0mrequest\u001b[0m \u001b[0;34m=\u001b[0m \u001b[0mRequest\u001b[0m\u001b[0;34m(\u001b[0m\u001b[0muri\u001b[0m\u001b[0;34m,\u001b[0m \u001b[0;34m\"w\"\u001b[0m \u001b[0;34m+\u001b[0m \u001b[0mmode\u001b[0m\u001b[0;34m,\u001b[0m \u001b[0;34m**\u001b[0m\u001b[0mkwargs\u001b[0m\u001b[0;34m)\u001b[0m\u001b[0;34m\u001b[0m\u001b[0;34m\u001b[0m\u001b[0m\n\u001b[0m\u001b[1;32m    218\u001b[0m \u001b[0;34m\u001b[0m\u001b[0m\n\u001b[1;32m    219\u001b[0m     \u001b[0;31m# Get format\u001b[0m\u001b[0;34m\u001b[0m\u001b[0;34m\u001b[0m\u001b[0;34m\u001b[0m\u001b[0m\n",
            "\u001b[0;32m/usr/local/lib/python3.7/dist-packages/imageio/core/request.py\u001b[0m in \u001b[0;36m__init__\u001b[0;34m(self, uri, mode, **kwargs)\u001b[0m\n\u001b[1;32m    122\u001b[0m \u001b[0;34m\u001b[0m\u001b[0m\n\u001b[1;32m    123\u001b[0m         \u001b[0;31m# Parse what was given\u001b[0m\u001b[0;34m\u001b[0m\u001b[0;34m\u001b[0m\u001b[0;34m\u001b[0m\u001b[0m\n\u001b[0;32m--> 124\u001b[0;31m         \u001b[0mself\u001b[0m\u001b[0;34m.\u001b[0m\u001b[0m_parse_uri\u001b[0m\u001b[0;34m(\u001b[0m\u001b[0muri\u001b[0m\u001b[0;34m)\u001b[0m\u001b[0;34m\u001b[0m\u001b[0;34m\u001b[0m\u001b[0m\n\u001b[0m\u001b[1;32m    125\u001b[0m \u001b[0;34m\u001b[0m\u001b[0m\n\u001b[1;32m    126\u001b[0m         \u001b[0;31m# Set extension\u001b[0m\u001b[0;34m\u001b[0m\u001b[0;34m\u001b[0m\u001b[0;34m\u001b[0m\u001b[0m\n",
            "\u001b[0;32m/usr/local/lib/python3.7/dist-packages/imageio/core/request.py\u001b[0m in \u001b[0;36m_parse_uri\u001b[0;34m(self, uri)\u001b[0m\n\u001b[1;32m    263\u001b[0m                 \u001b[0mdn\u001b[0m \u001b[0;34m=\u001b[0m \u001b[0mos\u001b[0m\u001b[0;34m.\u001b[0m\u001b[0mpath\u001b[0m\u001b[0;34m.\u001b[0m\u001b[0mdirname\u001b[0m\u001b[0;34m(\u001b[0m\u001b[0mfn\u001b[0m\u001b[0;34m)\u001b[0m\u001b[0;34m\u001b[0m\u001b[0;34m\u001b[0m\u001b[0m\n\u001b[1;32m    264\u001b[0m                 \u001b[0;32mif\u001b[0m \u001b[0;32mnot\u001b[0m \u001b[0mos\u001b[0m\u001b[0;34m.\u001b[0m\u001b[0mpath\u001b[0m\u001b[0;34m.\u001b[0m\u001b[0mexists\u001b[0m\u001b[0;34m(\u001b[0m\u001b[0mdn\u001b[0m\u001b[0;34m)\u001b[0m\u001b[0;34m:\u001b[0m\u001b[0;34m\u001b[0m\u001b[0;34m\u001b[0m\u001b[0m\n\u001b[0;32m--> 265\u001b[0;31m                     \u001b[0;32mraise\u001b[0m \u001b[0mFileNotFoundError\u001b[0m\u001b[0;34m(\u001b[0m\u001b[0;34m\"The directory %r does not exist\"\u001b[0m \u001b[0;34m%\u001b[0m \u001b[0mdn\u001b[0m\u001b[0;34m)\u001b[0m\u001b[0;34m\u001b[0m\u001b[0;34m\u001b[0m\u001b[0m\n\u001b[0m\u001b[1;32m    266\u001b[0m \u001b[0;34m\u001b[0m\u001b[0m\n\u001b[1;32m    267\u001b[0m     \u001b[0;34m@\u001b[0m\u001b[0mproperty\u001b[0m\u001b[0;34m\u001b[0m\u001b[0;34m\u001b[0m\u001b[0m\n",
            "\u001b[0;31mFileNotFoundError\u001b[0m: The directory '/content/drive/MyDrive/Deep Learning Project/Menu_Aug/Flip_hor/Chickenpox' does not exist"
          ]
        }
      ]
    },
    {
      "cell_type": "code",
      "source": [
        "import os\n",
        "\n",
        "folder = r'/content/drive/MyDrive/Deep Learning Project/Menu_Aug/Flip_hor/Chickenpox/'\n",
        "count = 108\n",
        "# count increase by 1 in each iteration\n",
        "# iterate all files from a directory\n",
        "for file_name in os.listdir(folder):\n",
        "    # Construct old file name\n",
        "    source = folder + file_name\n",
        "\n",
        "    # Adding the count to the new file name and extension\n",
        "    destination = folder + \"Chickenpox_\" + str(count) + \".png\"\n",
        "\n",
        "    # Renaming the file\n",
        "    os.rename(source, destination)\n",
        "    count += 1\n",
        "print('All Files Renamed')\n",
        "\n",
        "print('New Names are')\n",
        "# verify the result\n",
        "res = os.listdir(folder)\n",
        "print(res)"
      ],
      "metadata": {
        "colab": {
          "base_uri": "https://localhost:8080/"
        },
        "id": "D55kmfFOwm-J",
        "outputId": "af284ba2-bd30-46e0-8eae-99e629617acd"
      },
      "execution_count": null,
      "outputs": [
        {
          "output_type": "stream",
          "name": "stdout",
          "text": [
            "All Files Renamed\n",
            "New Names are\n",
            "['Chickenpox_108.png', 'Chickenpox_109.png', 'Chickenpox_110.png', 'Chickenpox_111.png', 'Chickenpox_112.png', 'Chickenpox_113.png', 'Chickenpox_114.png', 'Chickenpox_115.png', 'Chickenpox_116.png', 'Chickenpox_117.png', 'Chickenpox_118.png', 'Chickenpox_119.png', 'Chickenpox_120.png', 'Chickenpox_121.png', 'Chickenpox_122.png', 'Chickenpox_123.png', 'Chickenpox_124.png', 'Chickenpox_125.png', 'Chickenpox_126.png', 'Chickenpox_127.png', 'Chickenpox_128.png', 'Chickenpox_129.png', 'Chickenpox_130.png', 'Chickenpox_131.png', 'Chickenpox_132.png', 'Chickenpox_133.png', 'Chickenpox_134.png', 'Chickenpox_135.png', 'Chickenpox_136.png', 'Chickenpox_137.png', 'Chickenpox_138.png', 'Chickenpox_139.png', 'Chickenpox_140.png', 'Chickenpox_141.png', 'Chickenpox_142.png', 'Chickenpox_143.png', 'Chickenpox_144.png', 'Chickenpox_145.png', 'Chickenpox_146.png', 'Chickenpox_147.png', 'Chickenpox_148.png', 'Chickenpox_149.png', 'Chickenpox_150.png', 'Chickenpox_151.png', 'Chickenpox_152.png', 'Chickenpox_153.png', 'Chickenpox_154.png', 'Chickenpox_155.png', 'Chickenpox_156.png', 'Chickenpox_157.png', 'Chickenpox_158.png', 'Chickenpox_159.png', 'Chickenpox_160.png', 'Chickenpox_161.png', 'Chickenpox_162.png', 'Chickenpox_163.png', 'Chickenpox_164.png', 'Chickenpox_165.png', 'Chickenpox_166.png', 'Chickenpox_167.png', 'Chickenpox_168.png', 'Chickenpox_169.png', 'Chickenpox_170.png', 'Chickenpox_171.png', 'Chickenpox_172.png', 'Chickenpox_173.png', 'Chickenpox_174.png', 'Chickenpox_175.png', 'Chickenpox_176.png', 'Chickenpox_177.png', 'Chickenpox_178.png', 'Chickenpox_179.png', 'Chickenpox_180.png', 'Chickenpox_181.png', 'Chickenpox_182.png', 'Chickenpox_183.png', 'Chickenpox_184.png', 'Chickenpox_185.png', 'Chickenpox_186.png', 'Chickenpox_187.png', 'Chickenpox_188.png', 'Chickenpox_189.png', 'Chickenpox_190.png', 'Chickenpox_191.png', 'Chickenpox_192.png', 'Chickenpox_193.png', 'Chickenpox_194.png', 'Chickenpox_195.png', 'Chickenpox_196.png', 'Chickenpox_197.png', 'Chickenpox_198.png', 'Chickenpox_199.png', 'Chickenpox_200.png', 'Chickenpox_201.png', 'Chickenpox_202.png', 'Chickenpox_203.png', 'Chickenpox_204.png', 'Chickenpox_205.png', 'Chickenpox_206.png', 'Chickenpox_207.png', 'Chickenpox_208.png', 'Chickenpox_209.png', 'Chickenpox_210.png', 'Chickenpox_211.png', 'Chickenpox_212.png', 'Chickenpox_213.png', 'Chickenpox_214.png']\n"
          ]
        }
      ]
    },
    {
      "cell_type": "code",
      "source": [
        "chicken_input_path = '/content/drive/MyDrive/Deep Learning Project/Monkeypox Skin Image Dataset/Measles/'\n",
        "chicken_hori_output_path = '/content/drive/MyDrive/Deep Learning Project/Menu_Aug/Flip_hor/Measles/'\n",
        "chicken_input_images = listdir(chicken_input_path)\n",
        "chicken_input_images.sort()\n",
        "for i in chicken_input_images:\n",
        "  hori_aug = A.HorizontalFlip(p=1)\n",
        "for i in chicken_input_images:\n",
        "    path2img = chicken_input_path + i\n",
        "    img = read_image(path2img)\n",
        "    aimg = augment_and_return(hori_aug,img)\n",
        "    save_augment_img(aimg,i,chicken_hori_output_path)"
      ],
      "metadata": {
        "id": "WhC46yqaxCfb"
      },
      "execution_count": null,
      "outputs": []
    },
    {
      "cell_type": "code",
      "source": [
        "import os\n",
        "\n",
        "folder = r'/content/drive/MyDrive/Deep Learning Project/Menu_Aug/Flip_hor/Measles/'\n",
        "count =92\n",
        "# count increase by 1 in each iteration\n",
        "# iterate all files from a directory\n",
        "for file_name in os.listdir(folder):\n",
        "    # Construct old file name\n",
        "    source = folder + file_name\n",
        "\n",
        "    # Adding the count to the new file name and extension\n",
        "    destination = folder + \"Measles_\" + str(count) + \".png\"\n",
        "\n",
        "    # Renaming the file\n",
        "    os.rename(source, destination)\n",
        "    count += 1\n",
        "print('All Files Renamed')\n",
        "\n",
        "print('New Names are')\n",
        "# verify the result\n",
        "res = os.listdir(folder)\n",
        "print(res)"
      ],
      "metadata": {
        "colab": {
          "base_uri": "https://localhost:8080/"
        },
        "id": "a1yAJeLExXyq",
        "outputId": "9345a11f-3f22-4eb5-910b-169a9ce8617b"
      },
      "execution_count": null,
      "outputs": [
        {
          "output_type": "stream",
          "name": "stdout",
          "text": [
            "All Files Renamed\n",
            "New Names are\n",
            "['Measles_92.png', 'Measles_93.png', 'Measles_94.png', 'Measles_95.png', 'Measles_96.png', 'Measles_97.png', 'Measles_98.png', 'Measles_99.png', 'Measles_100.png', 'Measles_101.png', 'Measles_102.png', 'Measles_103.png', 'Measles_104.png', 'Measles_105.png', 'Measles_106.png', 'Measles_107.png', 'Measles_108.png', 'Measles_109.png', 'Measles_110.png', 'Measles_111.png', 'Measles_112.png', 'Measles_113.png', 'Measles_114.png', 'Measles_115.png', 'Measles_116.png', 'Measles_117.png', 'Measles_118.png', 'Measles_119.png', 'Measles_120.png', 'Measles_121.png', 'Measles_122.png', 'Measles_123.png', 'Measles_124.png', 'Measles_125.png', 'Measles_126.png', 'Measles_127.png', 'Measles_128.png', 'Measles_129.png', 'Measles_130.png', 'Measles_131.png', 'Measles_132.png', 'Measles_133.png', 'Measles_134.png', 'Measles_135.png', 'Measles_136.png', 'Measles_137.png', 'Measles_138.png', 'Measles_139.png', 'Measles_140.png', 'Measles_141.png', 'Measles_142.png', 'Measles_143.png', 'Measles_144.png', 'Measles_145.png', 'Measles_146.png', 'Measles_147.png', 'Measles_148.png', 'Measles_149.png', 'Measles_150.png', 'Measles_151.png', 'Measles_152.png', 'Measles_153.png', 'Measles_154.png', 'Measles_155.png', 'Measles_156.png', 'Measles_157.png', 'Measles_158.png', 'Measles_159.png', 'Measles_160.png', 'Measles_161.png', 'Measles_162.png', 'Measles_163.png', 'Measles_164.png', 'Measles_165.png', 'Measles_166.png', 'Measles_167.png', 'Measles_168.png', 'Measles_169.png', 'Measles_170.png', 'Measles_171.png', 'Measles_172.png', 'Measles_173.png', 'Measles_174.png', 'Measles_175.png', 'Measles_176.png', 'Measles_177.png', 'Measles_178.png', 'Measles_179.png', 'Measles_180.png', 'Measles_181.png', 'Measles_182.png']\n"
          ]
        }
      ]
    },
    {
      "cell_type": "code",
      "source": [
        "chicken_input_path = '/content/drive/MyDrive/Deep Learning Project/Monkeypox Skin Image Dataset/Monkeypox/'\n",
        "chicken_hori_output_path = '/content/drive/MyDrive/Deep Learning Project/Menu_Aug/Flip_hor/Monkeypox/'\n",
        "chicken_input_images = listdir(chicken_input_path)\n",
        "chicken_input_images.sort()\n",
        "for i in chicken_input_images:\n",
        "  hori_aug = A.HorizontalFlip(p=1)\n",
        "for i in chicken_input_images:\n",
        "    path2img = chicken_input_path + i\n",
        "    img = read_image(path2img)\n",
        "    aimg = augment_and_return(hori_aug,img)\n",
        "    save_augment_img(aimg,i,chicken_hori_output_path)"
      ],
      "metadata": {
        "id": "fxtTWpnc6oWR"
      },
      "execution_count": null,
      "outputs": []
    },
    {
      "cell_type": "code",
      "source": [
        "import os\n",
        "\n",
        "folder = r'/content/drive/MyDrive/Deep Learning Project/Menu_Aug/Flip_hor/Monkeypox/'\n",
        "count = 280\n",
        "# count increase by 1 in each iteration\n",
        "# iterate all files from a directory\n",
        "for file_name in os.listdir(folder):\n",
        "    # Construct old file name\n",
        "    source = folder + file_name\n",
        "\n",
        "    # Adding the count to the new file name and extension\n",
        "    destination = folder + \"Monkeypox_\" + str(count) + \".png\"\n",
        "\n",
        "    # Renaming the file\n",
        "    os.rename(source, destination)\n",
        "    count += 1\n",
        "print('All Files Renamed')\n",
        "\n",
        "print('New Names are')\n",
        "# verify the result\n",
        "res = os.listdir(folder)\n",
        "print(res)"
      ],
      "metadata": {
        "colab": {
          "base_uri": "https://localhost:8080/"
        },
        "id": "7xU02boL6wea",
        "outputId": "acc79235-7ae2-49c6-ef02-224aaeba2178"
      },
      "execution_count": null,
      "outputs": [
        {
          "output_type": "stream",
          "name": "stdout",
          "text": [
            "All Files Renamed\n",
            "New Names are\n",
            "['Monkeypox_280.png', 'Monkeypox_281.png', 'Monkeypox_282.png', 'Monkeypox_283.png', 'Monkeypox_284.png', 'Monkeypox_285.png', 'Monkeypox_286.png', 'Monkeypox_287.png', 'Monkeypox_288.png', 'Monkeypox_289.png', 'Monkeypox_290.png', 'Monkeypox_291.png', 'Monkeypox_292.png', 'Monkeypox_293.png', 'Monkeypox_294.png', 'Monkeypox_295.png', 'Monkeypox_296.png', 'Monkeypox_297.png', 'Monkeypox_298.png', 'Monkeypox_299.png', 'Monkeypox_300.png', 'Monkeypox_301.png', 'Monkeypox_302.png', 'Monkeypox_303.png', 'Monkeypox_304.png', 'Monkeypox_305.png', 'Monkeypox_306.png', 'Monkeypox_307.png', 'Monkeypox_308.png', 'Monkeypox_309.png', 'Monkeypox_310.png', 'Monkeypox_311.png', 'Monkeypox_312.png', 'Monkeypox_313.png', 'Monkeypox_314.png', 'Monkeypox_315.png', 'Monkeypox_316.png', 'Monkeypox_317.png', 'Monkeypox_318.png', 'Monkeypox_319.png', 'Monkeypox_320.png', 'Monkeypox_321.png', 'Monkeypox_322.png', 'Monkeypox_323.png', 'Monkeypox_324.png', 'Monkeypox_325.png', 'Monkeypox_326.png', 'Monkeypox_327.png', 'Monkeypox_328.png', 'Monkeypox_329.png', 'Monkeypox_330.png', 'Monkeypox_331.png', 'Monkeypox_332.png', 'Monkeypox_333.png', 'Monkeypox_334.png', 'Monkeypox_335.png', 'Monkeypox_336.png', 'Monkeypox_337.png', 'Monkeypox_338.png', 'Monkeypox_339.png', 'Monkeypox_340.png', 'Monkeypox_341.png', 'Monkeypox_342.png', 'Monkeypox_343.png', 'Monkeypox_344.png', 'Monkeypox_345.png', 'Monkeypox_346.png', 'Monkeypox_347.png', 'Monkeypox_348.png', 'Monkeypox_349.png', 'Monkeypox_350.png', 'Monkeypox_351.png', 'Monkeypox_352.png', 'Monkeypox_353.png', 'Monkeypox_354.png', 'Monkeypox_355.png', 'Monkeypox_356.png', 'Monkeypox_357.png', 'Monkeypox_358.png', 'Monkeypox_359.png', 'Monkeypox_360.png', 'Monkeypox_361.png', 'Monkeypox_362.png', 'Monkeypox_363.png', 'Monkeypox_364.png', 'Monkeypox_365.png', 'Monkeypox_366.png', 'Monkeypox_367.png', 'Monkeypox_368.png', 'Monkeypox_369.png', 'Monkeypox_370.png', 'Monkeypox_371.png', 'Monkeypox_372.png', 'Monkeypox_373.png', 'Monkeypox_374.png', 'Monkeypox_375.png', 'Monkeypox_376.png', 'Monkeypox_377.png', 'Monkeypox_378.png', 'Monkeypox_379.png', 'Monkeypox_380.png', 'Monkeypox_381.png', 'Monkeypox_382.png', 'Monkeypox_383.png', 'Monkeypox_384.png', 'Monkeypox_385.png', 'Monkeypox_386.png', 'Monkeypox_387.png', 'Monkeypox_388.png', 'Monkeypox_389.png', 'Monkeypox_390.png', 'Monkeypox_391.png', 'Monkeypox_392.png', 'Monkeypox_393.png', 'Monkeypox_394.png', 'Monkeypox_395.png', 'Monkeypox_396.png', 'Monkeypox_397.png', 'Monkeypox_398.png', 'Monkeypox_399.png', 'Monkeypox_400.png', 'Monkeypox_401.png', 'Monkeypox_402.png', 'Monkeypox_403.png', 'Monkeypox_404.png', 'Monkeypox_405.png', 'Monkeypox_406.png', 'Monkeypox_407.png', 'Monkeypox_408.png', 'Monkeypox_409.png', 'Monkeypox_410.png', 'Monkeypox_411.png', 'Monkeypox_412.png', 'Monkeypox_413.png', 'Monkeypox_414.png', 'Monkeypox_415.png', 'Monkeypox_416.png', 'Monkeypox_417.png', 'Monkeypox_418.png', 'Monkeypox_419.png', 'Monkeypox_420.png', 'Monkeypox_421.png', 'Monkeypox_422.png', 'Monkeypox_423.png', 'Monkeypox_424.png', 'Monkeypox_425.png', 'Monkeypox_426.png', 'Monkeypox_427.png', 'Monkeypox_428.png', 'Monkeypox_429.png', 'Monkeypox_430.png', 'Monkeypox_431.png', 'Monkeypox_432.png', 'Monkeypox_433.png', 'Monkeypox_434.png', 'Monkeypox_435.png', 'Monkeypox_436.png', 'Monkeypox_437.png', 'Monkeypox_438.png', 'Monkeypox_439.png', 'Monkeypox_440.png', 'Monkeypox_441.png', 'Monkeypox_442.png', 'Monkeypox_443.png', 'Monkeypox_444.png', 'Monkeypox_445.png', 'Monkeypox_446.png', 'Monkeypox_447.png', 'Monkeypox_448.png', 'Monkeypox_449.png', 'Monkeypox_450.png', 'Monkeypox_451.png', 'Monkeypox_452.png', 'Monkeypox_453.png', 'Monkeypox_454.png', 'Monkeypox_455.png', 'Monkeypox_456.png', 'Monkeypox_457.png', 'Monkeypox_458.png', 'Monkeypox_459.png', 'Monkeypox_460.png', 'Monkeypox_461.png', 'Monkeypox_462.png', 'Monkeypox_463.png', 'Monkeypox_464.png', 'Monkeypox_465.png', 'Monkeypox_466.png', 'Monkeypox_467.png', 'Monkeypox_468.png', 'Monkeypox_469.png', 'Monkeypox_470.png', 'Monkeypox_471.png', 'Monkeypox_472.png', 'Monkeypox_473.png', 'Monkeypox_474.png', 'Monkeypox_475.png', 'Monkeypox_476.png', 'Monkeypox_477.png', 'Monkeypox_478.png', 'Monkeypox_479.png', 'Monkeypox_480.png', 'Monkeypox_481.png', 'Monkeypox_482.png', 'Monkeypox_483.png', 'Monkeypox_484.png', 'Monkeypox_485.png', 'Monkeypox_486.png', 'Monkeypox_487.png', 'Monkeypox_488.png', 'Monkeypox_489.png', 'Monkeypox_490.png', 'Monkeypox_491.png', 'Monkeypox_492.png', 'Monkeypox_493.png', 'Monkeypox_494.png', 'Monkeypox_495.png', 'Monkeypox_496.png', 'Monkeypox_497.png', 'Monkeypox_498.png', 'Monkeypox_499.png', 'Monkeypox_500.png', 'Monkeypox_501.png', 'Monkeypox_502.png', 'Monkeypox_503.png', 'Monkeypox_504.png', 'Monkeypox_505.png', 'Monkeypox_506.png', 'Monkeypox_507.png', 'Monkeypox_508.png', 'Monkeypox_509.png', 'Monkeypox_510.png', 'Monkeypox_511.png', 'Monkeypox_512.png', 'Monkeypox_513.png', 'Monkeypox_514.png', 'Monkeypox_515.png', 'Monkeypox_516.png', 'Monkeypox_517.png', 'Monkeypox_518.png', 'Monkeypox_519.png', 'Monkeypox_520.png', 'Monkeypox_521.png', 'Monkeypox_522.png', 'Monkeypox_523.png', 'Monkeypox_524.png', 'Monkeypox_525.png', 'Monkeypox_526.png', 'Monkeypox_527.png', 'Monkeypox_528.png', 'Monkeypox_529.png', 'Monkeypox_530.png', 'Monkeypox_531.png', 'Monkeypox_532.png', 'Monkeypox_533.png', 'Monkeypox_534.png', 'Monkeypox_535.png', 'Monkeypox_536.png', 'Monkeypox_537.png', 'Monkeypox_538.png', 'Monkeypox_539.png', 'Monkeypox_540.png', 'Monkeypox_541.png', 'Monkeypox_542.png', 'Monkeypox_543.png', 'Monkeypox_544.png', 'Monkeypox_545.png', 'Monkeypox_546.png', 'Monkeypox_547.png', 'Monkeypox_548.png', 'Monkeypox_549.png', 'Monkeypox_550.png', 'Monkeypox_551.png', 'Monkeypox_552.png', 'Monkeypox_553.png', 'Monkeypox_554.png', 'Monkeypox_555.png', 'Monkeypox_556.png', 'Monkeypox_557.png', 'Monkeypox_558.png']\n"
          ]
        }
      ]
    },
    {
      "cell_type": "code",
      "source": [
        "chicken_input_path = '/content/drive/MyDrive/Deep Learning Project/Monkeypox Skin Image Dataset/Normal/'\n",
        "chicken_hori_output_path = '/content/drive/MyDrive/Deep Learning Project/Menu_Aug/Flip_hor/Normal/'\n",
        "chicken_input_images = listdir(chicken_input_path)\n",
        "chicken_input_images.sort()\n",
        "for i in chicken_input_images:\n",
        "  hori_aug = A.HorizontalFlip(p=1)\n",
        "for i in chicken_input_images:\n",
        "    path2img = chicken_input_path + i\n",
        "    img = read_image(path2img)\n",
        "    aimg = augment_and_return(hori_aug,img)\n",
        "    save_augment_img(aimg,i,chicken_hori_output_path)"
      ],
      "metadata": {
        "id": "jhdY7oiD674f"
      },
      "execution_count": null,
      "outputs": []
    },
    {
      "cell_type": "code",
      "source": [
        "import os\n",
        "\n",
        "folder = r'/content/drive/MyDrive/Deep Learning Project/Menu_Aug/Flip_hor/Normal/'\n",
        "count = 294\n",
        "# count increase by 1 in each iteration\n",
        "# iterate all files from a directory\n",
        "for file_name in os.listdir(folder):\n",
        "    # Construct old file name\n",
        "    source = folder + file_name\n",
        "\n",
        "    # Adding the count to the new file name and extension\n",
        "    destination = folder + \"Normal_\" + str(count) + \".png\"\n",
        "\n",
        "    # Renaming the file\n",
        "    os.rename(source, destination)\n",
        "    count += 1\n",
        "print('All Files Renamed')\n",
        "\n",
        "print('New Names are')\n",
        "# verify the result\n",
        "res = os.listdir(folder)\n",
        "print(res)"
      ],
      "metadata": {
        "colab": {
          "base_uri": "https://localhost:8080/"
        },
        "id": "e61WiBxT7Dwt",
        "outputId": "05726a9d-f9f8-459c-860f-b401bf3608ae"
      },
      "execution_count": null,
      "outputs": [
        {
          "output_type": "stream",
          "name": "stdout",
          "text": [
            "All Files Renamed\n",
            "New Names are\n",
            "['Normal_294.png', 'Normal_295.png', 'Normal_296.png', 'Normal_297.png', 'Normal_298.png', 'Normal_299.png', 'Normal_300.png', 'Normal_301.png', 'Normal_302.png', 'Normal_303.png', 'Normal_304.png', 'Normal_305.png', 'Normal_306.png', 'Normal_307.png', 'Normal_308.png', 'Normal_309.png', 'Normal_310.png', 'Normal_311.png', 'Normal_312.png', 'Normal_313.png', 'Normal_314.png', 'Normal_315.png', 'Normal_316.png', 'Normal_317.png', 'Normal_318.png', 'Normal_319.png', 'Normal_320.png', 'Normal_321.png', 'Normal_322.png', 'Normal_323.png', 'Normal_324.png', 'Normal_325.png', 'Normal_326.png', 'Normal_327.png', 'Normal_328.png', 'Normal_329.png', 'Normal_330.png', 'Normal_331.png', 'Normal_332.png', 'Normal_333.png', 'Normal_334.png', 'Normal_335.png', 'Normal_336.png', 'Normal_337.png', 'Normal_338.png', 'Normal_339.png', 'Normal_340.png', 'Normal_341.png', 'Normal_342.png', 'Normal_343.png', 'Normal_344.png', 'Normal_345.png', 'Normal_346.png', 'Normal_347.png', 'Normal_348.png', 'Normal_349.png', 'Normal_350.png', 'Normal_351.png', 'Normal_352.png', 'Normal_353.png', 'Normal_354.png', 'Normal_355.png', 'Normal_356.png', 'Normal_357.png', 'Normal_358.png', 'Normal_359.png', 'Normal_360.png', 'Normal_361.png', 'Normal_362.png', 'Normal_363.png', 'Normal_364.png', 'Normal_365.png', 'Normal_366.png', 'Normal_367.png', 'Normal_368.png', 'Normal_369.png', 'Normal_370.png', 'Normal_371.png', 'Normal_372.png', 'Normal_373.png', 'Normal_374.png', 'Normal_375.png', 'Normal_376.png', 'Normal_377.png', 'Normal_378.png', 'Normal_379.png', 'Normal_380.png', 'Normal_381.png', 'Normal_382.png', 'Normal_383.png', 'Normal_384.png', 'Normal_385.png', 'Normal_386.png', 'Normal_387.png', 'Normal_388.png', 'Normal_389.png', 'Normal_390.png', 'Normal_391.png', 'Normal_392.png', 'Normal_393.png', 'Normal_394.png', 'Normal_395.png', 'Normal_396.png', 'Normal_397.png', 'Normal_398.png', 'Normal_399.png', 'Normal_400.png', 'Normal_401.png', 'Normal_402.png', 'Normal_403.png', 'Normal_404.png', 'Normal_405.png', 'Normal_406.png', 'Normal_407.png', 'Normal_408.png', 'Normal_409.png', 'Normal_410.png', 'Normal_411.png', 'Normal_412.png', 'Normal_413.png', 'Normal_414.png', 'Normal_415.png', 'Normal_416.png', 'Normal_417.png', 'Normal_418.png', 'Normal_419.png', 'Normal_420.png', 'Normal_421.png', 'Normal_422.png', 'Normal_423.png', 'Normal_424.png', 'Normal_425.png', 'Normal_426.png', 'Normal_427.png', 'Normal_428.png', 'Normal_429.png', 'Normal_430.png', 'Normal_431.png', 'Normal_432.png', 'Normal_433.png', 'Normal_434.png', 'Normal_435.png', 'Normal_436.png', 'Normal_437.png', 'Normal_438.png', 'Normal_439.png', 'Normal_440.png', 'Normal_441.png', 'Normal_442.png', 'Normal_443.png', 'Normal_444.png', 'Normal_445.png', 'Normal_446.png', 'Normal_447.png', 'Normal_448.png', 'Normal_449.png', 'Normal_450.png', 'Normal_451.png', 'Normal_452.png', 'Normal_453.png', 'Normal_454.png', 'Normal_455.png', 'Normal_456.png', 'Normal_457.png', 'Normal_458.png', 'Normal_459.png', 'Normal_460.png', 'Normal_461.png', 'Normal_462.png', 'Normal_463.png', 'Normal_464.png', 'Normal_465.png', 'Normal_466.png', 'Normal_467.png', 'Normal_468.png', 'Normal_469.png', 'Normal_470.png', 'Normal_471.png', 'Normal_472.png', 'Normal_473.png', 'Normal_474.png', 'Normal_475.png', 'Normal_476.png', 'Normal_477.png', 'Normal_478.png', 'Normal_479.png', 'Normal_480.png', 'Normal_481.png', 'Normal_482.png', 'Normal_483.png', 'Normal_484.png', 'Normal_485.png', 'Normal_486.png', 'Normal_487.png', 'Normal_488.png', 'Normal_489.png', 'Normal_490.png', 'Normal_491.png', 'Normal_492.png', 'Normal_493.png', 'Normal_494.png', 'Normal_495.png', 'Normal_496.png', 'Normal_497.png', 'Normal_498.png', 'Normal_499.png', 'Normal_500.png', 'Normal_501.png', 'Normal_502.png', 'Normal_503.png', 'Normal_504.png', 'Normal_505.png', 'Normal_506.png', 'Normal_507.png', 'Normal_508.png', 'Normal_509.png', 'Normal_510.png', 'Normal_511.png', 'Normal_512.png', 'Normal_513.png', 'Normal_514.png', 'Normal_515.png', 'Normal_516.png', 'Normal_517.png', 'Normal_518.png', 'Normal_519.png', 'Normal_520.png', 'Normal_521.png', 'Normal_522.png', 'Normal_523.png', 'Normal_524.png', 'Normal_525.png', 'Normal_526.png', 'Normal_527.png', 'Normal_528.png', 'Normal_529.png', 'Normal_530.png', 'Normal_531.png', 'Normal_532.png', 'Normal_533.png', 'Normal_534.png', 'Normal_535.png', 'Normal_536.png', 'Normal_537.png', 'Normal_538.png', 'Normal_539.png', 'Normal_540.png', 'Normal_541.png', 'Normal_542.png', 'Normal_543.png', 'Normal_544.png', 'Normal_545.png', 'Normal_546.png', 'Normal_547.png', 'Normal_548.png', 'Normal_549.png', 'Normal_550.png', 'Normal_551.png', 'Normal_552.png', 'Normal_553.png', 'Normal_554.png', 'Normal_555.png', 'Normal_556.png', 'Normal_557.png', 'Normal_558.png', 'Normal_559.png', 'Normal_560.png', 'Normal_561.png', 'Normal_562.png', 'Normal_563.png', 'Normal_564.png', 'Normal_565.png', 'Normal_566.png', 'Normal_567.png', 'Normal_568.png', 'Normal_569.png', 'Normal_570.png', 'Normal_571.png', 'Normal_572.png', 'Normal_573.png', 'Normal_574.png', 'Normal_575.png', 'Normal_576.png', 'Normal_577.png', 'Normal_578.png', 'Normal_579.png', 'Normal_580.png', 'Normal_581.png', 'Normal_582.png', 'Normal_583.png', 'Normal_584.png', 'Normal_585.png', 'Normal_586.png']\n"
          ]
        }
      ]
    },
    {
      "cell_type": "markdown",
      "source": [
        "Vertical Flip"
      ],
      "metadata": {
        "id": "J_239DWhwfRg"
      }
    },
    {
      "cell_type": "code",
      "source": [
        "chicken_input_path = '/content/drive/MyDrive/Deep Learning Project/Monkeypox Skin Image Dataset/Chickenpox/'\n",
        "chicken_verti_output_path = '/content/drive/MyDrive/Deep Learning Project/Menu_Aug/Flip_ver/Chickenpox/'\n",
        "chicken_input_images = listdir(chicken_input_path)\n",
        "chicken_input_images.sort()\n",
        "for i in chicken_input_images:\n",
        "  verti_aug = A.VerticalFlip(p=1)\n",
        "for i in chicken_input_images:\n",
        "    path2img = chicken_input_path + i\n",
        "    img = read_image(path2img)\n",
        "    aimg = augment_and_return(verti_aug,img)\n",
        "    save_augment_img(aimg,i,chicken_verti_output_path)"
      ],
      "metadata": {
        "id": "wJNxrfxOwb_I"
      },
      "execution_count": null,
      "outputs": []
    },
    {
      "cell_type": "code",
      "source": [
        "import os\n",
        "\n",
        "folder = r'/content/drive/MyDrive/Deep Learning Project/Menu_Aug/Flip_ver/Chickenpox/'\n",
        "count = 215\n",
        "# count increase by 1 in each iteration\n",
        "# iterate all files from a directory\n",
        "for file_name in os.listdir(folder):\n",
        "    # Construct old file name\n",
        "    source = folder + file_name\n",
        "\n",
        "    # Adding the count to the new file name and extension\n",
        "    destination = folder + \"Chickenpox_\" + str(count) + \".png\"\n",
        "\n",
        "    # Renaming the file\n",
        "    os.rename(source, destination)\n",
        "    count += 1\n",
        "print('All Files Renamed')\n",
        "\n",
        "print('New Names are')\n",
        "# verify the result\n",
        "res = os.listdir(folder)\n",
        "print(res)"
      ],
      "metadata": {
        "colab": {
          "base_uri": "https://localhost:8080/"
        },
        "id": "wqEmdvz17v6A",
        "outputId": "cc7622f8-428c-4b75-ac74-fcc78efb45a6"
      },
      "execution_count": null,
      "outputs": [
        {
          "output_type": "stream",
          "name": "stdout",
          "text": [
            "All Files Renamed\n",
            "New Names are\n",
            "['Chickenpox_215.png', 'Chickenpox_216.png', 'Chickenpox_217.png', 'Chickenpox_218.png', 'Chickenpox_219.png', 'Chickenpox_220.png', 'Chickenpox_221.png', 'Chickenpox_222.png', 'Chickenpox_223.png', 'Chickenpox_224.png', 'Chickenpox_225.png', 'Chickenpox_226.png', 'Chickenpox_227.png', 'Chickenpox_228.png', 'Chickenpox_229.png', 'Chickenpox_230.png', 'Chickenpox_231.png', 'Chickenpox_232.png', 'Chickenpox_233.png', 'Chickenpox_234.png', 'Chickenpox_235.png', 'Chickenpox_236.png', 'Chickenpox_237.png', 'Chickenpox_238.png', 'Chickenpox_239.png', 'Chickenpox_240.png', 'Chickenpox_241.png', 'Chickenpox_242.png', 'Chickenpox_243.png', 'Chickenpox_244.png', 'Chickenpox_245.png', 'Chickenpox_246.png', 'Chickenpox_247.png', 'Chickenpox_248.png', 'Chickenpox_249.png', 'Chickenpox_250.png', 'Chickenpox_251.png', 'Chickenpox_252.png', 'Chickenpox_253.png', 'Chickenpox_254.png', 'Chickenpox_255.png', 'Chickenpox_256.png', 'Chickenpox_257.png', 'Chickenpox_258.png', 'Chickenpox_259.png', 'Chickenpox_260.png', 'Chickenpox_261.png', 'Chickenpox_262.png', 'Chickenpox_263.png', 'Chickenpox_264.png', 'Chickenpox_265.png', 'Chickenpox_266.png', 'Chickenpox_267.png', 'Chickenpox_268.png', 'Chickenpox_269.png', 'Chickenpox_270.png', 'Chickenpox_271.png', 'Chickenpox_272.png', 'Chickenpox_273.png', 'Chickenpox_274.png', 'Chickenpox_275.png', 'Chickenpox_276.png', 'Chickenpox_277.png', 'Chickenpox_278.png', 'Chickenpox_279.png', 'Chickenpox_280.png', 'Chickenpox_281.png', 'Chickenpox_282.png', 'Chickenpox_283.png', 'Chickenpox_284.png', 'Chickenpox_285.png', 'Chickenpox_286.png', 'Chickenpox_287.png', 'Chickenpox_288.png', 'Chickenpox_289.png', 'Chickenpox_290.png', 'Chickenpox_291.png', 'Chickenpox_292.png', 'Chickenpox_293.png', 'Chickenpox_294.png', 'Chickenpox_295.png', 'Chickenpox_296.png', 'Chickenpox_297.png', 'Chickenpox_298.png', 'Chickenpox_299.png', 'Chickenpox_300.png', 'Chickenpox_301.png', 'Chickenpox_302.png', 'Chickenpox_303.png', 'Chickenpox_304.png', 'Chickenpox_305.png', 'Chickenpox_306.png', 'Chickenpox_307.png', 'Chickenpox_308.png', 'Chickenpox_309.png', 'Chickenpox_310.png', 'Chickenpox_311.png', 'Chickenpox_312.png', 'Chickenpox_313.png', 'Chickenpox_314.png', 'Chickenpox_315.png', 'Chickenpox_316.png', 'Chickenpox_317.png', 'Chickenpox_318.png', 'Chickenpox_319.png', 'Chickenpox_320.png', 'Chickenpox_321.png']\n"
          ]
        }
      ]
    },
    {
      "cell_type": "code",
      "source": [
        "chicken_input_path = '/content/drive/MyDrive/Deep Learning Project/Monkeypox Skin Image Dataset/Measles/'\n",
        "chicken_verti_output_path = '/content/drive/MyDrive/Deep Learning Project/Menu_Aug/Flip_ver/Measles/'\n",
        "chicken_input_images = listdir(chicken_input_path)\n",
        "chicken_input_images.sort()\n",
        "for i in chicken_input_images:\n",
        "  verti_aug = A.VerticalFlip(p=1)\n",
        "for i in chicken_input_images:\n",
        "    path2img = chicken_input_path + i\n",
        "    img = read_image(path2img)\n",
        "    aimg = augment_and_return(verti_aug,img)\n",
        "    save_augment_img(aimg,i,chicken_verti_output_path)"
      ],
      "metadata": {
        "id": "d85cUVjswj9b"
      },
      "execution_count": null,
      "outputs": []
    },
    {
      "cell_type": "code",
      "source": [
        "import os\n",
        "\n",
        "folder = r'/content/drive/MyDrive/Deep Learning Project/Menu_Aug/Flip_ver/Measles/'\n",
        "count =183\n",
        "# count increase by 1 in each iteration\n",
        "# iterate all files from a directory\n",
        "for file_name in os.listdir(folder):\n",
        "    # Construct old file name\n",
        "    source = folder + file_name\n",
        "\n",
        "    # Adding the count to the new file name and extension\n",
        "    destination = folder + \"Measles_\" + str(count) + \".png\"\n",
        "\n",
        "    # Renaming the file\n",
        "    os.rename(source, destination)\n",
        "    count += 1\n",
        "print('All Files Renamed')\n",
        "\n",
        "print('New Names are')\n",
        "# verify the result\n",
        "res = os.listdir(folder)\n",
        "print(res)"
      ],
      "metadata": {
        "colab": {
          "base_uri": "https://localhost:8080/"
        },
        "id": "HdB5rpgk7-Db",
        "outputId": "72552c3a-233d-4091-a6f9-10f40a53a0ba"
      },
      "execution_count": null,
      "outputs": [
        {
          "output_type": "stream",
          "name": "stdout",
          "text": [
            "All Files Renamed\n",
            "New Names are\n",
            "['Measles_183.png', 'Measles_184.png', 'Measles_185.png', 'Measles_186.png', 'Measles_187.png', 'Measles_188.png', 'Measles_189.png', 'Measles_190.png', 'Measles_191.png', 'Measles_192.png', 'Measles_193.png', 'Measles_194.png', 'Measles_195.png', 'Measles_196.png', 'Measles_197.png', 'Measles_198.png', 'Measles_199.png', 'Measles_200.png', 'Measles_201.png', 'Measles_202.png', 'Measles_203.png', 'Measles_204.png', 'Measles_205.png', 'Measles_206.png', 'Measles_207.png', 'Measles_208.png', 'Measles_209.png', 'Measles_210.png', 'Measles_211.png', 'Measles_212.png', 'Measles_213.png', 'Measles_214.png', 'Measles_215.png', 'Measles_216.png', 'Measles_217.png', 'Measles_218.png', 'Measles_219.png', 'Measles_220.png', 'Measles_221.png', 'Measles_222.png', 'Measles_223.png', 'Measles_224.png', 'Measles_225.png', 'Measles_226.png', 'Measles_227.png', 'Measles_228.png', 'Measles_229.png', 'Measles_230.png', 'Measles_231.png', 'Measles_232.png', 'Measles_233.png', 'Measles_234.png', 'Measles_235.png', 'Measles_236.png', 'Measles_237.png', 'Measles_238.png', 'Measles_239.png', 'Measles_240.png', 'Measles_241.png', 'Measles_242.png', 'Measles_243.png', 'Measles_244.png', 'Measles_245.png', 'Measles_246.png', 'Measles_247.png', 'Measles_248.png', 'Measles_249.png', 'Measles_250.png', 'Measles_251.png', 'Measles_252.png', 'Measles_253.png', 'Measles_254.png', 'Measles_255.png', 'Measles_256.png', 'Measles_257.png', 'Measles_258.png', 'Measles_259.png', 'Measles_260.png', 'Measles_261.png', 'Measles_262.png', 'Measles_263.png', 'Measles_264.png', 'Measles_265.png', 'Measles_266.png', 'Measles_267.png', 'Measles_268.png', 'Measles_269.png', 'Measles_270.png', 'Measles_271.png', 'Measles_272.png', 'Measles_273.png']\n"
          ]
        }
      ]
    },
    {
      "cell_type": "code",
      "source": [
        "chicken_input_path = '/content/drive/MyDrive/Deep Learning Project/Monkeypox Skin Image Dataset/Monkeypox/'\n",
        "chicken_verti_output_path = '/content/drive/MyDrive/Deep Learning Project/Menu_Aug/Flip_ver/Monkeypox/'\n",
        "chicken_input_images = listdir(chicken_input_path)\n",
        "chicken_input_images.sort()\n",
        "for i in chicken_input_images:\n",
        "  verti_aug = A.VerticalFlip(p=1)\n",
        "for i in chicken_input_images:\n",
        "    path2img = chicken_input_path + i\n",
        "    img = read_image(path2img)\n",
        "    aimg = augment_and_return(verti_aug,img)\n",
        "    save_augment_img(aimg,i,chicken_verti_output_path)\n",
        "\n",
        "import os\n",
        "\n",
        "folder = r'/content/drive/MyDrive/Deep Learning Project/Menu_Aug/Flip_ver/Monkeypox/'\n",
        "count =559\n",
        "# count increase by 1 in each iteration\n",
        "# iterate all files from a directory\n",
        "for file_name in os.listdir(folder):\n",
        "    # Construct old file name\n",
        "    source = folder + file_name\n",
        "\n",
        "    # Adding the count to the new file name and extension\n",
        "    destination = folder + \"Monkeypox_\" + str(count) + \".png\"\n",
        "\n",
        "    # Renaming the file\n",
        "    os.rename(source, destination)\n",
        "    count += 1\n",
        "print('All Files Renamed')\n",
        "\n",
        "print('New Names are')\n",
        "# verify the result\n",
        "res = os.listdir(folder)\n",
        "print(res)"
      ],
      "metadata": {
        "colab": {
          "base_uri": "https://localhost:8080/"
        },
        "id": "BwUoqKqV8vCq",
        "outputId": "ceee9c30-2bda-4539-e261-04a31d59f292"
      },
      "execution_count": null,
      "outputs": [
        {
          "output_type": "stream",
          "name": "stdout",
          "text": [
            "All Files Renamed\n",
            "New Names are\n",
            "['Monkeypox_559.png', 'Monkeypox_560.png', 'Monkeypox_561.png', 'Monkeypox_562.png', 'Monkeypox_563.png', 'Monkeypox_564.png', 'Monkeypox_565.png', 'Monkeypox_566.png', 'Monkeypox_567.png', 'Monkeypox_568.png', 'Monkeypox_569.png', 'Monkeypox_570.png', 'Monkeypox_571.png', 'Monkeypox_572.png', 'Monkeypox_573.png', 'Monkeypox_574.png', 'Monkeypox_575.png', 'Monkeypox_576.png', 'Monkeypox_577.png', 'Monkeypox_578.png', 'Monkeypox_579.png', 'Monkeypox_580.png', 'Monkeypox_581.png', 'Monkeypox_582.png', 'Monkeypox_583.png', 'Monkeypox_584.png', 'Monkeypox_585.png', 'Monkeypox_586.png', 'Monkeypox_587.png', 'Monkeypox_588.png', 'Monkeypox_589.png', 'Monkeypox_590.png', 'Monkeypox_591.png', 'Monkeypox_592.png', 'Monkeypox_593.png', 'Monkeypox_594.png', 'Monkeypox_595.png', 'Monkeypox_596.png', 'Monkeypox_597.png', 'Monkeypox_598.png', 'Monkeypox_599.png', 'Monkeypox_600.png', 'Monkeypox_601.png', 'Monkeypox_602.png', 'Monkeypox_603.png', 'Monkeypox_604.png', 'Monkeypox_605.png', 'Monkeypox_606.png', 'Monkeypox_607.png', 'Monkeypox_608.png', 'Monkeypox_609.png', 'Monkeypox_610.png', 'Monkeypox_611.png', 'Monkeypox_612.png', 'Monkeypox_613.png', 'Monkeypox_614.png', 'Monkeypox_615.png', 'Monkeypox_616.png', 'Monkeypox_617.png', 'Monkeypox_618.png', 'Monkeypox_619.png', 'Monkeypox_620.png', 'Monkeypox_621.png', 'Monkeypox_622.png', 'Monkeypox_623.png', 'Monkeypox_624.png', 'Monkeypox_625.png', 'Monkeypox_626.png', 'Monkeypox_627.png', 'Monkeypox_628.png', 'Monkeypox_629.png', 'Monkeypox_630.png', 'Monkeypox_631.png', 'Monkeypox_632.png', 'Monkeypox_633.png', 'Monkeypox_634.png', 'Monkeypox_635.png', 'Monkeypox_636.png', 'Monkeypox_637.png', 'Monkeypox_638.png', 'Monkeypox_639.png', 'Monkeypox_640.png', 'Monkeypox_641.png', 'Monkeypox_642.png', 'Monkeypox_643.png', 'Monkeypox_644.png', 'Monkeypox_645.png', 'Monkeypox_646.png', 'Monkeypox_647.png', 'Monkeypox_648.png', 'Monkeypox_649.png', 'Monkeypox_650.png', 'Monkeypox_651.png', 'Monkeypox_652.png', 'Monkeypox_653.png', 'Monkeypox_654.png', 'Monkeypox_655.png', 'Monkeypox_656.png', 'Monkeypox_657.png', 'Monkeypox_658.png', 'Monkeypox_659.png', 'Monkeypox_660.png', 'Monkeypox_661.png', 'Monkeypox_662.png', 'Monkeypox_663.png', 'Monkeypox_664.png', 'Monkeypox_665.png', 'Monkeypox_666.png', 'Monkeypox_667.png', 'Monkeypox_668.png', 'Monkeypox_669.png', 'Monkeypox_670.png', 'Monkeypox_671.png', 'Monkeypox_672.png', 'Monkeypox_673.png', 'Monkeypox_674.png', 'Monkeypox_675.png', 'Monkeypox_676.png', 'Monkeypox_677.png', 'Monkeypox_678.png', 'Monkeypox_679.png', 'Monkeypox_680.png', 'Monkeypox_681.png', 'Monkeypox_682.png', 'Monkeypox_683.png', 'Monkeypox_684.png', 'Monkeypox_685.png', 'Monkeypox_686.png', 'Monkeypox_687.png', 'Monkeypox_688.png', 'Monkeypox_689.png', 'Monkeypox_690.png', 'Monkeypox_691.png', 'Monkeypox_692.png', 'Monkeypox_693.png', 'Monkeypox_694.png', 'Monkeypox_695.png', 'Monkeypox_696.png', 'Monkeypox_697.png', 'Monkeypox_698.png', 'Monkeypox_699.png', 'Monkeypox_700.png', 'Monkeypox_701.png', 'Monkeypox_702.png', 'Monkeypox_703.png', 'Monkeypox_704.png', 'Monkeypox_705.png', 'Monkeypox_706.png', 'Monkeypox_707.png', 'Monkeypox_708.png', 'Monkeypox_709.png', 'Monkeypox_710.png', 'Monkeypox_711.png', 'Monkeypox_712.png', 'Monkeypox_713.png', 'Monkeypox_714.png', 'Monkeypox_715.png', 'Monkeypox_716.png', 'Monkeypox_717.png', 'Monkeypox_718.png', 'Monkeypox_719.png', 'Monkeypox_720.png', 'Monkeypox_721.png', 'Monkeypox_722.png', 'Monkeypox_723.png', 'Monkeypox_724.png', 'Monkeypox_725.png', 'Monkeypox_726.png', 'Monkeypox_727.png', 'Monkeypox_728.png', 'Monkeypox_729.png', 'Monkeypox_730.png', 'Monkeypox_731.png', 'Monkeypox_732.png', 'Monkeypox_733.png', 'Monkeypox_734.png', 'Monkeypox_735.png', 'Monkeypox_736.png', 'Monkeypox_737.png', 'Monkeypox_738.png', 'Monkeypox_739.png', 'Monkeypox_740.png', 'Monkeypox_741.png', 'Monkeypox_742.png', 'Monkeypox_743.png', 'Monkeypox_744.png', 'Monkeypox_745.png', 'Monkeypox_746.png', 'Monkeypox_747.png', 'Monkeypox_748.png', 'Monkeypox_749.png', 'Monkeypox_750.png', 'Monkeypox_751.png', 'Monkeypox_752.png', 'Monkeypox_753.png', 'Monkeypox_754.png', 'Monkeypox_755.png', 'Monkeypox_756.png', 'Monkeypox_757.png', 'Monkeypox_758.png', 'Monkeypox_759.png', 'Monkeypox_760.png', 'Monkeypox_761.png', 'Monkeypox_762.png', 'Monkeypox_763.png', 'Monkeypox_764.png', 'Monkeypox_765.png', 'Monkeypox_766.png', 'Monkeypox_767.png', 'Monkeypox_768.png', 'Monkeypox_769.png', 'Monkeypox_770.png', 'Monkeypox_771.png', 'Monkeypox_772.png', 'Monkeypox_773.png', 'Monkeypox_774.png', 'Monkeypox_775.png', 'Monkeypox_776.png', 'Monkeypox_777.png', 'Monkeypox_778.png', 'Monkeypox_779.png', 'Monkeypox_780.png', 'Monkeypox_781.png', 'Monkeypox_782.png', 'Monkeypox_783.png', 'Monkeypox_784.png', 'Monkeypox_785.png', 'Monkeypox_786.png', 'Monkeypox_787.png', 'Monkeypox_788.png', 'Monkeypox_789.png', 'Monkeypox_790.png', 'Monkeypox_791.png', 'Monkeypox_792.png', 'Monkeypox_793.png', 'Monkeypox_794.png', 'Monkeypox_795.png', 'Monkeypox_796.png', 'Monkeypox_797.png', 'Monkeypox_798.png', 'Monkeypox_799.png', 'Monkeypox_800.png', 'Monkeypox_801.png', 'Monkeypox_802.png', 'Monkeypox_803.png', 'Monkeypox_804.png', 'Monkeypox_805.png', 'Monkeypox_806.png', 'Monkeypox_807.png', 'Monkeypox_808.png', 'Monkeypox_809.png', 'Monkeypox_810.png', 'Monkeypox_811.png', 'Monkeypox_812.png', 'Monkeypox_813.png', 'Monkeypox_814.png', 'Monkeypox_815.png', 'Monkeypox_816.png', 'Monkeypox_817.png', 'Monkeypox_818.png', 'Monkeypox_819.png', 'Monkeypox_820.png', 'Monkeypox_821.png', 'Monkeypox_822.png', 'Monkeypox_823.png', 'Monkeypox_824.png', 'Monkeypox_825.png', 'Monkeypox_826.png', 'Monkeypox_827.png', 'Monkeypox_828.png', 'Monkeypox_829.png', 'Monkeypox_830.png', 'Monkeypox_831.png', 'Monkeypox_832.png', 'Monkeypox_833.png', 'Monkeypox_834.png', 'Monkeypox_835.png', 'Monkeypox_836.png', 'Monkeypox_837.png']\n"
          ]
        }
      ]
    },
    {
      "cell_type": "code",
      "source": [
        "chicken_input_path = '/content/drive/MyDrive/Deep Learning Project/Monkeypox Skin Image Dataset/Normal/'\n",
        "chicken_verti_output_path = '/content/drive/MyDrive/Deep Learning Project/Menu_Aug/Flip_ver/Normal/'\n",
        "chicken_input_images = listdir(chicken_input_path)\n",
        "chicken_input_images.sort()\n",
        "for i in chicken_input_images:\n",
        "  verti_aug = A.VerticalFlip(p=1)\n",
        "for i in chicken_input_images:\n",
        "    path2img = chicken_input_path + i\n",
        "    img = read_image(path2img)\n",
        "    aimg = augment_and_return(verti_aug,img)\n",
        "    save_augment_img(aimg,i,chicken_verti_output_path)\n",
        "\n",
        "import os\n",
        "\n",
        "folder = r'/content/drive/MyDrive/Deep Learning Project/Menu_Aug/Flip_ver/Normal/'\n",
        "count =588\n",
        "# count increase by 1 in each iteration\n",
        "# iterate all files from a directory\n",
        "for file_name in os.listdir(folder):\n",
        "    # Construct old file name\n",
        "    source = folder + file_name\n",
        "\n",
        "    # Adding the count to the new file name and extension\n",
        "    destination = folder + \"Normal_\" + str(count) + \".png\"\n",
        "\n",
        "    # Renaming the file\n",
        "    os.rename(source, destination)\n",
        "    count += 1\n",
        "print('All Files Renamed')\n",
        "\n",
        "print('New Names are')\n",
        "# verify the result\n",
        "res = os.listdir(folder)\n",
        "print(res)"
      ],
      "metadata": {
        "colab": {
          "base_uri": "https://localhost:8080/"
        },
        "id": "kSqeQpq-9G2_",
        "outputId": "1df12ab4-9aef-41f5-f9ae-c7202a529625"
      },
      "execution_count": null,
      "outputs": [
        {
          "output_type": "stream",
          "name": "stdout",
          "text": [
            "All Files Renamed\n",
            "New Names are\n",
            "['Normal_588.png', 'Normal_589.png', 'Normal_590.png', 'Normal_591.png', 'Normal_592.png', 'Normal_593.png', 'Normal_594.png', 'Normal_595.png', 'Normal_596.png', 'Normal_597.png', 'Normal_598.png', 'Normal_599.png', 'Normal_600.png', 'Normal_601.png', 'Normal_602.png', 'Normal_603.png', 'Normal_604.png', 'Normal_605.png', 'Normal_606.png', 'Normal_607.png', 'Normal_608.png', 'Normal_609.png', 'Normal_610.png', 'Normal_611.png', 'Normal_612.png', 'Normal_613.png', 'Normal_614.png', 'Normal_615.png', 'Normal_616.png', 'Normal_617.png', 'Normal_618.png', 'Normal_619.png', 'Normal_620.png', 'Normal_621.png', 'Normal_622.png', 'Normal_623.png', 'Normal_624.png', 'Normal_625.png', 'Normal_626.png', 'Normal_627.png', 'Normal_628.png', 'Normal_629.png', 'Normal_630.png', 'Normal_631.png', 'Normal_632.png', 'Normal_633.png', 'Normal_634.png', 'Normal_635.png', 'Normal_636.png', 'Normal_637.png', 'Normal_638.png', 'Normal_639.png', 'Normal_640.png', 'Normal_641.png', 'Normal_642.png', 'Normal_643.png', 'Normal_644.png', 'Normal_645.png', 'Normal_646.png', 'Normal_647.png', 'Normal_648.png', 'Normal_649.png', 'Normal_650.png', 'Normal_651.png', 'Normal_652.png', 'Normal_653.png', 'Normal_654.png', 'Normal_655.png', 'Normal_656.png', 'Normal_657.png', 'Normal_658.png', 'Normal_659.png', 'Normal_660.png', 'Normal_661.png', 'Normal_662.png', 'Normal_663.png', 'Normal_664.png', 'Normal_665.png', 'Normal_666.png', 'Normal_667.png', 'Normal_668.png', 'Normal_669.png', 'Normal_670.png', 'Normal_671.png', 'Normal_672.png', 'Normal_673.png', 'Normal_674.png', 'Normal_675.png', 'Normal_676.png', 'Normal_677.png', 'Normal_678.png', 'Normal_679.png', 'Normal_680.png', 'Normal_681.png', 'Normal_682.png', 'Normal_683.png', 'Normal_684.png', 'Normal_685.png', 'Normal_686.png', 'Normal_687.png', 'Normal_688.png', 'Normal_689.png', 'Normal_690.png', 'Normal_691.png', 'Normal_692.png', 'Normal_693.png', 'Normal_694.png', 'Normal_695.png', 'Normal_696.png', 'Normal_697.png', 'Normal_698.png', 'Normal_699.png', 'Normal_700.png', 'Normal_701.png', 'Normal_702.png', 'Normal_703.png', 'Normal_704.png', 'Normal_705.png', 'Normal_706.png', 'Normal_707.png', 'Normal_708.png', 'Normal_709.png', 'Normal_710.png', 'Normal_711.png', 'Normal_712.png', 'Normal_713.png', 'Normal_714.png', 'Normal_715.png', 'Normal_716.png', 'Normal_717.png', 'Normal_718.png', 'Normal_719.png', 'Normal_720.png', 'Normal_721.png', 'Normal_722.png', 'Normal_723.png', 'Normal_724.png', 'Normal_725.png', 'Normal_726.png', 'Normal_727.png', 'Normal_728.png', 'Normal_729.png', 'Normal_730.png', 'Normal_731.png', 'Normal_732.png', 'Normal_733.png', 'Normal_734.png', 'Normal_735.png', 'Normal_736.png', 'Normal_737.png', 'Normal_738.png', 'Normal_739.png', 'Normal_740.png', 'Normal_741.png', 'Normal_742.png', 'Normal_743.png', 'Normal_744.png', 'Normal_745.png', 'Normal_746.png', 'Normal_747.png', 'Normal_748.png', 'Normal_749.png', 'Normal_750.png', 'Normal_751.png', 'Normal_752.png', 'Normal_753.png', 'Normal_754.png', 'Normal_755.png', 'Normal_756.png', 'Normal_757.png', 'Normal_758.png', 'Normal_759.png', 'Normal_760.png', 'Normal_761.png', 'Normal_762.png', 'Normal_763.png', 'Normal_764.png', 'Normal_765.png', 'Normal_766.png', 'Normal_767.png', 'Normal_768.png', 'Normal_769.png', 'Normal_770.png', 'Normal_771.png', 'Normal_772.png', 'Normal_773.png', 'Normal_774.png', 'Normal_775.png', 'Normal_776.png', 'Normal_777.png', 'Normal_778.png', 'Normal_779.png', 'Normal_780.png', 'Normal_781.png', 'Normal_782.png', 'Normal_783.png', 'Normal_784.png', 'Normal_785.png', 'Normal_786.png', 'Normal_787.png', 'Normal_788.png', 'Normal_789.png', 'Normal_790.png', 'Normal_791.png', 'Normal_792.png', 'Normal_793.png', 'Normal_794.png', 'Normal_795.png', 'Normal_796.png', 'Normal_797.png', 'Normal_798.png', 'Normal_799.png', 'Normal_800.png', 'Normal_801.png', 'Normal_802.png', 'Normal_803.png', 'Normal_804.png', 'Normal_805.png', 'Normal_806.png', 'Normal_807.png', 'Normal_808.png', 'Normal_809.png', 'Normal_810.png', 'Normal_811.png', 'Normal_812.png', 'Normal_813.png', 'Normal_814.png', 'Normal_815.png', 'Normal_816.png', 'Normal_817.png', 'Normal_818.png', 'Normal_819.png', 'Normal_820.png', 'Normal_821.png', 'Normal_822.png', 'Normal_823.png', 'Normal_824.png', 'Normal_825.png', 'Normal_826.png', 'Normal_827.png', 'Normal_828.png', 'Normal_829.png', 'Normal_830.png', 'Normal_831.png', 'Normal_832.png', 'Normal_833.png', 'Normal_834.png', 'Normal_835.png', 'Normal_836.png', 'Normal_837.png', 'Normal_838.png', 'Normal_839.png', 'Normal_840.png', 'Normal_841.png', 'Normal_842.png', 'Normal_843.png', 'Normal_844.png', 'Normal_845.png', 'Normal_846.png', 'Normal_847.png', 'Normal_848.png', 'Normal_849.png', 'Normal_850.png', 'Normal_851.png', 'Normal_852.png', 'Normal_853.png', 'Normal_854.png', 'Normal_855.png', 'Normal_856.png', 'Normal_857.png', 'Normal_858.png', 'Normal_859.png', 'Normal_860.png', 'Normal_861.png', 'Normal_862.png', 'Normal_863.png', 'Normal_864.png', 'Normal_865.png', 'Normal_866.png', 'Normal_867.png', 'Normal_868.png', 'Normal_869.png', 'Normal_870.png', 'Normal_871.png', 'Normal_872.png', 'Normal_873.png', 'Normal_874.png', 'Normal_875.png', 'Normal_876.png', 'Normal_877.png', 'Normal_878.png', 'Normal_879.png', 'Normal_880.png']\n"
          ]
        }
      ]
    },
    {
      "cell_type": "markdown",
      "source": [
        "Join Flip+Org"
      ],
      "metadata": {
        "id": "yvokT2Fe9e11"
      }
    },
    {
      "cell_type": "code",
      "source": [
        "import os\n",
        "import shutil\n",
        "\n",
        "# Providing the folder path\n",
        "origin = '/content/drive/MyDrive/Deep Learning Project/Menu_Aug/Flip_hor/Chickenpox/'\n",
        "target = '/content/drive/MyDrive/Deep Learning Project/Menu_Aug/step1/Chickenpox/'\n",
        "\n",
        "# Fetching the list of all the files\n",
        "files = os.listdir(origin)\n",
        "\n",
        "# Fetching all the files to directory\n",
        "for file_name in files:\n",
        "   shutil.copy(origin+file_name, target+file_name)\n",
        "print(\"Files are copied successfully\")"
      ],
      "metadata": {
        "colab": {
          "base_uri": "https://localhost:8080/"
        },
        "id": "96rD1bT4-K1f",
        "outputId": "37910c86-7f0b-4bac-a8c9-9735a5791296"
      },
      "execution_count": null,
      "outputs": [
        {
          "output_type": "stream",
          "name": "stdout",
          "text": [
            "Files are copied successfully\n"
          ]
        }
      ]
    },
    {
      "cell_type": "code",
      "source": [
        "import os\n",
        "import shutil\n",
        "\n",
        "# Providing the folder path\n",
        "origin = '/content/drive/MyDrive/Deep Learning Project/Menu_Aug/Flip_ver/Chickenpox/'\n",
        "target = '/content/drive/MyDrive/Deep Learning Project/Menu_Aug/step1/Chickenpox/'\n",
        "\n",
        "# Fetching the list of all the files\n",
        "files = os.listdir(origin)\n",
        "\n",
        "# Fetching all the files to directory\n",
        "for file_name in files:\n",
        "   shutil.copy(origin+file_name, target+file_name)\n",
        "print(\"Files are copied successfully\")"
      ],
      "metadata": {
        "colab": {
          "base_uri": "https://localhost:8080/"
        },
        "id": "BDPCRetR-i1e",
        "outputId": "c1ece9c9-dcf1-4dc1-8fc2-d09cd250eb4a"
      },
      "execution_count": null,
      "outputs": [
        {
          "output_type": "stream",
          "name": "stdout",
          "text": [
            "Files are copied successfully\n"
          ]
        }
      ]
    },
    {
      "cell_type": "code",
      "source": [
        "# folder path\n",
        "dir_path = r'/content/drive/MyDrive/Deep Learning Project/Menu_Aug/step1/Chickenpox/'\n",
        "count = 0\n",
        "# Iterate directory\n",
        "for path in os.listdir(dir_path):\n",
        "    # check if current path is a file\n",
        "    if os.path.isfile(os.path.join(dir_path, path)):\n",
        "        count += 1\n",
        "print('File count:', count)"
      ],
      "metadata": {
        "colab": {
          "base_uri": "https://localhost:8080/"
        },
        "id": "_wat8ku0-uSG",
        "outputId": "cb24f144-3356-46b8-b2d1-54b20219c5a9"
      },
      "execution_count": null,
      "outputs": [
        {
          "output_type": "stream",
          "name": "stdout",
          "text": [
            "File count: 214\n"
          ]
        }
      ]
    },
    {
      "cell_type": "code",
      "source": [
        "import os\n",
        "import shutil\n",
        "\n",
        "# Providing the folder path\n",
        "origin = '/content/drive/MyDrive/Deep Learning Project/Monkeypox Skin Image Dataset/Chickenpox/'\n",
        "target = '/content/drive/MyDrive/Deep Learning Project/Menu_Aug/step1/Chickenpox/'\n",
        "\n",
        "# Fetching the list of all the files\n",
        "files = os.listdir(origin)\n",
        "\n",
        "# Fetching all the files to directory\n",
        "for file_name in files:\n",
        "   shutil.copy(origin+file_name, target+file_name)\n",
        "print(\"Files are copied successfully\")"
      ],
      "metadata": {
        "colab": {
          "base_uri": "https://localhost:8080/"
        },
        "id": "hsFwCH2q-3uv",
        "outputId": "502fd6cd-ecec-42d0-c96e-893b2e9a4ed7"
      },
      "execution_count": null,
      "outputs": [
        {
          "output_type": "stream",
          "name": "stdout",
          "text": [
            "Files are copied successfully\n"
          ]
        }
      ]
    },
    {
      "cell_type": "code",
      "source": [
        "# folder path\n",
        "dir_path = r'/content/drive/MyDrive/Deep Learning Project/Menu_Aug/step1/Chickenpox/'\n",
        "count = 0\n",
        "# Iterate directory\n",
        "for path in os.listdir(dir_path):\n",
        "    # check if current path is a file\n",
        "    if os.path.isfile(os.path.join(dir_path, path)):\n",
        "        count += 1\n",
        "print('File count:', count)"
      ],
      "metadata": {
        "colab": {
          "base_uri": "https://localhost:8080/"
        },
        "id": "EPacmBN5_B1G",
        "outputId": "825139fa-a2ea-426d-a459-5778fd0ca8ff"
      },
      "execution_count": null,
      "outputs": [
        {
          "output_type": "stream",
          "name": "stdout",
          "text": [
            "File count: 321\n"
          ]
        }
      ]
    },
    {
      "cell_type": "code",
      "source": [
        "# Providing the folder path\n",
        "origin = '/content/drive/MyDrive/Deep Learning Project/Monkeypox Skin Image Dataset/Measles/'\n",
        "target = '/content/drive/MyDrive/Deep Learning Project/Menu_Aug/step1/Measles/'\n",
        "\n",
        "\n",
        "# Fetching the list of all the files\n",
        "files = os.listdir(origin)\n",
        "\n",
        "# Fetching all the files to directory\n",
        "for file_name in files:\n",
        "   shutil.copy(origin+file_name, target+file_name)\n",
        "print(\"Files are copied successfully\")\n",
        "\n",
        "# Providing the folder path\n",
        "origin = '/content/drive/MyDrive/Deep Learning Project/Menu_Aug/Flip_ver/Measles/'\n",
        "target = '/content/drive/MyDrive/Deep Learning Project/Menu_Aug/step1/Measles/'\n",
        "\n",
        "# Fetching the list of all the files\n",
        "files = os.listdir(origin)\n",
        "\n",
        "# Fetching all the files to directory\n",
        "for file_name in files:\n",
        "   shutil.copy(origin+file_name, target+file_name)\n",
        "print(\"Files are copied successfully\")\n",
        "\n",
        "# Providing the folder path\n",
        "origin = '/content/drive/MyDrive/Deep Learning Project/Menu_Aug/Flip_hor/Measles/'\n",
        "target = '/content/drive/MyDrive/Deep Learning Project/Menu_Aug/step1/Measles/'\n",
        "\n",
        "# Fetching the list of all the files\n",
        "files = os.listdir(origin)\n",
        "\n",
        "# Fetching all the files to directory\n",
        "for file_name in files:\n",
        "   shutil.copy(origin+file_name, target+file_name)\n",
        "print(\"Files are copied successfully\")"
      ],
      "metadata": {
        "id": "UqVygjll_FWv",
        "colab": {
          "base_uri": "https://localhost:8080/"
        },
        "outputId": "09facaf1-d6ca-4079-b142-679f5556a7eb"
      },
      "execution_count": null,
      "outputs": [
        {
          "output_type": "stream",
          "name": "stdout",
          "text": [
            "Files are copied successfully\n",
            "Files are copied successfully\n",
            "Files are copied successfully\n"
          ]
        }
      ]
    },
    {
      "cell_type": "code",
      "source": [
        "# folder path\n",
        "dir_path = r'/content/drive/MyDrive/Deep Learning Project/Menu_Aug/step1/Measles/'\n",
        "count = 0\n",
        "# Iterate directory\n",
        "for path in os.listdir(dir_path):\n",
        "    # check if current path is a file\n",
        "    if os.path.isfile(os.path.join(dir_path, path)):\n",
        "        count += 1\n",
        "print('File count:', count)"
      ],
      "metadata": {
        "colab": {
          "base_uri": "https://localhost:8080/"
        },
        "id": "fbrIg8D2AS9m",
        "outputId": "ca1cd141-581f-4400-854f-ad683481bf32"
      },
      "execution_count": null,
      "outputs": [
        {
          "output_type": "stream",
          "name": "stdout",
          "text": [
            "File count: 273\n"
          ]
        }
      ]
    },
    {
      "cell_type": "code",
      "source": [
        "# folder path\n",
        "dir_path = r'/content/drive/MyDrive/Deep Learning Project/Menu_Aug/Flip_hor/Measles/'\n",
        "count = 0\n",
        "# Iterate directory\n",
        "for path in os.listdir(dir_path):\n",
        "    # check if current path is a file\n",
        "    if os.path.isfile(os.path.join(dir_path, path)):\n",
        "        count += 1\n",
        "print('File count:', count)"
      ],
      "metadata": {
        "id": "NpAgJURlBI2i",
        "colab": {
          "base_uri": "https://localhost:8080/"
        },
        "outputId": "c64da086-2383-498c-c95a-53c3eb55dd00"
      },
      "execution_count": null,
      "outputs": [
        {
          "output_type": "stream",
          "name": "stdout",
          "text": [
            "File count: 91\n"
          ]
        }
      ]
    },
    {
      "cell_type": "code",
      "source": [
        "# folder path\n",
        "dir_path = r'/content/drive/MyDrive/Deep Learning Project/Menu_Aug/Flip_ver/Measles/'\n",
        "count = 0\n",
        "# Iterate directory\n",
        "for path in os.listdir(dir_path):\n",
        "    # check if current path is a file\n",
        "    if os.path.isfile(os.path.join(dir_path, path)):\n",
        "        count += 1\n",
        "print('File count:', count)"
      ],
      "metadata": {
        "colab": {
          "base_uri": "https://localhost:8080/"
        },
        "id": "epTShLe7EGYr",
        "outputId": "16b8135d-0ba9-4dfa-f02e-95a577066dc7"
      },
      "execution_count": null,
      "outputs": [
        {
          "output_type": "stream",
          "name": "stdout",
          "text": [
            "File count: 91\n"
          ]
        }
      ]
    },
    {
      "cell_type": "code",
      "source": [
        "# folder path\n",
        "dir_path = r'/content/drive/MyDrive/Deep Learning Project/Monkeypox Skin Image Dataset/Measles/'\n",
        "count = 0\n",
        "# Iterate directory\n",
        "for path in os.listdir(dir_path):\n",
        "    # check if current path is a file\n",
        "    if os.path.isfile(os.path.join(dir_path, path)):\n",
        "        count += 1\n",
        "print('File count:', count)"
      ],
      "metadata": {
        "id": "SN2sDYvNDiMJ",
        "colab": {
          "base_uri": "https://localhost:8080/"
        },
        "outputId": "174c8b8b-6527-43cd-be38-a7d50378bfff"
      },
      "execution_count": null,
      "outputs": [
        {
          "output_type": "stream",
          "name": "stdout",
          "text": [
            "File count: 91\n"
          ]
        }
      ]
    },
    {
      "cell_type": "code",
      "source": [
        "\n",
        "# Providing the folder path\n",
        "origin = '/content/drive/MyDrive/Deep Learning Project/Menu_Aug/Flip_ver/Monkeypox/'\n",
        "target = '/content/drive/MyDrive/Deep Learning Project/Menu_Aug/step1/Monkeypox/'\n",
        "\n",
        "# Fetching the list of all the files\n",
        "files = os.listdir(origin)\n",
        "\n",
        "# Fetching all the files to directory\n",
        "for file_name in files:\n",
        "   shutil.copy(origin+file_name, target+file_name)\n",
        "print(\"Files are copied successfully\")\n",
        "\n",
        "# Providing the folder path\n",
        "origin = '/content/drive/MyDrive/Deep Learning Project/Menu_Aug/Flip_hor/Monkeypox/'\n",
        "target = '/content/drive/MyDrive/Deep Learning Project/Menu_Aug/step1/Monkeypox/'\n",
        "\n",
        "# Fetching the list of all the files\n",
        "files = os.listdir(origin)\n",
        "\n",
        "# Fetching all the files to directory\n",
        "for file_name in files:\n",
        "   shutil.copy(origin+file_name, target+file_name)\n",
        "print(\"Files are copied successfully\")\n",
        "\n",
        "# Providing the folder path\n",
        "origin = '/content/drive/MyDrive/Deep Learning Project/Monkeypox Skin Image Dataset/Monkeypox/'\n",
        "target = '/content/drive/MyDrive/Deep Learning Project/Menu_Aug/step1/Monkeypox/'\n",
        "\n",
        "\n",
        "# Fetching the list of all the files\n",
        "files = os.listdir(origin)\n",
        "\n",
        "# Fetching all the files to directory\n",
        "for file_name in files:\n",
        "    shutil.copy(origin+file_name, target+file_name)\n",
        "print(\"Files are copied successfully\")"
      ],
      "metadata": {
        "id": "LHUXmV5uDk9A",
        "colab": {
          "base_uri": "https://localhost:8080/"
        },
        "outputId": "3d3bce82-b937-47f9-8424-320054aa505d"
      },
      "execution_count": null,
      "outputs": [
        {
          "output_type": "stream",
          "name": "stdout",
          "text": [
            "Files are copied successfully\n",
            "Files are copied successfully\n",
            "Files are copied successfully\n"
          ]
        }
      ]
    },
    {
      "cell_type": "code",
      "source": [
        "# folder path\n",
        "dir_path = r'/content/drive/MyDrive/Deep Learning Project/Menu_Aug/step1/Monkeypox/'\n",
        "count = 0\n",
        "# Iterate directory\n",
        "for path in os.listdir(dir_path):\n",
        "    # check if current path is a file\n",
        "    if os.path.isfile(os.path.join(dir_path, path)):\n",
        "        count += 1\n",
        "print('File count:', count)"
      ],
      "metadata": {
        "colab": {
          "base_uri": "https://localhost:8080/"
        },
        "id": "Ovy_Ln59FMTh",
        "outputId": "283bb0db-e2c2-4f34-83e9-4b4aa4f04f61"
      },
      "execution_count": null,
      "outputs": [
        {
          "output_type": "stream",
          "name": "stdout",
          "text": [
            "File count: 837\n"
          ]
        }
      ]
    },
    {
      "cell_type": "code",
      "source": [
        "\n",
        "# Providing the folder path\n",
        "origin = '/content/drive/MyDrive/Deep Learning Project/Menu_Aug/Flip_ver/Normal/'\n",
        "target = '/content/drive/MyDrive/Deep Learning Project/Menu_Aug/step1/Normal/'\n",
        "\n",
        "# Fetching the list of all the files\n",
        "files = os.listdir(origin)\n",
        "\n",
        "# Fetching all the files to directory\n",
        "for file_name in files:\n",
        "   shutil.copy(origin+file_name, target+file_name)\n",
        "print(\"Files are copied successfully\")\n",
        "\n",
        "# Providing the folder path\n",
        "origin = '/content/drive/MyDrive/Deep Learning Project/Menu_Aug/Flip_hor/Normal/'\n",
        "target = '/content/drive/MyDrive/Deep Learning Project/Menu_Aug/step1/Normal/'\n",
        "\n",
        "# Fetching the list of all the files\n",
        "files = os.listdir(origin)\n",
        "\n",
        "# Fetching all the files to directory\n",
        "for file_name in files:\n",
        "   shutil.copy(origin+file_name, target+file_name)\n",
        "print(\"Files are copied successfully\")\n",
        "\n",
        "# Providing the folder path\n",
        "origin = '/content/drive/MyDrive/Deep Learning Project/Monkeypox Skin Image Dataset/Normal/'\n",
        "target = '/content/drive/MyDrive/Deep Learning Project/Menu_Aug/step1/Normal/'\n",
        "\n",
        "\n",
        "# Fetching the list of all the files\n",
        "files = os.listdir(origin)\n",
        "\n",
        "# Fetching all the files to directory\n",
        "for file_name in files:\n",
        "    shutil.copy(origin+file_name, target+file_name)\n",
        "print(\"Files are copied successfully\")"
      ],
      "metadata": {
        "id": "5seYiU56Fbkn",
        "colab": {
          "base_uri": "https://localhost:8080/"
        },
        "outputId": "2264028d-c58d-454d-c2b5-9146f4125084"
      },
      "execution_count": null,
      "outputs": [
        {
          "output_type": "stream",
          "name": "stdout",
          "text": [
            "Files are copied successfully\n",
            "Files are copied successfully\n",
            "Files are copied successfully\n"
          ]
        }
      ]
    },
    {
      "cell_type": "code",
      "source": [
        "# folder path\n",
        "dir_path = r'/content/drive/MyDrive/Deep Learning Project/Menu_Aug/step1/Normal/'\n",
        "count = 0\n",
        "# Iterate directory\n",
        "for path in os.listdir(dir_path):\n",
        "    # check if current path is a file\n",
        "    if os.path.isfile(os.path.join(dir_path, path)):\n",
        "        count += 1\n",
        "print('File count:', count)"
      ],
      "metadata": {
        "colab": {
          "base_uri": "https://localhost:8080/"
        },
        "id": "mnHMOAH4Fpn-",
        "outputId": "02363844-960f-40a7-fd59-f4cdaac6ea2b"
      },
      "execution_count": null,
      "outputs": [
        {
          "output_type": "stream",
          "name": "stdout",
          "text": [
            "File count: 879\n"
          ]
        }
      ]
    },
    {
      "cell_type": "code",
      "source": [
        "# folder path\n",
        "dir_path = r'/content/drive/MyDrive/Deep Learning Project/Monkeypox Skin Image Dataset/Normal/'\n",
        "count = 0\n",
        "# Iterate directory\n",
        "for path in os.listdir(dir_path):\n",
        "    # check if current path is a file\n",
        "    if os.path.isfile(os.path.join(dir_path, path)):\n",
        "        count += 1\n",
        "print('File count:', count)"
      ],
      "metadata": {
        "colab": {
          "base_uri": "https://localhost:8080/"
        },
        "id": "13wiTlpoFyk5",
        "outputId": "2bd86575-7fcc-4dd6-ee41-a4591909d045"
      },
      "execution_count": null,
      "outputs": [
        {
          "output_type": "stream",
          "name": "stdout",
          "text": [
            "File count: 293\n"
          ]
        }
      ]
    },
    {
      "cell_type": "code",
      "source": [
        "# folder path\n",
        "dir_path = r'/content/drive/MyDrive/Deep Learning Project/Menu_Aug/Flip_ver/Normal/'\n",
        "count = 0\n",
        "# Iterate directory\n",
        "for path in os.listdir(dir_path):\n",
        "    # check if current path is a file\n",
        "    if os.path.isfile(os.path.join(dir_path, path)):\n",
        "        count += 1\n",
        "print('File count:', count)"
      ],
      "metadata": {
        "colab": {
          "base_uri": "https://localhost:8080/"
        },
        "id": "I6dKiOa0F4eY",
        "outputId": "93ffec81-4d77-42bd-dfd9-bd65a6a4330b"
      },
      "execution_count": null,
      "outputs": [
        {
          "output_type": "stream",
          "name": "stdout",
          "text": [
            "File count: 293\n"
          ]
        }
      ]
    },
    {
      "cell_type": "code",
      "source": [
        "# folder path\n",
        "dir_path = r'/content/drive/MyDrive/Deep Learning Project/Menu_Aug/Flip_hor/Normal/'\n",
        "count = 0\n",
        "# Iterate directory\n",
        "for path in os.listdir(dir_path):\n",
        "    # check if current path is a file\n",
        "    if os.path.isfile(os.path.join(dir_path, path)):\n",
        "        count += 1\n",
        "print('File count:', count)"
      ],
      "metadata": {
        "colab": {
          "base_uri": "https://localhost:8080/"
        },
        "id": "_Q0i2ZgjF4qD",
        "outputId": "10fee438-3674-421c-dc08-96af843ec24f"
      },
      "execution_count": null,
      "outputs": [
        {
          "output_type": "stream",
          "name": "stdout",
          "text": [
            "File count: 293\n"
          ]
        }
      ]
    },
    {
      "cell_type": "markdown",
      "source": [
        "Gray Scale"
      ],
      "metadata": {
        "id": "NjK3LWCfHQFH"
      }
    },
    {
      "cell_type": "code",
      "source": [
        "chicken_input_path ='/content/drive/MyDrive/Deep Learning Project/Menu_Aug/step1/Chickenpox/'\n",
        "chicken_output_path ='/content/drive/MyDrive/Deep Learning Project/Menu_Aug/Gray/Chickenpox/'\n",
        "chicken_input_images = listdir(chicken_input_path)\n",
        "chicken_input_images.sort()\n",
        "for i in chicken_input_images:\n",
        "  gray_aug =  A.augmentations.transforms.ToGray()\n",
        "for i in chicken_input_images:\n",
        "    path2img = chicken_input_path + i\n",
        "    img = read_image(path2img)\n",
        "    aimg = augment_and_return(gray_aug,img)\n",
        "    save_augment_img(aimg,i,chicken_output_path)"
      ],
      "metadata": {
        "id": "3SbcBAecLrWt"
      },
      "execution_count": null,
      "outputs": []
    },
    {
      "cell_type": "code",
      "source": [
        "import os\n",
        "\n",
        "folder = r'/content/drive/MyDrive/Deep Learning Project/Menu_Aug/Gray/Chickenpox/'\n",
        "count =643\n",
        "# count increase by 1 in each iteration\n",
        "# iterate all files from a directory\n",
        "for file_name in os.listdir(folder):\n",
        "    # Construct old file name\n",
        "    source = folder + file_name\n",
        "\n",
        "    # Adding the count to the new file name and extension\n",
        "    destination = folder + \"Chickenpox_\" + str(count) + \".png\"\n",
        "\n",
        "    # Renaming the file\n",
        "    os.rename(source, destination)\n",
        "    count += 1\n",
        "print('All Files Renamed')\n",
        "\n",
        "print('New Names are')\n",
        "# verify the result\n",
        "res = os.listdir(folder)\n",
        "print(res)"
      ],
      "metadata": {
        "colab": {
          "base_uri": "https://localhost:8080/"
        },
        "id": "VEnc7b4SL92B",
        "outputId": "353dce95-75f9-474b-f8e4-aefba14ddc12"
      },
      "execution_count": null,
      "outputs": [
        {
          "output_type": "stream",
          "name": "stdout",
          "text": [
            "All Files Renamed\n",
            "New Names are\n",
            "['Chickenpox_643.png', 'Chickenpox_644.png', 'Chickenpox_645.png', 'Chickenpox_646.png', 'Chickenpox_647.png', 'Chickenpox_648.png', 'Chickenpox_649.png', 'Chickenpox_650.png', 'Chickenpox_651.png', 'Chickenpox_652.png', 'Chickenpox_653.png', 'Chickenpox_654.png', 'Chickenpox_655.png', 'Chickenpox_656.png', 'Chickenpox_657.png', 'Chickenpox_658.png', 'Chickenpox_659.png', 'Chickenpox_660.png', 'Chickenpox_661.png', 'Chickenpox_662.png', 'Chickenpox_663.png', 'Chickenpox_664.png', 'Chickenpox_665.png', 'Chickenpox_666.png', 'Chickenpox_667.png', 'Chickenpox_668.png', 'Chickenpox_669.png', 'Chickenpox_670.png', 'Chickenpox_671.png', 'Chickenpox_672.png', 'Chickenpox_673.png', 'Chickenpox_674.png', 'Chickenpox_675.png', 'Chickenpox_676.png', 'Chickenpox_677.png', 'Chickenpox_678.png', 'Chickenpox_679.png', 'Chickenpox_680.png', 'Chickenpox_681.png', 'Chickenpox_682.png', 'Chickenpox_683.png', 'Chickenpox_684.png', 'Chickenpox_685.png', 'Chickenpox_686.png', 'Chickenpox_687.png', 'Chickenpox_688.png', 'Chickenpox_689.png', 'Chickenpox_690.png', 'Chickenpox_691.png', 'Chickenpox_692.png', 'Chickenpox_693.png', 'Chickenpox_694.png', 'Chickenpox_695.png', 'Chickenpox_696.png', 'Chickenpox_697.png', 'Chickenpox_698.png', 'Chickenpox_699.png', 'Chickenpox_700.png', 'Chickenpox_701.png', 'Chickenpox_702.png', 'Chickenpox_703.png', 'Chickenpox_704.png', 'Chickenpox_705.png', 'Chickenpox_706.png', 'Chickenpox_707.png', 'Chickenpox_708.png', 'Chickenpox_709.png', 'Chickenpox_710.png', 'Chickenpox_711.png', 'Chickenpox_712.png', 'Chickenpox_713.png', 'Chickenpox_714.png', 'Chickenpox_715.png', 'Chickenpox_716.png', 'Chickenpox_717.png', 'Chickenpox_718.png', 'Chickenpox_719.png', 'Chickenpox_720.png', 'Chickenpox_721.png', 'Chickenpox_722.png', 'Chickenpox_723.png', 'Chickenpox_724.png', 'Chickenpox_725.png', 'Chickenpox_726.png', 'Chickenpox_727.png', 'Chickenpox_728.png', 'Chickenpox_729.png', 'Chickenpox_730.png', 'Chickenpox_731.png', 'Chickenpox_732.png', 'Chickenpox_733.png', 'Chickenpox_734.png', 'Chickenpox_735.png', 'Chickenpox_736.png', 'Chickenpox_737.png', 'Chickenpox_738.png', 'Chickenpox_739.png', 'Chickenpox_740.png', 'Chickenpox_741.png', 'Chickenpox_742.png', 'Chickenpox_743.png', 'Chickenpox_744.png', 'Chickenpox_745.png', 'Chickenpox_746.png', 'Chickenpox_747.png', 'Chickenpox_748.png', 'Chickenpox_749.png', 'Chickenpox_750.png', 'Chickenpox_751.png', 'Chickenpox_752.png', 'Chickenpox_753.png', 'Chickenpox_754.png', 'Chickenpox_755.png', 'Chickenpox_756.png', 'Chickenpox_757.png', 'Chickenpox_758.png', 'Chickenpox_759.png', 'Chickenpox_760.png', 'Chickenpox_761.png', 'Chickenpox_762.png', 'Chickenpox_763.png', 'Chickenpox_764.png', 'Chickenpox_765.png', 'Chickenpox_766.png', 'Chickenpox_767.png', 'Chickenpox_768.png', 'Chickenpox_769.png', 'Chickenpox_770.png', 'Chickenpox_771.png', 'Chickenpox_772.png', 'Chickenpox_773.png', 'Chickenpox_774.png', 'Chickenpox_775.png', 'Chickenpox_776.png', 'Chickenpox_777.png', 'Chickenpox_778.png', 'Chickenpox_779.png', 'Chickenpox_780.png', 'Chickenpox_781.png', 'Chickenpox_782.png', 'Chickenpox_783.png', 'Chickenpox_784.png', 'Chickenpox_785.png', 'Chickenpox_786.png', 'Chickenpox_787.png', 'Chickenpox_788.png', 'Chickenpox_789.png', 'Chickenpox_790.png', 'Chickenpox_791.png', 'Chickenpox_792.png', 'Chickenpox_793.png', 'Chickenpox_794.png', 'Chickenpox_795.png', 'Chickenpox_796.png', 'Chickenpox_797.png', 'Chickenpox_798.png', 'Chickenpox_799.png', 'Chickenpox_800.png', 'Chickenpox_801.png', 'Chickenpox_802.png', 'Chickenpox_803.png', 'Chickenpox_804.png', 'Chickenpox_805.png', 'Chickenpox_806.png', 'Chickenpox_807.png', 'Chickenpox_808.png', 'Chickenpox_809.png', 'Chickenpox_810.png', 'Chickenpox_811.png', 'Chickenpox_812.png', 'Chickenpox_813.png', 'Chickenpox_814.png', 'Chickenpox_815.png', 'Chickenpox_816.png', 'Chickenpox_817.png', 'Chickenpox_818.png', 'Chickenpox_819.png', 'Chickenpox_820.png', 'Chickenpox_821.png', 'Chickenpox_822.png', 'Chickenpox_823.png', 'Chickenpox_824.png', 'Chickenpox_825.png', 'Chickenpox_826.png', 'Chickenpox_827.png', 'Chickenpox_828.png', 'Chickenpox_829.png', 'Chickenpox_830.png', 'Chickenpox_831.png', 'Chickenpox_832.png', 'Chickenpox_833.png', 'Chickenpox_834.png', 'Chickenpox_835.png', 'Chickenpox_836.png', 'Chickenpox_837.png', 'Chickenpox_838.png', 'Chickenpox_839.png', 'Chickenpox_840.png', 'Chickenpox_841.png', 'Chickenpox_842.png', 'Chickenpox_843.png', 'Chickenpox_844.png', 'Chickenpox_845.png', 'Chickenpox_846.png', 'Chickenpox_847.png', 'Chickenpox_848.png', 'Chickenpox_849.png', 'Chickenpox_850.png', 'Chickenpox_851.png', 'Chickenpox_852.png', 'Chickenpox_853.png', 'Chickenpox_854.png', 'Chickenpox_855.png', 'Chickenpox_856.png', 'Chickenpox_857.png', 'Chickenpox_858.png', 'Chickenpox_859.png', 'Chickenpox_860.png', 'Chickenpox_861.png', 'Chickenpox_862.png', 'Chickenpox_863.png', 'Chickenpox_864.png', 'Chickenpox_865.png', 'Chickenpox_866.png', 'Chickenpox_867.png', 'Chickenpox_868.png', 'Chickenpox_869.png', 'Chickenpox_870.png', 'Chickenpox_871.png', 'Chickenpox_872.png', 'Chickenpox_873.png', 'Chickenpox_874.png', 'Chickenpox_875.png', 'Chickenpox_876.png', 'Chickenpox_877.png', 'Chickenpox_878.png', 'Chickenpox_879.png', 'Chickenpox_880.png', 'Chickenpox_881.png', 'Chickenpox_882.png', 'Chickenpox_883.png', 'Chickenpox_884.png', 'Chickenpox_885.png', 'Chickenpox_886.png', 'Chickenpox_887.png', 'Chickenpox_888.png', 'Chickenpox_889.png', 'Chickenpox_890.png', 'Chickenpox_891.png', 'Chickenpox_892.png', 'Chickenpox_893.png', 'Chickenpox_894.png', 'Chickenpox_895.png', 'Chickenpox_896.png', 'Chickenpox_897.png', 'Chickenpox_898.png', 'Chickenpox_899.png', 'Chickenpox_900.png', 'Chickenpox_901.png', 'Chickenpox_902.png', 'Chickenpox_903.png', 'Chickenpox_904.png', 'Chickenpox_905.png', 'Chickenpox_906.png', 'Chickenpox_907.png', 'Chickenpox_908.png', 'Chickenpox_909.png', 'Chickenpox_910.png', 'Chickenpox_911.png', 'Chickenpox_912.png', 'Chickenpox_913.png', 'Chickenpox_914.png', 'Chickenpox_915.png', 'Chickenpox_916.png', 'Chickenpox_917.png', 'Chickenpox_918.png', 'Chickenpox_919.png', 'Chickenpox_920.png', 'Chickenpox_921.png', 'Chickenpox_922.png', 'Chickenpox_923.png', 'Chickenpox_924.png', 'Chickenpox_925.png', 'Chickenpox_926.png', 'Chickenpox_927.png', 'Chickenpox_928.png', 'Chickenpox_929.png', 'Chickenpox_930.png', 'Chickenpox_931.png', 'Chickenpox_932.png', 'Chickenpox_933.png', 'Chickenpox_934.png', 'Chickenpox_935.png', 'Chickenpox_936.png', 'Chickenpox_937.png', 'Chickenpox_938.png', 'Chickenpox_939.png', 'Chickenpox_940.png', 'Chickenpox_941.png', 'Chickenpox_942.png', 'Chickenpox_943.png', 'Chickenpox_944.png', 'Chickenpox_945.png', 'Chickenpox_946.png', 'Chickenpox_947.png', 'Chickenpox_948.png', 'Chickenpox_949.png', 'Chickenpox_950.png', 'Chickenpox_951.png', 'Chickenpox_952.png', 'Chickenpox_953.png', 'Chickenpox_954.png', 'Chickenpox_955.png', 'Chickenpox_956.png', 'Chickenpox_957.png', 'Chickenpox_958.png', 'Chickenpox_959.png', 'Chickenpox_960.png', 'Chickenpox_961.png', 'Chickenpox_962.png', 'Chickenpox_963.png']\n"
          ]
        }
      ]
    },
    {
      "cell_type": "code",
      "source": [
        "# # Providing the folder path\n",
        "# origin = '/content/drive/MyDrive/Deep Learning Project/Menu_Aug/step1/Chickenpox/'\n",
        "# target = '/content/drive/MyDrive/Deep Learning Project/Menu_Aug/Gray/Chickenpox/'\n",
        "\n",
        "# # Fetching the list of all the files\n",
        "# files = os.listdir(origin)\n",
        "\n",
        "# # Fetching all the files to directory\n",
        "# for file_name in files:\n",
        "#    shutil.copy(origin+file_name, target+file_name)\n",
        "# print(\"Files are copied successfully\")"
      ],
      "metadata": {
        "colab": {
          "base_uri": "https://localhost:8080/"
        },
        "id": "VzZwPyzGPJtj",
        "outputId": "933b068b-f1c6-4db2-ee4f-d5fa3acccefa"
      },
      "execution_count": null,
      "outputs": [
        {
          "output_type": "stream",
          "name": "stdout",
          "text": [
            "Files are copied successfully\n"
          ]
        }
      ]
    },
    {
      "cell_type": "code",
      "source": [
        "# folder path\n",
        "dir_path = r'/content/drive/MyDrive/Deep Learning Project/Menu_Aug/Gray/Chickenpox/'\n",
        "count = 0\n",
        "# Iterate directory\n",
        "for path in os.listdir(dir_path):\n",
        "    # check if current path is a file\n",
        "    if os.path.isfile(os.path.join(dir_path, path)):\n",
        "        count += 1\n",
        "print('File count:', count)"
      ],
      "metadata": {
        "colab": {
          "base_uri": "https://localhost:8080/"
        },
        "id": "bl51MiOoMGwB",
        "outputId": "c950e8a2-be32-43de-9f6c-df5e46d806b9"
      },
      "execution_count": null,
      "outputs": [
        {
          "output_type": "stream",
          "name": "stdout",
          "text": [
            "File count: 321\n"
          ]
        }
      ]
    },
    {
      "cell_type": "code",
      "source": [
        "# folder path\n",
        "dir_path = r'/content/drive/MyDrive/Deep Learning Project/Menu_Aug/step1/Chickenpox/'\n",
        "count = 0\n",
        "# Iterate directory\n",
        "for path in os.listdir(dir_path):\n",
        "    # check if current path is a file\n",
        "    if os.path.isfile(os.path.join(dir_path, path)):\n",
        "        count += 1\n",
        "print('File count:', count)"
      ],
      "metadata": {
        "colab": {
          "base_uri": "https://localhost:8080/"
        },
        "id": "2atFhPQmMMw8",
        "outputId": "0e16d4d4-84e5-4dd8-8fa0-53243a88d7ba"
      },
      "execution_count": null,
      "outputs": [
        {
          "output_type": "stream",
          "name": "stdout",
          "text": [
            "File count: 321\n"
          ]
        }
      ]
    },
    {
      "cell_type": "code",
      "source": [
        "chicken_input_path ='/content/drive/MyDrive/Deep Learning Project/Menu_Aug/step1/Measles/'\n",
        "chicken_output_path ='/content/drive/MyDrive/Deep Learning Project/Menu_Aug/Gray/Measles/'\n",
        "chicken_input_images = listdir(chicken_input_path)\n",
        "chicken_input_images.sort()\n",
        "for i in chicken_input_images:\n",
        "  gray_aug =  A.augmentations.transforms.ToGray()\n",
        "for i in chicken_input_images:\n",
        "    path2img = chicken_input_path + i\n",
        "    img = read_image(path2img)\n",
        "    aimg = augment_and_return(gray_aug,img)\n",
        "    save_augment_img(aimg,i,chicken_output_path)\n",
        "\n"
      ],
      "metadata": {
        "id": "c1F-OLdzhwkg",
        "colab": {
          "base_uri": "https://localhost:8080/"
        },
        "outputId": "f6c716a6-a1ea-42e6-dfc3-fd9311bf0fb3"
      },
      "execution_count": null,
      "outputs": [
        {
          "output_type": "stream",
          "name": "stdout",
          "text": [
            "All Files Renamed\n",
            "New Names are\n",
            "['Normal_547.png', 'Normal_548.png', 'Normal_549.png', 'Normal_550.png', 'Normal_551.png', 'Normal_552.png', 'Normal_553.png', 'Normal_554.png', 'Normal_555.png', 'Normal_556.png', 'Normal_557.png', 'Normal_558.png', 'Normal_559.png', 'Normal_560.png', 'Normal_561.png', 'Normal_562.png', 'Normal_563.png', 'Normal_564.png', 'Normal_565.png', 'Normal_566.png', 'Normal_567.png', 'Normal_568.png', 'Normal_569.png', 'Normal_570.png', 'Normal_571.png', 'Normal_572.png', 'Normal_573.png', 'Normal_574.png', 'Normal_575.png', 'Normal_576.png', 'Normal_577.png', 'Normal_578.png', 'Normal_579.png', 'Normal_580.png', 'Normal_581.png', 'Normal_582.png', 'Normal_583.png', 'Normal_584.png', 'Normal_585.png', 'Normal_586.png', 'Normal_587.png', 'Normal_588.png', 'Normal_589.png', 'Normal_590.png', 'Normal_591.png', 'Normal_592.png', 'Normal_593.png', 'Normal_594.png', 'Normal_595.png', 'Normal_596.png', 'Normal_597.png', 'Normal_598.png', 'Normal_599.png', 'Normal_600.png', 'Normal_601.png', 'Normal_602.png', 'Normal_603.png', 'Normal_604.png', 'Normal_605.png', 'Normal_606.png', 'Normal_607.png', 'Normal_608.png', 'Normal_609.png', 'Normal_610.png', 'Normal_611.png', 'Normal_612.png', 'Normal_613.png', 'Normal_614.png', 'Normal_615.png', 'Normal_616.png', 'Normal_617.png', 'Normal_618.png', 'Normal_619.png', 'Normal_620.png', 'Normal_621.png', 'Normal_622.png', 'Normal_623.png', 'Normal_624.png', 'Normal_625.png', 'Normal_626.png', 'Normal_627.png', 'Normal_628.png', 'Normal_629.png', 'Normal_630.png', 'Normal_631.png', 'Normal_632.png', 'Normal_633.png', 'Normal_634.png', 'Normal_635.png', 'Normal_636.png', 'Normal_637.png', 'Normal_638.png', 'Normal_639.png', 'Normal_640.png', 'Normal_641.png', 'Normal_642.png', 'Normal_643.png', 'Normal_644.png', 'Normal_645.png', 'Normal_646.png', 'Normal_647.png', 'Normal_648.png', 'Normal_649.png', 'Normal_650.png', 'Normal_651.png', 'Normal_652.png', 'Normal_653.png', 'Normal_654.png', 'Normal_655.png', 'Normal_656.png', 'Normal_657.png', 'Normal_658.png', 'Normal_659.png', 'Normal_660.png', 'Normal_661.png', 'Normal_662.png', 'Normal_663.png', 'Normal_664.png', 'Normal_665.png', 'Normal_666.png', 'Normal_667.png', 'Normal_668.png', 'Normal_669.png', 'Normal_670.png', 'Normal_671.png', 'Normal_672.png', 'Normal_673.png', 'Normal_674.png', 'Normal_675.png', 'Normal_676.png', 'Normal_677.png', 'Normal_678.png', 'Normal_679.png', 'Normal_680.png', 'Normal_681.png', 'Normal_682.png', 'Normal_683.png', 'Normal_684.png', 'Normal_685.png', 'Normal_686.png', 'Normal_687.png', 'Normal_688.png', 'Normal_689.png', 'Normal_690.png', 'Normal_691.png', 'Normal_692.png', 'Normal_693.png', 'Normal_694.png', 'Normal_695.png', 'Normal_696.png', 'Normal_697.png', 'Normal_698.png', 'Normal_699.png', 'Normal_700.png', 'Normal_701.png', 'Normal_702.png', 'Normal_703.png', 'Normal_704.png', 'Normal_705.png', 'Normal_706.png', 'Normal_707.png', 'Normal_708.png', 'Normal_709.png', 'Normal_710.png', 'Normal_711.png', 'Normal_712.png', 'Normal_713.png', 'Normal_714.png', 'Normal_715.png', 'Normal_716.png', 'Normal_717.png', 'Normal_718.png', 'Normal_719.png', 'Normal_720.png', 'Normal_721.png', 'Normal_722.png', 'Normal_723.png', 'Normal_724.png', 'Normal_725.png', 'Normal_726.png', 'Normal_727.png', 'Normal_728.png', 'Normal_729.png', 'Normal_730.png', 'Normal_731.png', 'Normal_732.png', 'Normal_733.png', 'Normal_734.png', 'Normal_735.png', 'Normal_736.png', 'Normal_737.png', 'Normal_738.png', 'Normal_739.png', 'Normal_740.png', 'Normal_741.png', 'Normal_742.png', 'Normal_743.png', 'Normal_744.png', 'Normal_745.png', 'Normal_746.png', 'Normal_747.png', 'Normal_748.png', 'Normal_749.png', 'Normal_750.png', 'Normal_751.png', 'Normal_752.png', 'Normal_753.png', 'Normal_754.png', 'Normal_755.png', 'Normal_756.png', 'Normal_757.png', 'Normal_758.png', 'Normal_759.png', 'Normal_760.png', 'Normal_761.png', 'Normal_762.png', 'Normal_763.png', 'Normal_764.png', 'Normal_765.png', 'Normal_766.png', 'Normal_767.png', 'Normal_768.png', 'Normal_769.png', 'Normal_770.png', 'Normal_771.png', 'Normal_772.png', 'Normal_773.png', 'Normal_774.png', 'Normal_775.png', 'Normal_776.png', 'Normal_777.png', 'Normal_778.png', 'Normal_779.png', 'Normal_780.png', 'Normal_781.png', 'Normal_782.png', 'Normal_783.png', 'Normal_784.png', 'Normal_785.png', 'Normal_786.png', 'Normal_787.png', 'Normal_788.png', 'Normal_789.png', 'Normal_790.png', 'Normal_791.png', 'Normal_792.png', 'Normal_793.png', 'Normal_794.png', 'Normal_795.png', 'Normal_796.png', 'Normal_797.png', 'Normal_798.png', 'Normal_799.png', 'Normal_800.png', 'Normal_801.png', 'Normal_802.png', 'Normal_803.png', 'Normal_804.png', 'Normal_805.png', 'Normal_806.png', 'Normal_807.png', 'Normal_808.png', 'Normal_809.png', 'Normal_810.png', 'Normal_811.png', 'Normal_812.png', 'Normal_813.png', 'Normal_814.png', 'Normal_815.png', 'Normal_816.png', 'Normal_817.png', 'Normal_818.png', 'Normal_819.png']\n"
          ]
        }
      ]
    },
    {
      "cell_type": "code",
      "source": [
        "import os\n",
        "\n",
        "folder = r'/content/drive/MyDrive/Deep Learning Project/Menu_Aug/Gray/Measles/'\n",
        "count =547\n",
        "# count increase by 1 in each iteration\n",
        "# iterate all files from a directory\n",
        "for file_name in os.listdir(folder):\n",
        "    # Construct old file name\n",
        "    source = folder + file_name\n",
        "\n",
        "    # Adding the count to the new file name and extension\n",
        "    destination = folder + \"Measles_\" + str(count) + \".png\"\n",
        "\n",
        "    # Renaming the file\n",
        "    os.rename(source, destination)\n",
        "    count += 1\n",
        "print('All Files Renamed')\n",
        "\n",
        "print('New Names are')\n",
        "# verify the result\n",
        "res = os.listdir(folder)\n",
        "print(res)\n"
      ],
      "metadata": {
        "colab": {
          "base_uri": "https://localhost:8080/"
        },
        "id": "V8lAP46nu0lr",
        "outputId": "d725a0fa-48d6-4f32-e55a-3ec7f918d60e"
      },
      "execution_count": null,
      "outputs": [
        {
          "output_type": "stream",
          "name": "stdout",
          "text": [
            "All Files Renamed\n",
            "New Names are\n",
            "['Measles_547.png', 'Measles_548.png', 'Measles_549.png', 'Measles_550.png', 'Measles_551.png', 'Measles_552.png', 'Measles_553.png', 'Measles_554.png', 'Measles_555.png', 'Measles_556.png', 'Measles_557.png', 'Measles_558.png', 'Measles_559.png', 'Measles_560.png', 'Measles_561.png', 'Measles_562.png', 'Measles_563.png', 'Measles_564.png', 'Measles_565.png', 'Measles_566.png', 'Measles_567.png', 'Measles_568.png', 'Measles_569.png', 'Measles_570.png', 'Measles_571.png', 'Measles_572.png', 'Measles_573.png', 'Measles_574.png', 'Measles_575.png', 'Measles_576.png', 'Measles_577.png', 'Measles_578.png', 'Measles_579.png', 'Measles_580.png', 'Measles_581.png', 'Measles_582.png', 'Measles_583.png', 'Measles_584.png', 'Measles_585.png', 'Measles_586.png', 'Measles_587.png', 'Measles_588.png', 'Measles_589.png', 'Measles_590.png', 'Measles_591.png', 'Measles_592.png', 'Measles_593.png', 'Measles_594.png', 'Measles_595.png', 'Measles_596.png', 'Measles_597.png', 'Measles_598.png', 'Measles_599.png', 'Measles_600.png', 'Measles_601.png', 'Measles_602.png', 'Measles_603.png', 'Measles_604.png', 'Measles_605.png', 'Measles_606.png', 'Measles_607.png', 'Measles_608.png', 'Measles_609.png', 'Measles_610.png', 'Measles_611.png', 'Measles_612.png', 'Measles_613.png', 'Measles_614.png', 'Measles_615.png', 'Measles_616.png', 'Measles_617.png', 'Measles_618.png', 'Measles_619.png', 'Measles_620.png', 'Measles_621.png', 'Measles_622.png', 'Measles_623.png', 'Measles_624.png', 'Measles_625.png', 'Measles_626.png', 'Measles_627.png', 'Measles_628.png', 'Measles_629.png', 'Measles_630.png', 'Measles_631.png', 'Measles_632.png', 'Measles_633.png', 'Measles_634.png', 'Measles_635.png', 'Measles_636.png', 'Measles_637.png', 'Measles_638.png', 'Measles_639.png', 'Measles_640.png', 'Measles_641.png', 'Measles_642.png', 'Measles_643.png', 'Measles_644.png', 'Measles_645.png', 'Measles_646.png', 'Measles_647.png', 'Measles_648.png', 'Measles_649.png', 'Measles_650.png', 'Measles_651.png', 'Measles_652.png', 'Measles_653.png', 'Measles_654.png', 'Measles_655.png', 'Measles_656.png', 'Measles_657.png', 'Measles_658.png', 'Measles_659.png', 'Measles_660.png', 'Measles_661.png', 'Measles_662.png', 'Measles_663.png', 'Measles_664.png', 'Measles_665.png', 'Measles_666.png', 'Measles_667.png', 'Measles_668.png', 'Measles_669.png', 'Measles_670.png', 'Measles_671.png', 'Measles_672.png', 'Measles_673.png', 'Measles_674.png', 'Measles_675.png', 'Measles_676.png', 'Measles_677.png', 'Measles_678.png', 'Measles_679.png', 'Measles_680.png', 'Measles_681.png', 'Measles_682.png', 'Measles_683.png', 'Measles_684.png', 'Measles_685.png', 'Measles_686.png', 'Measles_687.png', 'Measles_688.png', 'Measles_689.png', 'Measles_690.png', 'Measles_691.png', 'Measles_692.png', 'Measles_693.png', 'Measles_694.png', 'Measles_695.png', 'Measles_696.png', 'Measles_697.png', 'Measles_698.png', 'Measles_699.png', 'Measles_700.png', 'Measles_701.png', 'Measles_702.png', 'Measles_703.png', 'Measles_704.png', 'Measles_705.png', 'Measles_706.png', 'Measles_707.png', 'Measles_708.png', 'Measles_709.png', 'Measles_710.png', 'Measles_711.png', 'Measles_712.png', 'Measles_713.png', 'Measles_714.png', 'Measles_715.png', 'Measles_716.png', 'Measles_717.png', 'Measles_718.png', 'Measles_719.png', 'Measles_720.png', 'Measles_721.png', 'Measles_722.png', 'Measles_723.png', 'Measles_724.png', 'Measles_725.png', 'Measles_726.png', 'Measles_727.png', 'Measles_728.png', 'Measles_729.png', 'Measles_730.png', 'Measles_731.png', 'Measles_732.png', 'Measles_733.png', 'Measles_734.png', 'Measles_735.png', 'Measles_736.png', 'Measles_737.png', 'Measles_738.png', 'Measles_739.png', 'Measles_740.png', 'Measles_741.png', 'Measles_742.png', 'Measles_743.png', 'Measles_744.png', 'Measles_745.png', 'Measles_746.png', 'Measles_747.png', 'Measles_748.png', 'Measles_749.png', 'Measles_750.png', 'Measles_751.png', 'Measles_752.png', 'Measles_753.png', 'Measles_754.png', 'Measles_755.png', 'Measles_756.png', 'Measles_757.png', 'Measles_758.png', 'Measles_759.png', 'Measles_760.png', 'Measles_761.png', 'Measles_762.png', 'Measles_763.png', 'Measles_764.png', 'Measles_765.png', 'Measles_766.png', 'Measles_767.png', 'Measles_768.png', 'Measles_769.png', 'Measles_770.png', 'Measles_771.png', 'Measles_772.png', 'Measles_773.png', 'Measles_774.png', 'Measles_775.png', 'Measles_776.png', 'Measles_777.png', 'Measles_778.png', 'Measles_779.png', 'Measles_780.png', 'Measles_781.png', 'Measles_782.png', 'Measles_783.png', 'Measles_784.png', 'Measles_785.png', 'Measles_786.png', 'Measles_787.png', 'Measles_788.png', 'Measles_789.png', 'Measles_790.png', 'Measles_791.png', 'Measles_792.png', 'Measles_793.png', 'Measles_794.png', 'Measles_795.png', 'Measles_796.png', 'Measles_797.png', 'Measles_798.png', 'Measles_799.png', 'Measles_800.png', 'Measles_801.png', 'Measles_802.png', 'Measles_803.png', 'Measles_804.png', 'Measles_805.png', 'Measles_806.png', 'Measles_807.png', 'Measles_808.png', 'Measles_809.png', 'Measles_810.png', 'Measles_811.png', 'Measles_812.png', 'Measles_813.png', 'Measles_814.png', 'Measles_815.png', 'Measles_816.png', 'Measles_817.png', 'Measles_818.png', 'Measles_819.png']\n"
          ]
        }
      ]
    },
    {
      "cell_type": "code",
      "source": [
        "# folder path\n",
        "dir_path = r'/content/drive/MyDrive/Deep Learning Project/Menu_Aug/Gray/Measles/'\n",
        "count = 0\n",
        "# Iterate directory\n",
        "for path in os.listdir(dir_path):\n",
        "    # check if current path is a file\n",
        "    if os.path.isfile(os.path.join(dir_path, path)):\n",
        "        count += 1\n",
        "print('File count:', count)"
      ],
      "metadata": {
        "colab": {
          "base_uri": "https://localhost:8080/"
        },
        "id": "w2MDFVAwjVgd",
        "outputId": "df32b781-2a72-4c4a-a833-29baa396fadc"
      },
      "execution_count": null,
      "outputs": [
        {
          "output_type": "stream",
          "name": "stdout",
          "text": [
            "File count: 273\n"
          ]
        }
      ]
    },
    {
      "cell_type": "code",
      "source": [
        "chicken_input_path ='/content/drive/MyDrive/Deep Learning Project/Menu_Aug/step1/Monkeypox/'\n",
        "chicken_output_path ='/content/drive/MyDrive/Deep Learning Project/Menu_Aug/Gray/Monkeypox/'\n",
        "chicken_input_images = listdir(chicken_input_path)\n",
        "chicken_input_images.sort()\n",
        "for i in chicken_input_images:\n",
        "  gray_aug =  A.augmentations.transforms.ToGray()\n",
        "for i in chicken_input_images:\n",
        "    path2img = chicken_input_path + i\n",
        "    img = read_image(path2img)\n",
        "    aimg = augment_and_return(gray_aug,img)\n",
        "    save_augment_img(aimg,i,chicken_output_path)\n",
        "\n"
      ],
      "metadata": {
        "id": "uMndmXGojDwM",
        "colab": {
          "base_uri": "https://localhost:8080/"
        },
        "outputId": "d4a42231-658a-4cb2-a962-d10379f5729b"
      },
      "execution_count": null,
      "outputs": [
        {
          "output_type": "stream",
          "name": "stdout",
          "text": [
            "All Files Renamed\n",
            "New Names are\n",
            "['Normal_1675.png', 'Normal_1676.png', 'Normal_1677.png', 'Normal_1678.png', 'Normal_1679.png', 'Normal_1680.png', 'Normal_1681.png', 'Normal_1682.png', 'Normal_1683.png', 'Normal_1684.png', 'Normal_1685.png', 'Normal_1686.png', 'Normal_1687.png', 'Normal_1688.png', 'Normal_1689.png', 'Normal_1690.png', 'Normal_1691.png', 'Normal_1692.png', 'Normal_1693.png', 'Normal_1694.png', 'Normal_1695.png', 'Normal_1696.png', 'Normal_1697.png', 'Normal_1698.png', 'Normal_1699.png', 'Normal_1700.png', 'Normal_1701.png', 'Normal_1702.png', 'Normal_1703.png', 'Normal_1704.png', 'Normal_1705.png', 'Normal_1706.png', 'Normal_1707.png', 'Normal_1708.png', 'Normal_1709.png', 'Normal_1710.png', 'Normal_1711.png', 'Normal_1712.png', 'Normal_1713.png', 'Normal_1714.png', 'Normal_1715.png', 'Normal_1716.png', 'Normal_1717.png', 'Normal_1718.png', 'Normal_1719.png', 'Normal_1720.png', 'Normal_1721.png', 'Normal_1722.png', 'Normal_1723.png', 'Normal_1724.png', 'Normal_1725.png', 'Normal_1726.png', 'Normal_1727.png', 'Normal_1728.png', 'Normal_1729.png', 'Normal_1730.png', 'Normal_1731.png', 'Normal_1732.png', 'Normal_1733.png', 'Normal_1734.png', 'Normal_1735.png', 'Normal_1736.png', 'Normal_1737.png', 'Normal_1738.png', 'Normal_1739.png', 'Normal_1740.png', 'Normal_1741.png', 'Normal_1742.png', 'Normal_1743.png', 'Normal_1744.png', 'Normal_1745.png', 'Normal_1746.png', 'Normal_1747.png', 'Normal_1748.png', 'Normal_1749.png', 'Normal_1750.png', 'Normal_1751.png', 'Normal_1752.png', 'Normal_1753.png', 'Normal_1754.png', 'Normal_1755.png', 'Normal_1756.png', 'Normal_1757.png', 'Normal_1758.png', 'Normal_1759.png', 'Normal_1760.png', 'Normal_1761.png', 'Normal_1762.png', 'Normal_1763.png', 'Normal_1764.png', 'Normal_1765.png', 'Normal_1766.png', 'Normal_1767.png', 'Normal_1768.png', 'Normal_1769.png', 'Normal_1770.png', 'Normal_1771.png', 'Normal_1772.png', 'Normal_1773.png', 'Normal_1774.png', 'Normal_1775.png', 'Normal_1776.png', 'Normal_1777.png', 'Normal_1778.png', 'Normal_1779.png', 'Normal_1780.png', 'Normal_1781.png', 'Normal_1782.png', 'Normal_1783.png', 'Normal_1784.png', 'Normal_1785.png', 'Normal_1786.png', 'Normal_1787.png', 'Normal_1788.png', 'Normal_1789.png', 'Normal_1790.png', 'Normal_1791.png', 'Normal_1792.png', 'Normal_1793.png', 'Normal_1794.png', 'Normal_1795.png', 'Normal_1796.png', 'Normal_1797.png', 'Normal_1798.png', 'Normal_1799.png', 'Normal_1800.png', 'Normal_1801.png', 'Normal_1802.png', 'Normal_1803.png', 'Normal_1804.png', 'Normal_1805.png', 'Normal_1806.png', 'Normal_1807.png', 'Normal_1808.png', 'Normal_1809.png', 'Normal_1810.png', 'Normal_1811.png', 'Normal_1812.png', 'Normal_1813.png', 'Normal_1814.png', 'Normal_1815.png', 'Normal_1816.png', 'Normal_1817.png', 'Normal_1818.png', 'Normal_1819.png', 'Normal_1820.png', 'Normal_1821.png', 'Normal_1822.png', 'Normal_1823.png', 'Normal_1824.png', 'Normal_1825.png', 'Normal_1826.png', 'Normal_1827.png', 'Normal_1828.png', 'Normal_1829.png', 'Normal_1830.png', 'Normal_1831.png', 'Normal_1832.png', 'Normal_1833.png', 'Normal_1834.png', 'Normal_1835.png', 'Normal_1836.png', 'Normal_1837.png', 'Normal_1838.png', 'Normal_1839.png', 'Normal_1840.png', 'Normal_1841.png', 'Normal_1842.png', 'Normal_1843.png', 'Normal_1844.png', 'Normal_1845.png', 'Normal_1846.png', 'Normal_1847.png', 'Normal_1848.png', 'Normal_1849.png', 'Normal_1850.png', 'Normal_1851.png', 'Normal_1852.png', 'Normal_1853.png', 'Normal_1854.png', 'Normal_1855.png', 'Normal_1856.png', 'Normal_1857.png', 'Normal_1858.png', 'Normal_1859.png', 'Normal_1860.png', 'Normal_1861.png', 'Normal_1862.png', 'Normal_1863.png', 'Normal_1864.png', 'Normal_1865.png', 'Normal_1866.png', 'Normal_1867.png', 'Normal_1868.png', 'Normal_1869.png', 'Normal_1870.png', 'Normal_1871.png', 'Normal_1872.png', 'Normal_1873.png', 'Normal_1874.png', 'Normal_1875.png', 'Normal_1876.png', 'Normal_1877.png', 'Normal_1878.png', 'Normal_1879.png', 'Normal_1880.png', 'Normal_1881.png', 'Normal_1882.png', 'Normal_1883.png', 'Normal_1884.png', 'Normal_1885.png', 'Normal_1886.png', 'Normal_1887.png', 'Normal_1888.png', 'Normal_1889.png', 'Normal_1890.png', 'Normal_1891.png', 'Normal_1892.png', 'Normal_1893.png', 'Normal_1894.png', 'Normal_1895.png', 'Normal_1896.png', 'Normal_1897.png', 'Normal_1898.png', 'Normal_1899.png', 'Normal_1900.png', 'Normal_1901.png', 'Normal_1902.png', 'Normal_1903.png', 'Normal_1904.png', 'Normal_1905.png', 'Normal_1906.png', 'Normal_1907.png', 'Normal_1908.png', 'Normal_1909.png', 'Normal_1910.png', 'Normal_1911.png', 'Normal_1912.png', 'Normal_1913.png', 'Normal_1914.png', 'Normal_1915.png', 'Normal_1916.png', 'Normal_1917.png', 'Normal_1918.png', 'Normal_1919.png', 'Normal_1920.png', 'Normal_1921.png', 'Normal_1922.png', 'Normal_1923.png', 'Normal_1924.png', 'Normal_1925.png', 'Normal_1926.png', 'Normal_1927.png', 'Normal_1928.png', 'Normal_1929.png', 'Normal_1930.png', 'Normal_1931.png', 'Normal_1932.png', 'Normal_1933.png', 'Normal_1934.png', 'Normal_1935.png', 'Normal_1936.png', 'Normal_1937.png', 'Normal_1938.png', 'Normal_1939.png', 'Normal_1940.png', 'Normal_1941.png', 'Normal_1942.png', 'Normal_1943.png', 'Normal_1944.png', 'Normal_1945.png', 'Normal_1946.png', 'Normal_1947.png', 'Normal_1948.png', 'Normal_1949.png', 'Normal_1950.png', 'Normal_1951.png', 'Normal_1952.png', 'Normal_1953.png', 'Normal_1954.png', 'Normal_1955.png', 'Normal_1956.png', 'Normal_1957.png', 'Normal_1958.png', 'Normal_1959.png', 'Normal_1960.png', 'Normal_1961.png', 'Normal_1962.png', 'Normal_1963.png', 'Normal_1964.png', 'Normal_1965.png', 'Normal_1966.png', 'Normal_1967.png', 'Normal_1968.png', 'Normal_1969.png', 'Normal_1970.png', 'Normal_1971.png', 'Normal_1972.png', 'Normal_1973.png', 'Normal_1974.png', 'Normal_1975.png', 'Normal_1976.png', 'Normal_1977.png', 'Normal_1978.png', 'Normal_1979.png', 'Normal_1980.png', 'Normal_1981.png', 'Normal_1982.png', 'Normal_1983.png', 'Normal_1984.png', 'Normal_1985.png', 'Normal_1986.png', 'Normal_1987.png', 'Normal_1988.png', 'Normal_1989.png', 'Normal_1990.png', 'Normal_1991.png', 'Normal_1992.png', 'Normal_1993.png', 'Normal_1994.png', 'Normal_1995.png', 'Normal_1996.png', 'Normal_1997.png', 'Normal_1998.png', 'Normal_1999.png', 'Normal_2000.png', 'Normal_2001.png', 'Normal_2002.png', 'Normal_2003.png', 'Normal_2004.png', 'Normal_2005.png', 'Normal_2006.png', 'Normal_2007.png', 'Normal_2008.png', 'Normal_2009.png', 'Normal_2010.png', 'Normal_2011.png', 'Normal_2012.png', 'Normal_2013.png', 'Normal_2014.png', 'Normal_2015.png', 'Normal_2016.png', 'Normal_2017.png', 'Normal_2018.png', 'Normal_2019.png', 'Normal_2020.png', 'Normal_2021.png', 'Normal_2022.png', 'Normal_2023.png', 'Normal_2024.png', 'Normal_2025.png', 'Normal_2026.png', 'Normal_2027.png', 'Normal_2028.png', 'Normal_2029.png', 'Normal_2030.png', 'Normal_2031.png', 'Normal_2032.png', 'Normal_2033.png', 'Normal_2034.png', 'Normal_2035.png', 'Normal_2036.png', 'Normal_2037.png', 'Normal_2038.png', 'Normal_2039.png', 'Normal_2040.png', 'Normal_2041.png', 'Normal_2042.png', 'Normal_2043.png', 'Normal_2044.png', 'Normal_2045.png', 'Normal_2046.png', 'Normal_2047.png', 'Normal_2048.png', 'Normal_2049.png', 'Normal_2050.png', 'Normal_2051.png', 'Normal_2052.png', 'Normal_2053.png', 'Normal_2054.png', 'Normal_2055.png', 'Normal_2056.png', 'Normal_2057.png', 'Normal_2058.png', 'Normal_2059.png', 'Normal_2060.png', 'Normal_2061.png', 'Normal_2062.png', 'Normal_2063.png', 'Normal_2064.png', 'Normal_2065.png', 'Normal_2066.png', 'Normal_2067.png', 'Normal_2068.png', 'Normal_2069.png', 'Normal_2070.png', 'Normal_2071.png', 'Normal_2072.png', 'Normal_2073.png', 'Normal_2074.png', 'Normal_2075.png', 'Normal_2076.png', 'Normal_2077.png', 'Normal_2078.png', 'Normal_2079.png', 'Normal_2080.png', 'Normal_2081.png', 'Normal_2082.png', 'Normal_2083.png', 'Normal_2084.png', 'Normal_2085.png', 'Normal_2086.png', 'Normal_2087.png', 'Normal_2088.png', 'Normal_2089.png', 'Normal_2090.png', 'Normal_2091.png', 'Normal_2092.png', 'Normal_2093.png', 'Normal_2094.png', 'Normal_2095.png', 'Normal_2096.png', 'Normal_2097.png', 'Normal_2098.png', 'Normal_2099.png', 'Normal_2100.png', 'Normal_2101.png', 'Normal_2102.png', 'Normal_2103.png', 'Normal_2104.png', 'Normal_2105.png', 'Normal_2106.png', 'Normal_2107.png', 'Normal_2108.png', 'Normal_2109.png', 'Normal_2110.png', 'Normal_2111.png', 'Normal_2112.png', 'Normal_2113.png', 'Normal_2114.png', 'Normal_2115.png', 'Normal_2116.png', 'Normal_2117.png', 'Normal_2118.png', 'Normal_2119.png', 'Normal_2120.png', 'Normal_2121.png', 'Normal_2122.png', 'Normal_2123.png', 'Normal_2124.png', 'Normal_2125.png', 'Normal_2126.png', 'Normal_2127.png', 'Normal_2128.png', 'Normal_2129.png', 'Normal_2130.png', 'Normal_2131.png', 'Normal_2132.png', 'Normal_2133.png', 'Normal_2134.png', 'Normal_2135.png', 'Normal_2136.png', 'Normal_2137.png', 'Normal_2138.png', 'Normal_2139.png', 'Normal_2140.png', 'Normal_2141.png', 'Normal_2142.png', 'Normal_2143.png', 'Normal_2144.png', 'Normal_2145.png', 'Normal_2146.png', 'Normal_2147.png', 'Normal_2148.png', 'Normal_2149.png', 'Normal_2150.png', 'Normal_2151.png', 'Normal_2152.png', 'Normal_2153.png', 'Normal_2154.png', 'Normal_2155.png', 'Normal_2156.png', 'Normal_2157.png', 'Normal_2158.png', 'Normal_2159.png', 'Normal_2160.png', 'Normal_2161.png', 'Normal_2162.png', 'Normal_2163.png', 'Normal_2164.png', 'Normal_2165.png', 'Normal_2166.png', 'Normal_2167.png', 'Normal_2168.png', 'Normal_2169.png', 'Normal_2170.png', 'Normal_2171.png', 'Normal_2172.png', 'Normal_2173.png', 'Normal_2174.png', 'Normal_2175.png', 'Normal_2176.png', 'Normal_2177.png', 'Normal_2178.png', 'Normal_2179.png', 'Normal_2180.png', 'Normal_2181.png', 'Normal_2182.png', 'Normal_2183.png', 'Normal_2184.png', 'Normal_2185.png', 'Normal_2186.png', 'Normal_2187.png', 'Normal_2188.png', 'Normal_2189.png', 'Normal_2190.png', 'Normal_2191.png', 'Normal_2192.png', 'Normal_2193.png', 'Normal_2194.png', 'Normal_2195.png', 'Normal_2196.png', 'Normal_2197.png', 'Normal_2198.png', 'Normal_2199.png', 'Normal_2200.png', 'Normal_2201.png', 'Normal_2202.png', 'Normal_2203.png', 'Normal_2204.png', 'Normal_2205.png', 'Normal_2206.png', 'Normal_2207.png', 'Normal_2208.png', 'Normal_2209.png', 'Normal_2210.png', 'Normal_2211.png', 'Normal_2212.png', 'Normal_2213.png', 'Normal_2214.png', 'Normal_2215.png', 'Normal_2216.png', 'Normal_2217.png', 'Normal_2218.png', 'Normal_2219.png', 'Normal_2220.png', 'Normal_2221.png', 'Normal_2222.png', 'Normal_2223.png', 'Normal_2224.png', 'Normal_2225.png', 'Normal_2226.png', 'Normal_2227.png', 'Normal_2228.png', 'Normal_2229.png', 'Normal_2230.png', 'Normal_2231.png', 'Normal_2232.png', 'Normal_2233.png', 'Normal_2234.png', 'Normal_2235.png', 'Normal_2236.png', 'Normal_2237.png', 'Normal_2238.png', 'Normal_2239.png', 'Normal_2240.png', 'Normal_2241.png', 'Normal_2242.png', 'Normal_2243.png', 'Normal_2244.png', 'Normal_2245.png', 'Normal_2246.png', 'Normal_2247.png', 'Normal_2248.png', 'Normal_2249.png', 'Normal_2250.png', 'Normal_2251.png', 'Normal_2252.png', 'Normal_2253.png', 'Normal_2254.png', 'Normal_2255.png', 'Normal_2256.png', 'Normal_2257.png', 'Normal_2258.png', 'Normal_2259.png', 'Normal_2260.png', 'Normal_2261.png', 'Normal_2262.png', 'Normal_2263.png', 'Normal_2264.png', 'Normal_2265.png', 'Normal_2266.png', 'Normal_2267.png', 'Normal_2268.png', 'Normal_2269.png', 'Normal_2270.png', 'Normal_2271.png', 'Normal_2272.png', 'Normal_2273.png', 'Normal_2274.png', 'Normal_2275.png', 'Normal_2276.png', 'Normal_2277.png', 'Normal_2278.png', 'Normal_2279.png', 'Normal_2280.png', 'Normal_2281.png', 'Normal_2282.png', 'Normal_2283.png', 'Normal_2284.png', 'Normal_2285.png', 'Normal_2286.png', 'Normal_2287.png', 'Normal_2288.png', 'Normal_2289.png', 'Normal_2290.png', 'Normal_2291.png', 'Normal_2292.png', 'Normal_2293.png', 'Normal_2294.png', 'Normal_2295.png', 'Normal_2296.png', 'Normal_2297.png', 'Normal_2298.png', 'Normal_2299.png', 'Normal_2300.png', 'Normal_2301.png', 'Normal_2302.png', 'Normal_2303.png', 'Normal_2304.png', 'Normal_2305.png', 'Normal_2306.png', 'Normal_2307.png', 'Normal_2308.png', 'Normal_2309.png', 'Normal_2310.png', 'Normal_2311.png', 'Normal_2312.png', 'Normal_2313.png', 'Normal_2314.png', 'Normal_2315.png', 'Normal_2316.png', 'Normal_2317.png', 'Normal_2318.png', 'Normal_2319.png', 'Normal_2320.png', 'Normal_2321.png', 'Normal_2322.png', 'Normal_2323.png', 'Normal_2324.png', 'Normal_2325.png', 'Normal_2326.png', 'Normal_2327.png', 'Normal_2328.png', 'Normal_2329.png', 'Normal_2330.png', 'Normal_2331.png', 'Normal_2332.png', 'Normal_2333.png', 'Normal_2334.png', 'Normal_2335.png', 'Normal_2336.png', 'Normal_2337.png', 'Normal_2338.png', 'Normal_2339.png', 'Normal_2340.png', 'Normal_2341.png', 'Normal_2342.png', 'Normal_2343.png', 'Normal_2344.png', 'Normal_2345.png', 'Normal_2346.png', 'Normal_2347.png', 'Normal_2348.png', 'Normal_2349.png', 'Normal_2350.png', 'Normal_2351.png', 'Normal_2352.png', 'Normal_2353.png', 'Normal_2354.png', 'Normal_2355.png', 'Normal_2356.png', 'Normal_2357.png', 'Normal_2358.png', 'Normal_2359.png', 'Normal_2360.png', 'Normal_2361.png', 'Normal_2362.png', 'Normal_2363.png', 'Normal_2364.png', 'Normal_2365.png', 'Normal_2366.png', 'Normal_2367.png', 'Normal_2368.png', 'Normal_2369.png', 'Normal_2370.png', 'Normal_2371.png', 'Normal_2372.png', 'Normal_2373.png', 'Normal_2374.png', 'Normal_2375.png', 'Normal_2376.png', 'Normal_2377.png', 'Normal_2378.png', 'Normal_2379.png', 'Normal_2380.png', 'Normal_2381.png', 'Normal_2382.png', 'Normal_2383.png', 'Normal_2384.png', 'Normal_2385.png', 'Normal_2386.png', 'Normal_2387.png', 'Normal_2388.png', 'Normal_2389.png', 'Normal_2390.png', 'Normal_2391.png', 'Normal_2392.png', 'Normal_2393.png', 'Normal_2394.png', 'Normal_2395.png', 'Normal_2396.png', 'Normal_2397.png', 'Normal_2398.png', 'Normal_2399.png', 'Normal_2400.png', 'Normal_2401.png', 'Normal_2402.png', 'Normal_2403.png', 'Normal_2404.png', 'Normal_2405.png', 'Normal_2406.png', 'Normal_2407.png', 'Normal_2408.png', 'Normal_2409.png', 'Normal_2410.png', 'Normal_2411.png', 'Normal_2412.png', 'Normal_2413.png', 'Normal_2414.png', 'Normal_2415.png', 'Normal_2416.png', 'Normal_2417.png', 'Normal_2418.png', 'Normal_2419.png', 'Normal_2420.png', 'Normal_2421.png', 'Normal_2422.png', 'Normal_2423.png', 'Normal_2424.png', 'Normal_2425.png', 'Normal_2426.png', 'Normal_2427.png', 'Normal_2428.png', 'Normal_2429.png', 'Normal_2430.png', 'Normal_2431.png', 'Normal_2432.png', 'Normal_2433.png', 'Normal_2434.png', 'Normal_2435.png', 'Normal_2436.png', 'Normal_2437.png', 'Normal_2438.png', 'Normal_2439.png', 'Normal_2440.png', 'Normal_2441.png', 'Normal_2442.png', 'Normal_2443.png', 'Normal_2444.png', 'Normal_2445.png', 'Normal_2446.png', 'Normal_2447.png', 'Normal_2448.png', 'Normal_2449.png', 'Normal_2450.png', 'Normal_2451.png', 'Normal_2452.png', 'Normal_2453.png', 'Normal_2454.png', 'Normal_2455.png', 'Normal_2456.png', 'Normal_2457.png', 'Normal_2458.png', 'Normal_2459.png', 'Normal_2460.png', 'Normal_2461.png', 'Normal_2462.png', 'Normal_2463.png', 'Normal_2464.png', 'Normal_2465.png', 'Normal_2466.png', 'Normal_2467.png', 'Normal_2468.png', 'Normal_2469.png', 'Normal_2470.png', 'Normal_2471.png', 'Normal_2472.png', 'Normal_2473.png', 'Normal_2474.png', 'Normal_2475.png', 'Normal_2476.png', 'Normal_2477.png', 'Normal_2478.png', 'Normal_2479.png', 'Normal_2480.png', 'Normal_2481.png', 'Normal_2482.png', 'Normal_2483.png', 'Normal_2484.png', 'Normal_2485.png', 'Normal_2486.png', 'Normal_2487.png', 'Normal_2488.png', 'Normal_2489.png', 'Normal_2490.png', 'Normal_2491.png', 'Normal_2492.png', 'Normal_2493.png', 'Normal_2494.png', 'Normal_2495.png', 'Normal_2496.png', 'Normal_2497.png', 'Normal_2498.png', 'Normal_2499.png', 'Normal_2500.png', 'Normal_2501.png', 'Normal_2502.png', 'Normal_2503.png', 'Normal_2504.png', 'Normal_2505.png', 'Normal_2506.png', 'Normal_2507.png', 'Normal_2508.png', 'Normal_2509.png', 'Normal_2510.png', 'Normal_2511.png']\n"
          ]
        }
      ]
    },
    {
      "cell_type": "code",
      "source": [
        "import os\n",
        "\n",
        "folder = r'/content/drive/MyDrive/Deep Learning Project/Menu_Aug/Gray/Monkeypox/'\n",
        "count =1675\n",
        "# count increase by 1 in each iteration\n",
        "# iterate all files from a directory\n",
        "for file_name in os.listdir(folder):\n",
        "    # Construct old file name\n",
        "    source = folder + file_name\n",
        "\n",
        "    # Adding the count to the new file name and extension\n",
        "    destination = folder + \"Monkeypox_\" + str(count) + \".png\"\n",
        "\n",
        "    # Renaming the file\n",
        "    os.rename(source, destination)\n",
        "    count += 1\n",
        "print('All Files Renamed')\n",
        "\n",
        "print('New Names are')\n",
        "# verify the result\n",
        "res = os.listdir(folder)\n",
        "print(res)"
      ],
      "metadata": {
        "colab": {
          "base_uri": "https://localhost:8080/"
        },
        "id": "RDNZRuqgu480",
        "outputId": "e9423ada-a5ae-4b96-e90b-70782e00346a"
      },
      "execution_count": null,
      "outputs": [
        {
          "output_type": "stream",
          "name": "stdout",
          "text": [
            "All Files Renamed\n",
            "New Names are\n",
            "['Monkeypox_1675.png', 'Monkeypox_1676.png', 'Monkeypox_1677.png', 'Monkeypox_1678.png', 'Monkeypox_1679.png', 'Monkeypox_1680.png', 'Monkeypox_1681.png', 'Monkeypox_1682.png', 'Monkeypox_1683.png', 'Monkeypox_1684.png', 'Monkeypox_1685.png', 'Monkeypox_1686.png', 'Monkeypox_1687.png', 'Monkeypox_1688.png', 'Monkeypox_1689.png', 'Monkeypox_1690.png', 'Monkeypox_1691.png', 'Monkeypox_1692.png', 'Monkeypox_1693.png', 'Monkeypox_1694.png', 'Monkeypox_1695.png', 'Monkeypox_1696.png', 'Monkeypox_1697.png', 'Monkeypox_1698.png', 'Monkeypox_1699.png', 'Monkeypox_1700.png', 'Monkeypox_1701.png', 'Monkeypox_1702.png', 'Monkeypox_1703.png', 'Monkeypox_1704.png', 'Monkeypox_1705.png', 'Monkeypox_1706.png', 'Monkeypox_1707.png', 'Monkeypox_1708.png', 'Monkeypox_1709.png', 'Monkeypox_1710.png', 'Monkeypox_1711.png', 'Monkeypox_1712.png', 'Monkeypox_1713.png', 'Monkeypox_1714.png', 'Monkeypox_1715.png', 'Monkeypox_1716.png', 'Monkeypox_1717.png', 'Monkeypox_1718.png', 'Monkeypox_1719.png', 'Monkeypox_1720.png', 'Monkeypox_1721.png', 'Monkeypox_1722.png', 'Monkeypox_1723.png', 'Monkeypox_1724.png', 'Monkeypox_1725.png', 'Monkeypox_1726.png', 'Monkeypox_1727.png', 'Monkeypox_1728.png', 'Monkeypox_1729.png', 'Monkeypox_1730.png', 'Monkeypox_1731.png', 'Monkeypox_1732.png', 'Monkeypox_1733.png', 'Monkeypox_1734.png', 'Monkeypox_1735.png', 'Monkeypox_1736.png', 'Monkeypox_1737.png', 'Monkeypox_1738.png', 'Monkeypox_1739.png', 'Monkeypox_1740.png', 'Monkeypox_1741.png', 'Monkeypox_1742.png', 'Monkeypox_1743.png', 'Monkeypox_1744.png', 'Monkeypox_1745.png', 'Monkeypox_1746.png', 'Monkeypox_1747.png', 'Monkeypox_1748.png', 'Monkeypox_1749.png', 'Monkeypox_1750.png', 'Monkeypox_1751.png', 'Monkeypox_1752.png', 'Monkeypox_1753.png', 'Monkeypox_1754.png', 'Monkeypox_1755.png', 'Monkeypox_1756.png', 'Monkeypox_1757.png', 'Monkeypox_1758.png', 'Monkeypox_1759.png', 'Monkeypox_1760.png', 'Monkeypox_1761.png', 'Monkeypox_1762.png', 'Monkeypox_1763.png', 'Monkeypox_1764.png', 'Monkeypox_1765.png', 'Monkeypox_1766.png', 'Monkeypox_1767.png', 'Monkeypox_1768.png', 'Monkeypox_1769.png', 'Monkeypox_1770.png', 'Monkeypox_1771.png', 'Monkeypox_1772.png', 'Monkeypox_1773.png', 'Monkeypox_1774.png', 'Monkeypox_1775.png', 'Monkeypox_1776.png', 'Monkeypox_1777.png', 'Monkeypox_1778.png', 'Monkeypox_1779.png', 'Monkeypox_1780.png', 'Monkeypox_1781.png', 'Monkeypox_1782.png', 'Monkeypox_1783.png', 'Monkeypox_1784.png', 'Monkeypox_1785.png', 'Monkeypox_1786.png', 'Monkeypox_1787.png', 'Monkeypox_1788.png', 'Monkeypox_1789.png', 'Monkeypox_1790.png', 'Monkeypox_1791.png', 'Monkeypox_1792.png', 'Monkeypox_1793.png', 'Monkeypox_1794.png', 'Monkeypox_1795.png', 'Monkeypox_1796.png', 'Monkeypox_1797.png', 'Monkeypox_1798.png', 'Monkeypox_1799.png', 'Monkeypox_1800.png', 'Monkeypox_1801.png', 'Monkeypox_1802.png', 'Monkeypox_1803.png', 'Monkeypox_1804.png', 'Monkeypox_1805.png', 'Monkeypox_1806.png', 'Monkeypox_1807.png', 'Monkeypox_1808.png', 'Monkeypox_1809.png', 'Monkeypox_1810.png', 'Monkeypox_1811.png', 'Monkeypox_1812.png', 'Monkeypox_1813.png', 'Monkeypox_1814.png', 'Monkeypox_1815.png', 'Monkeypox_1816.png', 'Monkeypox_1817.png', 'Monkeypox_1818.png', 'Monkeypox_1819.png', 'Monkeypox_1820.png', 'Monkeypox_1821.png', 'Monkeypox_1822.png', 'Monkeypox_1823.png', 'Monkeypox_1824.png', 'Monkeypox_1825.png', 'Monkeypox_1826.png', 'Monkeypox_1827.png', 'Monkeypox_1828.png', 'Monkeypox_1829.png', 'Monkeypox_1830.png', 'Monkeypox_1831.png', 'Monkeypox_1832.png', 'Monkeypox_1833.png', 'Monkeypox_1834.png', 'Monkeypox_1835.png', 'Monkeypox_1836.png', 'Monkeypox_1837.png', 'Monkeypox_1838.png', 'Monkeypox_1839.png', 'Monkeypox_1840.png', 'Monkeypox_1841.png', 'Monkeypox_1842.png', 'Monkeypox_1843.png', 'Monkeypox_1844.png', 'Monkeypox_1845.png', 'Monkeypox_1846.png', 'Monkeypox_1847.png', 'Monkeypox_1848.png', 'Monkeypox_1849.png', 'Monkeypox_1850.png', 'Monkeypox_1851.png', 'Monkeypox_1852.png', 'Monkeypox_1853.png', 'Monkeypox_1854.png', 'Monkeypox_1855.png', 'Monkeypox_1856.png', 'Monkeypox_1857.png', 'Monkeypox_1858.png', 'Monkeypox_1859.png', 'Monkeypox_1860.png', 'Monkeypox_1861.png', 'Monkeypox_1862.png', 'Monkeypox_1863.png', 'Monkeypox_1864.png', 'Monkeypox_1865.png', 'Monkeypox_1866.png', 'Monkeypox_1867.png', 'Monkeypox_1868.png', 'Monkeypox_1869.png', 'Monkeypox_1870.png', 'Monkeypox_1871.png', 'Monkeypox_1872.png', 'Monkeypox_1873.png', 'Monkeypox_1874.png', 'Monkeypox_1875.png', 'Monkeypox_1876.png', 'Monkeypox_1877.png', 'Monkeypox_1878.png', 'Monkeypox_1879.png', 'Monkeypox_1880.png', 'Monkeypox_1881.png', 'Monkeypox_1882.png', 'Monkeypox_1883.png', 'Monkeypox_1884.png', 'Monkeypox_1885.png', 'Monkeypox_1886.png', 'Monkeypox_1887.png', 'Monkeypox_1888.png', 'Monkeypox_1889.png', 'Monkeypox_1890.png', 'Monkeypox_1891.png', 'Monkeypox_1892.png', 'Monkeypox_1893.png', 'Monkeypox_1894.png', 'Monkeypox_1895.png', 'Monkeypox_1896.png', 'Monkeypox_1897.png', 'Monkeypox_1898.png', 'Monkeypox_1899.png', 'Monkeypox_1900.png', 'Monkeypox_1901.png', 'Monkeypox_1902.png', 'Monkeypox_1903.png', 'Monkeypox_1904.png', 'Monkeypox_1905.png', 'Monkeypox_1906.png', 'Monkeypox_1907.png', 'Monkeypox_1908.png', 'Monkeypox_1909.png', 'Monkeypox_1910.png', 'Monkeypox_1911.png', 'Monkeypox_1912.png', 'Monkeypox_1913.png', 'Monkeypox_1914.png', 'Monkeypox_1915.png', 'Monkeypox_1916.png', 'Monkeypox_1917.png', 'Monkeypox_1918.png', 'Monkeypox_1919.png', 'Monkeypox_1920.png', 'Monkeypox_1921.png', 'Monkeypox_1922.png', 'Monkeypox_1923.png', 'Monkeypox_1924.png', 'Monkeypox_1925.png', 'Monkeypox_1926.png', 'Monkeypox_1927.png', 'Monkeypox_1928.png', 'Monkeypox_1929.png', 'Monkeypox_1930.png', 'Monkeypox_1931.png', 'Monkeypox_1932.png', 'Monkeypox_1933.png', 'Monkeypox_1934.png', 'Monkeypox_1935.png', 'Monkeypox_1936.png', 'Monkeypox_1937.png', 'Monkeypox_1938.png', 'Monkeypox_1939.png', 'Monkeypox_1940.png', 'Monkeypox_1941.png', 'Monkeypox_1942.png', 'Monkeypox_1943.png', 'Monkeypox_1944.png', 'Monkeypox_1945.png', 'Monkeypox_1946.png', 'Monkeypox_1947.png', 'Monkeypox_1948.png', 'Monkeypox_1949.png', 'Monkeypox_1950.png', 'Monkeypox_1951.png', 'Monkeypox_1952.png', 'Monkeypox_1953.png', 'Monkeypox_1954.png', 'Monkeypox_1955.png', 'Monkeypox_1956.png', 'Monkeypox_1957.png', 'Monkeypox_1958.png', 'Monkeypox_1959.png', 'Monkeypox_1960.png', 'Monkeypox_1961.png', 'Monkeypox_1962.png', 'Monkeypox_1963.png', 'Monkeypox_1964.png', 'Monkeypox_1965.png', 'Monkeypox_1966.png', 'Monkeypox_1967.png', 'Monkeypox_1968.png', 'Monkeypox_1969.png', 'Monkeypox_1970.png', 'Monkeypox_1971.png', 'Monkeypox_1972.png', 'Monkeypox_1973.png', 'Monkeypox_1974.png', 'Monkeypox_1975.png', 'Monkeypox_1976.png', 'Monkeypox_1977.png', 'Monkeypox_1978.png', 'Monkeypox_1979.png', 'Monkeypox_1980.png', 'Monkeypox_1981.png', 'Monkeypox_1982.png', 'Monkeypox_1983.png', 'Monkeypox_1984.png', 'Monkeypox_1985.png', 'Monkeypox_1986.png', 'Monkeypox_1987.png', 'Monkeypox_1988.png', 'Monkeypox_1989.png', 'Monkeypox_1990.png', 'Monkeypox_1991.png', 'Monkeypox_1992.png', 'Monkeypox_1993.png', 'Monkeypox_1994.png', 'Monkeypox_1995.png', 'Monkeypox_1996.png', 'Monkeypox_1997.png', 'Monkeypox_1998.png', 'Monkeypox_1999.png', 'Monkeypox_2000.png', 'Monkeypox_2001.png', 'Monkeypox_2002.png', 'Monkeypox_2003.png', 'Monkeypox_2004.png', 'Monkeypox_2005.png', 'Monkeypox_2006.png', 'Monkeypox_2007.png', 'Monkeypox_2008.png', 'Monkeypox_2009.png', 'Monkeypox_2010.png', 'Monkeypox_2011.png', 'Monkeypox_2012.png', 'Monkeypox_2013.png', 'Monkeypox_2014.png', 'Monkeypox_2015.png', 'Monkeypox_2016.png', 'Monkeypox_2017.png', 'Monkeypox_2018.png', 'Monkeypox_2019.png', 'Monkeypox_2020.png', 'Monkeypox_2021.png', 'Monkeypox_2022.png', 'Monkeypox_2023.png', 'Monkeypox_2024.png', 'Monkeypox_2025.png', 'Monkeypox_2026.png', 'Monkeypox_2027.png', 'Monkeypox_2028.png', 'Monkeypox_2029.png', 'Monkeypox_2030.png', 'Monkeypox_2031.png', 'Monkeypox_2032.png', 'Monkeypox_2033.png', 'Monkeypox_2034.png', 'Monkeypox_2035.png', 'Monkeypox_2036.png', 'Monkeypox_2037.png', 'Monkeypox_2038.png', 'Monkeypox_2039.png', 'Monkeypox_2040.png', 'Monkeypox_2041.png', 'Monkeypox_2042.png', 'Monkeypox_2043.png', 'Monkeypox_2044.png', 'Monkeypox_2045.png', 'Monkeypox_2046.png', 'Monkeypox_2047.png', 'Monkeypox_2048.png', 'Monkeypox_2049.png', 'Monkeypox_2050.png', 'Monkeypox_2051.png', 'Monkeypox_2052.png', 'Monkeypox_2053.png', 'Monkeypox_2054.png', 'Monkeypox_2055.png', 'Monkeypox_2056.png', 'Monkeypox_2057.png', 'Monkeypox_2058.png', 'Monkeypox_2059.png', 'Monkeypox_2060.png', 'Monkeypox_2061.png', 'Monkeypox_2062.png', 'Monkeypox_2063.png', 'Monkeypox_2064.png', 'Monkeypox_2065.png', 'Monkeypox_2066.png', 'Monkeypox_2067.png', 'Monkeypox_2068.png', 'Monkeypox_2069.png', 'Monkeypox_2070.png', 'Monkeypox_2071.png', 'Monkeypox_2072.png', 'Monkeypox_2073.png', 'Monkeypox_2074.png', 'Monkeypox_2075.png', 'Monkeypox_2076.png', 'Monkeypox_2077.png', 'Monkeypox_2078.png', 'Monkeypox_2079.png', 'Monkeypox_2080.png', 'Monkeypox_2081.png', 'Monkeypox_2082.png', 'Monkeypox_2083.png', 'Monkeypox_2084.png', 'Monkeypox_2085.png', 'Monkeypox_2086.png', 'Monkeypox_2087.png', 'Monkeypox_2088.png', 'Monkeypox_2089.png', 'Monkeypox_2090.png', 'Monkeypox_2091.png', 'Monkeypox_2092.png', 'Monkeypox_2093.png', 'Monkeypox_2094.png', 'Monkeypox_2095.png', 'Monkeypox_2096.png', 'Monkeypox_2097.png', 'Monkeypox_2098.png', 'Monkeypox_2099.png', 'Monkeypox_2100.png', 'Monkeypox_2101.png', 'Monkeypox_2102.png', 'Monkeypox_2103.png', 'Monkeypox_2104.png', 'Monkeypox_2105.png', 'Monkeypox_2106.png', 'Monkeypox_2107.png', 'Monkeypox_2108.png', 'Monkeypox_2109.png', 'Monkeypox_2110.png', 'Monkeypox_2111.png', 'Monkeypox_2112.png', 'Monkeypox_2113.png', 'Monkeypox_2114.png', 'Monkeypox_2115.png', 'Monkeypox_2116.png', 'Monkeypox_2117.png', 'Monkeypox_2118.png', 'Monkeypox_2119.png', 'Monkeypox_2120.png', 'Monkeypox_2121.png', 'Monkeypox_2122.png', 'Monkeypox_2123.png', 'Monkeypox_2124.png', 'Monkeypox_2125.png', 'Monkeypox_2126.png', 'Monkeypox_2127.png', 'Monkeypox_2128.png', 'Monkeypox_2129.png', 'Monkeypox_2130.png', 'Monkeypox_2131.png', 'Monkeypox_2132.png', 'Monkeypox_2133.png', 'Monkeypox_2134.png', 'Monkeypox_2135.png', 'Monkeypox_2136.png', 'Monkeypox_2137.png', 'Monkeypox_2138.png', 'Monkeypox_2139.png', 'Monkeypox_2140.png', 'Monkeypox_2141.png', 'Monkeypox_2142.png', 'Monkeypox_2143.png', 'Monkeypox_2144.png', 'Monkeypox_2145.png', 'Monkeypox_2146.png', 'Monkeypox_2147.png', 'Monkeypox_2148.png', 'Monkeypox_2149.png', 'Monkeypox_2150.png', 'Monkeypox_2151.png', 'Monkeypox_2152.png', 'Monkeypox_2153.png', 'Monkeypox_2154.png', 'Monkeypox_2155.png', 'Monkeypox_2156.png', 'Monkeypox_2157.png', 'Monkeypox_2158.png', 'Monkeypox_2159.png', 'Monkeypox_2160.png', 'Monkeypox_2161.png', 'Monkeypox_2162.png', 'Monkeypox_2163.png', 'Monkeypox_2164.png', 'Monkeypox_2165.png', 'Monkeypox_2166.png', 'Monkeypox_2167.png', 'Monkeypox_2168.png', 'Monkeypox_2169.png', 'Monkeypox_2170.png', 'Monkeypox_2171.png', 'Monkeypox_2172.png', 'Monkeypox_2173.png', 'Monkeypox_2174.png', 'Monkeypox_2175.png', 'Monkeypox_2176.png', 'Monkeypox_2177.png', 'Monkeypox_2178.png', 'Monkeypox_2179.png', 'Monkeypox_2180.png', 'Monkeypox_2181.png', 'Monkeypox_2182.png', 'Monkeypox_2183.png', 'Monkeypox_2184.png', 'Monkeypox_2185.png', 'Monkeypox_2186.png', 'Monkeypox_2187.png', 'Monkeypox_2188.png', 'Monkeypox_2189.png', 'Monkeypox_2190.png', 'Monkeypox_2191.png', 'Monkeypox_2192.png', 'Monkeypox_2193.png', 'Monkeypox_2194.png', 'Monkeypox_2195.png', 'Monkeypox_2196.png', 'Monkeypox_2197.png', 'Monkeypox_2198.png', 'Monkeypox_2199.png', 'Monkeypox_2200.png', 'Monkeypox_2201.png', 'Monkeypox_2202.png', 'Monkeypox_2203.png', 'Monkeypox_2204.png', 'Monkeypox_2205.png', 'Monkeypox_2206.png', 'Monkeypox_2207.png', 'Monkeypox_2208.png', 'Monkeypox_2209.png', 'Monkeypox_2210.png', 'Monkeypox_2211.png', 'Monkeypox_2212.png', 'Monkeypox_2213.png', 'Monkeypox_2214.png', 'Monkeypox_2215.png', 'Monkeypox_2216.png', 'Monkeypox_2217.png', 'Monkeypox_2218.png', 'Monkeypox_2219.png', 'Monkeypox_2220.png', 'Monkeypox_2221.png', 'Monkeypox_2222.png', 'Monkeypox_2223.png', 'Monkeypox_2224.png', 'Monkeypox_2225.png', 'Monkeypox_2226.png', 'Monkeypox_2227.png', 'Monkeypox_2228.png', 'Monkeypox_2229.png', 'Monkeypox_2230.png', 'Monkeypox_2231.png', 'Monkeypox_2232.png', 'Monkeypox_2233.png', 'Monkeypox_2234.png', 'Monkeypox_2235.png', 'Monkeypox_2236.png', 'Monkeypox_2237.png', 'Monkeypox_2238.png', 'Monkeypox_2239.png', 'Monkeypox_2240.png', 'Monkeypox_2241.png', 'Monkeypox_2242.png', 'Monkeypox_2243.png', 'Monkeypox_2244.png', 'Monkeypox_2245.png', 'Monkeypox_2246.png', 'Monkeypox_2247.png', 'Monkeypox_2248.png', 'Monkeypox_2249.png', 'Monkeypox_2250.png', 'Monkeypox_2251.png', 'Monkeypox_2252.png', 'Monkeypox_2253.png', 'Monkeypox_2254.png', 'Monkeypox_2255.png', 'Monkeypox_2256.png', 'Monkeypox_2257.png', 'Monkeypox_2258.png', 'Monkeypox_2259.png', 'Monkeypox_2260.png', 'Monkeypox_2261.png', 'Monkeypox_2262.png', 'Monkeypox_2263.png', 'Monkeypox_2264.png', 'Monkeypox_2265.png', 'Monkeypox_2266.png', 'Monkeypox_2267.png', 'Monkeypox_2268.png', 'Monkeypox_2269.png', 'Monkeypox_2270.png', 'Monkeypox_2271.png', 'Monkeypox_2272.png', 'Monkeypox_2273.png', 'Monkeypox_2274.png', 'Monkeypox_2275.png', 'Monkeypox_2276.png', 'Monkeypox_2277.png', 'Monkeypox_2278.png', 'Monkeypox_2279.png', 'Monkeypox_2280.png', 'Monkeypox_2281.png', 'Monkeypox_2282.png', 'Monkeypox_2283.png', 'Monkeypox_2284.png', 'Monkeypox_2285.png', 'Monkeypox_2286.png', 'Monkeypox_2287.png', 'Monkeypox_2288.png', 'Monkeypox_2289.png', 'Monkeypox_2290.png', 'Monkeypox_2291.png', 'Monkeypox_2292.png', 'Monkeypox_2293.png', 'Monkeypox_2294.png', 'Monkeypox_2295.png', 'Monkeypox_2296.png', 'Monkeypox_2297.png', 'Monkeypox_2298.png', 'Monkeypox_2299.png', 'Monkeypox_2300.png', 'Monkeypox_2301.png', 'Monkeypox_2302.png', 'Monkeypox_2303.png', 'Monkeypox_2304.png', 'Monkeypox_2305.png', 'Monkeypox_2306.png', 'Monkeypox_2307.png', 'Monkeypox_2308.png', 'Monkeypox_2309.png', 'Monkeypox_2310.png', 'Monkeypox_2311.png', 'Monkeypox_2312.png', 'Monkeypox_2313.png', 'Monkeypox_2314.png', 'Monkeypox_2315.png', 'Monkeypox_2316.png', 'Monkeypox_2317.png', 'Monkeypox_2318.png', 'Monkeypox_2319.png', 'Monkeypox_2320.png', 'Monkeypox_2321.png', 'Monkeypox_2322.png', 'Monkeypox_2323.png', 'Monkeypox_2324.png', 'Monkeypox_2325.png', 'Monkeypox_2326.png', 'Monkeypox_2327.png', 'Monkeypox_2328.png', 'Monkeypox_2329.png', 'Monkeypox_2330.png', 'Monkeypox_2331.png', 'Monkeypox_2332.png', 'Monkeypox_2333.png', 'Monkeypox_2334.png', 'Monkeypox_2335.png', 'Monkeypox_2336.png', 'Monkeypox_2337.png', 'Monkeypox_2338.png', 'Monkeypox_2339.png', 'Monkeypox_2340.png', 'Monkeypox_2341.png', 'Monkeypox_2342.png', 'Monkeypox_2343.png', 'Monkeypox_2344.png', 'Monkeypox_2345.png', 'Monkeypox_2346.png', 'Monkeypox_2347.png', 'Monkeypox_2348.png', 'Monkeypox_2349.png', 'Monkeypox_2350.png', 'Monkeypox_2351.png', 'Monkeypox_2352.png', 'Monkeypox_2353.png', 'Monkeypox_2354.png', 'Monkeypox_2355.png', 'Monkeypox_2356.png', 'Monkeypox_2357.png', 'Monkeypox_2358.png', 'Monkeypox_2359.png', 'Monkeypox_2360.png', 'Monkeypox_2361.png', 'Monkeypox_2362.png', 'Monkeypox_2363.png', 'Monkeypox_2364.png', 'Monkeypox_2365.png', 'Monkeypox_2366.png', 'Monkeypox_2367.png', 'Monkeypox_2368.png', 'Monkeypox_2369.png', 'Monkeypox_2370.png', 'Monkeypox_2371.png', 'Monkeypox_2372.png', 'Monkeypox_2373.png', 'Monkeypox_2374.png', 'Monkeypox_2375.png', 'Monkeypox_2376.png', 'Monkeypox_2377.png', 'Monkeypox_2378.png', 'Monkeypox_2379.png', 'Monkeypox_2380.png', 'Monkeypox_2381.png', 'Monkeypox_2382.png', 'Monkeypox_2383.png', 'Monkeypox_2384.png', 'Monkeypox_2385.png', 'Monkeypox_2386.png', 'Monkeypox_2387.png', 'Monkeypox_2388.png', 'Monkeypox_2389.png', 'Monkeypox_2390.png', 'Monkeypox_2391.png', 'Monkeypox_2392.png', 'Monkeypox_2393.png', 'Monkeypox_2394.png', 'Monkeypox_2395.png', 'Monkeypox_2396.png', 'Monkeypox_2397.png', 'Monkeypox_2398.png', 'Monkeypox_2399.png', 'Monkeypox_2400.png', 'Monkeypox_2401.png', 'Monkeypox_2402.png', 'Monkeypox_2403.png', 'Monkeypox_2404.png', 'Monkeypox_2405.png', 'Monkeypox_2406.png', 'Monkeypox_2407.png', 'Monkeypox_2408.png', 'Monkeypox_2409.png', 'Monkeypox_2410.png', 'Monkeypox_2411.png', 'Monkeypox_2412.png', 'Monkeypox_2413.png', 'Monkeypox_2414.png', 'Monkeypox_2415.png', 'Monkeypox_2416.png', 'Monkeypox_2417.png', 'Monkeypox_2418.png', 'Monkeypox_2419.png', 'Monkeypox_2420.png', 'Monkeypox_2421.png', 'Monkeypox_2422.png', 'Monkeypox_2423.png', 'Monkeypox_2424.png', 'Monkeypox_2425.png', 'Monkeypox_2426.png', 'Monkeypox_2427.png', 'Monkeypox_2428.png', 'Monkeypox_2429.png', 'Monkeypox_2430.png', 'Monkeypox_2431.png', 'Monkeypox_2432.png', 'Monkeypox_2433.png', 'Monkeypox_2434.png', 'Monkeypox_2435.png', 'Monkeypox_2436.png', 'Monkeypox_2437.png', 'Monkeypox_2438.png', 'Monkeypox_2439.png', 'Monkeypox_2440.png', 'Monkeypox_2441.png', 'Monkeypox_2442.png', 'Monkeypox_2443.png', 'Monkeypox_2444.png', 'Monkeypox_2445.png', 'Monkeypox_2446.png', 'Monkeypox_2447.png', 'Monkeypox_2448.png', 'Monkeypox_2449.png', 'Monkeypox_2450.png', 'Monkeypox_2451.png', 'Monkeypox_2452.png', 'Monkeypox_2453.png', 'Monkeypox_2454.png', 'Monkeypox_2455.png', 'Monkeypox_2456.png', 'Monkeypox_2457.png', 'Monkeypox_2458.png', 'Monkeypox_2459.png', 'Monkeypox_2460.png', 'Monkeypox_2461.png', 'Monkeypox_2462.png', 'Monkeypox_2463.png', 'Monkeypox_2464.png', 'Monkeypox_2465.png', 'Monkeypox_2466.png', 'Monkeypox_2467.png', 'Monkeypox_2468.png', 'Monkeypox_2469.png', 'Monkeypox_2470.png', 'Monkeypox_2471.png', 'Monkeypox_2472.png', 'Monkeypox_2473.png', 'Monkeypox_2474.png', 'Monkeypox_2475.png', 'Monkeypox_2476.png', 'Monkeypox_2477.png', 'Monkeypox_2478.png', 'Monkeypox_2479.png', 'Monkeypox_2480.png', 'Monkeypox_2481.png', 'Monkeypox_2482.png', 'Monkeypox_2483.png', 'Monkeypox_2484.png', 'Monkeypox_2485.png', 'Monkeypox_2486.png', 'Monkeypox_2487.png', 'Monkeypox_2488.png', 'Monkeypox_2489.png', 'Monkeypox_2490.png', 'Monkeypox_2491.png', 'Monkeypox_2492.png', 'Monkeypox_2493.png', 'Monkeypox_2494.png', 'Monkeypox_2495.png', 'Monkeypox_2496.png', 'Monkeypox_2497.png', 'Monkeypox_2498.png', 'Monkeypox_2499.png', 'Monkeypox_2500.png', 'Monkeypox_2501.png', 'Monkeypox_2502.png', 'Monkeypox_2503.png', 'Monkeypox_2504.png', 'Monkeypox_2505.png', 'Monkeypox_2506.png', 'Monkeypox_2507.png', 'Monkeypox_2508.png', 'Monkeypox_2509.png', 'Monkeypox_2510.png', 'Monkeypox_2511.png']\n"
          ]
        }
      ]
    },
    {
      "cell_type": "code",
      "source": [
        "chicken_input_path ='/content/drive/MyDrive/Deep Learning Project/Menu_Aug/step1/Normal/'\n",
        "chicken_output_path ='/content/drive/MyDrive/Deep Learning Project/Menu_Aug/Gray/Normal/'\n",
        "chicken_input_images = listdir(chicken_input_path)\n",
        "chicken_input_images.sort()\n",
        "for i in chicken_input_images:\n",
        "  gray_aug =  A.augmentations.transforms.ToGray()\n",
        "for i in chicken_input_images:\n",
        "    path2img = chicken_input_path + i\n",
        "    img = read_image(path2img)\n",
        "    aimg = augment_and_return(gray_aug,img)\n",
        "    save_augment_img(aimg,i,chicken_output_path)\n",
        "\n",
        "import os\n",
        "\n",
        "folder = r'/content/drive/MyDrive/Deep Learning Project/Menu_Aug/Gray/Normal/'\n",
        "count = 1759\n",
        "# count increase by 1 in each iteration\n",
        "# iterate all files from a directory\n",
        "for file_name in os.listdir(folder):\n",
        "    # Construct old file name\n",
        "    source = folder + file_name\n",
        "\n",
        "    # Adding the count to the new file name and extension\n",
        "    destination = folder + \"Normal_\" + str(count) + \".png\"\n",
        "\n",
        "    # Renaming the file\n",
        "    os.rename(source, destination)\n",
        "    count += 1\n",
        "print('All Files Renamed')\n",
        "\n",
        "print('New Names are')\n",
        "# verify the result\n",
        "res = os.listdir(folder)\n",
        "print(res)"
      ],
      "metadata": {
        "colab": {
          "base_uri": "https://localhost:8080/"
        },
        "id": "i6KEbv3yji3t",
        "outputId": "0c3173e8-e625-4b89-9ee7-13a1ab790417"
      },
      "execution_count": null,
      "outputs": [
        {
          "output_type": "stream",
          "name": "stdout",
          "text": [
            "All Files Renamed\n",
            "New Names are\n",
            "['Normal_1759.png', 'Normal_1760.png', 'Normal_1761.png', 'Normal_1762.png', 'Normal_1763.png', 'Normal_1764.png', 'Normal_1765.png', 'Normal_1766.png', 'Normal_1767.png', 'Normal_1768.png', 'Normal_1769.png', 'Normal_1770.png', 'Normal_1771.png', 'Normal_1772.png', 'Normal_1773.png', 'Normal_1774.png', 'Normal_1775.png', 'Normal_1776.png', 'Normal_1777.png', 'Normal_1778.png', 'Normal_1779.png', 'Normal_1780.png', 'Normal_1781.png', 'Normal_1782.png', 'Normal_1783.png', 'Normal_1784.png', 'Normal_1785.png', 'Normal_1786.png', 'Normal_1787.png', 'Normal_1788.png', 'Normal_1789.png', 'Normal_1790.png', 'Normal_1791.png', 'Normal_1792.png', 'Normal_1793.png', 'Normal_1794.png', 'Normal_1795.png', 'Normal_1796.png', 'Normal_1797.png', 'Normal_1798.png', 'Normal_1799.png', 'Normal_1800.png', 'Normal_1801.png', 'Normal_1802.png', 'Normal_1803.png', 'Normal_1804.png', 'Normal_1805.png', 'Normal_1806.png', 'Normal_1807.png', 'Normal_1808.png', 'Normal_1809.png', 'Normal_1810.png', 'Normal_1811.png', 'Normal_1812.png', 'Normal_1813.png', 'Normal_1814.png', 'Normal_1815.png', 'Normal_1816.png', 'Normal_1817.png', 'Normal_1818.png', 'Normal_1819.png', 'Normal_1820.png', 'Normal_1821.png', 'Normal_1822.png', 'Normal_1823.png', 'Normal_1824.png', 'Normal_1825.png', 'Normal_1826.png', 'Normal_1827.png', 'Normal_1828.png', 'Normal_1829.png', 'Normal_1830.png', 'Normal_1831.png', 'Normal_1832.png', 'Normal_1833.png', 'Normal_1834.png', 'Normal_1835.png', 'Normal_1836.png', 'Normal_1837.png', 'Normal_1838.png', 'Normal_1839.png', 'Normal_1840.png', 'Normal_1841.png', 'Normal_1842.png', 'Normal_1843.png', 'Normal_1844.png', 'Normal_1845.png', 'Normal_1846.png', 'Normal_1847.png', 'Normal_1848.png', 'Normal_1849.png', 'Normal_1850.png', 'Normal_1851.png', 'Normal_1852.png', 'Normal_1853.png', 'Normal_1854.png', 'Normal_1855.png', 'Normal_1856.png', 'Normal_1857.png', 'Normal_1858.png', 'Normal_1859.png', 'Normal_1860.png', 'Normal_1861.png', 'Normal_1862.png', 'Normal_1863.png', 'Normal_1864.png', 'Normal_1865.png', 'Normal_1866.png', 'Normal_1867.png', 'Normal_1868.png', 'Normal_1869.png', 'Normal_1870.png', 'Normal_1871.png', 'Normal_1872.png', 'Normal_1873.png', 'Normal_1874.png', 'Normal_1875.png', 'Normal_1876.png', 'Normal_1877.png', 'Normal_1878.png', 'Normal_1879.png', 'Normal_1880.png', 'Normal_1881.png', 'Normal_1882.png', 'Normal_1883.png', 'Normal_1884.png', 'Normal_1885.png', 'Normal_1886.png', 'Normal_1887.png', 'Normal_1888.png', 'Normal_1889.png', 'Normal_1890.png', 'Normal_1891.png', 'Normal_1892.png', 'Normal_1893.png', 'Normal_1894.png', 'Normal_1895.png', 'Normal_1896.png', 'Normal_1897.png', 'Normal_1898.png', 'Normal_1899.png', 'Normal_1900.png', 'Normal_1901.png', 'Normal_1902.png', 'Normal_1903.png', 'Normal_1904.png', 'Normal_1905.png', 'Normal_1906.png', 'Normal_1907.png', 'Normal_1908.png', 'Normal_1909.png', 'Normal_1910.png', 'Normal_1911.png', 'Normal_1912.png', 'Normal_1913.png', 'Normal_1914.png', 'Normal_1915.png', 'Normal_1916.png', 'Normal_1917.png', 'Normal_1918.png', 'Normal_1919.png', 'Normal_1920.png', 'Normal_1921.png', 'Normal_1922.png', 'Normal_1923.png', 'Normal_1924.png', 'Normal_1925.png', 'Normal_1926.png', 'Normal_1927.png', 'Normal_1928.png', 'Normal_1929.png', 'Normal_1930.png', 'Normal_1931.png', 'Normal_1932.png', 'Normal_1933.png', 'Normal_1934.png', 'Normal_1935.png', 'Normal_1936.png', 'Normal_1937.png', 'Normal_1938.png', 'Normal_1939.png', 'Normal_1940.png', 'Normal_1941.png', 'Normal_1942.png', 'Normal_1943.png', 'Normal_1944.png', 'Normal_1945.png', 'Normal_1946.png', 'Normal_1947.png', 'Normal_1948.png', 'Normal_1949.png', 'Normal_1950.png', 'Normal_1951.png', 'Normal_1952.png', 'Normal_1953.png', 'Normal_1954.png', 'Normal_1955.png', 'Normal_1956.png', 'Normal_1957.png', 'Normal_1958.png', 'Normal_1959.png', 'Normal_1960.png', 'Normal_1961.png', 'Normal_1962.png', 'Normal_1963.png', 'Normal_1964.png', 'Normal_1965.png', 'Normal_1966.png', 'Normal_1967.png', 'Normal_1968.png', 'Normal_1969.png', 'Normal_1970.png', 'Normal_1971.png', 'Normal_1972.png', 'Normal_1973.png', 'Normal_1974.png', 'Normal_1975.png', 'Normal_1976.png', 'Normal_1977.png', 'Normal_1978.png', 'Normal_1979.png', 'Normal_1980.png', 'Normal_1981.png', 'Normal_1982.png', 'Normal_1983.png', 'Normal_1984.png', 'Normal_1985.png', 'Normal_1986.png', 'Normal_1987.png', 'Normal_1988.png', 'Normal_1989.png', 'Normal_1990.png', 'Normal_1991.png', 'Normal_1992.png', 'Normal_1993.png', 'Normal_1994.png', 'Normal_1995.png', 'Normal_1996.png', 'Normal_1997.png', 'Normal_1998.png', 'Normal_1999.png', 'Normal_2000.png', 'Normal_2001.png', 'Normal_2002.png', 'Normal_2003.png', 'Normal_2004.png', 'Normal_2005.png', 'Normal_2006.png', 'Normal_2007.png', 'Normal_2008.png', 'Normal_2009.png', 'Normal_2010.png', 'Normal_2011.png', 'Normal_2012.png', 'Normal_2013.png', 'Normal_2014.png', 'Normal_2015.png', 'Normal_2016.png', 'Normal_2017.png', 'Normal_2018.png', 'Normal_2019.png', 'Normal_2020.png', 'Normal_2021.png', 'Normal_2022.png', 'Normal_2023.png', 'Normal_2024.png', 'Normal_2025.png', 'Normal_2026.png', 'Normal_2027.png', 'Normal_2028.png', 'Normal_2029.png', 'Normal_2030.png', 'Normal_2031.png', 'Normal_2032.png', 'Normal_2033.png', 'Normal_2034.png', 'Normal_2035.png', 'Normal_2036.png', 'Normal_2037.png', 'Normal_2038.png', 'Normal_2039.png', 'Normal_2040.png', 'Normal_2041.png', 'Normal_2042.png', 'Normal_2043.png', 'Normal_2044.png', 'Normal_2045.png', 'Normal_2046.png', 'Normal_2047.png', 'Normal_2048.png', 'Normal_2049.png', 'Normal_2050.png', 'Normal_2051.png', 'Normal_2052.png', 'Normal_2053.png', 'Normal_2054.png', 'Normal_2055.png', 'Normal_2056.png', 'Normal_2057.png', 'Normal_2058.png', 'Normal_2059.png', 'Normal_2060.png', 'Normal_2061.png', 'Normal_2062.png', 'Normal_2063.png', 'Normal_2064.png', 'Normal_2065.png', 'Normal_2066.png', 'Normal_2067.png', 'Normal_2068.png', 'Normal_2069.png', 'Normal_2070.png', 'Normal_2071.png', 'Normal_2072.png', 'Normal_2073.png', 'Normal_2074.png', 'Normal_2075.png', 'Normal_2076.png', 'Normal_2077.png', 'Normal_2078.png', 'Normal_2079.png', 'Normal_2080.png', 'Normal_2081.png', 'Normal_2082.png', 'Normal_2083.png', 'Normal_2084.png', 'Normal_2085.png', 'Normal_2086.png', 'Normal_2087.png', 'Normal_2088.png', 'Normal_2089.png', 'Normal_2090.png', 'Normal_2091.png', 'Normal_2092.png', 'Normal_2093.png', 'Normal_2094.png', 'Normal_2095.png', 'Normal_2096.png', 'Normal_2097.png', 'Normal_2098.png', 'Normal_2099.png', 'Normal_2100.png', 'Normal_2101.png', 'Normal_2102.png', 'Normal_2103.png', 'Normal_2104.png', 'Normal_2105.png', 'Normal_2106.png', 'Normal_2107.png', 'Normal_2108.png', 'Normal_2109.png', 'Normal_2110.png', 'Normal_2111.png', 'Normal_2112.png', 'Normal_2113.png', 'Normal_2114.png', 'Normal_2115.png', 'Normal_2116.png', 'Normal_2117.png', 'Normal_2118.png', 'Normal_2119.png', 'Normal_2120.png', 'Normal_2121.png', 'Normal_2122.png', 'Normal_2123.png', 'Normal_2124.png', 'Normal_2125.png', 'Normal_2126.png', 'Normal_2127.png', 'Normal_2128.png', 'Normal_2129.png', 'Normal_2130.png', 'Normal_2131.png', 'Normal_2132.png', 'Normal_2133.png', 'Normal_2134.png', 'Normal_2135.png', 'Normal_2136.png', 'Normal_2137.png', 'Normal_2138.png', 'Normal_2139.png', 'Normal_2140.png', 'Normal_2141.png', 'Normal_2142.png', 'Normal_2143.png', 'Normal_2144.png', 'Normal_2145.png', 'Normal_2146.png', 'Normal_2147.png', 'Normal_2148.png', 'Normal_2149.png', 'Normal_2150.png', 'Normal_2151.png', 'Normal_2152.png', 'Normal_2153.png', 'Normal_2154.png', 'Normal_2155.png', 'Normal_2156.png', 'Normal_2157.png', 'Normal_2158.png', 'Normal_2159.png', 'Normal_2160.png', 'Normal_2161.png', 'Normal_2162.png', 'Normal_2163.png', 'Normal_2164.png', 'Normal_2165.png', 'Normal_2166.png', 'Normal_2167.png', 'Normal_2168.png', 'Normal_2169.png', 'Normal_2170.png', 'Normal_2171.png', 'Normal_2172.png', 'Normal_2173.png', 'Normal_2174.png', 'Normal_2175.png', 'Normal_2176.png', 'Normal_2177.png', 'Normal_2178.png', 'Normal_2179.png', 'Normal_2180.png', 'Normal_2181.png', 'Normal_2182.png', 'Normal_2183.png', 'Normal_2184.png', 'Normal_2185.png', 'Normal_2186.png', 'Normal_2187.png', 'Normal_2188.png', 'Normal_2189.png', 'Normal_2190.png', 'Normal_2191.png', 'Normal_2192.png', 'Normal_2193.png', 'Normal_2194.png', 'Normal_2195.png', 'Normal_2196.png', 'Normal_2197.png', 'Normal_2198.png', 'Normal_2199.png', 'Normal_2200.png', 'Normal_2201.png', 'Normal_2202.png', 'Normal_2203.png', 'Normal_2204.png', 'Normal_2205.png', 'Normal_2206.png', 'Normal_2207.png', 'Normal_2208.png', 'Normal_2209.png', 'Normal_2210.png', 'Normal_2211.png', 'Normal_2212.png', 'Normal_2213.png', 'Normal_2214.png', 'Normal_2215.png', 'Normal_2216.png', 'Normal_2217.png', 'Normal_2218.png', 'Normal_2219.png', 'Normal_2220.png', 'Normal_2221.png', 'Normal_2222.png', 'Normal_2223.png', 'Normal_2224.png', 'Normal_2225.png', 'Normal_2226.png', 'Normal_2227.png', 'Normal_2228.png', 'Normal_2229.png', 'Normal_2230.png', 'Normal_2231.png', 'Normal_2232.png', 'Normal_2233.png', 'Normal_2234.png', 'Normal_2235.png', 'Normal_2236.png', 'Normal_2237.png', 'Normal_2238.png', 'Normal_2239.png', 'Normal_2240.png', 'Normal_2241.png', 'Normal_2242.png', 'Normal_2243.png', 'Normal_2244.png', 'Normal_2245.png', 'Normal_2246.png', 'Normal_2247.png', 'Normal_2248.png', 'Normal_2249.png', 'Normal_2250.png', 'Normal_2251.png', 'Normal_2252.png', 'Normal_2253.png', 'Normal_2254.png', 'Normal_2255.png', 'Normal_2256.png', 'Normal_2257.png', 'Normal_2258.png', 'Normal_2259.png', 'Normal_2260.png', 'Normal_2261.png', 'Normal_2262.png', 'Normal_2263.png', 'Normal_2264.png', 'Normal_2265.png', 'Normal_2266.png', 'Normal_2267.png', 'Normal_2268.png', 'Normal_2269.png', 'Normal_2270.png', 'Normal_2271.png', 'Normal_2272.png', 'Normal_2273.png', 'Normal_2274.png', 'Normal_2275.png', 'Normal_2276.png', 'Normal_2277.png', 'Normal_2278.png', 'Normal_2279.png', 'Normal_2280.png', 'Normal_2281.png', 'Normal_2282.png', 'Normal_2283.png', 'Normal_2284.png', 'Normal_2285.png', 'Normal_2286.png', 'Normal_2287.png', 'Normal_2288.png', 'Normal_2289.png', 'Normal_2290.png', 'Normal_2291.png', 'Normal_2292.png', 'Normal_2293.png', 'Normal_2294.png', 'Normal_2295.png', 'Normal_2296.png', 'Normal_2297.png', 'Normal_2298.png', 'Normal_2299.png', 'Normal_2300.png', 'Normal_2301.png', 'Normal_2302.png', 'Normal_2303.png', 'Normal_2304.png', 'Normal_2305.png', 'Normal_2306.png', 'Normal_2307.png', 'Normal_2308.png', 'Normal_2309.png', 'Normal_2310.png', 'Normal_2311.png', 'Normal_2312.png', 'Normal_2313.png', 'Normal_2314.png', 'Normal_2315.png', 'Normal_2316.png', 'Normal_2317.png', 'Normal_2318.png', 'Normal_2319.png', 'Normal_2320.png', 'Normal_2321.png', 'Normal_2322.png', 'Normal_2323.png', 'Normal_2324.png', 'Normal_2325.png', 'Normal_2326.png', 'Normal_2327.png', 'Normal_2328.png', 'Normal_2329.png', 'Normal_2330.png', 'Normal_2331.png', 'Normal_2332.png', 'Normal_2333.png', 'Normal_2334.png', 'Normal_2335.png', 'Normal_2336.png', 'Normal_2337.png', 'Normal_2338.png', 'Normal_2339.png', 'Normal_2340.png', 'Normal_2341.png', 'Normal_2342.png', 'Normal_2343.png', 'Normal_2344.png', 'Normal_2345.png', 'Normal_2346.png', 'Normal_2347.png', 'Normal_2348.png', 'Normal_2349.png', 'Normal_2350.png', 'Normal_2351.png', 'Normal_2352.png', 'Normal_2353.png', 'Normal_2354.png', 'Normal_2355.png', 'Normal_2356.png', 'Normal_2357.png', 'Normal_2358.png', 'Normal_2359.png', 'Normal_2360.png', 'Normal_2361.png', 'Normal_2362.png', 'Normal_2363.png', 'Normal_2364.png', 'Normal_2365.png', 'Normal_2366.png', 'Normal_2367.png', 'Normal_2368.png', 'Normal_2369.png', 'Normal_2370.png', 'Normal_2371.png', 'Normal_2372.png', 'Normal_2373.png', 'Normal_2374.png', 'Normal_2375.png', 'Normal_2376.png', 'Normal_2377.png', 'Normal_2378.png', 'Normal_2379.png', 'Normal_2380.png', 'Normal_2381.png', 'Normal_2382.png', 'Normal_2383.png', 'Normal_2384.png', 'Normal_2385.png', 'Normal_2386.png', 'Normal_2387.png', 'Normal_2388.png', 'Normal_2389.png', 'Normal_2390.png', 'Normal_2391.png', 'Normal_2392.png', 'Normal_2393.png', 'Normal_2394.png', 'Normal_2395.png', 'Normal_2396.png', 'Normal_2397.png', 'Normal_2398.png', 'Normal_2399.png', 'Normal_2400.png', 'Normal_2401.png', 'Normal_2402.png', 'Normal_2403.png', 'Normal_2404.png', 'Normal_2405.png', 'Normal_2406.png', 'Normal_2407.png', 'Normal_2408.png', 'Normal_2409.png', 'Normal_2410.png', 'Normal_2411.png', 'Normal_2412.png', 'Normal_2413.png', 'Normal_2414.png', 'Normal_2415.png', 'Normal_2416.png', 'Normal_2417.png', 'Normal_2418.png', 'Normal_2419.png', 'Normal_2420.png', 'Normal_2421.png', 'Normal_2422.png', 'Normal_2423.png', 'Normal_2424.png', 'Normal_2425.png', 'Normal_2426.png', 'Normal_2427.png', 'Normal_2428.png', 'Normal_2429.png', 'Normal_2430.png', 'Normal_2431.png', 'Normal_2432.png', 'Normal_2433.png', 'Normal_2434.png', 'Normal_2435.png', 'Normal_2436.png', 'Normal_2437.png', 'Normal_2438.png', 'Normal_2439.png', 'Normal_2440.png', 'Normal_2441.png', 'Normal_2442.png', 'Normal_2443.png', 'Normal_2444.png', 'Normal_2445.png', 'Normal_2446.png', 'Normal_2447.png', 'Normal_2448.png', 'Normal_2449.png', 'Normal_2450.png', 'Normal_2451.png', 'Normal_2452.png', 'Normal_2453.png', 'Normal_2454.png', 'Normal_2455.png', 'Normal_2456.png', 'Normal_2457.png', 'Normal_2458.png', 'Normal_2459.png', 'Normal_2460.png', 'Normal_2461.png', 'Normal_2462.png', 'Normal_2463.png', 'Normal_2464.png', 'Normal_2465.png', 'Normal_2466.png', 'Normal_2467.png', 'Normal_2468.png', 'Normal_2469.png', 'Normal_2470.png', 'Normal_2471.png', 'Normal_2472.png', 'Normal_2473.png', 'Normal_2474.png', 'Normal_2475.png', 'Normal_2476.png', 'Normal_2477.png', 'Normal_2478.png', 'Normal_2479.png', 'Normal_2480.png', 'Normal_2481.png', 'Normal_2482.png', 'Normal_2483.png', 'Normal_2484.png', 'Normal_2485.png', 'Normal_2486.png', 'Normal_2487.png', 'Normal_2488.png', 'Normal_2489.png', 'Normal_2490.png', 'Normal_2491.png', 'Normal_2492.png', 'Normal_2493.png', 'Normal_2494.png', 'Normal_2495.png', 'Normal_2496.png', 'Normal_2497.png', 'Normal_2498.png', 'Normal_2499.png', 'Normal_2500.png', 'Normal_2501.png', 'Normal_2502.png', 'Normal_2503.png', 'Normal_2504.png', 'Normal_2505.png', 'Normal_2506.png', 'Normal_2507.png', 'Normal_2508.png', 'Normal_2509.png', 'Normal_2510.png', 'Normal_2511.png', 'Normal_2512.png', 'Normal_2513.png', 'Normal_2514.png', 'Normal_2515.png', 'Normal_2516.png', 'Normal_2517.png', 'Normal_2518.png', 'Normal_2519.png', 'Normal_2520.png', 'Normal_2521.png', 'Normal_2522.png', 'Normal_2523.png', 'Normal_2524.png', 'Normal_2525.png', 'Normal_2526.png', 'Normal_2527.png', 'Normal_2528.png', 'Normal_2529.png', 'Normal_2530.png', 'Normal_2531.png', 'Normal_2532.png', 'Normal_2533.png', 'Normal_2534.png', 'Normal_2535.png', 'Normal_2536.png', 'Normal_2537.png', 'Normal_2538.png', 'Normal_2539.png', 'Normal_2540.png', 'Normal_2541.png', 'Normal_2542.png', 'Normal_2543.png', 'Normal_2544.png', 'Normal_2545.png', 'Normal_2546.png', 'Normal_2547.png', 'Normal_2548.png', 'Normal_2549.png', 'Normal_2550.png', 'Normal_2551.png', 'Normal_2552.png', 'Normal_2553.png', 'Normal_2554.png', 'Normal_2555.png', 'Normal_2556.png', 'Normal_2557.png', 'Normal_2558.png', 'Normal_2559.png', 'Normal_2560.png', 'Normal_2561.png', 'Normal_2562.png', 'Normal_2563.png', 'Normal_2564.png', 'Normal_2565.png', 'Normal_2566.png', 'Normal_2567.png', 'Normal_2568.png', 'Normal_2569.png', 'Normal_2570.png', 'Normal_2571.png', 'Normal_2572.png', 'Normal_2573.png', 'Normal_2574.png', 'Normal_2575.png', 'Normal_2576.png', 'Normal_2577.png', 'Normal_2578.png', 'Normal_2579.png', 'Normal_2580.png', 'Normal_2581.png', 'Normal_2582.png', 'Normal_2583.png', 'Normal_2584.png', 'Normal_2585.png', 'Normal_2586.png', 'Normal_2587.png', 'Normal_2588.png', 'Normal_2589.png', 'Normal_2590.png', 'Normal_2591.png', 'Normal_2592.png', 'Normal_2593.png', 'Normal_2594.png', 'Normal_2595.png', 'Normal_2596.png', 'Normal_2597.png', 'Normal_2598.png', 'Normal_2599.png', 'Normal_2600.png', 'Normal_2601.png', 'Normal_2602.png', 'Normal_2603.png', 'Normal_2604.png', 'Normal_2605.png', 'Normal_2606.png', 'Normal_2607.png', 'Normal_2608.png', 'Normal_2609.png', 'Normal_2610.png', 'Normal_2611.png', 'Normal_2612.png', 'Normal_2613.png', 'Normal_2614.png', 'Normal_2615.png', 'Normal_2616.png', 'Normal_2617.png', 'Normal_2618.png', 'Normal_2619.png', 'Normal_2620.png', 'Normal_2621.png', 'Normal_2622.png', 'Normal_2623.png', 'Normal_2624.png', 'Normal_2625.png', 'Normal_2626.png', 'Normal_2627.png', 'Normal_2628.png', 'Normal_2629.png', 'Normal_2630.png', 'Normal_2631.png', 'Normal_2632.png', 'Normal_2633.png', 'Normal_2634.png', 'Normal_2635.png', 'Normal_2636.png', 'Normal_2637.png']\n"
          ]
        }
      ]
    },
    {
      "cell_type": "markdown",
      "source": [
        "Hue-Sat"
      ],
      "metadata": {
        "id": "GmBA_I4EPlsP"
      }
    },
    {
      "cell_type": "code",
      "source": [
        "chicken_input_path ='/content/drive/MyDrive/Deep Learning Project/Menu_Aug/step1/Chickenpox/'\n",
        "chicken_output_path ='/content/drive/MyDrive/Deep Learning Project/Menu_Aug/Hue_sat/Chickenpox/'\n",
        "chicken_input_images = listdir(chicken_input_path)\n",
        "chicken_input_images.sort()\n",
        "for i in chicken_input_images:\n",
        "  huesat_aug =  A.augmentations.transforms.HueSaturationValue (hue_shift_limit=20, sat_shift_limit=30, val_shift_limit=20, always_apply=False, p=0.5)\n",
        "for i in chicken_input_images:\n",
        "    path2img = chicken_input_path + i\n",
        "    img = read_image(path2img)\n",
        "    aimg = augment_and_return(huesat_aug,img)\n",
        "    save_augment_img(aimg,i,chicken_output_path)"
      ],
      "metadata": {
        "id": "nQzlJUvfdU8p"
      },
      "execution_count": null,
      "outputs": []
    },
    {
      "cell_type": "code",
      "source": [
        "import os\n",
        "\n",
        "folder = r'/content/drive/MyDrive/Deep Learning Project/Menu_Aug/Hue_sat/Chickenpox/'\n",
        "count = 322\n",
        "# count increase by 1 in each iteration\n",
        "# iterate all files from a directory\n",
        "for file_name in os.listdir(folder):\n",
        "    # Construct old file name\n",
        "    source = folder + file_name\n",
        "\n",
        "    # Adding the count to the new file name and extension\n",
        "    destination = folder + \"Chickenpox_\" + str(count) + \".png\"\n",
        "\n",
        "    # Renaming the file\n",
        "    os.rename(source, destination)\n",
        "    count += 1\n",
        "print('All Files Renamed')\n",
        "\n",
        "print('New Names are')\n",
        "# verify the result\n",
        "res = os.listdir(folder)\n",
        "print(res)"
      ],
      "metadata": {
        "colab": {
          "base_uri": "https://localhost:8080/"
        },
        "id": "9M-exDYqg7vm",
        "outputId": "f49f4d88-9545-4ff9-d235-25dc45aabead"
      },
      "execution_count": null,
      "outputs": [
        {
          "output_type": "stream",
          "name": "stdout",
          "text": [
            "All Files Renamed\n",
            "New Names are\n",
            "['Chickenpox_322.png', 'Chickenpox_323.png', 'Chickenpox_324.png', 'Chickenpox_325.png', 'Chickenpox_326.png', 'Chickenpox_327.png', 'Chickenpox_328.png', 'Chickenpox_329.png', 'Chickenpox_330.png', 'Chickenpox_331.png', 'Chickenpox_332.png', 'Chickenpox_333.png', 'Chickenpox_334.png', 'Chickenpox_335.png', 'Chickenpox_336.png', 'Chickenpox_337.png', 'Chickenpox_338.png', 'Chickenpox_339.png', 'Chickenpox_340.png', 'Chickenpox_341.png', 'Chickenpox_342.png', 'Chickenpox_343.png', 'Chickenpox_344.png', 'Chickenpox_345.png', 'Chickenpox_346.png', 'Chickenpox_347.png', 'Chickenpox_348.png', 'Chickenpox_349.png', 'Chickenpox_350.png', 'Chickenpox_351.png', 'Chickenpox_352.png', 'Chickenpox_353.png', 'Chickenpox_354.png', 'Chickenpox_355.png', 'Chickenpox_356.png', 'Chickenpox_357.png', 'Chickenpox_358.png', 'Chickenpox_359.png', 'Chickenpox_360.png', 'Chickenpox_361.png', 'Chickenpox_362.png', 'Chickenpox_363.png', 'Chickenpox_364.png', 'Chickenpox_365.png', 'Chickenpox_366.png', 'Chickenpox_367.png', 'Chickenpox_368.png', 'Chickenpox_369.png', 'Chickenpox_370.png', 'Chickenpox_371.png', 'Chickenpox_372.png', 'Chickenpox_373.png', 'Chickenpox_374.png', 'Chickenpox_375.png', 'Chickenpox_376.png', 'Chickenpox_377.png', 'Chickenpox_378.png', 'Chickenpox_379.png', 'Chickenpox_380.png', 'Chickenpox_381.png', 'Chickenpox_382.png', 'Chickenpox_383.png', 'Chickenpox_384.png', 'Chickenpox_385.png', 'Chickenpox_386.png', 'Chickenpox_387.png', 'Chickenpox_388.png', 'Chickenpox_389.png', 'Chickenpox_390.png', 'Chickenpox_391.png', 'Chickenpox_392.png', 'Chickenpox_393.png', 'Chickenpox_394.png', 'Chickenpox_395.png', 'Chickenpox_396.png', 'Chickenpox_397.png', 'Chickenpox_398.png', 'Chickenpox_399.png', 'Chickenpox_400.png', 'Chickenpox_401.png', 'Chickenpox_402.png', 'Chickenpox_403.png', 'Chickenpox_404.png', 'Chickenpox_405.png', 'Chickenpox_406.png', 'Chickenpox_407.png', 'Chickenpox_408.png', 'Chickenpox_409.png', 'Chickenpox_410.png', 'Chickenpox_411.png', 'Chickenpox_412.png', 'Chickenpox_413.png', 'Chickenpox_414.png', 'Chickenpox_415.png', 'Chickenpox_416.png', 'Chickenpox_417.png', 'Chickenpox_418.png', 'Chickenpox_419.png', 'Chickenpox_420.png', 'Chickenpox_421.png', 'Chickenpox_422.png', 'Chickenpox_423.png', 'Chickenpox_424.png', 'Chickenpox_425.png', 'Chickenpox_426.png', 'Chickenpox_427.png', 'Chickenpox_428.png', 'Chickenpox_429.png', 'Chickenpox_430.png', 'Chickenpox_431.png', 'Chickenpox_432.png', 'Chickenpox_433.png', 'Chickenpox_434.png', 'Chickenpox_435.png', 'Chickenpox_436.png', 'Chickenpox_437.png', 'Chickenpox_438.png', 'Chickenpox_439.png', 'Chickenpox_440.png', 'Chickenpox_441.png', 'Chickenpox_442.png', 'Chickenpox_443.png', 'Chickenpox_444.png', 'Chickenpox_445.png', 'Chickenpox_446.png', 'Chickenpox_447.png', 'Chickenpox_448.png', 'Chickenpox_449.png', 'Chickenpox_450.png', 'Chickenpox_451.png', 'Chickenpox_452.png', 'Chickenpox_453.png', 'Chickenpox_454.png', 'Chickenpox_455.png', 'Chickenpox_456.png', 'Chickenpox_457.png', 'Chickenpox_458.png', 'Chickenpox_459.png', 'Chickenpox_460.png', 'Chickenpox_461.png', 'Chickenpox_462.png', 'Chickenpox_463.png', 'Chickenpox_464.png', 'Chickenpox_465.png', 'Chickenpox_466.png', 'Chickenpox_467.png', 'Chickenpox_468.png', 'Chickenpox_469.png', 'Chickenpox_470.png', 'Chickenpox_471.png', 'Chickenpox_472.png', 'Chickenpox_473.png', 'Chickenpox_474.png', 'Chickenpox_475.png', 'Chickenpox_476.png', 'Chickenpox_477.png', 'Chickenpox_478.png', 'Chickenpox_479.png', 'Chickenpox_480.png', 'Chickenpox_481.png', 'Chickenpox_482.png', 'Chickenpox_483.png', 'Chickenpox_484.png', 'Chickenpox_485.png', 'Chickenpox_486.png', 'Chickenpox_487.png', 'Chickenpox_488.png', 'Chickenpox_489.png', 'Chickenpox_490.png', 'Chickenpox_491.png', 'Chickenpox_492.png', 'Chickenpox_493.png', 'Chickenpox_494.png', 'Chickenpox_495.png', 'Chickenpox_496.png', 'Chickenpox_497.png', 'Chickenpox_498.png', 'Chickenpox_499.png', 'Chickenpox_500.png', 'Chickenpox_501.png', 'Chickenpox_502.png', 'Chickenpox_503.png', 'Chickenpox_504.png', 'Chickenpox_505.png', 'Chickenpox_506.png', 'Chickenpox_507.png', 'Chickenpox_508.png', 'Chickenpox_509.png', 'Chickenpox_510.png', 'Chickenpox_511.png', 'Chickenpox_512.png', 'Chickenpox_513.png', 'Chickenpox_514.png', 'Chickenpox_515.png', 'Chickenpox_516.png', 'Chickenpox_517.png', 'Chickenpox_518.png', 'Chickenpox_519.png', 'Chickenpox_520.png', 'Chickenpox_521.png', 'Chickenpox_522.png', 'Chickenpox_523.png', 'Chickenpox_524.png', 'Chickenpox_525.png', 'Chickenpox_526.png', 'Chickenpox_527.png', 'Chickenpox_528.png', 'Chickenpox_529.png', 'Chickenpox_530.png', 'Chickenpox_531.png', 'Chickenpox_532.png', 'Chickenpox_533.png', 'Chickenpox_534.png', 'Chickenpox_535.png', 'Chickenpox_536.png', 'Chickenpox_537.png', 'Chickenpox_538.png', 'Chickenpox_539.png', 'Chickenpox_540.png', 'Chickenpox_541.png', 'Chickenpox_542.png', 'Chickenpox_543.png', 'Chickenpox_544.png', 'Chickenpox_545.png', 'Chickenpox_546.png', 'Chickenpox_547.png', 'Chickenpox_548.png', 'Chickenpox_549.png', 'Chickenpox_550.png', 'Chickenpox_551.png', 'Chickenpox_552.png', 'Chickenpox_553.png', 'Chickenpox_554.png', 'Chickenpox_555.png', 'Chickenpox_556.png', 'Chickenpox_557.png', 'Chickenpox_558.png', 'Chickenpox_559.png', 'Chickenpox_560.png', 'Chickenpox_561.png', 'Chickenpox_562.png', 'Chickenpox_563.png', 'Chickenpox_564.png', 'Chickenpox_565.png', 'Chickenpox_566.png', 'Chickenpox_567.png', 'Chickenpox_568.png', 'Chickenpox_569.png', 'Chickenpox_570.png', 'Chickenpox_571.png', 'Chickenpox_572.png', 'Chickenpox_573.png', 'Chickenpox_574.png', 'Chickenpox_575.png', 'Chickenpox_576.png', 'Chickenpox_577.png', 'Chickenpox_578.png', 'Chickenpox_579.png', 'Chickenpox_580.png', 'Chickenpox_581.png', 'Chickenpox_582.png', 'Chickenpox_583.png', 'Chickenpox_584.png', 'Chickenpox_585.png', 'Chickenpox_586.png', 'Chickenpox_587.png', 'Chickenpox_588.png', 'Chickenpox_589.png', 'Chickenpox_590.png', 'Chickenpox_591.png', 'Chickenpox_592.png', 'Chickenpox_593.png', 'Chickenpox_594.png', 'Chickenpox_595.png', 'Chickenpox_596.png', 'Chickenpox_597.png', 'Chickenpox_598.png', 'Chickenpox_599.png', 'Chickenpox_600.png', 'Chickenpox_601.png', 'Chickenpox_602.png', 'Chickenpox_603.png', 'Chickenpox_604.png', 'Chickenpox_605.png', 'Chickenpox_606.png', 'Chickenpox_607.png', 'Chickenpox_608.png', 'Chickenpox_609.png', 'Chickenpox_610.png', 'Chickenpox_611.png', 'Chickenpox_612.png', 'Chickenpox_613.png', 'Chickenpox_614.png', 'Chickenpox_615.png', 'Chickenpox_616.png', 'Chickenpox_617.png', 'Chickenpox_618.png', 'Chickenpox_619.png', 'Chickenpox_620.png', 'Chickenpox_621.png', 'Chickenpox_622.png', 'Chickenpox_623.png', 'Chickenpox_624.png', 'Chickenpox_625.png', 'Chickenpox_626.png', 'Chickenpox_627.png', 'Chickenpox_628.png', 'Chickenpox_629.png', 'Chickenpox_630.png', 'Chickenpox_631.png', 'Chickenpox_632.png', 'Chickenpox_633.png', 'Chickenpox_634.png', 'Chickenpox_635.png', 'Chickenpox_636.png', 'Chickenpox_637.png', 'Chickenpox_638.png', 'Chickenpox_639.png', 'Chickenpox_640.png', 'Chickenpox_641.png', 'Chickenpox_642.png']\n"
          ]
        }
      ]
    },
    {
      "cell_type": "code",
      "source": [
        "# folder path\n",
        "dir_path = r'/content/drive/MyDrive/Deep Learning Project/Menu_Aug/Hue_sat/Chickenpox/'\n",
        "count = 0\n",
        "# Iterate directory\n",
        "for path in os.listdir(dir_path):\n",
        "    # check if current path is a file\n",
        "    if os.path.isfile(os.path.join(dir_path, path)):\n",
        "        count += 1\n",
        "print('File count:', count)"
      ],
      "metadata": {
        "colab": {
          "base_uri": "https://localhost:8080/"
        },
        "id": "o9xoBTOJhdWT",
        "outputId": "e7bd0e0b-012e-4dfb-95fd-284424bc4c01"
      },
      "execution_count": null,
      "outputs": [
        {
          "output_type": "stream",
          "name": "stdout",
          "text": [
            "File count: 321\n"
          ]
        }
      ]
    },
    {
      "cell_type": "code",
      "source": [
        "chicken_input_path ='/content/drive/MyDrive/Deep Learning Project/Menu_Aug/step1/Measles/'\n",
        "chicken_output_path ='/content/drive/MyDrive/Deep Learning Project/Menu_Aug/Hue_sat/Measles/'\n",
        "chicken_input_images = listdir(chicken_input_path)\n",
        "chicken_input_images.sort()\n",
        "for i in chicken_input_images:\n",
        "  huesat_aug =  A.augmentations.transforms.HueSaturationValue (hue_shift_limit=20, sat_shift_limit=30, val_shift_limit=20, always_apply=False, p=0.5)\n",
        "for i in chicken_input_images:\n",
        "    path2img = chicken_input_path + i\n",
        "    img = read_image(path2img)\n",
        "    aimg = augment_and_return(huesat_aug,img)\n",
        "    save_augment_img(aimg,i,chicken_output_path)\n",
        "\n"
      ],
      "metadata": {
        "colab": {
          "base_uri": "https://localhost:8080/"
        },
        "id": "MHMuN-0rn1uA",
        "outputId": "7ecae7fd-b7a1-4ad2-be86-a956962c8a73"
      },
      "execution_count": null,
      "outputs": [
        {
          "output_type": "stream",
          "name": "stdout",
          "text": [
            "All Files Renamed\n",
            "New Names are\n",
            "['Chickenpox_273.png', 'Chickenpox_274.png', 'Chickenpox_275.png', 'Chickenpox_276.png', 'Chickenpox_277.png', 'Chickenpox_278.png', 'Chickenpox_279.png', 'Chickenpox_280.png', 'Chickenpox_281.png', 'Chickenpox_282.png', 'Chickenpox_283.png', 'Chickenpox_284.png', 'Chickenpox_285.png', 'Chickenpox_286.png', 'Chickenpox_287.png', 'Chickenpox_288.png', 'Chickenpox_289.png', 'Chickenpox_290.png', 'Chickenpox_291.png', 'Chickenpox_292.png', 'Chickenpox_293.png', 'Chickenpox_294.png', 'Chickenpox_295.png', 'Chickenpox_296.png', 'Chickenpox_297.png', 'Chickenpox_298.png', 'Chickenpox_299.png', 'Chickenpox_300.png', 'Chickenpox_301.png', 'Chickenpox_302.png', 'Chickenpox_303.png', 'Chickenpox_304.png', 'Chickenpox_305.png', 'Chickenpox_306.png', 'Chickenpox_307.png', 'Chickenpox_308.png', 'Chickenpox_309.png', 'Chickenpox_310.png', 'Chickenpox_311.png', 'Chickenpox_312.png', 'Chickenpox_313.png', 'Chickenpox_314.png', 'Chickenpox_315.png', 'Chickenpox_316.png', 'Chickenpox_317.png', 'Chickenpox_318.png', 'Chickenpox_319.png', 'Chickenpox_320.png', 'Chickenpox_321.png', 'Chickenpox_322.png', 'Chickenpox_323.png', 'Chickenpox_324.png', 'Chickenpox_325.png', 'Chickenpox_326.png', 'Chickenpox_327.png', 'Chickenpox_328.png', 'Chickenpox_329.png', 'Chickenpox_330.png', 'Chickenpox_331.png', 'Chickenpox_332.png', 'Chickenpox_333.png', 'Chickenpox_334.png', 'Chickenpox_335.png', 'Chickenpox_336.png', 'Chickenpox_337.png', 'Chickenpox_338.png', 'Chickenpox_339.png', 'Chickenpox_340.png', 'Chickenpox_341.png', 'Chickenpox_342.png', 'Chickenpox_343.png', 'Chickenpox_344.png', 'Chickenpox_345.png', 'Chickenpox_346.png', 'Chickenpox_347.png', 'Chickenpox_348.png', 'Chickenpox_349.png', 'Chickenpox_350.png', 'Chickenpox_351.png', 'Chickenpox_352.png', 'Chickenpox_353.png', 'Chickenpox_354.png', 'Chickenpox_355.png', 'Chickenpox_356.png', 'Chickenpox_357.png', 'Chickenpox_358.png', 'Chickenpox_359.png', 'Chickenpox_360.png', 'Chickenpox_361.png', 'Chickenpox_362.png', 'Chickenpox_363.png', 'Chickenpox_364.png', 'Chickenpox_365.png', 'Chickenpox_366.png', 'Chickenpox_367.png', 'Chickenpox_368.png', 'Chickenpox_369.png', 'Chickenpox_370.png', 'Chickenpox_371.png', 'Chickenpox_372.png', 'Chickenpox_373.png', 'Chickenpox_374.png', 'Chickenpox_375.png', 'Chickenpox_376.png', 'Chickenpox_377.png', 'Chickenpox_378.png', 'Chickenpox_379.png', 'Chickenpox_380.png', 'Chickenpox_381.png', 'Chickenpox_382.png', 'Chickenpox_383.png', 'Chickenpox_384.png', 'Chickenpox_385.png', 'Chickenpox_386.png', 'Chickenpox_387.png', 'Chickenpox_388.png', 'Chickenpox_389.png', 'Chickenpox_390.png', 'Chickenpox_391.png', 'Chickenpox_392.png', 'Chickenpox_393.png', 'Chickenpox_394.png', 'Chickenpox_395.png', 'Chickenpox_396.png', 'Chickenpox_397.png', 'Chickenpox_398.png', 'Chickenpox_399.png', 'Chickenpox_400.png', 'Chickenpox_401.png', 'Chickenpox_402.png', 'Chickenpox_403.png', 'Chickenpox_404.png', 'Chickenpox_405.png', 'Chickenpox_406.png', 'Chickenpox_407.png', 'Chickenpox_408.png', 'Chickenpox_409.png', 'Chickenpox_410.png', 'Chickenpox_411.png', 'Chickenpox_412.png', 'Chickenpox_413.png', 'Chickenpox_414.png', 'Chickenpox_415.png', 'Chickenpox_416.png', 'Chickenpox_417.png', 'Chickenpox_418.png', 'Chickenpox_419.png', 'Chickenpox_420.png', 'Chickenpox_421.png', 'Chickenpox_422.png', 'Chickenpox_423.png', 'Chickenpox_424.png', 'Chickenpox_425.png', 'Chickenpox_426.png', 'Chickenpox_427.png', 'Chickenpox_428.png', 'Chickenpox_429.png', 'Chickenpox_430.png', 'Chickenpox_431.png', 'Chickenpox_432.png', 'Chickenpox_433.png', 'Chickenpox_434.png', 'Chickenpox_435.png', 'Chickenpox_436.png', 'Chickenpox_437.png', 'Chickenpox_438.png', 'Chickenpox_439.png', 'Chickenpox_440.png', 'Chickenpox_441.png', 'Chickenpox_442.png', 'Chickenpox_443.png', 'Chickenpox_444.png', 'Chickenpox_445.png', 'Chickenpox_446.png', 'Chickenpox_447.png', 'Chickenpox_448.png', 'Chickenpox_449.png', 'Chickenpox_450.png', 'Chickenpox_451.png', 'Chickenpox_452.png', 'Chickenpox_453.png', 'Chickenpox_454.png', 'Chickenpox_455.png', 'Chickenpox_456.png', 'Chickenpox_457.png', 'Chickenpox_458.png', 'Chickenpox_459.png', 'Chickenpox_460.png', 'Chickenpox_461.png', 'Chickenpox_462.png', 'Chickenpox_463.png', 'Chickenpox_464.png', 'Chickenpox_465.png', 'Chickenpox_466.png', 'Chickenpox_467.png', 'Chickenpox_468.png', 'Chickenpox_469.png', 'Chickenpox_470.png', 'Chickenpox_471.png', 'Chickenpox_472.png', 'Chickenpox_473.png', 'Chickenpox_474.png', 'Chickenpox_475.png', 'Chickenpox_476.png', 'Chickenpox_477.png', 'Chickenpox_478.png', 'Chickenpox_479.png', 'Chickenpox_480.png', 'Chickenpox_481.png', 'Chickenpox_482.png', 'Chickenpox_483.png', 'Chickenpox_484.png', 'Chickenpox_485.png', 'Chickenpox_486.png', 'Chickenpox_487.png', 'Chickenpox_488.png', 'Chickenpox_489.png', 'Chickenpox_490.png', 'Chickenpox_491.png', 'Chickenpox_492.png', 'Chickenpox_493.png', 'Chickenpox_494.png', 'Chickenpox_495.png', 'Chickenpox_496.png', 'Chickenpox_497.png', 'Chickenpox_498.png', 'Chickenpox_499.png', 'Chickenpox_500.png', 'Chickenpox_501.png', 'Chickenpox_502.png', 'Chickenpox_503.png', 'Chickenpox_504.png', 'Chickenpox_505.png', 'Chickenpox_506.png', 'Chickenpox_507.png', 'Chickenpox_508.png', 'Chickenpox_509.png', 'Chickenpox_510.png', 'Chickenpox_511.png', 'Chickenpox_512.png', 'Chickenpox_513.png', 'Chickenpox_514.png', 'Chickenpox_515.png', 'Chickenpox_516.png', 'Chickenpox_517.png', 'Chickenpox_518.png', 'Chickenpox_519.png', 'Chickenpox_520.png', 'Chickenpox_521.png', 'Chickenpox_522.png', 'Chickenpox_523.png', 'Chickenpox_524.png', 'Chickenpox_525.png', 'Chickenpox_526.png', 'Chickenpox_527.png', 'Chickenpox_528.png', 'Chickenpox_529.png', 'Chickenpox_530.png', 'Chickenpox_531.png', 'Chickenpox_532.png', 'Chickenpox_533.png', 'Chickenpox_534.png', 'Chickenpox_535.png', 'Chickenpox_536.png', 'Chickenpox_537.png', 'Chickenpox_538.png', 'Chickenpox_539.png', 'Chickenpox_540.png', 'Chickenpox_541.png', 'Chickenpox_542.png', 'Chickenpox_543.png', 'Chickenpox_544.png', 'Chickenpox_545.png']\n"
          ]
        }
      ]
    },
    {
      "cell_type": "code",
      "source": [
        "import os\n",
        "\n",
        "folder = r'/content/drive/MyDrive/Deep Learning Project/Menu_Aug/Hue_sat/Measles/'\n",
        "count = 273\n",
        "# count increase by 1 in each iteration\n",
        "# iterate all files from a directory\n",
        "for file_name in os.listdir(folder):\n",
        "    # Construct old file name\n",
        "    source = folder + file_name\n",
        "\n",
        "    # Adding the count to the new file name and extension\n",
        "    destination = folder + \"Measles_\" + str(count) + \".png\"\n",
        "\n",
        "    # Renaming the file\n",
        "    os.rename(source, destination)\n",
        "    count += 1\n",
        "print('All Files Renamed')\n",
        "\n",
        "print('New Names are')\n",
        "# verify the result\n",
        "res = os.listdir(folder)\n",
        "print(res)"
      ],
      "metadata": {
        "colab": {
          "base_uri": "https://localhost:8080/"
        },
        "id": "vBQBplTiu_tv",
        "outputId": "36b68dcb-dbde-43d2-e9c4-8f1b4e79adc0"
      },
      "execution_count": null,
      "outputs": [
        {
          "output_type": "stream",
          "name": "stdout",
          "text": [
            "All Files Renamed\n",
            "New Names are\n",
            "['Measles_273.png', 'Measles_274.png', 'Measles_275.png', 'Measles_276.png', 'Measles_277.png', 'Measles_278.png', 'Measles_279.png', 'Measles_280.png', 'Measles_281.png', 'Measles_282.png', 'Measles_283.png', 'Measles_284.png', 'Measles_285.png', 'Measles_286.png', 'Measles_287.png', 'Measles_288.png', 'Measles_289.png', 'Measles_290.png', 'Measles_291.png', 'Measles_292.png', 'Measles_293.png', 'Measles_294.png', 'Measles_295.png', 'Measles_296.png', 'Measles_297.png', 'Measles_298.png', 'Measles_299.png', 'Measles_300.png', 'Measles_301.png', 'Measles_302.png', 'Measles_303.png', 'Measles_304.png', 'Measles_305.png', 'Measles_306.png', 'Measles_307.png', 'Measles_308.png', 'Measles_309.png', 'Measles_310.png', 'Measles_311.png', 'Measles_312.png', 'Measles_313.png', 'Measles_314.png', 'Measles_315.png', 'Measles_316.png', 'Measles_317.png', 'Measles_318.png', 'Measles_319.png', 'Measles_320.png', 'Measles_321.png', 'Measles_322.png', 'Measles_323.png', 'Measles_324.png', 'Measles_325.png', 'Measles_326.png', 'Measles_327.png', 'Measles_328.png', 'Measles_329.png', 'Measles_330.png', 'Measles_331.png', 'Measles_332.png', 'Measles_333.png', 'Measles_334.png', 'Measles_335.png', 'Measles_336.png', 'Measles_337.png', 'Measles_338.png', 'Measles_339.png', 'Measles_340.png', 'Measles_341.png', 'Measles_342.png', 'Measles_343.png', 'Measles_344.png', 'Measles_345.png', 'Measles_346.png', 'Measles_347.png', 'Measles_348.png', 'Measles_349.png', 'Measles_350.png', 'Measles_351.png', 'Measles_352.png', 'Measles_353.png', 'Measles_354.png', 'Measles_355.png', 'Measles_356.png', 'Measles_357.png', 'Measles_358.png', 'Measles_359.png', 'Measles_360.png', 'Measles_361.png', 'Measles_362.png', 'Measles_363.png', 'Measles_364.png', 'Measles_365.png', 'Measles_366.png', 'Measles_367.png', 'Measles_368.png', 'Measles_369.png', 'Measles_370.png', 'Measles_371.png', 'Measles_372.png', 'Measles_373.png', 'Measles_374.png', 'Measles_375.png', 'Measles_376.png', 'Measles_377.png', 'Measles_378.png', 'Measles_379.png', 'Measles_380.png', 'Measles_381.png', 'Measles_382.png', 'Measles_383.png', 'Measles_384.png', 'Measles_385.png', 'Measles_386.png', 'Measles_387.png', 'Measles_388.png', 'Measles_389.png', 'Measles_390.png', 'Measles_391.png', 'Measles_392.png', 'Measles_393.png', 'Measles_394.png', 'Measles_395.png', 'Measles_396.png', 'Measles_397.png', 'Measles_398.png', 'Measles_399.png', 'Measles_400.png', 'Measles_401.png', 'Measles_402.png', 'Measles_403.png', 'Measles_404.png', 'Measles_405.png', 'Measles_406.png', 'Measles_407.png', 'Measles_408.png', 'Measles_409.png', 'Measles_410.png', 'Measles_411.png', 'Measles_412.png', 'Measles_413.png', 'Measles_414.png', 'Measles_415.png', 'Measles_416.png', 'Measles_417.png', 'Measles_418.png', 'Measles_419.png', 'Measles_420.png', 'Measles_421.png', 'Measles_422.png', 'Measles_423.png', 'Measles_424.png', 'Measles_425.png', 'Measles_426.png', 'Measles_427.png', 'Measles_428.png', 'Measles_429.png', 'Measles_430.png', 'Measles_431.png', 'Measles_432.png', 'Measles_433.png', 'Measles_434.png', 'Measles_435.png', 'Measles_436.png', 'Measles_437.png', 'Measles_438.png', 'Measles_439.png', 'Measles_440.png', 'Measles_441.png', 'Measles_442.png', 'Measles_443.png', 'Measles_444.png', 'Measles_445.png', 'Measles_446.png', 'Measles_447.png', 'Measles_448.png', 'Measles_449.png', 'Measles_450.png', 'Measles_451.png', 'Measles_452.png', 'Measles_453.png', 'Measles_454.png', 'Measles_455.png', 'Measles_456.png', 'Measles_457.png', 'Measles_458.png', 'Measles_459.png', 'Measles_460.png', 'Measles_461.png', 'Measles_462.png', 'Measles_463.png', 'Measles_464.png', 'Measles_465.png', 'Measles_466.png', 'Measles_467.png', 'Measles_468.png', 'Measles_469.png', 'Measles_470.png', 'Measles_471.png', 'Measles_472.png', 'Measles_473.png', 'Measles_474.png', 'Measles_475.png', 'Measles_476.png', 'Measles_477.png', 'Measles_478.png', 'Measles_479.png', 'Measles_480.png', 'Measles_481.png', 'Measles_482.png', 'Measles_483.png', 'Measles_484.png', 'Measles_485.png', 'Measles_486.png', 'Measles_487.png', 'Measles_488.png', 'Measles_489.png', 'Measles_490.png', 'Measles_491.png', 'Measles_492.png', 'Measles_493.png', 'Measles_494.png', 'Measles_495.png', 'Measles_496.png', 'Measles_497.png', 'Measles_498.png', 'Measles_499.png', 'Measles_500.png', 'Measles_501.png', 'Measles_502.png', 'Measles_503.png', 'Measles_504.png', 'Measles_505.png', 'Measles_506.png', 'Measles_507.png', 'Measles_508.png', 'Measles_509.png', 'Measles_510.png', 'Measles_511.png', 'Measles_512.png', 'Measles_513.png', 'Measles_514.png', 'Measles_515.png', 'Measles_516.png', 'Measles_517.png', 'Measles_518.png', 'Measles_519.png', 'Measles_520.png', 'Measles_521.png', 'Measles_522.png', 'Measles_523.png', 'Measles_524.png', 'Measles_525.png', 'Measles_526.png', 'Measles_527.png', 'Measles_528.png', 'Measles_529.png', 'Measles_530.png', 'Measles_531.png', 'Measles_532.png', 'Measles_533.png', 'Measles_534.png', 'Measles_535.png', 'Measles_536.png', 'Measles_537.png', 'Measles_538.png', 'Measles_539.png', 'Measles_540.png', 'Measles_541.png', 'Measles_542.png', 'Measles_543.png', 'Measles_544.png', 'Measles_545.png']\n"
          ]
        }
      ]
    },
    {
      "cell_type": "code",
      "source": [
        "chicken_input_path ='/content/drive/MyDrive/Deep Learning Project/Menu_Aug/step1/Monkeypox/'\n",
        "chicken_output_path ='/content/drive/MyDrive/Deep Learning Project/Menu_Aug/Hue_sat/Monkeypox/'\n",
        "chicken_input_images = listdir(chicken_input_path)\n",
        "chicken_input_images.sort()\n",
        "for i in chicken_input_images:\n",
        "  huesat_aug =  A.augmentations.transforms.HueSaturationValue (hue_shift_limit=20, sat_shift_limit=30, val_shift_limit=20, always_apply=False, p=0.5)\n",
        "for i in chicken_input_images:\n",
        "    path2img = chicken_input_path + i\n",
        "    img = read_image(path2img)\n",
        "    aimg = augment_and_return(huesat_aug,img)\n",
        "    save_augment_img(aimg,i,chicken_output_path)\n"
      ],
      "metadata": {
        "colab": {
          "base_uri": "https://localhost:8080/"
        },
        "id": "aYgrBOnYoNyD",
        "outputId": "7e66b73e-2282-44ea-9a26-75450dcb51c9"
      },
      "execution_count": null,
      "outputs": [
        {
          "output_type": "stream",
          "name": "stdout",
          "text": [
            "All Files Renamed\n",
            "New Names are\n",
            "['Chickenpox_838.png', 'Chickenpox_839.png', 'Chickenpox_840.png', 'Chickenpox_841.png', 'Chickenpox_842.png', 'Chickenpox_843.png', 'Chickenpox_844.png', 'Chickenpox_845.png', 'Chickenpox_846.png', 'Chickenpox_847.png', 'Chickenpox_848.png', 'Chickenpox_849.png', 'Chickenpox_850.png', 'Chickenpox_851.png', 'Chickenpox_852.png', 'Chickenpox_853.png', 'Chickenpox_854.png', 'Chickenpox_855.png', 'Chickenpox_856.png', 'Chickenpox_857.png', 'Chickenpox_858.png', 'Chickenpox_859.png', 'Chickenpox_860.png', 'Chickenpox_861.png', 'Chickenpox_862.png', 'Chickenpox_863.png', 'Chickenpox_864.png', 'Chickenpox_865.png', 'Chickenpox_866.png', 'Chickenpox_867.png', 'Chickenpox_868.png', 'Chickenpox_869.png', 'Chickenpox_870.png', 'Chickenpox_871.png', 'Chickenpox_872.png', 'Chickenpox_873.png', 'Chickenpox_874.png', 'Chickenpox_875.png', 'Chickenpox_876.png', 'Chickenpox_877.png', 'Chickenpox_878.png', 'Chickenpox_879.png', 'Chickenpox_880.png', 'Chickenpox_881.png', 'Chickenpox_882.png', 'Chickenpox_883.png', 'Chickenpox_884.png', 'Chickenpox_885.png', 'Chickenpox_886.png', 'Chickenpox_887.png', 'Chickenpox_888.png', 'Chickenpox_889.png', 'Chickenpox_890.png', 'Chickenpox_891.png', 'Chickenpox_892.png', 'Chickenpox_893.png', 'Chickenpox_894.png', 'Chickenpox_895.png', 'Chickenpox_896.png', 'Chickenpox_897.png', 'Chickenpox_898.png', 'Chickenpox_899.png', 'Chickenpox_900.png', 'Chickenpox_901.png', 'Chickenpox_902.png', 'Chickenpox_903.png', 'Chickenpox_904.png', 'Chickenpox_905.png', 'Chickenpox_906.png', 'Chickenpox_907.png', 'Chickenpox_908.png', 'Chickenpox_909.png', 'Chickenpox_910.png', 'Chickenpox_911.png', 'Chickenpox_912.png', 'Chickenpox_913.png', 'Chickenpox_914.png', 'Chickenpox_915.png', 'Chickenpox_916.png', 'Chickenpox_917.png', 'Chickenpox_918.png', 'Chickenpox_919.png', 'Chickenpox_920.png', 'Chickenpox_921.png', 'Chickenpox_922.png', 'Chickenpox_923.png', 'Chickenpox_924.png', 'Chickenpox_925.png', 'Chickenpox_926.png', 'Chickenpox_927.png', 'Chickenpox_928.png', 'Chickenpox_929.png', 'Chickenpox_930.png', 'Chickenpox_931.png', 'Chickenpox_932.png', 'Chickenpox_933.png', 'Chickenpox_934.png', 'Chickenpox_935.png', 'Chickenpox_936.png', 'Chickenpox_937.png', 'Chickenpox_938.png', 'Chickenpox_939.png', 'Chickenpox_940.png', 'Chickenpox_941.png', 'Chickenpox_942.png', 'Chickenpox_943.png', 'Chickenpox_944.png', 'Chickenpox_945.png', 'Chickenpox_946.png', 'Chickenpox_947.png', 'Chickenpox_948.png', 'Chickenpox_949.png', 'Chickenpox_950.png', 'Chickenpox_951.png', 'Chickenpox_952.png', 'Chickenpox_953.png', 'Chickenpox_954.png', 'Chickenpox_955.png', 'Chickenpox_956.png', 'Chickenpox_957.png', 'Chickenpox_958.png', 'Chickenpox_959.png', 'Chickenpox_960.png', 'Chickenpox_961.png', 'Chickenpox_962.png', 'Chickenpox_963.png', 'Chickenpox_964.png', 'Chickenpox_965.png', 'Chickenpox_966.png', 'Chickenpox_967.png', 'Chickenpox_968.png', 'Chickenpox_969.png', 'Chickenpox_970.png', 'Chickenpox_971.png', 'Chickenpox_972.png', 'Chickenpox_973.png', 'Chickenpox_974.png', 'Chickenpox_975.png', 'Chickenpox_976.png', 'Chickenpox_977.png', 'Chickenpox_978.png', 'Chickenpox_979.png', 'Chickenpox_980.png', 'Chickenpox_981.png', 'Chickenpox_982.png', 'Chickenpox_983.png', 'Chickenpox_984.png', 'Chickenpox_985.png', 'Chickenpox_986.png', 'Chickenpox_987.png', 'Chickenpox_988.png', 'Chickenpox_989.png', 'Chickenpox_990.png', 'Chickenpox_991.png', 'Chickenpox_992.png', 'Chickenpox_993.png', 'Chickenpox_994.png', 'Chickenpox_995.png', 'Chickenpox_996.png', 'Chickenpox_997.png', 'Chickenpox_998.png', 'Chickenpox_999.png', 'Chickenpox_1000.png', 'Chickenpox_1001.png', 'Chickenpox_1002.png', 'Chickenpox_1003.png', 'Chickenpox_1004.png', 'Chickenpox_1005.png', 'Chickenpox_1006.png', 'Chickenpox_1007.png', 'Chickenpox_1008.png', 'Chickenpox_1009.png', 'Chickenpox_1010.png', 'Chickenpox_1011.png', 'Chickenpox_1012.png', 'Chickenpox_1013.png', 'Chickenpox_1014.png', 'Chickenpox_1015.png', 'Chickenpox_1016.png', 'Chickenpox_1017.png', 'Chickenpox_1018.png', 'Chickenpox_1019.png', 'Chickenpox_1020.png', 'Chickenpox_1021.png', 'Chickenpox_1022.png', 'Chickenpox_1023.png', 'Chickenpox_1024.png', 'Chickenpox_1025.png', 'Chickenpox_1026.png', 'Chickenpox_1027.png', 'Chickenpox_1028.png', 'Chickenpox_1029.png', 'Chickenpox_1030.png', 'Chickenpox_1031.png', 'Chickenpox_1032.png', 'Chickenpox_1033.png', 'Chickenpox_1034.png', 'Chickenpox_1035.png', 'Chickenpox_1036.png', 'Chickenpox_1037.png', 'Chickenpox_1038.png', 'Chickenpox_1039.png', 'Chickenpox_1040.png', 'Chickenpox_1041.png', 'Chickenpox_1042.png', 'Chickenpox_1043.png', 'Chickenpox_1044.png', 'Chickenpox_1045.png', 'Chickenpox_1046.png', 'Chickenpox_1047.png', 'Chickenpox_1048.png', 'Chickenpox_1049.png', 'Chickenpox_1050.png', 'Chickenpox_1051.png', 'Chickenpox_1052.png', 'Chickenpox_1053.png', 'Chickenpox_1054.png', 'Chickenpox_1055.png', 'Chickenpox_1056.png', 'Chickenpox_1057.png', 'Chickenpox_1058.png', 'Chickenpox_1059.png', 'Chickenpox_1060.png', 'Chickenpox_1061.png', 'Chickenpox_1062.png', 'Chickenpox_1063.png', 'Chickenpox_1064.png', 'Chickenpox_1065.png', 'Chickenpox_1066.png', 'Chickenpox_1067.png', 'Chickenpox_1068.png', 'Chickenpox_1069.png', 'Chickenpox_1070.png', 'Chickenpox_1071.png', 'Chickenpox_1072.png', 'Chickenpox_1073.png', 'Chickenpox_1074.png', 'Chickenpox_1075.png', 'Chickenpox_1076.png', 'Chickenpox_1077.png', 'Chickenpox_1078.png', 'Chickenpox_1079.png', 'Chickenpox_1080.png', 'Chickenpox_1081.png', 'Chickenpox_1082.png', 'Chickenpox_1083.png', 'Chickenpox_1084.png', 'Chickenpox_1085.png', 'Chickenpox_1086.png', 'Chickenpox_1087.png', 'Chickenpox_1088.png', 'Chickenpox_1089.png', 'Chickenpox_1090.png', 'Chickenpox_1091.png', 'Chickenpox_1092.png', 'Chickenpox_1093.png', 'Chickenpox_1094.png', 'Chickenpox_1095.png', 'Chickenpox_1096.png', 'Chickenpox_1097.png', 'Chickenpox_1098.png', 'Chickenpox_1099.png', 'Chickenpox_1100.png', 'Chickenpox_1101.png', 'Chickenpox_1102.png', 'Chickenpox_1103.png', 'Chickenpox_1104.png', 'Chickenpox_1105.png', 'Chickenpox_1106.png', 'Chickenpox_1107.png', 'Chickenpox_1108.png', 'Chickenpox_1109.png', 'Chickenpox_1110.png', 'Chickenpox_1111.png', 'Chickenpox_1112.png', 'Chickenpox_1113.png', 'Chickenpox_1114.png', 'Chickenpox_1115.png', 'Chickenpox_1116.png', 'Chickenpox_1117.png', 'Chickenpox_1118.png', 'Chickenpox_1119.png', 'Chickenpox_1120.png', 'Chickenpox_1121.png', 'Chickenpox_1122.png', 'Chickenpox_1123.png', 'Chickenpox_1124.png', 'Chickenpox_1125.png', 'Chickenpox_1126.png', 'Chickenpox_1127.png', 'Chickenpox_1128.png', 'Chickenpox_1129.png', 'Chickenpox_1130.png', 'Chickenpox_1131.png', 'Chickenpox_1132.png', 'Chickenpox_1133.png', 'Chickenpox_1134.png', 'Chickenpox_1135.png', 'Chickenpox_1136.png', 'Chickenpox_1137.png', 'Chickenpox_1138.png', 'Chickenpox_1139.png', 'Chickenpox_1140.png', 'Chickenpox_1141.png', 'Chickenpox_1142.png', 'Chickenpox_1143.png', 'Chickenpox_1144.png', 'Chickenpox_1145.png', 'Chickenpox_1146.png', 'Chickenpox_1147.png', 'Chickenpox_1148.png', 'Chickenpox_1149.png', 'Chickenpox_1150.png', 'Chickenpox_1151.png', 'Chickenpox_1152.png', 'Chickenpox_1153.png', 'Chickenpox_1154.png', 'Chickenpox_1155.png', 'Chickenpox_1156.png', 'Chickenpox_1157.png', 'Chickenpox_1158.png', 'Chickenpox_1159.png', 'Chickenpox_1160.png', 'Chickenpox_1161.png', 'Chickenpox_1162.png', 'Chickenpox_1163.png', 'Chickenpox_1164.png', 'Chickenpox_1165.png', 'Chickenpox_1166.png', 'Chickenpox_1167.png', 'Chickenpox_1168.png', 'Chickenpox_1169.png', 'Chickenpox_1170.png', 'Chickenpox_1171.png', 'Chickenpox_1172.png', 'Chickenpox_1173.png', 'Chickenpox_1174.png', 'Chickenpox_1175.png', 'Chickenpox_1176.png', 'Chickenpox_1177.png', 'Chickenpox_1178.png', 'Chickenpox_1179.png', 'Chickenpox_1180.png', 'Chickenpox_1181.png', 'Chickenpox_1182.png', 'Chickenpox_1183.png', 'Chickenpox_1184.png', 'Chickenpox_1185.png', 'Chickenpox_1186.png', 'Chickenpox_1187.png', 'Chickenpox_1188.png', 'Chickenpox_1189.png', 'Chickenpox_1190.png', 'Chickenpox_1191.png', 'Chickenpox_1192.png', 'Chickenpox_1193.png', 'Chickenpox_1194.png', 'Chickenpox_1195.png', 'Chickenpox_1196.png', 'Chickenpox_1197.png', 'Chickenpox_1198.png', 'Chickenpox_1199.png', 'Chickenpox_1200.png', 'Chickenpox_1201.png', 'Chickenpox_1202.png', 'Chickenpox_1203.png', 'Chickenpox_1204.png', 'Chickenpox_1205.png', 'Chickenpox_1206.png', 'Chickenpox_1207.png', 'Chickenpox_1208.png', 'Chickenpox_1209.png', 'Chickenpox_1210.png', 'Chickenpox_1211.png', 'Chickenpox_1212.png', 'Chickenpox_1213.png', 'Chickenpox_1214.png', 'Chickenpox_1215.png', 'Chickenpox_1216.png', 'Chickenpox_1217.png', 'Chickenpox_1218.png', 'Chickenpox_1219.png', 'Chickenpox_1220.png', 'Chickenpox_1221.png', 'Chickenpox_1222.png', 'Chickenpox_1223.png', 'Chickenpox_1224.png', 'Chickenpox_1225.png', 'Chickenpox_1226.png', 'Chickenpox_1227.png', 'Chickenpox_1228.png', 'Chickenpox_1229.png', 'Chickenpox_1230.png', 'Chickenpox_1231.png', 'Chickenpox_1232.png', 'Chickenpox_1233.png', 'Chickenpox_1234.png', 'Chickenpox_1235.png', 'Chickenpox_1236.png', 'Chickenpox_1237.png', 'Chickenpox_1238.png', 'Chickenpox_1239.png', 'Chickenpox_1240.png', 'Chickenpox_1241.png', 'Chickenpox_1242.png', 'Chickenpox_1243.png', 'Chickenpox_1244.png', 'Chickenpox_1245.png', 'Chickenpox_1246.png', 'Chickenpox_1247.png', 'Chickenpox_1248.png', 'Chickenpox_1249.png', 'Chickenpox_1250.png', 'Chickenpox_1251.png', 'Chickenpox_1252.png', 'Chickenpox_1253.png', 'Chickenpox_1254.png', 'Chickenpox_1255.png', 'Chickenpox_1256.png', 'Chickenpox_1257.png', 'Chickenpox_1258.png', 'Chickenpox_1259.png', 'Chickenpox_1260.png', 'Chickenpox_1261.png', 'Chickenpox_1262.png', 'Chickenpox_1263.png', 'Chickenpox_1264.png', 'Chickenpox_1265.png', 'Chickenpox_1266.png', 'Chickenpox_1267.png', 'Chickenpox_1268.png', 'Chickenpox_1269.png', 'Chickenpox_1270.png', 'Chickenpox_1271.png', 'Chickenpox_1272.png', 'Chickenpox_1273.png', 'Chickenpox_1274.png', 'Chickenpox_1275.png', 'Chickenpox_1276.png', 'Chickenpox_1277.png', 'Chickenpox_1278.png', 'Chickenpox_1279.png', 'Chickenpox_1280.png', 'Chickenpox_1281.png', 'Chickenpox_1282.png', 'Chickenpox_1283.png', 'Chickenpox_1284.png', 'Chickenpox_1285.png', 'Chickenpox_1286.png', 'Chickenpox_1287.png', 'Chickenpox_1288.png', 'Chickenpox_1289.png', 'Chickenpox_1290.png', 'Chickenpox_1291.png', 'Chickenpox_1292.png', 'Chickenpox_1293.png', 'Chickenpox_1294.png', 'Chickenpox_1295.png', 'Chickenpox_1296.png', 'Chickenpox_1297.png', 'Chickenpox_1298.png', 'Chickenpox_1299.png', 'Chickenpox_1300.png', 'Chickenpox_1301.png', 'Chickenpox_1302.png', 'Chickenpox_1303.png', 'Chickenpox_1304.png', 'Chickenpox_1305.png', 'Chickenpox_1306.png', 'Chickenpox_1307.png', 'Chickenpox_1308.png', 'Chickenpox_1309.png', 'Chickenpox_1310.png', 'Chickenpox_1311.png', 'Chickenpox_1312.png', 'Chickenpox_1313.png', 'Chickenpox_1314.png', 'Chickenpox_1315.png', 'Chickenpox_1316.png', 'Chickenpox_1317.png', 'Chickenpox_1318.png', 'Chickenpox_1319.png', 'Chickenpox_1320.png', 'Chickenpox_1321.png', 'Chickenpox_1322.png', 'Chickenpox_1323.png', 'Chickenpox_1324.png', 'Chickenpox_1325.png', 'Chickenpox_1326.png', 'Chickenpox_1327.png', 'Chickenpox_1328.png', 'Chickenpox_1329.png', 'Chickenpox_1330.png', 'Chickenpox_1331.png', 'Chickenpox_1332.png', 'Chickenpox_1333.png', 'Chickenpox_1334.png', 'Chickenpox_1335.png', 'Chickenpox_1336.png', 'Chickenpox_1337.png', 'Chickenpox_1338.png', 'Chickenpox_1339.png', 'Chickenpox_1340.png', 'Chickenpox_1341.png', 'Chickenpox_1342.png', 'Chickenpox_1343.png', 'Chickenpox_1344.png', 'Chickenpox_1345.png', 'Chickenpox_1346.png', 'Chickenpox_1347.png', 'Chickenpox_1348.png', 'Chickenpox_1349.png', 'Chickenpox_1350.png', 'Chickenpox_1351.png', 'Chickenpox_1352.png', 'Chickenpox_1353.png', 'Chickenpox_1354.png', 'Chickenpox_1355.png', 'Chickenpox_1356.png', 'Chickenpox_1357.png', 'Chickenpox_1358.png', 'Chickenpox_1359.png', 'Chickenpox_1360.png', 'Chickenpox_1361.png', 'Chickenpox_1362.png', 'Chickenpox_1363.png', 'Chickenpox_1364.png', 'Chickenpox_1365.png', 'Chickenpox_1366.png', 'Chickenpox_1367.png', 'Chickenpox_1368.png', 'Chickenpox_1369.png', 'Chickenpox_1370.png', 'Chickenpox_1371.png', 'Chickenpox_1372.png', 'Chickenpox_1373.png', 'Chickenpox_1374.png', 'Chickenpox_1375.png', 'Chickenpox_1376.png', 'Chickenpox_1377.png', 'Chickenpox_1378.png', 'Chickenpox_1379.png', 'Chickenpox_1380.png', 'Chickenpox_1381.png', 'Chickenpox_1382.png', 'Chickenpox_1383.png', 'Chickenpox_1384.png', 'Chickenpox_1385.png', 'Chickenpox_1386.png', 'Chickenpox_1387.png', 'Chickenpox_1388.png', 'Chickenpox_1389.png', 'Chickenpox_1390.png', 'Chickenpox_1391.png', 'Chickenpox_1392.png', 'Chickenpox_1393.png', 'Chickenpox_1394.png', 'Chickenpox_1395.png', 'Chickenpox_1396.png', 'Chickenpox_1397.png', 'Chickenpox_1398.png', 'Chickenpox_1399.png', 'Chickenpox_1400.png', 'Chickenpox_1401.png', 'Chickenpox_1402.png', 'Chickenpox_1403.png', 'Chickenpox_1404.png', 'Chickenpox_1405.png', 'Chickenpox_1406.png', 'Chickenpox_1407.png', 'Chickenpox_1408.png', 'Chickenpox_1409.png', 'Chickenpox_1410.png', 'Chickenpox_1411.png', 'Chickenpox_1412.png', 'Chickenpox_1413.png', 'Chickenpox_1414.png', 'Chickenpox_1415.png', 'Chickenpox_1416.png', 'Chickenpox_1417.png', 'Chickenpox_1418.png', 'Chickenpox_1419.png', 'Chickenpox_1420.png', 'Chickenpox_1421.png', 'Chickenpox_1422.png', 'Chickenpox_1423.png', 'Chickenpox_1424.png', 'Chickenpox_1425.png', 'Chickenpox_1426.png', 'Chickenpox_1427.png', 'Chickenpox_1428.png', 'Chickenpox_1429.png', 'Chickenpox_1430.png', 'Chickenpox_1431.png', 'Chickenpox_1432.png', 'Chickenpox_1433.png', 'Chickenpox_1434.png', 'Chickenpox_1435.png', 'Chickenpox_1436.png', 'Chickenpox_1437.png', 'Chickenpox_1438.png', 'Chickenpox_1439.png', 'Chickenpox_1440.png', 'Chickenpox_1441.png', 'Chickenpox_1442.png', 'Chickenpox_1443.png', 'Chickenpox_1444.png', 'Chickenpox_1445.png', 'Chickenpox_1446.png', 'Chickenpox_1447.png', 'Chickenpox_1448.png', 'Chickenpox_1449.png', 'Chickenpox_1450.png', 'Chickenpox_1451.png', 'Chickenpox_1452.png', 'Chickenpox_1453.png', 'Chickenpox_1454.png', 'Chickenpox_1455.png', 'Chickenpox_1456.png', 'Chickenpox_1457.png', 'Chickenpox_1458.png', 'Chickenpox_1459.png', 'Chickenpox_1460.png', 'Chickenpox_1461.png', 'Chickenpox_1462.png', 'Chickenpox_1463.png', 'Chickenpox_1464.png', 'Chickenpox_1465.png', 'Chickenpox_1466.png', 'Chickenpox_1467.png', 'Chickenpox_1468.png', 'Chickenpox_1469.png', 'Chickenpox_1470.png', 'Chickenpox_1471.png', 'Chickenpox_1472.png', 'Chickenpox_1473.png', 'Chickenpox_1474.png', 'Chickenpox_1475.png', 'Chickenpox_1476.png', 'Chickenpox_1477.png', 'Chickenpox_1478.png', 'Chickenpox_1479.png', 'Chickenpox_1480.png', 'Chickenpox_1481.png', 'Chickenpox_1482.png', 'Chickenpox_1483.png', 'Chickenpox_1484.png', 'Chickenpox_1485.png', 'Chickenpox_1486.png', 'Chickenpox_1487.png', 'Chickenpox_1488.png', 'Chickenpox_1489.png', 'Chickenpox_1490.png', 'Chickenpox_1491.png', 'Chickenpox_1492.png', 'Chickenpox_1493.png', 'Chickenpox_1494.png', 'Chickenpox_1495.png', 'Chickenpox_1496.png', 'Chickenpox_1497.png', 'Chickenpox_1498.png', 'Chickenpox_1499.png', 'Chickenpox_1500.png', 'Chickenpox_1501.png', 'Chickenpox_1502.png', 'Chickenpox_1503.png', 'Chickenpox_1504.png', 'Chickenpox_1505.png', 'Chickenpox_1506.png', 'Chickenpox_1507.png', 'Chickenpox_1508.png', 'Chickenpox_1509.png', 'Chickenpox_1510.png', 'Chickenpox_1511.png', 'Chickenpox_1512.png', 'Chickenpox_1513.png', 'Chickenpox_1514.png', 'Chickenpox_1515.png', 'Chickenpox_1516.png', 'Chickenpox_1517.png', 'Chickenpox_1518.png', 'Chickenpox_1519.png', 'Chickenpox_1520.png', 'Chickenpox_1521.png', 'Chickenpox_1522.png', 'Chickenpox_1523.png', 'Chickenpox_1524.png', 'Chickenpox_1525.png', 'Chickenpox_1526.png', 'Chickenpox_1527.png', 'Chickenpox_1528.png', 'Chickenpox_1529.png', 'Chickenpox_1530.png', 'Chickenpox_1531.png', 'Chickenpox_1532.png', 'Chickenpox_1533.png', 'Chickenpox_1534.png', 'Chickenpox_1535.png', 'Chickenpox_1536.png', 'Chickenpox_1537.png', 'Chickenpox_1538.png', 'Chickenpox_1539.png', 'Chickenpox_1540.png', 'Chickenpox_1541.png', 'Chickenpox_1542.png', 'Chickenpox_1543.png', 'Chickenpox_1544.png', 'Chickenpox_1545.png', 'Chickenpox_1546.png', 'Chickenpox_1547.png', 'Chickenpox_1548.png', 'Chickenpox_1549.png', 'Chickenpox_1550.png', 'Chickenpox_1551.png', 'Chickenpox_1552.png', 'Chickenpox_1553.png', 'Chickenpox_1554.png', 'Chickenpox_1555.png', 'Chickenpox_1556.png', 'Chickenpox_1557.png', 'Chickenpox_1558.png', 'Chickenpox_1559.png', 'Chickenpox_1560.png', 'Chickenpox_1561.png', 'Chickenpox_1562.png', 'Chickenpox_1563.png', 'Chickenpox_1564.png', 'Chickenpox_1565.png', 'Chickenpox_1566.png', 'Chickenpox_1567.png', 'Chickenpox_1568.png', 'Chickenpox_1569.png', 'Chickenpox_1570.png', 'Chickenpox_1571.png', 'Chickenpox_1572.png', 'Chickenpox_1573.png', 'Chickenpox_1574.png', 'Chickenpox_1575.png', 'Chickenpox_1576.png', 'Chickenpox_1577.png', 'Chickenpox_1578.png', 'Chickenpox_1579.png', 'Chickenpox_1580.png', 'Chickenpox_1581.png', 'Chickenpox_1582.png', 'Chickenpox_1583.png', 'Chickenpox_1584.png', 'Chickenpox_1585.png', 'Chickenpox_1586.png', 'Chickenpox_1587.png', 'Chickenpox_1588.png', 'Chickenpox_1589.png', 'Chickenpox_1590.png', 'Chickenpox_1591.png', 'Chickenpox_1592.png', 'Chickenpox_1593.png', 'Chickenpox_1594.png', 'Chickenpox_1595.png', 'Chickenpox_1596.png', 'Chickenpox_1597.png', 'Chickenpox_1598.png', 'Chickenpox_1599.png', 'Chickenpox_1600.png', 'Chickenpox_1601.png', 'Chickenpox_1602.png', 'Chickenpox_1603.png', 'Chickenpox_1604.png', 'Chickenpox_1605.png', 'Chickenpox_1606.png', 'Chickenpox_1607.png', 'Chickenpox_1608.png', 'Chickenpox_1609.png', 'Chickenpox_1610.png', 'Chickenpox_1611.png', 'Chickenpox_1612.png', 'Chickenpox_1613.png', 'Chickenpox_1614.png', 'Chickenpox_1615.png', 'Chickenpox_1616.png', 'Chickenpox_1617.png', 'Chickenpox_1618.png', 'Chickenpox_1619.png', 'Chickenpox_1620.png', 'Chickenpox_1621.png', 'Chickenpox_1622.png', 'Chickenpox_1623.png', 'Chickenpox_1624.png', 'Chickenpox_1625.png', 'Chickenpox_1626.png', 'Chickenpox_1627.png', 'Chickenpox_1628.png', 'Chickenpox_1629.png', 'Chickenpox_1630.png', 'Chickenpox_1631.png', 'Chickenpox_1632.png', 'Chickenpox_1633.png', 'Chickenpox_1634.png', 'Chickenpox_1635.png', 'Chickenpox_1636.png', 'Chickenpox_1637.png', 'Chickenpox_1638.png', 'Chickenpox_1639.png', 'Chickenpox_1640.png', 'Chickenpox_1641.png', 'Chickenpox_1642.png', 'Chickenpox_1643.png', 'Chickenpox_1644.png', 'Chickenpox_1645.png', 'Chickenpox_1646.png', 'Chickenpox_1647.png', 'Chickenpox_1648.png', 'Chickenpox_1649.png', 'Chickenpox_1650.png', 'Chickenpox_1651.png', 'Chickenpox_1652.png', 'Chickenpox_1653.png', 'Chickenpox_1654.png', 'Chickenpox_1655.png', 'Chickenpox_1656.png', 'Chickenpox_1657.png', 'Chickenpox_1658.png', 'Chickenpox_1659.png', 'Chickenpox_1660.png', 'Chickenpox_1661.png', 'Chickenpox_1662.png', 'Chickenpox_1663.png', 'Chickenpox_1664.png', 'Chickenpox_1665.png', 'Chickenpox_1666.png', 'Chickenpox_1667.png', 'Chickenpox_1668.png', 'Chickenpox_1669.png', 'Chickenpox_1670.png', 'Chickenpox_1671.png', 'Chickenpox_1672.png', 'Chickenpox_1673.png', 'Chickenpox_1674.png']\n"
          ]
        }
      ]
    },
    {
      "cell_type": "code",
      "source": [
        "\n",
        "import os\n",
        "\n",
        "folder = r'/content/drive/MyDrive/Deep Learning Project/Menu_Aug/Hue_sat/Monkeypox/'\n",
        "count = 838\n",
        "# count increase by 1 in each iteration\n",
        "# iterate all files from a directory\n",
        "for file_name in os.listdir(folder):\n",
        "    # Construct old file name\n",
        "    source = folder + file_name\n",
        "\n",
        "    # Adding the count to the new file name and extension\n",
        "    destination = folder + \"Monkeypox_\" + str(count) + \".png\"\n",
        "\n",
        "    # Renaming the file\n",
        "    os.rename(source, destination)\n",
        "    count += 1\n",
        "print('All Files Renamed')\n",
        "\n",
        "print('New Names are')\n",
        "# verify the result\n",
        "res = os.listdir(folder)\n",
        "print(res)"
      ],
      "metadata": {
        "colab": {
          "base_uri": "https://localhost:8080/"
        },
        "id": "yGG18VI4vGq6",
        "outputId": "7d0985df-efdb-4f14-e011-586b325b24d4"
      },
      "execution_count": null,
      "outputs": [
        {
          "output_type": "stream",
          "name": "stdout",
          "text": [
            "All Files Renamed\n",
            "New Names are\n",
            "['Monkeypox_838.png', 'Monkeypox_839.png', 'Monkeypox_840.png', 'Monkeypox_841.png', 'Monkeypox_842.png', 'Monkeypox_843.png', 'Monkeypox_844.png', 'Monkeypox_845.png', 'Monkeypox_846.png', 'Monkeypox_847.png', 'Monkeypox_848.png', 'Monkeypox_849.png', 'Monkeypox_850.png', 'Monkeypox_851.png', 'Monkeypox_852.png', 'Monkeypox_853.png', 'Monkeypox_854.png', 'Monkeypox_855.png', 'Monkeypox_856.png', 'Monkeypox_857.png', 'Monkeypox_858.png', 'Monkeypox_859.png', 'Monkeypox_860.png', 'Monkeypox_861.png', 'Monkeypox_862.png', 'Monkeypox_863.png', 'Monkeypox_864.png', 'Monkeypox_865.png', 'Monkeypox_866.png', 'Monkeypox_867.png', 'Monkeypox_868.png', 'Monkeypox_869.png', 'Monkeypox_870.png', 'Monkeypox_871.png', 'Monkeypox_872.png', 'Monkeypox_873.png', 'Monkeypox_874.png', 'Monkeypox_875.png', 'Monkeypox_876.png', 'Monkeypox_877.png', 'Monkeypox_878.png', 'Monkeypox_879.png', 'Monkeypox_880.png', 'Monkeypox_881.png', 'Monkeypox_882.png', 'Monkeypox_883.png', 'Monkeypox_884.png', 'Monkeypox_885.png', 'Monkeypox_886.png', 'Monkeypox_887.png', 'Monkeypox_888.png', 'Monkeypox_889.png', 'Monkeypox_890.png', 'Monkeypox_891.png', 'Monkeypox_892.png', 'Monkeypox_893.png', 'Monkeypox_894.png', 'Monkeypox_895.png', 'Monkeypox_896.png', 'Monkeypox_897.png', 'Monkeypox_898.png', 'Monkeypox_899.png', 'Monkeypox_900.png', 'Monkeypox_901.png', 'Monkeypox_902.png', 'Monkeypox_903.png', 'Monkeypox_904.png', 'Monkeypox_905.png', 'Monkeypox_906.png', 'Monkeypox_907.png', 'Monkeypox_908.png', 'Monkeypox_909.png', 'Monkeypox_910.png', 'Monkeypox_911.png', 'Monkeypox_912.png', 'Monkeypox_913.png', 'Monkeypox_914.png', 'Monkeypox_915.png', 'Monkeypox_916.png', 'Monkeypox_917.png', 'Monkeypox_918.png', 'Monkeypox_919.png', 'Monkeypox_920.png', 'Monkeypox_921.png', 'Monkeypox_922.png', 'Monkeypox_923.png', 'Monkeypox_924.png', 'Monkeypox_925.png', 'Monkeypox_926.png', 'Monkeypox_927.png', 'Monkeypox_928.png', 'Monkeypox_929.png', 'Monkeypox_930.png', 'Monkeypox_931.png', 'Monkeypox_932.png', 'Monkeypox_933.png', 'Monkeypox_934.png', 'Monkeypox_935.png', 'Monkeypox_936.png', 'Monkeypox_937.png', 'Monkeypox_938.png', 'Monkeypox_939.png', 'Monkeypox_940.png', 'Monkeypox_941.png', 'Monkeypox_942.png', 'Monkeypox_943.png', 'Monkeypox_944.png', 'Monkeypox_945.png', 'Monkeypox_946.png', 'Monkeypox_947.png', 'Monkeypox_948.png', 'Monkeypox_949.png', 'Monkeypox_950.png', 'Monkeypox_951.png', 'Monkeypox_952.png', 'Monkeypox_953.png', 'Monkeypox_954.png', 'Monkeypox_955.png', 'Monkeypox_956.png', 'Monkeypox_957.png', 'Monkeypox_958.png', 'Monkeypox_959.png', 'Monkeypox_960.png', 'Monkeypox_961.png', 'Monkeypox_962.png', 'Monkeypox_963.png', 'Monkeypox_964.png', 'Monkeypox_965.png', 'Monkeypox_966.png', 'Monkeypox_967.png', 'Monkeypox_968.png', 'Monkeypox_969.png', 'Monkeypox_970.png', 'Monkeypox_971.png', 'Monkeypox_972.png', 'Monkeypox_973.png', 'Monkeypox_974.png', 'Monkeypox_975.png', 'Monkeypox_976.png', 'Monkeypox_977.png', 'Monkeypox_978.png', 'Monkeypox_979.png', 'Monkeypox_980.png', 'Monkeypox_981.png', 'Monkeypox_982.png', 'Monkeypox_983.png', 'Monkeypox_984.png', 'Monkeypox_985.png', 'Monkeypox_986.png', 'Monkeypox_987.png', 'Monkeypox_988.png', 'Monkeypox_989.png', 'Monkeypox_990.png', 'Monkeypox_991.png', 'Monkeypox_992.png', 'Monkeypox_993.png', 'Monkeypox_994.png', 'Monkeypox_995.png', 'Monkeypox_996.png', 'Monkeypox_997.png', 'Monkeypox_998.png', 'Monkeypox_999.png', 'Monkeypox_1000.png', 'Monkeypox_1001.png', 'Monkeypox_1002.png', 'Monkeypox_1003.png', 'Monkeypox_1004.png', 'Monkeypox_1005.png', 'Monkeypox_1006.png', 'Monkeypox_1007.png', 'Monkeypox_1008.png', 'Monkeypox_1009.png', 'Monkeypox_1010.png', 'Monkeypox_1011.png', 'Monkeypox_1012.png', 'Monkeypox_1013.png', 'Monkeypox_1014.png', 'Monkeypox_1015.png', 'Monkeypox_1016.png', 'Monkeypox_1017.png', 'Monkeypox_1018.png', 'Monkeypox_1019.png', 'Monkeypox_1020.png', 'Monkeypox_1021.png', 'Monkeypox_1022.png', 'Monkeypox_1023.png', 'Monkeypox_1024.png', 'Monkeypox_1025.png', 'Monkeypox_1026.png', 'Monkeypox_1027.png', 'Monkeypox_1028.png', 'Monkeypox_1029.png', 'Monkeypox_1030.png', 'Monkeypox_1031.png', 'Monkeypox_1032.png', 'Monkeypox_1033.png', 'Monkeypox_1034.png', 'Monkeypox_1035.png', 'Monkeypox_1036.png', 'Monkeypox_1037.png', 'Monkeypox_1038.png', 'Monkeypox_1039.png', 'Monkeypox_1040.png', 'Monkeypox_1041.png', 'Monkeypox_1042.png', 'Monkeypox_1043.png', 'Monkeypox_1044.png', 'Monkeypox_1045.png', 'Monkeypox_1046.png', 'Monkeypox_1047.png', 'Monkeypox_1048.png', 'Monkeypox_1049.png', 'Monkeypox_1050.png', 'Monkeypox_1051.png', 'Monkeypox_1052.png', 'Monkeypox_1053.png', 'Monkeypox_1054.png', 'Monkeypox_1055.png', 'Monkeypox_1056.png', 'Monkeypox_1057.png', 'Monkeypox_1058.png', 'Monkeypox_1059.png', 'Monkeypox_1060.png', 'Monkeypox_1061.png', 'Monkeypox_1062.png', 'Monkeypox_1063.png', 'Monkeypox_1064.png', 'Monkeypox_1065.png', 'Monkeypox_1066.png', 'Monkeypox_1067.png', 'Monkeypox_1068.png', 'Monkeypox_1069.png', 'Monkeypox_1070.png', 'Monkeypox_1071.png', 'Monkeypox_1072.png', 'Monkeypox_1073.png', 'Monkeypox_1074.png', 'Monkeypox_1075.png', 'Monkeypox_1076.png', 'Monkeypox_1077.png', 'Monkeypox_1078.png', 'Monkeypox_1079.png', 'Monkeypox_1080.png', 'Monkeypox_1081.png', 'Monkeypox_1082.png', 'Monkeypox_1083.png', 'Monkeypox_1084.png', 'Monkeypox_1085.png', 'Monkeypox_1086.png', 'Monkeypox_1087.png', 'Monkeypox_1088.png', 'Monkeypox_1089.png', 'Monkeypox_1090.png', 'Monkeypox_1091.png', 'Monkeypox_1092.png', 'Monkeypox_1093.png', 'Monkeypox_1094.png', 'Monkeypox_1095.png', 'Monkeypox_1096.png', 'Monkeypox_1097.png', 'Monkeypox_1098.png', 'Monkeypox_1099.png', 'Monkeypox_1100.png', 'Monkeypox_1101.png', 'Monkeypox_1102.png', 'Monkeypox_1103.png', 'Monkeypox_1104.png', 'Monkeypox_1105.png', 'Monkeypox_1106.png', 'Monkeypox_1107.png', 'Monkeypox_1108.png', 'Monkeypox_1109.png', 'Monkeypox_1110.png', 'Monkeypox_1111.png', 'Monkeypox_1112.png', 'Monkeypox_1113.png', 'Monkeypox_1114.png', 'Monkeypox_1115.png', 'Monkeypox_1116.png', 'Monkeypox_1117.png', 'Monkeypox_1118.png', 'Monkeypox_1119.png', 'Monkeypox_1120.png', 'Monkeypox_1121.png', 'Monkeypox_1122.png', 'Monkeypox_1123.png', 'Monkeypox_1124.png', 'Monkeypox_1125.png', 'Monkeypox_1126.png', 'Monkeypox_1127.png', 'Monkeypox_1128.png', 'Monkeypox_1129.png', 'Monkeypox_1130.png', 'Monkeypox_1131.png', 'Monkeypox_1132.png', 'Monkeypox_1133.png', 'Monkeypox_1134.png', 'Monkeypox_1135.png', 'Monkeypox_1136.png', 'Monkeypox_1137.png', 'Monkeypox_1138.png', 'Monkeypox_1139.png', 'Monkeypox_1140.png', 'Monkeypox_1141.png', 'Monkeypox_1142.png', 'Monkeypox_1143.png', 'Monkeypox_1144.png', 'Monkeypox_1145.png', 'Monkeypox_1146.png', 'Monkeypox_1147.png', 'Monkeypox_1148.png', 'Monkeypox_1149.png', 'Monkeypox_1150.png', 'Monkeypox_1151.png', 'Monkeypox_1152.png', 'Monkeypox_1153.png', 'Monkeypox_1154.png', 'Monkeypox_1155.png', 'Monkeypox_1156.png', 'Monkeypox_1157.png', 'Monkeypox_1158.png', 'Monkeypox_1159.png', 'Monkeypox_1160.png', 'Monkeypox_1161.png', 'Monkeypox_1162.png', 'Monkeypox_1163.png', 'Monkeypox_1164.png', 'Monkeypox_1165.png', 'Monkeypox_1166.png', 'Monkeypox_1167.png', 'Monkeypox_1168.png', 'Monkeypox_1169.png', 'Monkeypox_1170.png', 'Monkeypox_1171.png', 'Monkeypox_1172.png', 'Monkeypox_1173.png', 'Monkeypox_1174.png', 'Monkeypox_1175.png', 'Monkeypox_1176.png', 'Monkeypox_1177.png', 'Monkeypox_1178.png', 'Monkeypox_1179.png', 'Monkeypox_1180.png', 'Monkeypox_1181.png', 'Monkeypox_1182.png', 'Monkeypox_1183.png', 'Monkeypox_1184.png', 'Monkeypox_1185.png', 'Monkeypox_1186.png', 'Monkeypox_1187.png', 'Monkeypox_1188.png', 'Monkeypox_1189.png', 'Monkeypox_1190.png', 'Monkeypox_1191.png', 'Monkeypox_1192.png', 'Monkeypox_1193.png', 'Monkeypox_1194.png', 'Monkeypox_1195.png', 'Monkeypox_1196.png', 'Monkeypox_1197.png', 'Monkeypox_1198.png', 'Monkeypox_1199.png', 'Monkeypox_1200.png', 'Monkeypox_1201.png', 'Monkeypox_1202.png', 'Monkeypox_1203.png', 'Monkeypox_1204.png', 'Monkeypox_1205.png', 'Monkeypox_1206.png', 'Monkeypox_1207.png', 'Monkeypox_1208.png', 'Monkeypox_1209.png', 'Monkeypox_1210.png', 'Monkeypox_1211.png', 'Monkeypox_1212.png', 'Monkeypox_1213.png', 'Monkeypox_1214.png', 'Monkeypox_1215.png', 'Monkeypox_1216.png', 'Monkeypox_1217.png', 'Monkeypox_1218.png', 'Monkeypox_1219.png', 'Monkeypox_1220.png', 'Monkeypox_1221.png', 'Monkeypox_1222.png', 'Monkeypox_1223.png', 'Monkeypox_1224.png', 'Monkeypox_1225.png', 'Monkeypox_1226.png', 'Monkeypox_1227.png', 'Monkeypox_1228.png', 'Monkeypox_1229.png', 'Monkeypox_1230.png', 'Monkeypox_1231.png', 'Monkeypox_1232.png', 'Monkeypox_1233.png', 'Monkeypox_1234.png', 'Monkeypox_1235.png', 'Monkeypox_1236.png', 'Monkeypox_1237.png', 'Monkeypox_1238.png', 'Monkeypox_1239.png', 'Monkeypox_1240.png', 'Monkeypox_1241.png', 'Monkeypox_1242.png', 'Monkeypox_1243.png', 'Monkeypox_1244.png', 'Monkeypox_1245.png', 'Monkeypox_1246.png', 'Monkeypox_1247.png', 'Monkeypox_1248.png', 'Monkeypox_1249.png', 'Monkeypox_1250.png', 'Monkeypox_1251.png', 'Monkeypox_1252.png', 'Monkeypox_1253.png', 'Monkeypox_1254.png', 'Monkeypox_1255.png', 'Monkeypox_1256.png', 'Monkeypox_1257.png', 'Monkeypox_1258.png', 'Monkeypox_1259.png', 'Monkeypox_1260.png', 'Monkeypox_1261.png', 'Monkeypox_1262.png', 'Monkeypox_1263.png', 'Monkeypox_1264.png', 'Monkeypox_1265.png', 'Monkeypox_1266.png', 'Monkeypox_1267.png', 'Monkeypox_1268.png', 'Monkeypox_1269.png', 'Monkeypox_1270.png', 'Monkeypox_1271.png', 'Monkeypox_1272.png', 'Monkeypox_1273.png', 'Monkeypox_1274.png', 'Monkeypox_1275.png', 'Monkeypox_1276.png', 'Monkeypox_1277.png', 'Monkeypox_1278.png', 'Monkeypox_1279.png', 'Monkeypox_1280.png', 'Monkeypox_1281.png', 'Monkeypox_1282.png', 'Monkeypox_1283.png', 'Monkeypox_1284.png', 'Monkeypox_1285.png', 'Monkeypox_1286.png', 'Monkeypox_1287.png', 'Monkeypox_1288.png', 'Monkeypox_1289.png', 'Monkeypox_1290.png', 'Monkeypox_1291.png', 'Monkeypox_1292.png', 'Monkeypox_1293.png', 'Monkeypox_1294.png', 'Monkeypox_1295.png', 'Monkeypox_1296.png', 'Monkeypox_1297.png', 'Monkeypox_1298.png', 'Monkeypox_1299.png', 'Monkeypox_1300.png', 'Monkeypox_1301.png', 'Monkeypox_1302.png', 'Monkeypox_1303.png', 'Monkeypox_1304.png', 'Monkeypox_1305.png', 'Monkeypox_1306.png', 'Monkeypox_1307.png', 'Monkeypox_1308.png', 'Monkeypox_1309.png', 'Monkeypox_1310.png', 'Monkeypox_1311.png', 'Monkeypox_1312.png', 'Monkeypox_1313.png', 'Monkeypox_1314.png', 'Monkeypox_1315.png', 'Monkeypox_1316.png', 'Monkeypox_1317.png', 'Monkeypox_1318.png', 'Monkeypox_1319.png', 'Monkeypox_1320.png', 'Monkeypox_1321.png', 'Monkeypox_1322.png', 'Monkeypox_1323.png', 'Monkeypox_1324.png', 'Monkeypox_1325.png', 'Monkeypox_1326.png', 'Monkeypox_1327.png', 'Monkeypox_1328.png', 'Monkeypox_1329.png', 'Monkeypox_1330.png', 'Monkeypox_1331.png', 'Monkeypox_1332.png', 'Monkeypox_1333.png', 'Monkeypox_1334.png', 'Monkeypox_1335.png', 'Monkeypox_1336.png', 'Monkeypox_1337.png', 'Monkeypox_1338.png', 'Monkeypox_1339.png', 'Monkeypox_1340.png', 'Monkeypox_1341.png', 'Monkeypox_1342.png', 'Monkeypox_1343.png', 'Monkeypox_1344.png', 'Monkeypox_1345.png', 'Monkeypox_1346.png', 'Monkeypox_1347.png', 'Monkeypox_1348.png', 'Monkeypox_1349.png', 'Monkeypox_1350.png', 'Monkeypox_1351.png', 'Monkeypox_1352.png', 'Monkeypox_1353.png', 'Monkeypox_1354.png', 'Monkeypox_1355.png', 'Monkeypox_1356.png', 'Monkeypox_1357.png', 'Monkeypox_1358.png', 'Monkeypox_1359.png', 'Monkeypox_1360.png', 'Monkeypox_1361.png', 'Monkeypox_1362.png', 'Monkeypox_1363.png', 'Monkeypox_1364.png', 'Monkeypox_1365.png', 'Monkeypox_1366.png', 'Monkeypox_1367.png', 'Monkeypox_1368.png', 'Monkeypox_1369.png', 'Monkeypox_1370.png', 'Monkeypox_1371.png', 'Monkeypox_1372.png', 'Monkeypox_1373.png', 'Monkeypox_1374.png', 'Monkeypox_1375.png', 'Monkeypox_1376.png', 'Monkeypox_1377.png', 'Monkeypox_1378.png', 'Monkeypox_1379.png', 'Monkeypox_1380.png', 'Monkeypox_1381.png', 'Monkeypox_1382.png', 'Monkeypox_1383.png', 'Monkeypox_1384.png', 'Monkeypox_1385.png', 'Monkeypox_1386.png', 'Monkeypox_1387.png', 'Monkeypox_1388.png', 'Monkeypox_1389.png', 'Monkeypox_1390.png', 'Monkeypox_1391.png', 'Monkeypox_1392.png', 'Monkeypox_1393.png', 'Monkeypox_1394.png', 'Monkeypox_1395.png', 'Monkeypox_1396.png', 'Monkeypox_1397.png', 'Monkeypox_1398.png', 'Monkeypox_1399.png', 'Monkeypox_1400.png', 'Monkeypox_1401.png', 'Monkeypox_1402.png', 'Monkeypox_1403.png', 'Monkeypox_1404.png', 'Monkeypox_1405.png', 'Monkeypox_1406.png', 'Monkeypox_1407.png', 'Monkeypox_1408.png', 'Monkeypox_1409.png', 'Monkeypox_1410.png', 'Monkeypox_1411.png', 'Monkeypox_1412.png', 'Monkeypox_1413.png', 'Monkeypox_1414.png', 'Monkeypox_1415.png', 'Monkeypox_1416.png', 'Monkeypox_1417.png', 'Monkeypox_1418.png', 'Monkeypox_1419.png', 'Monkeypox_1420.png', 'Monkeypox_1421.png', 'Monkeypox_1422.png', 'Monkeypox_1423.png', 'Monkeypox_1424.png', 'Monkeypox_1425.png', 'Monkeypox_1426.png', 'Monkeypox_1427.png', 'Monkeypox_1428.png', 'Monkeypox_1429.png', 'Monkeypox_1430.png', 'Monkeypox_1431.png', 'Monkeypox_1432.png', 'Monkeypox_1433.png', 'Monkeypox_1434.png', 'Monkeypox_1435.png', 'Monkeypox_1436.png', 'Monkeypox_1437.png', 'Monkeypox_1438.png', 'Monkeypox_1439.png', 'Monkeypox_1440.png', 'Monkeypox_1441.png', 'Monkeypox_1442.png', 'Monkeypox_1443.png', 'Monkeypox_1444.png', 'Monkeypox_1445.png', 'Monkeypox_1446.png', 'Monkeypox_1447.png', 'Monkeypox_1448.png', 'Monkeypox_1449.png', 'Monkeypox_1450.png', 'Monkeypox_1451.png', 'Monkeypox_1452.png', 'Monkeypox_1453.png', 'Monkeypox_1454.png', 'Monkeypox_1455.png', 'Monkeypox_1456.png', 'Monkeypox_1457.png', 'Monkeypox_1458.png', 'Monkeypox_1459.png', 'Monkeypox_1460.png', 'Monkeypox_1461.png', 'Monkeypox_1462.png', 'Monkeypox_1463.png', 'Monkeypox_1464.png', 'Monkeypox_1465.png', 'Monkeypox_1466.png', 'Monkeypox_1467.png', 'Monkeypox_1468.png', 'Monkeypox_1469.png', 'Monkeypox_1470.png', 'Monkeypox_1471.png', 'Monkeypox_1472.png', 'Monkeypox_1473.png', 'Monkeypox_1474.png', 'Monkeypox_1475.png', 'Monkeypox_1476.png', 'Monkeypox_1477.png', 'Monkeypox_1478.png', 'Monkeypox_1479.png', 'Monkeypox_1480.png', 'Monkeypox_1481.png', 'Monkeypox_1482.png', 'Monkeypox_1483.png', 'Monkeypox_1484.png', 'Monkeypox_1485.png', 'Monkeypox_1486.png', 'Monkeypox_1487.png', 'Monkeypox_1488.png', 'Monkeypox_1489.png', 'Monkeypox_1490.png', 'Monkeypox_1491.png', 'Monkeypox_1492.png', 'Monkeypox_1493.png', 'Monkeypox_1494.png', 'Monkeypox_1495.png', 'Monkeypox_1496.png', 'Monkeypox_1497.png', 'Monkeypox_1498.png', 'Monkeypox_1499.png', 'Monkeypox_1500.png', 'Monkeypox_1501.png', 'Monkeypox_1502.png', 'Monkeypox_1503.png', 'Monkeypox_1504.png', 'Monkeypox_1505.png', 'Monkeypox_1506.png', 'Monkeypox_1507.png', 'Monkeypox_1508.png', 'Monkeypox_1509.png', 'Monkeypox_1510.png', 'Monkeypox_1511.png', 'Monkeypox_1512.png', 'Monkeypox_1513.png', 'Monkeypox_1514.png', 'Monkeypox_1515.png', 'Monkeypox_1516.png', 'Monkeypox_1517.png', 'Monkeypox_1518.png', 'Monkeypox_1519.png', 'Monkeypox_1520.png', 'Monkeypox_1521.png', 'Monkeypox_1522.png', 'Monkeypox_1523.png', 'Monkeypox_1524.png', 'Monkeypox_1525.png', 'Monkeypox_1526.png', 'Monkeypox_1527.png', 'Monkeypox_1528.png', 'Monkeypox_1529.png', 'Monkeypox_1530.png', 'Monkeypox_1531.png', 'Monkeypox_1532.png', 'Monkeypox_1533.png', 'Monkeypox_1534.png', 'Monkeypox_1535.png', 'Monkeypox_1536.png', 'Monkeypox_1537.png', 'Monkeypox_1538.png', 'Monkeypox_1539.png', 'Monkeypox_1540.png', 'Monkeypox_1541.png', 'Monkeypox_1542.png', 'Monkeypox_1543.png', 'Monkeypox_1544.png', 'Monkeypox_1545.png', 'Monkeypox_1546.png', 'Monkeypox_1547.png', 'Monkeypox_1548.png', 'Monkeypox_1549.png', 'Monkeypox_1550.png', 'Monkeypox_1551.png', 'Monkeypox_1552.png', 'Monkeypox_1553.png', 'Monkeypox_1554.png', 'Monkeypox_1555.png', 'Monkeypox_1556.png', 'Monkeypox_1557.png', 'Monkeypox_1558.png', 'Monkeypox_1559.png', 'Monkeypox_1560.png', 'Monkeypox_1561.png', 'Monkeypox_1562.png', 'Monkeypox_1563.png', 'Monkeypox_1564.png', 'Monkeypox_1565.png', 'Monkeypox_1566.png', 'Monkeypox_1567.png', 'Monkeypox_1568.png', 'Monkeypox_1569.png', 'Monkeypox_1570.png', 'Monkeypox_1571.png', 'Monkeypox_1572.png', 'Monkeypox_1573.png', 'Monkeypox_1574.png', 'Monkeypox_1575.png', 'Monkeypox_1576.png', 'Monkeypox_1577.png', 'Monkeypox_1578.png', 'Monkeypox_1579.png', 'Monkeypox_1580.png', 'Monkeypox_1581.png', 'Monkeypox_1582.png', 'Monkeypox_1583.png', 'Monkeypox_1584.png', 'Monkeypox_1585.png', 'Monkeypox_1586.png', 'Monkeypox_1587.png', 'Monkeypox_1588.png', 'Monkeypox_1589.png', 'Monkeypox_1590.png', 'Monkeypox_1591.png', 'Monkeypox_1592.png', 'Monkeypox_1593.png', 'Monkeypox_1594.png', 'Monkeypox_1595.png', 'Monkeypox_1596.png', 'Monkeypox_1597.png', 'Monkeypox_1598.png', 'Monkeypox_1599.png', 'Monkeypox_1600.png', 'Monkeypox_1601.png', 'Monkeypox_1602.png', 'Monkeypox_1603.png', 'Monkeypox_1604.png', 'Monkeypox_1605.png', 'Monkeypox_1606.png', 'Monkeypox_1607.png', 'Monkeypox_1608.png', 'Monkeypox_1609.png', 'Monkeypox_1610.png', 'Monkeypox_1611.png', 'Monkeypox_1612.png', 'Monkeypox_1613.png', 'Monkeypox_1614.png', 'Monkeypox_1615.png', 'Monkeypox_1616.png', 'Monkeypox_1617.png', 'Monkeypox_1618.png', 'Monkeypox_1619.png', 'Monkeypox_1620.png', 'Monkeypox_1621.png', 'Monkeypox_1622.png', 'Monkeypox_1623.png', 'Monkeypox_1624.png', 'Monkeypox_1625.png', 'Monkeypox_1626.png', 'Monkeypox_1627.png', 'Monkeypox_1628.png', 'Monkeypox_1629.png', 'Monkeypox_1630.png', 'Monkeypox_1631.png', 'Monkeypox_1632.png', 'Monkeypox_1633.png', 'Monkeypox_1634.png', 'Monkeypox_1635.png', 'Monkeypox_1636.png', 'Monkeypox_1637.png', 'Monkeypox_1638.png', 'Monkeypox_1639.png', 'Monkeypox_1640.png', 'Monkeypox_1641.png', 'Monkeypox_1642.png', 'Monkeypox_1643.png', 'Monkeypox_1644.png', 'Monkeypox_1645.png', 'Monkeypox_1646.png', 'Monkeypox_1647.png', 'Monkeypox_1648.png', 'Monkeypox_1649.png', 'Monkeypox_1650.png', 'Monkeypox_1651.png', 'Monkeypox_1652.png', 'Monkeypox_1653.png', 'Monkeypox_1654.png', 'Monkeypox_1655.png', 'Monkeypox_1656.png', 'Monkeypox_1657.png', 'Monkeypox_1658.png', 'Monkeypox_1659.png', 'Monkeypox_1660.png', 'Monkeypox_1661.png', 'Monkeypox_1662.png', 'Monkeypox_1663.png', 'Monkeypox_1664.png', 'Monkeypox_1665.png', 'Monkeypox_1666.png', 'Monkeypox_1667.png', 'Monkeypox_1668.png', 'Monkeypox_1669.png', 'Monkeypox_1670.png', 'Monkeypox_1671.png', 'Monkeypox_1672.png', 'Monkeypox_1673.png', 'Monkeypox_1674.png']\n"
          ]
        }
      ]
    },
    {
      "cell_type": "code",
      "source": [
        "chicken_input_path ='/content/drive/MyDrive/Deep Learning Project/Menu_Aug/step1/Normal/'\n",
        "chicken_output_path ='/content/drive/MyDrive/Deep Learning Project/Menu_Aug/Hue_sat/Normal/'\n",
        "chicken_input_images = listdir(chicken_input_path)\n",
        "chicken_input_images.sort()\n",
        "for i in chicken_input_images:\n",
        "  huesat_aug =  A.augmentations.transforms.HueSaturationValue (hue_shift_limit=20, sat_shift_limit=30, val_shift_limit=20, always_apply=False, p=0.5)\n",
        "for i in chicken_input_images:\n",
        "    path2img = chicken_input_path + i\n",
        "    img = read_image(path2img)\n",
        "    aimg = augment_and_return(huesat_aug,img)\n",
        "    save_augment_img(aimg,i,chicken_output_path)\n"
      ],
      "metadata": {
        "colab": {
          "base_uri": "https://localhost:8080/"
        },
        "id": "NC2csSucoejR",
        "outputId": "298b2d7d-c7f2-4752-a688-f255b41ba728"
      },
      "execution_count": null,
      "outputs": [
        {
          "output_type": "stream",
          "name": "stdout",
          "text": [
            "All Files Renamed\n",
            "New Names are\n",
            "['Chickenpox_878.png', 'Chickenpox_879.png', 'Chickenpox_880.png', 'Chickenpox_881.png', 'Chickenpox_882.png', 'Chickenpox_883.png', 'Chickenpox_884.png', 'Chickenpox_885.png', 'Chickenpox_886.png', 'Chickenpox_887.png', 'Chickenpox_888.png', 'Chickenpox_889.png', 'Chickenpox_890.png', 'Chickenpox_891.png', 'Chickenpox_892.png', 'Chickenpox_893.png', 'Chickenpox_894.png', 'Chickenpox_895.png', 'Chickenpox_896.png', 'Chickenpox_897.png', 'Chickenpox_898.png', 'Chickenpox_899.png', 'Chickenpox_900.png', 'Chickenpox_901.png', 'Chickenpox_902.png', 'Chickenpox_903.png', 'Chickenpox_904.png', 'Chickenpox_905.png', 'Chickenpox_906.png', 'Chickenpox_907.png', 'Chickenpox_908.png', 'Chickenpox_909.png', 'Chickenpox_910.png', 'Chickenpox_911.png', 'Chickenpox_912.png', 'Chickenpox_913.png', 'Chickenpox_914.png', 'Chickenpox_915.png', 'Chickenpox_916.png', 'Chickenpox_917.png', 'Chickenpox_918.png', 'Chickenpox_919.png', 'Chickenpox_920.png', 'Chickenpox_921.png', 'Chickenpox_922.png', 'Chickenpox_923.png', 'Chickenpox_924.png', 'Chickenpox_925.png', 'Chickenpox_926.png', 'Chickenpox_927.png', 'Chickenpox_928.png', 'Chickenpox_929.png', 'Chickenpox_930.png', 'Chickenpox_931.png', 'Chickenpox_932.png', 'Chickenpox_933.png', 'Chickenpox_934.png', 'Chickenpox_935.png', 'Chickenpox_936.png', 'Chickenpox_937.png', 'Chickenpox_938.png', 'Chickenpox_939.png', 'Chickenpox_940.png', 'Chickenpox_941.png', 'Chickenpox_942.png', 'Chickenpox_943.png', 'Chickenpox_944.png', 'Chickenpox_945.png', 'Chickenpox_946.png', 'Chickenpox_947.png', 'Chickenpox_948.png', 'Chickenpox_949.png', 'Chickenpox_950.png', 'Chickenpox_951.png', 'Chickenpox_952.png', 'Chickenpox_953.png', 'Chickenpox_954.png', 'Chickenpox_955.png', 'Chickenpox_956.png', 'Chickenpox_957.png', 'Chickenpox_958.png', 'Chickenpox_959.png', 'Chickenpox_960.png', 'Chickenpox_961.png', 'Chickenpox_962.png', 'Chickenpox_963.png', 'Chickenpox_964.png', 'Chickenpox_965.png', 'Chickenpox_966.png', 'Chickenpox_967.png', 'Chickenpox_968.png', 'Chickenpox_969.png', 'Chickenpox_970.png', 'Chickenpox_971.png', 'Chickenpox_972.png', 'Chickenpox_973.png', 'Chickenpox_974.png', 'Chickenpox_975.png', 'Chickenpox_976.png', 'Chickenpox_977.png', 'Chickenpox_978.png', 'Chickenpox_979.png', 'Chickenpox_980.png', 'Chickenpox_981.png', 'Chickenpox_982.png', 'Chickenpox_983.png', 'Chickenpox_984.png', 'Chickenpox_985.png', 'Chickenpox_986.png', 'Chickenpox_987.png', 'Chickenpox_988.png', 'Chickenpox_989.png', 'Chickenpox_990.png', 'Chickenpox_991.png', 'Chickenpox_992.png', 'Chickenpox_993.png', 'Chickenpox_994.png', 'Chickenpox_995.png', 'Chickenpox_996.png', 'Chickenpox_997.png', 'Chickenpox_998.png', 'Chickenpox_999.png', 'Chickenpox_1000.png', 'Chickenpox_1001.png', 'Chickenpox_1002.png', 'Chickenpox_1003.png', 'Chickenpox_1004.png', 'Chickenpox_1005.png', 'Chickenpox_1006.png', 'Chickenpox_1007.png', 'Chickenpox_1008.png', 'Chickenpox_1009.png', 'Chickenpox_1010.png', 'Chickenpox_1011.png', 'Chickenpox_1012.png', 'Chickenpox_1013.png', 'Chickenpox_1014.png', 'Chickenpox_1015.png', 'Chickenpox_1016.png', 'Chickenpox_1017.png', 'Chickenpox_1018.png', 'Chickenpox_1019.png', 'Chickenpox_1020.png', 'Chickenpox_1021.png', 'Chickenpox_1022.png', 'Chickenpox_1023.png', 'Chickenpox_1024.png', 'Chickenpox_1025.png', 'Chickenpox_1026.png', 'Chickenpox_1027.png', 'Chickenpox_1028.png', 'Chickenpox_1029.png', 'Chickenpox_1030.png', 'Chickenpox_1031.png', 'Chickenpox_1032.png', 'Chickenpox_1033.png', 'Chickenpox_1034.png', 'Chickenpox_1035.png', 'Chickenpox_1036.png', 'Chickenpox_1037.png', 'Chickenpox_1038.png', 'Chickenpox_1039.png', 'Chickenpox_1040.png', 'Chickenpox_1041.png', 'Chickenpox_1042.png', 'Chickenpox_1043.png', 'Chickenpox_1044.png', 'Chickenpox_1045.png', 'Chickenpox_1046.png', 'Chickenpox_1047.png', 'Chickenpox_1048.png', 'Chickenpox_1049.png', 'Chickenpox_1050.png', 'Chickenpox_1051.png', 'Chickenpox_1052.png', 'Chickenpox_1053.png', 'Chickenpox_1054.png', 'Chickenpox_1055.png', 'Chickenpox_1056.png', 'Chickenpox_1057.png', 'Chickenpox_1058.png', 'Chickenpox_1059.png', 'Chickenpox_1060.png', 'Chickenpox_1061.png', 'Chickenpox_1062.png', 'Chickenpox_1063.png', 'Chickenpox_1064.png', 'Chickenpox_1065.png', 'Chickenpox_1066.png', 'Chickenpox_1067.png', 'Chickenpox_1068.png', 'Chickenpox_1069.png', 'Chickenpox_1070.png', 'Chickenpox_1071.png', 'Chickenpox_1072.png', 'Chickenpox_1073.png', 'Chickenpox_1074.png', 'Chickenpox_1075.png', 'Chickenpox_1076.png', 'Chickenpox_1077.png', 'Chickenpox_1078.png', 'Chickenpox_1079.png', 'Chickenpox_1080.png', 'Chickenpox_1081.png', 'Chickenpox_1082.png', 'Chickenpox_1083.png', 'Chickenpox_1084.png', 'Chickenpox_1085.png', 'Chickenpox_1086.png', 'Chickenpox_1087.png', 'Chickenpox_1088.png', 'Chickenpox_1089.png', 'Chickenpox_1090.png', 'Chickenpox_1091.png', 'Chickenpox_1092.png', 'Chickenpox_1093.png', 'Chickenpox_1094.png', 'Chickenpox_1095.png', 'Chickenpox_1096.png', 'Chickenpox_1097.png', 'Chickenpox_1098.png', 'Chickenpox_1099.png', 'Chickenpox_1100.png', 'Chickenpox_1101.png', 'Chickenpox_1102.png', 'Chickenpox_1103.png', 'Chickenpox_1104.png', 'Chickenpox_1105.png', 'Chickenpox_1106.png', 'Chickenpox_1107.png', 'Chickenpox_1108.png', 'Chickenpox_1109.png', 'Chickenpox_1110.png', 'Chickenpox_1111.png', 'Chickenpox_1112.png', 'Chickenpox_1113.png', 'Chickenpox_1114.png', 'Chickenpox_1115.png', 'Chickenpox_1116.png', 'Chickenpox_1117.png', 'Chickenpox_1118.png', 'Chickenpox_1119.png', 'Chickenpox_1120.png', 'Chickenpox_1121.png', 'Chickenpox_1122.png', 'Chickenpox_1123.png', 'Chickenpox_1124.png', 'Chickenpox_1125.png', 'Chickenpox_1126.png', 'Chickenpox_1127.png', 'Chickenpox_1128.png', 'Chickenpox_1129.png', 'Chickenpox_1130.png', 'Chickenpox_1131.png', 'Chickenpox_1132.png', 'Chickenpox_1133.png', 'Chickenpox_1134.png', 'Chickenpox_1135.png', 'Chickenpox_1136.png', 'Chickenpox_1137.png', 'Chickenpox_1138.png', 'Chickenpox_1139.png', 'Chickenpox_1140.png', 'Chickenpox_1141.png', 'Chickenpox_1142.png', 'Chickenpox_1143.png', 'Chickenpox_1144.png', 'Chickenpox_1145.png', 'Chickenpox_1146.png', 'Chickenpox_1147.png', 'Chickenpox_1148.png', 'Chickenpox_1149.png', 'Chickenpox_1150.png', 'Chickenpox_1151.png', 'Chickenpox_1152.png', 'Chickenpox_1153.png', 'Chickenpox_1154.png', 'Chickenpox_1155.png', 'Chickenpox_1156.png', 'Chickenpox_1157.png', 'Chickenpox_1158.png', 'Chickenpox_1159.png', 'Chickenpox_1160.png', 'Chickenpox_1161.png', 'Chickenpox_1162.png', 'Chickenpox_1163.png', 'Chickenpox_1164.png', 'Chickenpox_1165.png', 'Chickenpox_1166.png', 'Chickenpox_1167.png', 'Chickenpox_1168.png', 'Chickenpox_1169.png', 'Chickenpox_1170.png', 'Chickenpox_1171.png', 'Chickenpox_1172.png', 'Chickenpox_1173.png', 'Chickenpox_1174.png', 'Chickenpox_1175.png', 'Chickenpox_1176.png', 'Chickenpox_1177.png', 'Chickenpox_1178.png', 'Chickenpox_1179.png', 'Chickenpox_1180.png', 'Chickenpox_1181.png', 'Chickenpox_1182.png', 'Chickenpox_1183.png', 'Chickenpox_1184.png', 'Chickenpox_1185.png', 'Chickenpox_1186.png', 'Chickenpox_1187.png', 'Chickenpox_1188.png', 'Chickenpox_1189.png', 'Chickenpox_1190.png', 'Chickenpox_1191.png', 'Chickenpox_1192.png', 'Chickenpox_1193.png', 'Chickenpox_1194.png', 'Chickenpox_1195.png', 'Chickenpox_1196.png', 'Chickenpox_1197.png', 'Chickenpox_1198.png', 'Chickenpox_1199.png', 'Chickenpox_1200.png', 'Chickenpox_1201.png', 'Chickenpox_1202.png', 'Chickenpox_1203.png', 'Chickenpox_1204.png', 'Chickenpox_1205.png', 'Chickenpox_1206.png', 'Chickenpox_1207.png', 'Chickenpox_1208.png', 'Chickenpox_1209.png', 'Chickenpox_1210.png', 'Chickenpox_1211.png', 'Chickenpox_1212.png', 'Chickenpox_1213.png', 'Chickenpox_1214.png', 'Chickenpox_1215.png', 'Chickenpox_1216.png', 'Chickenpox_1217.png', 'Chickenpox_1218.png', 'Chickenpox_1219.png', 'Chickenpox_1220.png', 'Chickenpox_1221.png', 'Chickenpox_1222.png', 'Chickenpox_1223.png', 'Chickenpox_1224.png', 'Chickenpox_1225.png', 'Chickenpox_1226.png', 'Chickenpox_1227.png', 'Chickenpox_1228.png', 'Chickenpox_1229.png', 'Chickenpox_1230.png', 'Chickenpox_1231.png', 'Chickenpox_1232.png', 'Chickenpox_1233.png', 'Chickenpox_1234.png', 'Chickenpox_1235.png', 'Chickenpox_1236.png', 'Chickenpox_1237.png', 'Chickenpox_1238.png', 'Chickenpox_1239.png', 'Chickenpox_1240.png', 'Chickenpox_1241.png', 'Chickenpox_1242.png', 'Chickenpox_1243.png', 'Chickenpox_1244.png', 'Chickenpox_1245.png', 'Chickenpox_1246.png', 'Chickenpox_1247.png', 'Chickenpox_1248.png', 'Chickenpox_1249.png', 'Chickenpox_1250.png', 'Chickenpox_1251.png', 'Chickenpox_1252.png', 'Chickenpox_1253.png', 'Chickenpox_1254.png', 'Chickenpox_1255.png', 'Chickenpox_1256.png', 'Chickenpox_1257.png', 'Chickenpox_1258.png', 'Chickenpox_1259.png', 'Chickenpox_1260.png', 'Chickenpox_1261.png', 'Chickenpox_1262.png', 'Chickenpox_1263.png', 'Chickenpox_1264.png', 'Chickenpox_1265.png', 'Chickenpox_1266.png', 'Chickenpox_1267.png', 'Chickenpox_1268.png', 'Chickenpox_1269.png', 'Chickenpox_1270.png', 'Chickenpox_1271.png', 'Chickenpox_1272.png', 'Chickenpox_1273.png', 'Chickenpox_1274.png', 'Chickenpox_1275.png', 'Chickenpox_1276.png', 'Chickenpox_1277.png', 'Chickenpox_1278.png', 'Chickenpox_1279.png', 'Chickenpox_1280.png', 'Chickenpox_1281.png', 'Chickenpox_1282.png', 'Chickenpox_1283.png', 'Chickenpox_1284.png', 'Chickenpox_1285.png', 'Chickenpox_1286.png', 'Chickenpox_1287.png', 'Chickenpox_1288.png', 'Chickenpox_1289.png', 'Chickenpox_1290.png', 'Chickenpox_1291.png', 'Chickenpox_1292.png', 'Chickenpox_1293.png', 'Chickenpox_1294.png', 'Chickenpox_1295.png', 'Chickenpox_1296.png', 'Chickenpox_1297.png', 'Chickenpox_1298.png', 'Chickenpox_1299.png', 'Chickenpox_1300.png', 'Chickenpox_1301.png', 'Chickenpox_1302.png', 'Chickenpox_1303.png', 'Chickenpox_1304.png', 'Chickenpox_1305.png', 'Chickenpox_1306.png', 'Chickenpox_1307.png', 'Chickenpox_1308.png', 'Chickenpox_1309.png', 'Chickenpox_1310.png', 'Chickenpox_1311.png', 'Chickenpox_1312.png', 'Chickenpox_1313.png', 'Chickenpox_1314.png', 'Chickenpox_1315.png', 'Chickenpox_1316.png', 'Chickenpox_1317.png', 'Chickenpox_1318.png', 'Chickenpox_1319.png', 'Chickenpox_1320.png', 'Chickenpox_1321.png', 'Chickenpox_1322.png', 'Chickenpox_1323.png', 'Chickenpox_1324.png', 'Chickenpox_1325.png', 'Chickenpox_1326.png', 'Chickenpox_1327.png', 'Chickenpox_1328.png', 'Chickenpox_1329.png', 'Chickenpox_1330.png', 'Chickenpox_1331.png', 'Chickenpox_1332.png', 'Chickenpox_1333.png', 'Chickenpox_1334.png', 'Chickenpox_1335.png', 'Chickenpox_1336.png', 'Chickenpox_1337.png', 'Chickenpox_1338.png', 'Chickenpox_1339.png', 'Chickenpox_1340.png', 'Chickenpox_1341.png', 'Chickenpox_1342.png', 'Chickenpox_1343.png', 'Chickenpox_1344.png', 'Chickenpox_1345.png', 'Chickenpox_1346.png', 'Chickenpox_1347.png', 'Chickenpox_1348.png', 'Chickenpox_1349.png', 'Chickenpox_1350.png', 'Chickenpox_1351.png', 'Chickenpox_1352.png', 'Chickenpox_1353.png', 'Chickenpox_1354.png', 'Chickenpox_1355.png', 'Chickenpox_1356.png', 'Chickenpox_1357.png', 'Chickenpox_1358.png', 'Chickenpox_1359.png', 'Chickenpox_1360.png', 'Chickenpox_1361.png', 'Chickenpox_1362.png', 'Chickenpox_1363.png', 'Chickenpox_1364.png', 'Chickenpox_1365.png', 'Chickenpox_1366.png', 'Chickenpox_1367.png', 'Chickenpox_1368.png', 'Chickenpox_1369.png', 'Chickenpox_1370.png', 'Chickenpox_1371.png', 'Chickenpox_1372.png', 'Chickenpox_1373.png', 'Chickenpox_1374.png', 'Chickenpox_1375.png', 'Chickenpox_1376.png', 'Chickenpox_1377.png', 'Chickenpox_1378.png', 'Chickenpox_1379.png', 'Chickenpox_1380.png', 'Chickenpox_1381.png', 'Chickenpox_1382.png', 'Chickenpox_1383.png', 'Chickenpox_1384.png', 'Chickenpox_1385.png', 'Chickenpox_1386.png', 'Chickenpox_1387.png', 'Chickenpox_1388.png', 'Chickenpox_1389.png', 'Chickenpox_1390.png', 'Chickenpox_1391.png', 'Chickenpox_1392.png', 'Chickenpox_1393.png', 'Chickenpox_1394.png', 'Chickenpox_1395.png', 'Chickenpox_1396.png', 'Chickenpox_1397.png', 'Chickenpox_1398.png', 'Chickenpox_1399.png', 'Chickenpox_1400.png', 'Chickenpox_1401.png', 'Chickenpox_1402.png', 'Chickenpox_1403.png', 'Chickenpox_1404.png', 'Chickenpox_1405.png', 'Chickenpox_1406.png', 'Chickenpox_1407.png', 'Chickenpox_1408.png', 'Chickenpox_1409.png', 'Chickenpox_1410.png', 'Chickenpox_1411.png', 'Chickenpox_1412.png', 'Chickenpox_1413.png', 'Chickenpox_1414.png', 'Chickenpox_1415.png', 'Chickenpox_1416.png', 'Chickenpox_1417.png', 'Chickenpox_1418.png', 'Chickenpox_1419.png', 'Chickenpox_1420.png', 'Chickenpox_1421.png', 'Chickenpox_1422.png', 'Chickenpox_1423.png', 'Chickenpox_1424.png', 'Chickenpox_1425.png', 'Chickenpox_1426.png', 'Chickenpox_1427.png', 'Chickenpox_1428.png', 'Chickenpox_1429.png', 'Chickenpox_1430.png', 'Chickenpox_1431.png', 'Chickenpox_1432.png', 'Chickenpox_1433.png', 'Chickenpox_1434.png', 'Chickenpox_1435.png', 'Chickenpox_1436.png', 'Chickenpox_1437.png', 'Chickenpox_1438.png', 'Chickenpox_1439.png', 'Chickenpox_1440.png', 'Chickenpox_1441.png', 'Chickenpox_1442.png', 'Chickenpox_1443.png', 'Chickenpox_1444.png', 'Chickenpox_1445.png', 'Chickenpox_1446.png', 'Chickenpox_1447.png', 'Chickenpox_1448.png', 'Chickenpox_1449.png', 'Chickenpox_1450.png', 'Chickenpox_1451.png', 'Chickenpox_1452.png', 'Chickenpox_1453.png', 'Chickenpox_1454.png', 'Chickenpox_1455.png', 'Chickenpox_1456.png', 'Chickenpox_1457.png', 'Chickenpox_1458.png', 'Chickenpox_1459.png', 'Chickenpox_1460.png', 'Chickenpox_1461.png', 'Chickenpox_1462.png', 'Chickenpox_1463.png', 'Chickenpox_1464.png', 'Chickenpox_1465.png', 'Chickenpox_1466.png', 'Chickenpox_1467.png', 'Chickenpox_1468.png', 'Chickenpox_1469.png', 'Chickenpox_1470.png', 'Chickenpox_1471.png', 'Chickenpox_1472.png', 'Chickenpox_1473.png', 'Chickenpox_1474.png', 'Chickenpox_1475.png', 'Chickenpox_1476.png', 'Chickenpox_1477.png', 'Chickenpox_1478.png', 'Chickenpox_1479.png', 'Chickenpox_1480.png', 'Chickenpox_1481.png', 'Chickenpox_1482.png', 'Chickenpox_1483.png', 'Chickenpox_1484.png', 'Chickenpox_1485.png', 'Chickenpox_1486.png', 'Chickenpox_1487.png', 'Chickenpox_1488.png', 'Chickenpox_1489.png', 'Chickenpox_1490.png', 'Chickenpox_1491.png', 'Chickenpox_1492.png', 'Chickenpox_1493.png', 'Chickenpox_1494.png', 'Chickenpox_1495.png', 'Chickenpox_1496.png', 'Chickenpox_1497.png', 'Chickenpox_1498.png', 'Chickenpox_1499.png', 'Chickenpox_1500.png', 'Chickenpox_1501.png', 'Chickenpox_1502.png', 'Chickenpox_1503.png', 'Chickenpox_1504.png', 'Chickenpox_1505.png', 'Chickenpox_1506.png', 'Chickenpox_1507.png', 'Chickenpox_1508.png', 'Chickenpox_1509.png', 'Chickenpox_1510.png', 'Chickenpox_1511.png', 'Chickenpox_1512.png', 'Chickenpox_1513.png', 'Chickenpox_1514.png', 'Chickenpox_1515.png', 'Chickenpox_1516.png', 'Chickenpox_1517.png', 'Chickenpox_1518.png', 'Chickenpox_1519.png', 'Chickenpox_1520.png', 'Chickenpox_1521.png', 'Chickenpox_1522.png', 'Chickenpox_1523.png', 'Chickenpox_1524.png', 'Chickenpox_1525.png', 'Chickenpox_1526.png', 'Chickenpox_1527.png', 'Chickenpox_1528.png', 'Chickenpox_1529.png', 'Chickenpox_1530.png', 'Chickenpox_1531.png', 'Chickenpox_1532.png', 'Chickenpox_1533.png', 'Chickenpox_1534.png', 'Chickenpox_1535.png', 'Chickenpox_1536.png', 'Chickenpox_1537.png', 'Chickenpox_1538.png', 'Chickenpox_1539.png', 'Chickenpox_1540.png', 'Chickenpox_1541.png', 'Chickenpox_1542.png', 'Chickenpox_1543.png', 'Chickenpox_1544.png', 'Chickenpox_1545.png', 'Chickenpox_1546.png', 'Chickenpox_1547.png', 'Chickenpox_1548.png', 'Chickenpox_1549.png', 'Chickenpox_1550.png', 'Chickenpox_1551.png', 'Chickenpox_1552.png', 'Chickenpox_1553.png', 'Chickenpox_1554.png', 'Chickenpox_1555.png', 'Chickenpox_1556.png', 'Chickenpox_1557.png', 'Chickenpox_1558.png', 'Chickenpox_1559.png', 'Chickenpox_1560.png', 'Chickenpox_1561.png', 'Chickenpox_1562.png', 'Chickenpox_1563.png', 'Chickenpox_1564.png', 'Chickenpox_1565.png', 'Chickenpox_1566.png', 'Chickenpox_1567.png', 'Chickenpox_1568.png', 'Chickenpox_1569.png', 'Chickenpox_1570.png', 'Chickenpox_1571.png', 'Chickenpox_1572.png', 'Chickenpox_1573.png', 'Chickenpox_1574.png', 'Chickenpox_1575.png', 'Chickenpox_1576.png', 'Chickenpox_1577.png', 'Chickenpox_1578.png', 'Chickenpox_1579.png', 'Chickenpox_1580.png', 'Chickenpox_1581.png', 'Chickenpox_1582.png', 'Chickenpox_1583.png', 'Chickenpox_1584.png', 'Chickenpox_1585.png', 'Chickenpox_1586.png', 'Chickenpox_1587.png', 'Chickenpox_1588.png', 'Chickenpox_1589.png', 'Chickenpox_1590.png', 'Chickenpox_1591.png', 'Chickenpox_1592.png', 'Chickenpox_1593.png', 'Chickenpox_1594.png', 'Chickenpox_1595.png', 'Chickenpox_1596.png', 'Chickenpox_1597.png', 'Chickenpox_1598.png', 'Chickenpox_1599.png', 'Chickenpox_1600.png', 'Chickenpox_1601.png', 'Chickenpox_1602.png', 'Chickenpox_1603.png', 'Chickenpox_1604.png', 'Chickenpox_1605.png', 'Chickenpox_1606.png', 'Chickenpox_1607.png', 'Chickenpox_1608.png', 'Chickenpox_1609.png', 'Chickenpox_1610.png', 'Chickenpox_1611.png', 'Chickenpox_1612.png', 'Chickenpox_1613.png', 'Chickenpox_1614.png', 'Chickenpox_1615.png', 'Chickenpox_1616.png', 'Chickenpox_1617.png', 'Chickenpox_1618.png', 'Chickenpox_1619.png', 'Chickenpox_1620.png', 'Chickenpox_1621.png', 'Chickenpox_1622.png', 'Chickenpox_1623.png', 'Chickenpox_1624.png', 'Chickenpox_1625.png', 'Chickenpox_1626.png', 'Chickenpox_1627.png', 'Chickenpox_1628.png', 'Chickenpox_1629.png', 'Chickenpox_1630.png', 'Chickenpox_1631.png', 'Chickenpox_1632.png', 'Chickenpox_1633.png', 'Chickenpox_1634.png', 'Chickenpox_1635.png', 'Chickenpox_1636.png', 'Chickenpox_1637.png', 'Chickenpox_1638.png', 'Chickenpox_1639.png', 'Chickenpox_1640.png', 'Chickenpox_1641.png', 'Chickenpox_1642.png', 'Chickenpox_1643.png', 'Chickenpox_1644.png', 'Chickenpox_1645.png', 'Chickenpox_1646.png', 'Chickenpox_1647.png', 'Chickenpox_1648.png', 'Chickenpox_1649.png', 'Chickenpox_1650.png', 'Chickenpox_1651.png', 'Chickenpox_1652.png', 'Chickenpox_1653.png', 'Chickenpox_1654.png', 'Chickenpox_1655.png', 'Chickenpox_1656.png', 'Chickenpox_1657.png', 'Chickenpox_1658.png', 'Chickenpox_1659.png', 'Chickenpox_1660.png', 'Chickenpox_1661.png', 'Chickenpox_1662.png', 'Chickenpox_1663.png', 'Chickenpox_1664.png', 'Chickenpox_1665.png', 'Chickenpox_1666.png', 'Chickenpox_1667.png', 'Chickenpox_1668.png', 'Chickenpox_1669.png', 'Chickenpox_1670.png', 'Chickenpox_1671.png', 'Chickenpox_1672.png', 'Chickenpox_1673.png', 'Chickenpox_1674.png', 'Chickenpox_1675.png', 'Chickenpox_1676.png', 'Chickenpox_1677.png', 'Chickenpox_1678.png', 'Chickenpox_1679.png', 'Chickenpox_1680.png', 'Chickenpox_1681.png', 'Chickenpox_1682.png', 'Chickenpox_1683.png', 'Chickenpox_1684.png', 'Chickenpox_1685.png', 'Chickenpox_1686.png', 'Chickenpox_1687.png', 'Chickenpox_1688.png', 'Chickenpox_1689.png', 'Chickenpox_1690.png', 'Chickenpox_1691.png', 'Chickenpox_1692.png', 'Chickenpox_1693.png', 'Chickenpox_1694.png', 'Chickenpox_1695.png', 'Chickenpox_1696.png', 'Chickenpox_1697.png', 'Chickenpox_1698.png', 'Chickenpox_1699.png', 'Chickenpox_1700.png', 'Chickenpox_1701.png', 'Chickenpox_1702.png', 'Chickenpox_1703.png', 'Chickenpox_1704.png', 'Chickenpox_1705.png', 'Chickenpox_1706.png', 'Chickenpox_1707.png', 'Chickenpox_1708.png', 'Chickenpox_1709.png', 'Chickenpox_1710.png', 'Chickenpox_1711.png', 'Chickenpox_1712.png', 'Chickenpox_1713.png', 'Chickenpox_1714.png', 'Chickenpox_1715.png', 'Chickenpox_1716.png', 'Chickenpox_1717.png', 'Chickenpox_1718.png', 'Chickenpox_1719.png', 'Chickenpox_1720.png', 'Chickenpox_1721.png', 'Chickenpox_1722.png', 'Chickenpox_1723.png', 'Chickenpox_1724.png', 'Chickenpox_1725.png', 'Chickenpox_1726.png', 'Chickenpox_1727.png', 'Chickenpox_1728.png', 'Chickenpox_1729.png', 'Chickenpox_1730.png', 'Chickenpox_1731.png', 'Chickenpox_1732.png', 'Chickenpox_1733.png', 'Chickenpox_1734.png', 'Chickenpox_1735.png', 'Chickenpox_1736.png', 'Chickenpox_1737.png', 'Chickenpox_1738.png', 'Chickenpox_1739.png', 'Chickenpox_1740.png', 'Chickenpox_1741.png', 'Chickenpox_1742.png', 'Chickenpox_1743.png', 'Chickenpox_1744.png', 'Chickenpox_1745.png', 'Chickenpox_1746.png', 'Chickenpox_1747.png', 'Chickenpox_1748.png', 'Chickenpox_1749.png', 'Chickenpox_1750.png', 'Chickenpox_1751.png', 'Chickenpox_1752.png', 'Chickenpox_1753.png', 'Chickenpox_1754.png', 'Chickenpox_1755.png', 'Chickenpox_1756.png']\n"
          ]
        }
      ]
    },
    {
      "cell_type": "code",
      "source": [
        "\n",
        "import os\n",
        "\n",
        "folder = r'/content/drive/MyDrive/Deep Learning Project/Menu_Aug/Hue_sat/Normal/'\n",
        "count = 878\n",
        "# count increase by 1 in each iteration\n",
        "# iterate all files from a directory\n",
        "for file_name in os.listdir(folder):\n",
        "    # Construct old file name\n",
        "    source = folder + file_name\n",
        "\n",
        "    # Adding the count to the new file name and extension\n",
        "    destination = folder + \"Normal_\" + str(count) + \".png\"\n",
        "\n",
        "    # Renaming the file\n",
        "    os.rename(source, destination)\n",
        "    count += 1\n",
        "print('All Files Renamed')\n",
        "\n",
        "print('New Names are')\n",
        "# verify the result\n",
        "res = os.listdir(folder)\n",
        "print(res)"
      ],
      "metadata": {
        "colab": {
          "base_uri": "https://localhost:8080/"
        },
        "id": "BwT5Hb8ovLrS",
        "outputId": "ab472e58-1621-49a4-c62f-e24d88af799d"
      },
      "execution_count": null,
      "outputs": [
        {
          "output_type": "stream",
          "name": "stdout",
          "text": [
            "All Files Renamed\n",
            "New Names are\n",
            "['Normal_878.png', 'Normal_879.png', 'Normal_880.png', 'Normal_881.png', 'Normal_882.png', 'Normal_883.png', 'Normal_884.png', 'Normal_885.png', 'Normal_886.png', 'Normal_887.png', 'Normal_888.png', 'Normal_889.png', 'Normal_890.png', 'Normal_891.png', 'Normal_892.png', 'Normal_893.png', 'Normal_894.png', 'Normal_895.png', 'Normal_896.png', 'Normal_897.png', 'Normal_898.png', 'Normal_899.png', 'Normal_900.png', 'Normal_901.png', 'Normal_902.png', 'Normal_903.png', 'Normal_904.png', 'Normal_905.png', 'Normal_906.png', 'Normal_907.png', 'Normal_908.png', 'Normal_909.png', 'Normal_910.png', 'Normal_911.png', 'Normal_912.png', 'Normal_913.png', 'Normal_914.png', 'Normal_915.png', 'Normal_916.png', 'Normal_917.png', 'Normal_918.png', 'Normal_919.png', 'Normal_920.png', 'Normal_921.png', 'Normal_922.png', 'Normal_923.png', 'Normal_924.png', 'Normal_925.png', 'Normal_926.png', 'Normal_927.png', 'Normal_928.png', 'Normal_929.png', 'Normal_930.png', 'Normal_931.png', 'Normal_932.png', 'Normal_933.png', 'Normal_934.png', 'Normal_935.png', 'Normal_936.png', 'Normal_937.png', 'Normal_938.png', 'Normal_939.png', 'Normal_940.png', 'Normal_941.png', 'Normal_942.png', 'Normal_943.png', 'Normal_944.png', 'Normal_945.png', 'Normal_946.png', 'Normal_947.png', 'Normal_948.png', 'Normal_949.png', 'Normal_950.png', 'Normal_951.png', 'Normal_952.png', 'Normal_953.png', 'Normal_954.png', 'Normal_955.png', 'Normal_956.png', 'Normal_957.png', 'Normal_958.png', 'Normal_959.png', 'Normal_960.png', 'Normal_961.png', 'Normal_962.png', 'Normal_963.png', 'Normal_964.png', 'Normal_965.png', 'Normal_966.png', 'Normal_967.png', 'Normal_968.png', 'Normal_969.png', 'Normal_970.png', 'Normal_971.png', 'Normal_972.png', 'Normal_973.png', 'Normal_974.png', 'Normal_975.png', 'Normal_976.png', 'Normal_977.png', 'Normal_978.png', 'Normal_979.png', 'Normal_980.png', 'Normal_981.png', 'Normal_982.png', 'Normal_983.png', 'Normal_984.png', 'Normal_985.png', 'Normal_986.png', 'Normal_987.png', 'Normal_988.png', 'Normal_989.png', 'Normal_990.png', 'Normal_991.png', 'Normal_992.png', 'Normal_993.png', 'Normal_994.png', 'Normal_995.png', 'Normal_996.png', 'Normal_997.png', 'Normal_998.png', 'Normal_999.png', 'Normal_1000.png', 'Normal_1001.png', 'Normal_1002.png', 'Normal_1003.png', 'Normal_1004.png', 'Normal_1005.png', 'Normal_1006.png', 'Normal_1007.png', 'Normal_1008.png', 'Normal_1009.png', 'Normal_1010.png', 'Normal_1011.png', 'Normal_1012.png', 'Normal_1013.png', 'Normal_1014.png', 'Normal_1015.png', 'Normal_1016.png', 'Normal_1017.png', 'Normal_1018.png', 'Normal_1019.png', 'Normal_1020.png', 'Normal_1021.png', 'Normal_1022.png', 'Normal_1023.png', 'Normal_1024.png', 'Normal_1025.png', 'Normal_1026.png', 'Normal_1027.png', 'Normal_1028.png', 'Normal_1029.png', 'Normal_1030.png', 'Normal_1031.png', 'Normal_1032.png', 'Normal_1033.png', 'Normal_1034.png', 'Normal_1035.png', 'Normal_1036.png', 'Normal_1037.png', 'Normal_1038.png', 'Normal_1039.png', 'Normal_1040.png', 'Normal_1041.png', 'Normal_1042.png', 'Normal_1043.png', 'Normal_1044.png', 'Normal_1045.png', 'Normal_1046.png', 'Normal_1047.png', 'Normal_1048.png', 'Normal_1049.png', 'Normal_1050.png', 'Normal_1051.png', 'Normal_1052.png', 'Normal_1053.png', 'Normal_1054.png', 'Normal_1055.png', 'Normal_1056.png', 'Normal_1057.png', 'Normal_1058.png', 'Normal_1059.png', 'Normal_1060.png', 'Normal_1061.png', 'Normal_1062.png', 'Normal_1063.png', 'Normal_1064.png', 'Normal_1065.png', 'Normal_1066.png', 'Normal_1067.png', 'Normal_1068.png', 'Normal_1069.png', 'Normal_1070.png', 'Normal_1071.png', 'Normal_1072.png', 'Normal_1073.png', 'Normal_1074.png', 'Normal_1075.png', 'Normal_1076.png', 'Normal_1077.png', 'Normal_1078.png', 'Normal_1079.png', 'Normal_1080.png', 'Normal_1081.png', 'Normal_1082.png', 'Normal_1083.png', 'Normal_1084.png', 'Normal_1085.png', 'Normal_1086.png', 'Normal_1087.png', 'Normal_1088.png', 'Normal_1089.png', 'Normal_1090.png', 'Normal_1091.png', 'Normal_1092.png', 'Normal_1093.png', 'Normal_1094.png', 'Normal_1095.png', 'Normal_1096.png', 'Normal_1097.png', 'Normal_1098.png', 'Normal_1099.png', 'Normal_1100.png', 'Normal_1101.png', 'Normal_1102.png', 'Normal_1103.png', 'Normal_1104.png', 'Normal_1105.png', 'Normal_1106.png', 'Normal_1107.png', 'Normal_1108.png', 'Normal_1109.png', 'Normal_1110.png', 'Normal_1111.png', 'Normal_1112.png', 'Normal_1113.png', 'Normal_1114.png', 'Normal_1115.png', 'Normal_1116.png', 'Normal_1117.png', 'Normal_1118.png', 'Normal_1119.png', 'Normal_1120.png', 'Normal_1121.png', 'Normal_1122.png', 'Normal_1123.png', 'Normal_1124.png', 'Normal_1125.png', 'Normal_1126.png', 'Normal_1127.png', 'Normal_1128.png', 'Normal_1129.png', 'Normal_1130.png', 'Normal_1131.png', 'Normal_1132.png', 'Normal_1133.png', 'Normal_1134.png', 'Normal_1135.png', 'Normal_1136.png', 'Normal_1137.png', 'Normal_1138.png', 'Normal_1139.png', 'Normal_1140.png', 'Normal_1141.png', 'Normal_1142.png', 'Normal_1143.png', 'Normal_1144.png', 'Normal_1145.png', 'Normal_1146.png', 'Normal_1147.png', 'Normal_1148.png', 'Normal_1149.png', 'Normal_1150.png', 'Normal_1151.png', 'Normal_1152.png', 'Normal_1153.png', 'Normal_1154.png', 'Normal_1155.png', 'Normal_1156.png', 'Normal_1157.png', 'Normal_1158.png', 'Normal_1159.png', 'Normal_1160.png', 'Normal_1161.png', 'Normal_1162.png', 'Normal_1163.png', 'Normal_1164.png', 'Normal_1165.png', 'Normal_1166.png', 'Normal_1167.png', 'Normal_1168.png', 'Normal_1169.png', 'Normal_1170.png', 'Normal_1171.png', 'Normal_1172.png', 'Normal_1173.png', 'Normal_1174.png', 'Normal_1175.png', 'Normal_1176.png', 'Normal_1177.png', 'Normal_1178.png', 'Normal_1179.png', 'Normal_1180.png', 'Normal_1181.png', 'Normal_1182.png', 'Normal_1183.png', 'Normal_1184.png', 'Normal_1185.png', 'Normal_1186.png', 'Normal_1187.png', 'Normal_1188.png', 'Normal_1189.png', 'Normal_1190.png', 'Normal_1191.png', 'Normal_1192.png', 'Normal_1193.png', 'Normal_1194.png', 'Normal_1195.png', 'Normal_1196.png', 'Normal_1197.png', 'Normal_1198.png', 'Normal_1199.png', 'Normal_1200.png', 'Normal_1201.png', 'Normal_1202.png', 'Normal_1203.png', 'Normal_1204.png', 'Normal_1205.png', 'Normal_1206.png', 'Normal_1207.png', 'Normal_1208.png', 'Normal_1209.png', 'Normal_1210.png', 'Normal_1211.png', 'Normal_1212.png', 'Normal_1213.png', 'Normal_1214.png', 'Normal_1215.png', 'Normal_1216.png', 'Normal_1217.png', 'Normal_1218.png', 'Normal_1219.png', 'Normal_1220.png', 'Normal_1221.png', 'Normal_1222.png', 'Normal_1223.png', 'Normal_1224.png', 'Normal_1225.png', 'Normal_1226.png', 'Normal_1227.png', 'Normal_1228.png', 'Normal_1229.png', 'Normal_1230.png', 'Normal_1231.png', 'Normal_1232.png', 'Normal_1233.png', 'Normal_1234.png', 'Normal_1235.png', 'Normal_1236.png', 'Normal_1237.png', 'Normal_1238.png', 'Normal_1239.png', 'Normal_1240.png', 'Normal_1241.png', 'Normal_1242.png', 'Normal_1243.png', 'Normal_1244.png', 'Normal_1245.png', 'Normal_1246.png', 'Normal_1247.png', 'Normal_1248.png', 'Normal_1249.png', 'Normal_1250.png', 'Normal_1251.png', 'Normal_1252.png', 'Normal_1253.png', 'Normal_1254.png', 'Normal_1255.png', 'Normal_1256.png', 'Normal_1257.png', 'Normal_1258.png', 'Normal_1259.png', 'Normal_1260.png', 'Normal_1261.png', 'Normal_1262.png', 'Normal_1263.png', 'Normal_1264.png', 'Normal_1265.png', 'Normal_1266.png', 'Normal_1267.png', 'Normal_1268.png', 'Normal_1269.png', 'Normal_1270.png', 'Normal_1271.png', 'Normal_1272.png', 'Normal_1273.png', 'Normal_1274.png', 'Normal_1275.png', 'Normal_1276.png', 'Normal_1277.png', 'Normal_1278.png', 'Normal_1279.png', 'Normal_1280.png', 'Normal_1281.png', 'Normal_1282.png', 'Normal_1283.png', 'Normal_1284.png', 'Normal_1285.png', 'Normal_1286.png', 'Normal_1287.png', 'Normal_1288.png', 'Normal_1289.png', 'Normal_1290.png', 'Normal_1291.png', 'Normal_1292.png', 'Normal_1293.png', 'Normal_1294.png', 'Normal_1295.png', 'Normal_1296.png', 'Normal_1297.png', 'Normal_1298.png', 'Normal_1299.png', 'Normal_1300.png', 'Normal_1301.png', 'Normal_1302.png', 'Normal_1303.png', 'Normal_1304.png', 'Normal_1305.png', 'Normal_1306.png', 'Normal_1307.png', 'Normal_1308.png', 'Normal_1309.png', 'Normal_1310.png', 'Normal_1311.png', 'Normal_1312.png', 'Normal_1313.png', 'Normal_1314.png', 'Normal_1315.png', 'Normal_1316.png', 'Normal_1317.png', 'Normal_1318.png', 'Normal_1319.png', 'Normal_1320.png', 'Normal_1321.png', 'Normal_1322.png', 'Normal_1323.png', 'Normal_1324.png', 'Normal_1325.png', 'Normal_1326.png', 'Normal_1327.png', 'Normal_1328.png', 'Normal_1329.png', 'Normal_1330.png', 'Normal_1331.png', 'Normal_1332.png', 'Normal_1333.png', 'Normal_1334.png', 'Normal_1335.png', 'Normal_1336.png', 'Normal_1337.png', 'Normal_1338.png', 'Normal_1339.png', 'Normal_1340.png', 'Normal_1341.png', 'Normal_1342.png', 'Normal_1343.png', 'Normal_1344.png', 'Normal_1345.png', 'Normal_1346.png', 'Normal_1347.png', 'Normal_1348.png', 'Normal_1349.png', 'Normal_1350.png', 'Normal_1351.png', 'Normal_1352.png', 'Normal_1353.png', 'Normal_1354.png', 'Normal_1355.png', 'Normal_1356.png', 'Normal_1357.png', 'Normal_1358.png', 'Normal_1359.png', 'Normal_1360.png', 'Normal_1361.png', 'Normal_1362.png', 'Normal_1363.png', 'Normal_1364.png', 'Normal_1365.png', 'Normal_1366.png', 'Normal_1367.png', 'Normal_1368.png', 'Normal_1369.png', 'Normal_1370.png', 'Normal_1371.png', 'Normal_1372.png', 'Normal_1373.png', 'Normal_1374.png', 'Normal_1375.png', 'Normal_1376.png', 'Normal_1377.png', 'Normal_1378.png', 'Normal_1379.png', 'Normal_1380.png', 'Normal_1381.png', 'Normal_1382.png', 'Normal_1383.png', 'Normal_1384.png', 'Normal_1385.png', 'Normal_1386.png', 'Normal_1387.png', 'Normal_1388.png', 'Normal_1389.png', 'Normal_1390.png', 'Normal_1391.png', 'Normal_1392.png', 'Normal_1393.png', 'Normal_1394.png', 'Normal_1395.png', 'Normal_1396.png', 'Normal_1397.png', 'Normal_1398.png', 'Normal_1399.png', 'Normal_1400.png', 'Normal_1401.png', 'Normal_1402.png', 'Normal_1403.png', 'Normal_1404.png', 'Normal_1405.png', 'Normal_1406.png', 'Normal_1407.png', 'Normal_1408.png', 'Normal_1409.png', 'Normal_1410.png', 'Normal_1411.png', 'Normal_1412.png', 'Normal_1413.png', 'Normal_1414.png', 'Normal_1415.png', 'Normal_1416.png', 'Normal_1417.png', 'Normal_1418.png', 'Normal_1419.png', 'Normal_1420.png', 'Normal_1421.png', 'Normal_1422.png', 'Normal_1423.png', 'Normal_1424.png', 'Normal_1425.png', 'Normal_1426.png', 'Normal_1427.png', 'Normal_1428.png', 'Normal_1429.png', 'Normal_1430.png', 'Normal_1431.png', 'Normal_1432.png', 'Normal_1433.png', 'Normal_1434.png', 'Normal_1435.png', 'Normal_1436.png', 'Normal_1437.png', 'Normal_1438.png', 'Normal_1439.png', 'Normal_1440.png', 'Normal_1441.png', 'Normal_1442.png', 'Normal_1443.png', 'Normal_1444.png', 'Normal_1445.png', 'Normal_1446.png', 'Normal_1447.png', 'Normal_1448.png', 'Normal_1449.png', 'Normal_1450.png', 'Normal_1451.png', 'Normal_1452.png', 'Normal_1453.png', 'Normal_1454.png', 'Normal_1455.png', 'Normal_1456.png', 'Normal_1457.png', 'Normal_1458.png', 'Normal_1459.png', 'Normal_1460.png', 'Normal_1461.png', 'Normal_1462.png', 'Normal_1463.png', 'Normal_1464.png', 'Normal_1465.png', 'Normal_1466.png', 'Normal_1467.png', 'Normal_1468.png', 'Normal_1469.png', 'Normal_1470.png', 'Normal_1471.png', 'Normal_1472.png', 'Normal_1473.png', 'Normal_1474.png', 'Normal_1475.png', 'Normal_1476.png', 'Normal_1477.png', 'Normal_1478.png', 'Normal_1479.png', 'Normal_1480.png', 'Normal_1481.png', 'Normal_1482.png', 'Normal_1483.png', 'Normal_1484.png', 'Normal_1485.png', 'Normal_1486.png', 'Normal_1487.png', 'Normal_1488.png', 'Normal_1489.png', 'Normal_1490.png', 'Normal_1491.png', 'Normal_1492.png', 'Normal_1493.png', 'Normal_1494.png', 'Normal_1495.png', 'Normal_1496.png', 'Normal_1497.png', 'Normal_1498.png', 'Normal_1499.png', 'Normal_1500.png', 'Normal_1501.png', 'Normal_1502.png', 'Normal_1503.png', 'Normal_1504.png', 'Normal_1505.png', 'Normal_1506.png', 'Normal_1507.png', 'Normal_1508.png', 'Normal_1509.png', 'Normal_1510.png', 'Normal_1511.png', 'Normal_1512.png', 'Normal_1513.png', 'Normal_1514.png', 'Normal_1515.png', 'Normal_1516.png', 'Normal_1517.png', 'Normal_1518.png', 'Normal_1519.png', 'Normal_1520.png', 'Normal_1521.png', 'Normal_1522.png', 'Normal_1523.png', 'Normal_1524.png', 'Normal_1525.png', 'Normal_1526.png', 'Normal_1527.png', 'Normal_1528.png', 'Normal_1529.png', 'Normal_1530.png', 'Normal_1531.png', 'Normal_1532.png', 'Normal_1533.png', 'Normal_1534.png', 'Normal_1535.png', 'Normal_1536.png', 'Normal_1537.png', 'Normal_1538.png', 'Normal_1539.png', 'Normal_1540.png', 'Normal_1541.png', 'Normal_1542.png', 'Normal_1543.png', 'Normal_1544.png', 'Normal_1545.png', 'Normal_1546.png', 'Normal_1547.png', 'Normal_1548.png', 'Normal_1549.png', 'Normal_1550.png', 'Normal_1551.png', 'Normal_1552.png', 'Normal_1553.png', 'Normal_1554.png', 'Normal_1555.png', 'Normal_1556.png', 'Normal_1557.png', 'Normal_1558.png', 'Normal_1559.png', 'Normal_1560.png', 'Normal_1561.png', 'Normal_1562.png', 'Normal_1563.png', 'Normal_1564.png', 'Normal_1565.png', 'Normal_1566.png', 'Normal_1567.png', 'Normal_1568.png', 'Normal_1569.png', 'Normal_1570.png', 'Normal_1571.png', 'Normal_1572.png', 'Normal_1573.png', 'Normal_1574.png', 'Normal_1575.png', 'Normal_1576.png', 'Normal_1577.png', 'Normal_1578.png', 'Normal_1579.png', 'Normal_1580.png', 'Normal_1581.png', 'Normal_1582.png', 'Normal_1583.png', 'Normal_1584.png', 'Normal_1585.png', 'Normal_1586.png', 'Normal_1587.png', 'Normal_1588.png', 'Normal_1589.png', 'Normal_1590.png', 'Normal_1591.png', 'Normal_1592.png', 'Normal_1593.png', 'Normal_1594.png', 'Normal_1595.png', 'Normal_1596.png', 'Normal_1597.png', 'Normal_1598.png', 'Normal_1599.png', 'Normal_1600.png', 'Normal_1601.png', 'Normal_1602.png', 'Normal_1603.png', 'Normal_1604.png', 'Normal_1605.png', 'Normal_1606.png', 'Normal_1607.png', 'Normal_1608.png', 'Normal_1609.png', 'Normal_1610.png', 'Normal_1611.png', 'Normal_1612.png', 'Normal_1613.png', 'Normal_1614.png', 'Normal_1615.png', 'Normal_1616.png', 'Normal_1617.png', 'Normal_1618.png', 'Normal_1619.png', 'Normal_1620.png', 'Normal_1621.png', 'Normal_1622.png', 'Normal_1623.png', 'Normal_1624.png', 'Normal_1625.png', 'Normal_1626.png', 'Normal_1627.png', 'Normal_1628.png', 'Normal_1629.png', 'Normal_1630.png', 'Normal_1631.png', 'Normal_1632.png', 'Normal_1633.png', 'Normal_1634.png', 'Normal_1635.png', 'Normal_1636.png', 'Normal_1637.png', 'Normal_1638.png', 'Normal_1639.png', 'Normal_1640.png', 'Normal_1641.png', 'Normal_1642.png', 'Normal_1643.png', 'Normal_1644.png', 'Normal_1645.png', 'Normal_1646.png', 'Normal_1647.png', 'Normal_1648.png', 'Normal_1649.png', 'Normal_1650.png', 'Normal_1651.png', 'Normal_1652.png', 'Normal_1653.png', 'Normal_1654.png', 'Normal_1655.png', 'Normal_1656.png', 'Normal_1657.png', 'Normal_1658.png', 'Normal_1659.png', 'Normal_1660.png', 'Normal_1661.png', 'Normal_1662.png', 'Normal_1663.png', 'Normal_1664.png', 'Normal_1665.png', 'Normal_1666.png', 'Normal_1667.png', 'Normal_1668.png', 'Normal_1669.png', 'Normal_1670.png', 'Normal_1671.png', 'Normal_1672.png', 'Normal_1673.png', 'Normal_1674.png', 'Normal_1675.png', 'Normal_1676.png', 'Normal_1677.png', 'Normal_1678.png', 'Normal_1679.png', 'Normal_1680.png', 'Normal_1681.png', 'Normal_1682.png', 'Normal_1683.png', 'Normal_1684.png', 'Normal_1685.png', 'Normal_1686.png', 'Normal_1687.png', 'Normal_1688.png', 'Normal_1689.png', 'Normal_1690.png', 'Normal_1691.png', 'Normal_1692.png', 'Normal_1693.png', 'Normal_1694.png', 'Normal_1695.png', 'Normal_1696.png', 'Normal_1697.png', 'Normal_1698.png', 'Normal_1699.png', 'Normal_1700.png', 'Normal_1701.png', 'Normal_1702.png', 'Normal_1703.png', 'Normal_1704.png', 'Normal_1705.png', 'Normal_1706.png', 'Normal_1707.png', 'Normal_1708.png', 'Normal_1709.png', 'Normal_1710.png', 'Normal_1711.png', 'Normal_1712.png', 'Normal_1713.png', 'Normal_1714.png', 'Normal_1715.png', 'Normal_1716.png', 'Normal_1717.png', 'Normal_1718.png', 'Normal_1719.png', 'Normal_1720.png', 'Normal_1721.png', 'Normal_1722.png', 'Normal_1723.png', 'Normal_1724.png', 'Normal_1725.png', 'Normal_1726.png', 'Normal_1727.png', 'Normal_1728.png', 'Normal_1729.png', 'Normal_1730.png', 'Normal_1731.png', 'Normal_1732.png', 'Normal_1733.png', 'Normal_1734.png', 'Normal_1735.png', 'Normal_1736.png', 'Normal_1737.png', 'Normal_1738.png', 'Normal_1739.png', 'Normal_1740.png', 'Normal_1741.png', 'Normal_1742.png', 'Normal_1743.png', 'Normal_1744.png', 'Normal_1745.png', 'Normal_1746.png', 'Normal_1747.png', 'Normal_1748.png', 'Normal_1749.png', 'Normal_1750.png', 'Normal_1751.png', 'Normal_1752.png', 'Normal_1753.png', 'Normal_1754.png', 'Normal_1755.png', 'Normal_1756.png']\n"
          ]
        }
      ]
    },
    {
      "cell_type": "markdown",
      "source": [
        "Random Tone"
      ],
      "metadata": {
        "id": "FWVxnwCApOXA"
      }
    },
    {
      "cell_type": "code",
      "source": [
        "chicken_input_path ='/content/drive/MyDrive/Deep Learning Project/Menu_Aug/step1/Chickenpox/'\n",
        "chicken_output_path ='/content/drive/MyDrive/Deep Learning Project/Menu_Aug/Random_tone/Chickenpox/'\n",
        "chicken_input_images = listdir(chicken_input_path)\n",
        "chicken_input_images.sort()\n",
        "for i in chicken_input_images:\n",
        "  huesat_aug =  A.augmentations.transforms.RandomToneCurve(always_apply=False, p=1.0, scale=0.1)\n",
        "for i in chicken_input_images:\n",
        "    path2img = chicken_input_path + i\n",
        "    img = read_image(path2img)\n",
        "    aimg = augment_and_return(huesat_aug,img)\n",
        "    save_augment_img(aimg,i,chicken_output_path)\n",
        "\n",
        "import os\n",
        "\n",
        "folder = r'/content/drive/MyDrive/Deep Learning Project/Menu_Aug/Random_tone/Chickenpox/'\n",
        "count = 964\n",
        "# count increase by 1 in each iteration\n",
        "# iterate all files from a directory\n",
        "for file_name in os.listdir(folder):\n",
        "    # Construct old file name\n",
        "    source = folder + file_name\n",
        "\n",
        "    # Adding the count to the new file name and extension\n",
        "    destination = folder + \"Chickenpox_\" + str(count) + \".png\"\n",
        "\n",
        "    # Renaming the file\n",
        "    os.rename(source, destination)\n",
        "    count += 1\n",
        "print('All Files Renamed')\n",
        "\n",
        "print('New Names are')\n",
        "# verify the result\n",
        "res = os.listdir(folder)\n",
        "print(res)"
      ],
      "metadata": {
        "id": "HyhvhET5pQb2",
        "colab": {
          "base_uri": "https://localhost:8080/"
        },
        "outputId": "4792c46f-3570-498f-ae60-82584844d408"
      },
      "execution_count": null,
      "outputs": [
        {
          "output_type": "stream",
          "name": "stdout",
          "text": [
            "All Files Renamed\n",
            "New Names are\n",
            "['Chickenpox_964.png', 'Chickenpox_965.png', 'Chickenpox_966.png', 'Chickenpox_967.png', 'Chickenpox_968.png', 'Chickenpox_969.png', 'Chickenpox_970.png', 'Chickenpox_971.png', 'Chickenpox_972.png', 'Chickenpox_973.png', 'Chickenpox_974.png', 'Chickenpox_975.png', 'Chickenpox_976.png', 'Chickenpox_977.png', 'Chickenpox_978.png', 'Chickenpox_979.png', 'Chickenpox_980.png', 'Chickenpox_981.png', 'Chickenpox_982.png', 'Chickenpox_983.png', 'Chickenpox_984.png', 'Chickenpox_985.png', 'Chickenpox_986.png', 'Chickenpox_987.png', 'Chickenpox_988.png', 'Chickenpox_989.png', 'Chickenpox_990.png', 'Chickenpox_991.png', 'Chickenpox_992.png', 'Chickenpox_993.png', 'Chickenpox_994.png', 'Chickenpox_995.png', 'Chickenpox_996.png', 'Chickenpox_997.png', 'Chickenpox_998.png', 'Chickenpox_999.png', 'Chickenpox_1000.png', 'Chickenpox_1001.png', 'Chickenpox_1002.png', 'Chickenpox_1003.png', 'Chickenpox_1004.png', 'Chickenpox_1005.png', 'Chickenpox_1006.png', 'Chickenpox_1007.png', 'Chickenpox_1008.png', 'Chickenpox_1009.png', 'Chickenpox_1010.png', 'Chickenpox_1011.png', 'Chickenpox_1012.png', 'Chickenpox_1013.png', 'Chickenpox_1014.png', 'Chickenpox_1015.png', 'Chickenpox_1016.png', 'Chickenpox_1017.png', 'Chickenpox_1018.png', 'Chickenpox_1019.png', 'Chickenpox_1020.png', 'Chickenpox_1021.png', 'Chickenpox_1022.png', 'Chickenpox_1023.png', 'Chickenpox_1024.png', 'Chickenpox_1025.png', 'Chickenpox_1026.png', 'Chickenpox_1027.png', 'Chickenpox_1028.png', 'Chickenpox_1029.png', 'Chickenpox_1030.png', 'Chickenpox_1031.png', 'Chickenpox_1032.png', 'Chickenpox_1033.png', 'Chickenpox_1034.png', 'Chickenpox_1035.png', 'Chickenpox_1036.png', 'Chickenpox_1037.png', 'Chickenpox_1038.png', 'Chickenpox_1039.png', 'Chickenpox_1040.png', 'Chickenpox_1041.png', 'Chickenpox_1042.png', 'Chickenpox_1043.png', 'Chickenpox_1044.png', 'Chickenpox_1045.png', 'Chickenpox_1046.png', 'Chickenpox_1047.png', 'Chickenpox_1048.png', 'Chickenpox_1049.png', 'Chickenpox_1050.png', 'Chickenpox_1051.png', 'Chickenpox_1052.png', 'Chickenpox_1053.png', 'Chickenpox_1054.png', 'Chickenpox_1055.png', 'Chickenpox_1056.png', 'Chickenpox_1057.png', 'Chickenpox_1058.png', 'Chickenpox_1059.png', 'Chickenpox_1060.png', 'Chickenpox_1061.png', 'Chickenpox_1062.png', 'Chickenpox_1063.png', 'Chickenpox_1064.png', 'Chickenpox_1065.png', 'Chickenpox_1066.png', 'Chickenpox_1067.png', 'Chickenpox_1068.png', 'Chickenpox_1069.png', 'Chickenpox_1070.png', 'Chickenpox_1071.png', 'Chickenpox_1072.png', 'Chickenpox_1073.png', 'Chickenpox_1074.png', 'Chickenpox_1075.png', 'Chickenpox_1076.png', 'Chickenpox_1077.png', 'Chickenpox_1078.png', 'Chickenpox_1079.png', 'Chickenpox_1080.png', 'Chickenpox_1081.png', 'Chickenpox_1082.png', 'Chickenpox_1083.png', 'Chickenpox_1084.png', 'Chickenpox_1085.png', 'Chickenpox_1086.png', 'Chickenpox_1087.png', 'Chickenpox_1088.png', 'Chickenpox_1089.png', 'Chickenpox_1090.png', 'Chickenpox_1091.png', 'Chickenpox_1092.png', 'Chickenpox_1093.png', 'Chickenpox_1094.png', 'Chickenpox_1095.png', 'Chickenpox_1096.png', 'Chickenpox_1097.png', 'Chickenpox_1098.png', 'Chickenpox_1099.png', 'Chickenpox_1100.png', 'Chickenpox_1101.png', 'Chickenpox_1102.png', 'Chickenpox_1103.png', 'Chickenpox_1104.png', 'Chickenpox_1105.png', 'Chickenpox_1106.png', 'Chickenpox_1107.png', 'Chickenpox_1108.png', 'Chickenpox_1109.png', 'Chickenpox_1110.png', 'Chickenpox_1111.png', 'Chickenpox_1112.png', 'Chickenpox_1113.png', 'Chickenpox_1114.png', 'Chickenpox_1115.png', 'Chickenpox_1116.png', 'Chickenpox_1117.png', 'Chickenpox_1118.png', 'Chickenpox_1119.png', 'Chickenpox_1120.png', 'Chickenpox_1121.png', 'Chickenpox_1122.png', 'Chickenpox_1123.png', 'Chickenpox_1124.png', 'Chickenpox_1125.png', 'Chickenpox_1126.png', 'Chickenpox_1127.png', 'Chickenpox_1128.png', 'Chickenpox_1129.png', 'Chickenpox_1130.png', 'Chickenpox_1131.png', 'Chickenpox_1132.png', 'Chickenpox_1133.png', 'Chickenpox_1134.png', 'Chickenpox_1135.png', 'Chickenpox_1136.png', 'Chickenpox_1137.png', 'Chickenpox_1138.png', 'Chickenpox_1139.png', 'Chickenpox_1140.png', 'Chickenpox_1141.png', 'Chickenpox_1142.png', 'Chickenpox_1143.png', 'Chickenpox_1144.png', 'Chickenpox_1145.png', 'Chickenpox_1146.png', 'Chickenpox_1147.png', 'Chickenpox_1148.png', 'Chickenpox_1149.png', 'Chickenpox_1150.png', 'Chickenpox_1151.png', 'Chickenpox_1152.png', 'Chickenpox_1153.png', 'Chickenpox_1154.png', 'Chickenpox_1155.png', 'Chickenpox_1156.png', 'Chickenpox_1157.png', 'Chickenpox_1158.png', 'Chickenpox_1159.png', 'Chickenpox_1160.png', 'Chickenpox_1161.png', 'Chickenpox_1162.png', 'Chickenpox_1163.png', 'Chickenpox_1164.png', 'Chickenpox_1165.png', 'Chickenpox_1166.png', 'Chickenpox_1167.png', 'Chickenpox_1168.png', 'Chickenpox_1169.png', 'Chickenpox_1170.png', 'Chickenpox_1171.png', 'Chickenpox_1172.png', 'Chickenpox_1173.png', 'Chickenpox_1174.png', 'Chickenpox_1175.png', 'Chickenpox_1176.png', 'Chickenpox_1177.png', 'Chickenpox_1178.png', 'Chickenpox_1179.png', 'Chickenpox_1180.png', 'Chickenpox_1181.png', 'Chickenpox_1182.png', 'Chickenpox_1183.png', 'Chickenpox_1184.png', 'Chickenpox_1185.png', 'Chickenpox_1186.png', 'Chickenpox_1187.png', 'Chickenpox_1188.png', 'Chickenpox_1189.png', 'Chickenpox_1190.png', 'Chickenpox_1191.png', 'Chickenpox_1192.png', 'Chickenpox_1193.png', 'Chickenpox_1194.png', 'Chickenpox_1195.png', 'Chickenpox_1196.png', 'Chickenpox_1197.png', 'Chickenpox_1198.png', 'Chickenpox_1199.png', 'Chickenpox_1200.png', 'Chickenpox_1201.png', 'Chickenpox_1202.png', 'Chickenpox_1203.png', 'Chickenpox_1204.png', 'Chickenpox_1205.png', 'Chickenpox_1206.png', 'Chickenpox_1207.png', 'Chickenpox_1208.png', 'Chickenpox_1209.png', 'Chickenpox_1210.png', 'Chickenpox_1211.png', 'Chickenpox_1212.png', 'Chickenpox_1213.png', 'Chickenpox_1214.png', 'Chickenpox_1215.png', 'Chickenpox_1216.png', 'Chickenpox_1217.png', 'Chickenpox_1218.png', 'Chickenpox_1219.png', 'Chickenpox_1220.png', 'Chickenpox_1221.png', 'Chickenpox_1222.png', 'Chickenpox_1223.png', 'Chickenpox_1224.png', 'Chickenpox_1225.png', 'Chickenpox_1226.png', 'Chickenpox_1227.png', 'Chickenpox_1228.png', 'Chickenpox_1229.png', 'Chickenpox_1230.png', 'Chickenpox_1231.png', 'Chickenpox_1232.png', 'Chickenpox_1233.png', 'Chickenpox_1234.png', 'Chickenpox_1235.png', 'Chickenpox_1236.png', 'Chickenpox_1237.png', 'Chickenpox_1238.png', 'Chickenpox_1239.png', 'Chickenpox_1240.png', 'Chickenpox_1241.png', 'Chickenpox_1242.png', 'Chickenpox_1243.png', 'Chickenpox_1244.png', 'Chickenpox_1245.png', 'Chickenpox_1246.png', 'Chickenpox_1247.png', 'Chickenpox_1248.png', 'Chickenpox_1249.png', 'Chickenpox_1250.png', 'Chickenpox_1251.png', 'Chickenpox_1252.png', 'Chickenpox_1253.png', 'Chickenpox_1254.png', 'Chickenpox_1255.png', 'Chickenpox_1256.png', 'Chickenpox_1257.png', 'Chickenpox_1258.png', 'Chickenpox_1259.png', 'Chickenpox_1260.png', 'Chickenpox_1261.png', 'Chickenpox_1262.png', 'Chickenpox_1263.png', 'Chickenpox_1264.png', 'Chickenpox_1265.png', 'Chickenpox_1266.png', 'Chickenpox_1267.png', 'Chickenpox_1268.png', 'Chickenpox_1269.png', 'Chickenpox_1270.png', 'Chickenpox_1271.png', 'Chickenpox_1272.png', 'Chickenpox_1273.png', 'Chickenpox_1274.png', 'Chickenpox_1275.png', 'Chickenpox_1276.png', 'Chickenpox_1277.png', 'Chickenpox_1278.png', 'Chickenpox_1279.png', 'Chickenpox_1280.png', 'Chickenpox_1281.png', 'Chickenpox_1282.png', 'Chickenpox_1283.png', 'Chickenpox_1284.png']\n"
          ]
        }
      ]
    },
    {
      "cell_type": "code",
      "source": [
        "chicken_input_path ='/content/drive/MyDrive/Deep Learning Project/Menu_Aug/step1/Measles/'\n",
        "chicken_output_path ='/content/drive/MyDrive/Deep Learning Project/Menu_Aug/Random_tone/Measles/'\n",
        "chicken_input_images = listdir(chicken_input_path)\n",
        "chicken_input_images.sort()\n",
        "for i in chicken_input_images:\n",
        "  huesat_aug =  A.augmentations.transforms.RandomToneCurve(always_apply=False, p=1.0, scale=0.1)\n",
        "for i in chicken_input_images:\n",
        "    path2img = chicken_input_path + i\n",
        "    img = read_image(path2img)\n",
        "    aimg = augment_and_return(huesat_aug,img)\n",
        "    save_augment_img(aimg,i,chicken_output_path)\n",
        "\n"
      ],
      "metadata": {
        "id": "G61inB_8rhbZ",
        "colab": {
          "base_uri": "https://localhost:8080/",
          "height": 253
        },
        "outputId": "a046d4c1-99aa-45e9-ad8f-5b8170fdaf83"
      },
      "execution_count": null,
      "outputs": [
        {
          "output_type": "error",
          "ename": "FileNotFoundError",
          "evalue": "ignored",
          "traceback": [
            "\u001b[0;31m---------------------------------------------------------------------------\u001b[0m",
            "\u001b[0;31mFileNotFoundError\u001b[0m                         Traceback (most recent call last)",
            "\u001b[0;32m<ipython-input-43-1d14229096da>\u001b[0m in \u001b[0;36m<module>\u001b[0;34m\u001b[0m\n\u001b[1;32m     25\u001b[0m \u001b[0;34m\u001b[0m\u001b[0m\n\u001b[1;32m     26\u001b[0m     \u001b[0;31m# Renaming the file\u001b[0m\u001b[0;34m\u001b[0m\u001b[0;34m\u001b[0m\u001b[0;34m\u001b[0m\u001b[0m\n\u001b[0;32m---> 27\u001b[0;31m     \u001b[0mos\u001b[0m\u001b[0;34m.\u001b[0m\u001b[0mrename\u001b[0m\u001b[0;34m(\u001b[0m\u001b[0msource\u001b[0m\u001b[0;34m,\u001b[0m \u001b[0mdestination\u001b[0m\u001b[0;34m)\u001b[0m\u001b[0;34m\u001b[0m\u001b[0;34m\u001b[0m\u001b[0m\n\u001b[0m\u001b[1;32m     28\u001b[0m     \u001b[0mcount\u001b[0m \u001b[0;34m+=\u001b[0m \u001b[0;36m1\u001b[0m\u001b[0;34m\u001b[0m\u001b[0;34m\u001b[0m\u001b[0m\n\u001b[1;32m     29\u001b[0m \u001b[0mprint\u001b[0m\u001b[0;34m(\u001b[0m\u001b[0;34m'All Files Renamed'\u001b[0m\u001b[0;34m)\u001b[0m\u001b[0;34m\u001b[0m\u001b[0;34m\u001b[0m\u001b[0m\n",
            "\u001b[0;31mFileNotFoundError\u001b[0m: [Errno 2] No such file or directory: '/content/drive/MyDrive/Deep Learning Project/Menu_Aug/Random_tone/MeaslesMeasles_100.png' -> '/content/drive/MyDrive/Deep Learning Project/Menu_Aug/Random_tone/MeaslesChickenpox_820.png'"
          ]
        }
      ]
    },
    {
      "cell_type": "code",
      "source": [
        "import os\n",
        "\n",
        "folder = r'/content/drive/MyDrive/Deep Learning Project/Menu_Aug/Random_tone/Measles/'\n",
        "count = 820\n",
        "# count increase by 1 in each iteration\n",
        "# iterate all files from a directory\n",
        "for file_name in os.listdir(folder):\n",
        "    # Construct old file name\n",
        "    source = folder + file_name\n",
        "\n",
        "    # Adding the count to the new file name and extension\n",
        "    destination = folder + \"Measles_\" + str(count) + \".png\"\n",
        "\n",
        "    # Renaming the file\n",
        "    os.rename(source, destination)\n",
        "    count += 1\n",
        "print('All Files Renamed')\n",
        "\n",
        "print('New Names are')\n",
        "# verify the result\n",
        "res = os.listdir(folder)\n",
        "print(res)"
      ],
      "metadata": {
        "colab": {
          "base_uri": "https://localhost:8080/"
        },
        "id": "eUjZnVxsvRw3",
        "outputId": "768b6e41-fae2-4a39-85e1-4d33a8f375cf"
      },
      "execution_count": null,
      "outputs": [
        {
          "output_type": "stream",
          "name": "stdout",
          "text": [
            "All Files Renamed\n",
            "New Names are\n",
            "['Measles_820.png', 'Measles_821.png', 'Measles_822.png', 'Measles_823.png', 'Measles_824.png', 'Measles_825.png', 'Measles_826.png', 'Measles_827.png', 'Measles_828.png', 'Measles_829.png', 'Measles_830.png', 'Measles_831.png', 'Measles_832.png', 'Measles_833.png', 'Measles_834.png', 'Measles_835.png', 'Measles_836.png', 'Measles_837.png', 'Measles_838.png', 'Measles_839.png', 'Measles_840.png', 'Measles_841.png', 'Measles_842.png', 'Measles_843.png', 'Measles_844.png', 'Measles_845.png', 'Measles_846.png', 'Measles_847.png', 'Measles_848.png', 'Measles_849.png', 'Measles_850.png', 'Measles_851.png', 'Measles_852.png', 'Measles_853.png', 'Measles_854.png', 'Measles_855.png', 'Measles_856.png', 'Measles_857.png', 'Measles_858.png', 'Measles_859.png', 'Measles_860.png', 'Measles_861.png', 'Measles_862.png', 'Measles_863.png', 'Measles_864.png', 'Measles_865.png', 'Measles_866.png', 'Measles_867.png', 'Measles_868.png', 'Measles_869.png', 'Measles_870.png', 'Measles_871.png', 'Measles_872.png', 'Measles_873.png', 'Measles_874.png', 'Measles_875.png', 'Measles_876.png', 'Measles_877.png', 'Measles_878.png', 'Measles_879.png', 'Measles_880.png', 'Measles_881.png', 'Measles_882.png', 'Measles_883.png', 'Measles_884.png', 'Measles_885.png', 'Measles_886.png', 'Measles_887.png', 'Measles_888.png', 'Measles_889.png', 'Measles_890.png', 'Measles_891.png', 'Measles_892.png', 'Measles_893.png', 'Measles_894.png', 'Measles_895.png', 'Measles_896.png', 'Measles_897.png', 'Measles_898.png', 'Measles_899.png', 'Measles_900.png', 'Measles_901.png', 'Measles_902.png', 'Measles_903.png', 'Measles_904.png', 'Measles_905.png', 'Measles_906.png', 'Measles_907.png', 'Measles_908.png', 'Measles_909.png', 'Measles_910.png', 'Measles_911.png', 'Measles_912.png', 'Measles_913.png', 'Measles_914.png', 'Measles_915.png', 'Measles_916.png', 'Measles_917.png', 'Measles_918.png', 'Measles_919.png', 'Measles_920.png', 'Measles_921.png', 'Measles_922.png', 'Measles_923.png', 'Measles_924.png', 'Measles_925.png', 'Measles_926.png', 'Measles_927.png', 'Measles_928.png', 'Measles_929.png', 'Measles_930.png', 'Measles_931.png', 'Measles_932.png', 'Measles_933.png', 'Measles_934.png', 'Measles_935.png', 'Measles_936.png', 'Measles_937.png', 'Measles_938.png', 'Measles_939.png', 'Measles_940.png', 'Measles_941.png', 'Measles_942.png', 'Measles_943.png', 'Measles_944.png', 'Measles_945.png', 'Measles_946.png', 'Measles_947.png', 'Measles_948.png', 'Measles_949.png', 'Measles_950.png', 'Measles_951.png', 'Measles_952.png', 'Measles_953.png', 'Measles_954.png', 'Measles_955.png', 'Measles_956.png', 'Measles_957.png', 'Measles_958.png', 'Measles_959.png', 'Measles_960.png', 'Measles_961.png', 'Measles_962.png', 'Measles_963.png', 'Measles_964.png', 'Measles_965.png', 'Measles_966.png', 'Measles_967.png', 'Measles_968.png', 'Measles_969.png', 'Measles_970.png', 'Measles_971.png', 'Measles_972.png', 'Measles_973.png', 'Measles_974.png', 'Measles_975.png', 'Measles_976.png', 'Measles_977.png', 'Measles_978.png', 'Measles_979.png', 'Measles_980.png', 'Measles_981.png', 'Measles_982.png', 'Measles_983.png', 'Measles_984.png', 'Measles_985.png', 'Measles_986.png', 'Measles_987.png', 'Measles_988.png', 'Measles_989.png', 'Measles_990.png', 'Measles_991.png', 'Measles_992.png', 'Measles_993.png', 'Measles_994.png', 'Measles_995.png', 'Measles_996.png', 'Measles_997.png', 'Measles_998.png', 'Measles_999.png', 'Measles_1000.png', 'Measles_1001.png', 'Measles_1002.png', 'Measles_1003.png', 'Measles_1004.png', 'Measles_1005.png', 'Measles_1006.png', 'Measles_1007.png', 'Measles_1008.png', 'Measles_1009.png', 'Measles_1010.png', 'Measles_1011.png', 'Measles_1012.png', 'Measles_1013.png', 'Measles_1014.png', 'Measles_1015.png', 'Measles_1016.png', 'Measles_1017.png', 'Measles_1018.png', 'Measles_1019.png', 'Measles_1020.png', 'Measles_1021.png', 'Measles_1022.png', 'Measles_1023.png', 'Measles_1024.png', 'Measles_1025.png', 'Measles_1026.png', 'Measles_1027.png', 'Measles_1028.png', 'Measles_1029.png', 'Measles_1030.png', 'Measles_1031.png', 'Measles_1032.png', 'Measles_1033.png', 'Measles_1034.png', 'Measles_1035.png', 'Measles_1036.png', 'Measles_1037.png', 'Measles_1038.png', 'Measles_1039.png', 'Measles_1040.png', 'Measles_1041.png', 'Measles_1042.png', 'Measles_1043.png', 'Measles_1044.png', 'Measles_1045.png', 'Measles_1046.png', 'Measles_1047.png', 'Measles_1048.png', 'Measles_1049.png', 'Measles_1050.png', 'Measles_1051.png', 'Measles_1052.png', 'Measles_1053.png', 'Measles_1054.png', 'Measles_1055.png', 'Measles_1056.png', 'Measles_1057.png', 'Measles_1058.png', 'Measles_1059.png', 'Measles_1060.png', 'Measles_1061.png', 'Measles_1062.png', 'Measles_1063.png', 'Measles_1064.png', 'Measles_1065.png', 'Measles_1066.png', 'Measles_1067.png', 'Measles_1068.png', 'Measles_1069.png', 'Measles_1070.png', 'Measles_1071.png', 'Measles_1072.png', 'Measles_1073.png', 'Measles_1074.png', 'Measles_1075.png', 'Measles_1076.png', 'Measles_1077.png', 'Measles_1078.png', 'Measles_1079.png', 'Measles_1080.png', 'Measles_1081.png', 'Measles_1082.png', 'Measles_1083.png', 'Measles_1084.png', 'Measles_1085.png', 'Measles_1086.png', 'Measles_1087.png', 'Measles_1088.png', 'Measles_1089.png', 'Measles_1090.png', 'Measles_1091.png', 'Measles_1092.png']\n"
          ]
        }
      ]
    },
    {
      "cell_type": "code",
      "source": [
        "chicken_input_path ='/content/drive/MyDrive/Deep Learning Project/Menu_Aug/step1/Monkeypox/'\n",
        "chicken_output_path ='/content/drive/MyDrive/Deep Learning Project/Menu_Aug/Random_tone/Monkeypox/'\n",
        "chicken_input_images = listdir(chicken_input_path)\n",
        "chicken_input_images.sort()\n",
        "for i in chicken_input_images:\n",
        "  huesat_aug =  A.augmentations.transforms.RandomToneCurve(always_apply=False, p=1.0, scale=0.1)\n",
        "for i in chicken_input_images:\n",
        "    path2img = chicken_input_path + i\n",
        "    img = read_image(path2img)\n",
        "    aimg = augment_and_return(huesat_aug,img)\n",
        "    save_augment_img(aimg,i,chicken_output_path)\n"
      ],
      "metadata": {
        "id": "YVj7eHRstbTK",
        "colab": {
          "base_uri": "https://localhost:8080/"
        },
        "outputId": "330264c6-c21e-46ea-d590-6b2f9489ed66"
      },
      "execution_count": null,
      "outputs": [
        {
          "output_type": "stream",
          "name": "stdout",
          "text": [
            "All Files Renamed\n",
            "New Names are\n",
            "['Chickenpox_2512.png', 'Chickenpox_2513.png', 'Chickenpox_2514.png', 'Chickenpox_2515.png', 'Chickenpox_2516.png', 'Chickenpox_2517.png', 'Chickenpox_2518.png', 'Chickenpox_2519.png', 'Chickenpox_2520.png', 'Chickenpox_2521.png', 'Chickenpox_2522.png', 'Chickenpox_2523.png', 'Chickenpox_2524.png', 'Chickenpox_2525.png', 'Chickenpox_2526.png', 'Chickenpox_2527.png', 'Chickenpox_2528.png', 'Chickenpox_2529.png', 'Chickenpox_2530.png', 'Chickenpox_2531.png', 'Chickenpox_2532.png', 'Chickenpox_2533.png', 'Chickenpox_2534.png', 'Chickenpox_2535.png', 'Chickenpox_2536.png', 'Chickenpox_2537.png', 'Chickenpox_2538.png', 'Chickenpox_2539.png', 'Chickenpox_2540.png', 'Chickenpox_2541.png', 'Chickenpox_2542.png', 'Chickenpox_2543.png', 'Chickenpox_2544.png', 'Chickenpox_2545.png', 'Chickenpox_2546.png', 'Chickenpox_2547.png', 'Chickenpox_2548.png', 'Chickenpox_2549.png', 'Chickenpox_2550.png', 'Chickenpox_2551.png', 'Chickenpox_2552.png', 'Chickenpox_2553.png', 'Chickenpox_2554.png', 'Chickenpox_2555.png', 'Chickenpox_2556.png', 'Chickenpox_2557.png', 'Chickenpox_2558.png', 'Chickenpox_2559.png', 'Chickenpox_2560.png', 'Chickenpox_2561.png', 'Chickenpox_2562.png', 'Chickenpox_2563.png', 'Chickenpox_2564.png', 'Chickenpox_2565.png', 'Chickenpox_2566.png', 'Chickenpox_2567.png', 'Chickenpox_2568.png', 'Chickenpox_2569.png', 'Chickenpox_2570.png', 'Chickenpox_2571.png', 'Chickenpox_2572.png', 'Chickenpox_2573.png', 'Chickenpox_2574.png', 'Chickenpox_2575.png', 'Chickenpox_2576.png', 'Chickenpox_2577.png', 'Chickenpox_2578.png', 'Chickenpox_2579.png', 'Chickenpox_2580.png', 'Chickenpox_2581.png', 'Chickenpox_2582.png', 'Chickenpox_2583.png', 'Chickenpox_2584.png', 'Chickenpox_2585.png', 'Chickenpox_2586.png', 'Chickenpox_2587.png', 'Chickenpox_2588.png', 'Chickenpox_2589.png', 'Chickenpox_2590.png', 'Chickenpox_2591.png', 'Chickenpox_2592.png', 'Chickenpox_2593.png', 'Chickenpox_2594.png', 'Chickenpox_2595.png', 'Chickenpox_2596.png', 'Chickenpox_2597.png', 'Chickenpox_2598.png', 'Chickenpox_2599.png', 'Chickenpox_2600.png', 'Chickenpox_2601.png', 'Chickenpox_2602.png', 'Chickenpox_2603.png', 'Chickenpox_2604.png', 'Chickenpox_2605.png', 'Chickenpox_2606.png', 'Chickenpox_2607.png', 'Chickenpox_2608.png', 'Chickenpox_2609.png', 'Chickenpox_2610.png', 'Chickenpox_2611.png', 'Chickenpox_2612.png', 'Chickenpox_2613.png', 'Chickenpox_2614.png', 'Chickenpox_2615.png', 'Chickenpox_2616.png', 'Chickenpox_2617.png', 'Chickenpox_2618.png', 'Chickenpox_2619.png', 'Chickenpox_2620.png', 'Chickenpox_2621.png', 'Chickenpox_2622.png', 'Chickenpox_2623.png', 'Chickenpox_2624.png', 'Chickenpox_2625.png', 'Chickenpox_2626.png', 'Chickenpox_2627.png', 'Chickenpox_2628.png', 'Chickenpox_2629.png', 'Chickenpox_2630.png', 'Chickenpox_2631.png', 'Chickenpox_2632.png', 'Chickenpox_2633.png', 'Chickenpox_2634.png', 'Chickenpox_2635.png', 'Chickenpox_2636.png', 'Chickenpox_2637.png', 'Chickenpox_2638.png', 'Chickenpox_2639.png', 'Chickenpox_2640.png', 'Chickenpox_2641.png', 'Chickenpox_2642.png', 'Chickenpox_2643.png', 'Chickenpox_2644.png', 'Chickenpox_2645.png', 'Chickenpox_2646.png', 'Chickenpox_2647.png', 'Chickenpox_2648.png', 'Chickenpox_2649.png', 'Chickenpox_2650.png', 'Chickenpox_2651.png', 'Chickenpox_2652.png', 'Chickenpox_2653.png', 'Chickenpox_2654.png', 'Chickenpox_2655.png', 'Chickenpox_2656.png', 'Chickenpox_2657.png', 'Chickenpox_2658.png', 'Chickenpox_2659.png', 'Chickenpox_2660.png', 'Chickenpox_2661.png', 'Chickenpox_2662.png', 'Chickenpox_2663.png', 'Chickenpox_2664.png', 'Chickenpox_2665.png', 'Chickenpox_2666.png', 'Chickenpox_2667.png', 'Chickenpox_2668.png', 'Chickenpox_2669.png', 'Chickenpox_2670.png', 'Chickenpox_2671.png', 'Chickenpox_2672.png', 'Chickenpox_2673.png', 'Chickenpox_2674.png', 'Chickenpox_2675.png', 'Chickenpox_2676.png', 'Chickenpox_2677.png', 'Chickenpox_2678.png', 'Chickenpox_2679.png', 'Chickenpox_2680.png', 'Chickenpox_2681.png', 'Chickenpox_2682.png', 'Chickenpox_2683.png', 'Chickenpox_2684.png', 'Chickenpox_2685.png', 'Chickenpox_2686.png', 'Chickenpox_2687.png', 'Chickenpox_2688.png', 'Chickenpox_2689.png', 'Chickenpox_2690.png', 'Chickenpox_2691.png', 'Chickenpox_2692.png', 'Chickenpox_2693.png', 'Chickenpox_2694.png', 'Chickenpox_2695.png', 'Chickenpox_2696.png', 'Chickenpox_2697.png', 'Chickenpox_2698.png', 'Chickenpox_2699.png', 'Chickenpox_2700.png', 'Chickenpox_2701.png', 'Chickenpox_2702.png', 'Chickenpox_2703.png', 'Chickenpox_2704.png', 'Chickenpox_2705.png', 'Chickenpox_2706.png', 'Chickenpox_2707.png', 'Chickenpox_2708.png', 'Chickenpox_2709.png', 'Chickenpox_2710.png', 'Chickenpox_2711.png', 'Chickenpox_2712.png', 'Chickenpox_2713.png', 'Chickenpox_2714.png', 'Chickenpox_2715.png', 'Chickenpox_2716.png', 'Chickenpox_2717.png', 'Chickenpox_2718.png', 'Chickenpox_2719.png', 'Chickenpox_2720.png', 'Chickenpox_2721.png', 'Chickenpox_2722.png', 'Chickenpox_2723.png', 'Chickenpox_2724.png', 'Chickenpox_2725.png', 'Chickenpox_2726.png', 'Chickenpox_2727.png', 'Chickenpox_2728.png', 'Chickenpox_2729.png', 'Chickenpox_2730.png', 'Chickenpox_2731.png', 'Chickenpox_2732.png', 'Chickenpox_2733.png', 'Chickenpox_2734.png', 'Chickenpox_2735.png', 'Chickenpox_2736.png', 'Chickenpox_2737.png', 'Chickenpox_2738.png', 'Chickenpox_2739.png', 'Chickenpox_2740.png', 'Chickenpox_2741.png', 'Chickenpox_2742.png', 'Chickenpox_2743.png', 'Chickenpox_2744.png', 'Chickenpox_2745.png', 'Chickenpox_2746.png', 'Chickenpox_2747.png', 'Chickenpox_2748.png', 'Chickenpox_2749.png', 'Chickenpox_2750.png', 'Chickenpox_2751.png', 'Chickenpox_2752.png', 'Chickenpox_2753.png', 'Chickenpox_2754.png', 'Chickenpox_2755.png', 'Chickenpox_2756.png', 'Chickenpox_2757.png', 'Chickenpox_2758.png', 'Chickenpox_2759.png', 'Chickenpox_2760.png', 'Chickenpox_2761.png', 'Chickenpox_2762.png', 'Chickenpox_2763.png', 'Chickenpox_2764.png', 'Chickenpox_2765.png', 'Chickenpox_2766.png', 'Chickenpox_2767.png', 'Chickenpox_2768.png', 'Chickenpox_2769.png', 'Chickenpox_2770.png', 'Chickenpox_2771.png', 'Chickenpox_2772.png', 'Chickenpox_2773.png', 'Chickenpox_2774.png', 'Chickenpox_2775.png', 'Chickenpox_2776.png', 'Chickenpox_2777.png', 'Chickenpox_2778.png', 'Chickenpox_2779.png', 'Chickenpox_2780.png', 'Chickenpox_2781.png', 'Chickenpox_2782.png', 'Chickenpox_2783.png', 'Chickenpox_2784.png', 'Chickenpox_2785.png', 'Chickenpox_2786.png', 'Chickenpox_2787.png', 'Chickenpox_2788.png', 'Chickenpox_2789.png', 'Chickenpox_2790.png', 'Chickenpox_2791.png', 'Chickenpox_2792.png', 'Chickenpox_2793.png', 'Chickenpox_2794.png', 'Chickenpox_2795.png', 'Chickenpox_2796.png', 'Chickenpox_2797.png', 'Chickenpox_2798.png', 'Chickenpox_2799.png', 'Chickenpox_2800.png', 'Chickenpox_2801.png', 'Chickenpox_2802.png', 'Chickenpox_2803.png', 'Chickenpox_2804.png', 'Chickenpox_2805.png', 'Chickenpox_2806.png', 'Chickenpox_2807.png', 'Chickenpox_2808.png', 'Chickenpox_2809.png', 'Chickenpox_2810.png', 'Chickenpox_2811.png', 'Chickenpox_2812.png', 'Chickenpox_2813.png', 'Chickenpox_2814.png', 'Chickenpox_2815.png', 'Chickenpox_2816.png', 'Chickenpox_2817.png', 'Chickenpox_2818.png', 'Chickenpox_2819.png', 'Chickenpox_2820.png', 'Chickenpox_2821.png', 'Chickenpox_2822.png', 'Chickenpox_2823.png', 'Chickenpox_2824.png', 'Chickenpox_2825.png', 'Chickenpox_2826.png', 'Chickenpox_2827.png', 'Chickenpox_2828.png', 'Chickenpox_2829.png', 'Chickenpox_2830.png', 'Chickenpox_2831.png', 'Chickenpox_2832.png', 'Chickenpox_2833.png', 'Chickenpox_2834.png', 'Chickenpox_2835.png', 'Chickenpox_2836.png', 'Chickenpox_2837.png', 'Chickenpox_2838.png', 'Chickenpox_2839.png', 'Chickenpox_2840.png', 'Chickenpox_2841.png', 'Chickenpox_2842.png', 'Chickenpox_2843.png', 'Chickenpox_2844.png', 'Chickenpox_2845.png', 'Chickenpox_2846.png', 'Chickenpox_2847.png', 'Chickenpox_2848.png', 'Chickenpox_2849.png', 'Chickenpox_2850.png', 'Chickenpox_2851.png', 'Chickenpox_2852.png', 'Chickenpox_2853.png', 'Chickenpox_2854.png', 'Chickenpox_2855.png', 'Chickenpox_2856.png', 'Chickenpox_2857.png', 'Chickenpox_2858.png', 'Chickenpox_2859.png', 'Chickenpox_2860.png', 'Chickenpox_2861.png', 'Chickenpox_2862.png', 'Chickenpox_2863.png', 'Chickenpox_2864.png', 'Chickenpox_2865.png', 'Chickenpox_2866.png', 'Chickenpox_2867.png', 'Chickenpox_2868.png', 'Chickenpox_2869.png', 'Chickenpox_2870.png', 'Chickenpox_2871.png', 'Chickenpox_2872.png', 'Chickenpox_2873.png', 'Chickenpox_2874.png', 'Chickenpox_2875.png', 'Chickenpox_2876.png', 'Chickenpox_2877.png', 'Chickenpox_2878.png', 'Chickenpox_2879.png', 'Chickenpox_2880.png', 'Chickenpox_2881.png', 'Chickenpox_2882.png', 'Chickenpox_2883.png', 'Chickenpox_2884.png', 'Chickenpox_2885.png', 'Chickenpox_2886.png', 'Chickenpox_2887.png', 'Chickenpox_2888.png', 'Chickenpox_2889.png', 'Chickenpox_2890.png', 'Chickenpox_2891.png', 'Chickenpox_2892.png', 'Chickenpox_2893.png', 'Chickenpox_2894.png', 'Chickenpox_2895.png', 'Chickenpox_2896.png', 'Chickenpox_2897.png', 'Chickenpox_2898.png', 'Chickenpox_2899.png', 'Chickenpox_2900.png', 'Chickenpox_2901.png', 'Chickenpox_2902.png', 'Chickenpox_2903.png', 'Chickenpox_2904.png', 'Chickenpox_2905.png', 'Chickenpox_2906.png', 'Chickenpox_2907.png', 'Chickenpox_2908.png', 'Chickenpox_2909.png', 'Chickenpox_2910.png', 'Chickenpox_2911.png', 'Chickenpox_2912.png', 'Chickenpox_2913.png', 'Chickenpox_2914.png', 'Chickenpox_2915.png', 'Chickenpox_2916.png', 'Chickenpox_2917.png', 'Chickenpox_2918.png', 'Chickenpox_2919.png', 'Chickenpox_2920.png', 'Chickenpox_2921.png', 'Chickenpox_2922.png', 'Chickenpox_2923.png', 'Chickenpox_2924.png', 'Chickenpox_2925.png', 'Chickenpox_2926.png', 'Chickenpox_2927.png', 'Chickenpox_2928.png', 'Chickenpox_2929.png', 'Chickenpox_2930.png', 'Chickenpox_2931.png', 'Chickenpox_2932.png', 'Chickenpox_2933.png', 'Chickenpox_2934.png', 'Chickenpox_2935.png', 'Chickenpox_2936.png', 'Chickenpox_2937.png', 'Chickenpox_2938.png', 'Chickenpox_2939.png', 'Chickenpox_2940.png', 'Chickenpox_2941.png', 'Chickenpox_2942.png', 'Chickenpox_2943.png', 'Chickenpox_2944.png', 'Chickenpox_2945.png', 'Chickenpox_2946.png', 'Chickenpox_2947.png', 'Chickenpox_2948.png', 'Chickenpox_2949.png', 'Chickenpox_2950.png', 'Chickenpox_2951.png', 'Chickenpox_2952.png', 'Chickenpox_2953.png', 'Chickenpox_2954.png', 'Chickenpox_2955.png', 'Chickenpox_2956.png', 'Chickenpox_2957.png', 'Chickenpox_2958.png', 'Chickenpox_2959.png', 'Chickenpox_2960.png', 'Chickenpox_2961.png', 'Chickenpox_2962.png', 'Chickenpox_2963.png', 'Chickenpox_2964.png', 'Chickenpox_2965.png', 'Chickenpox_2966.png', 'Chickenpox_2967.png', 'Chickenpox_2968.png', 'Chickenpox_2969.png', 'Chickenpox_2970.png', 'Chickenpox_2971.png', 'Chickenpox_2972.png', 'Chickenpox_2973.png', 'Chickenpox_2974.png', 'Chickenpox_2975.png', 'Chickenpox_2976.png', 'Chickenpox_2977.png', 'Chickenpox_2978.png', 'Chickenpox_2979.png', 'Chickenpox_2980.png', 'Chickenpox_2981.png', 'Chickenpox_2982.png', 'Chickenpox_2983.png', 'Chickenpox_2984.png', 'Chickenpox_2985.png', 'Chickenpox_2986.png', 'Chickenpox_2987.png', 'Chickenpox_2988.png', 'Chickenpox_2989.png', 'Chickenpox_2990.png', 'Chickenpox_2991.png', 'Chickenpox_2992.png', 'Chickenpox_2993.png', 'Chickenpox_2994.png', 'Chickenpox_2995.png', 'Chickenpox_2996.png', 'Chickenpox_2997.png', 'Chickenpox_2998.png', 'Chickenpox_2999.png', 'Chickenpox_3000.png', 'Chickenpox_3001.png', 'Chickenpox_3002.png', 'Chickenpox_3003.png', 'Chickenpox_3004.png', 'Chickenpox_3005.png', 'Chickenpox_3006.png', 'Chickenpox_3007.png', 'Chickenpox_3008.png', 'Chickenpox_3009.png', 'Chickenpox_3010.png', 'Chickenpox_3011.png', 'Chickenpox_3012.png', 'Chickenpox_3013.png', 'Chickenpox_3014.png', 'Chickenpox_3015.png', 'Chickenpox_3016.png', 'Chickenpox_3017.png', 'Chickenpox_3018.png', 'Chickenpox_3019.png', 'Chickenpox_3020.png', 'Chickenpox_3021.png', 'Chickenpox_3022.png', 'Chickenpox_3023.png', 'Chickenpox_3024.png', 'Chickenpox_3025.png', 'Chickenpox_3026.png', 'Chickenpox_3027.png', 'Chickenpox_3028.png', 'Chickenpox_3029.png', 'Chickenpox_3030.png', 'Chickenpox_3031.png', 'Chickenpox_3032.png', 'Chickenpox_3033.png', 'Chickenpox_3034.png', 'Chickenpox_3035.png', 'Chickenpox_3036.png', 'Chickenpox_3037.png', 'Chickenpox_3038.png', 'Chickenpox_3039.png', 'Chickenpox_3040.png', 'Chickenpox_3041.png', 'Chickenpox_3042.png', 'Chickenpox_3043.png', 'Chickenpox_3044.png', 'Chickenpox_3045.png', 'Chickenpox_3046.png', 'Chickenpox_3047.png', 'Chickenpox_3048.png', 'Chickenpox_3049.png', 'Chickenpox_3050.png', 'Chickenpox_3051.png', 'Chickenpox_3052.png', 'Chickenpox_3053.png', 'Chickenpox_3054.png', 'Chickenpox_3055.png', 'Chickenpox_3056.png', 'Chickenpox_3057.png', 'Chickenpox_3058.png', 'Chickenpox_3059.png', 'Chickenpox_3060.png', 'Chickenpox_3061.png', 'Chickenpox_3062.png', 'Chickenpox_3063.png', 'Chickenpox_3064.png', 'Chickenpox_3065.png', 'Chickenpox_3066.png', 'Chickenpox_3067.png', 'Chickenpox_3068.png', 'Chickenpox_3069.png', 'Chickenpox_3070.png', 'Chickenpox_3071.png', 'Chickenpox_3072.png', 'Chickenpox_3073.png', 'Chickenpox_3074.png', 'Chickenpox_3075.png', 'Chickenpox_3076.png', 'Chickenpox_3077.png', 'Chickenpox_3078.png', 'Chickenpox_3079.png', 'Chickenpox_3080.png', 'Chickenpox_3081.png', 'Chickenpox_3082.png', 'Chickenpox_3083.png', 'Chickenpox_3084.png', 'Chickenpox_3085.png', 'Chickenpox_3086.png', 'Chickenpox_3087.png', 'Chickenpox_3088.png', 'Chickenpox_3089.png', 'Chickenpox_3090.png', 'Chickenpox_3091.png', 'Chickenpox_3092.png', 'Chickenpox_3093.png', 'Chickenpox_3094.png', 'Chickenpox_3095.png', 'Chickenpox_3096.png', 'Chickenpox_3097.png', 'Chickenpox_3098.png', 'Chickenpox_3099.png', 'Chickenpox_3100.png', 'Chickenpox_3101.png', 'Chickenpox_3102.png', 'Chickenpox_3103.png', 'Chickenpox_3104.png', 'Chickenpox_3105.png', 'Chickenpox_3106.png', 'Chickenpox_3107.png', 'Chickenpox_3108.png', 'Chickenpox_3109.png', 'Chickenpox_3110.png', 'Chickenpox_3111.png', 'Chickenpox_3112.png', 'Chickenpox_3113.png', 'Chickenpox_3114.png', 'Chickenpox_3115.png', 'Chickenpox_3116.png', 'Chickenpox_3117.png', 'Chickenpox_3118.png', 'Chickenpox_3119.png', 'Chickenpox_3120.png', 'Chickenpox_3121.png', 'Chickenpox_3122.png', 'Chickenpox_3123.png', 'Chickenpox_3124.png', 'Chickenpox_3125.png', 'Chickenpox_3126.png', 'Chickenpox_3127.png', 'Chickenpox_3128.png', 'Chickenpox_3129.png', 'Chickenpox_3130.png', 'Chickenpox_3131.png', 'Chickenpox_3132.png', 'Chickenpox_3133.png', 'Chickenpox_3134.png', 'Chickenpox_3135.png', 'Chickenpox_3136.png', 'Chickenpox_3137.png', 'Chickenpox_3138.png', 'Chickenpox_3139.png', 'Chickenpox_3140.png', 'Chickenpox_3141.png', 'Chickenpox_3142.png', 'Chickenpox_3143.png', 'Chickenpox_3144.png', 'Chickenpox_3145.png', 'Chickenpox_3146.png', 'Chickenpox_3147.png', 'Chickenpox_3148.png', 'Chickenpox_3149.png', 'Chickenpox_3150.png', 'Chickenpox_3151.png', 'Chickenpox_3152.png', 'Chickenpox_3153.png', 'Chickenpox_3154.png', 'Chickenpox_3155.png', 'Chickenpox_3156.png', 'Chickenpox_3157.png', 'Chickenpox_3158.png', 'Chickenpox_3159.png', 'Chickenpox_3160.png', 'Chickenpox_3161.png', 'Chickenpox_3162.png', 'Chickenpox_3163.png', 'Chickenpox_3164.png', 'Chickenpox_3165.png', 'Chickenpox_3166.png', 'Chickenpox_3167.png', 'Chickenpox_3168.png', 'Chickenpox_3169.png', 'Chickenpox_3170.png', 'Chickenpox_3171.png', 'Chickenpox_3172.png', 'Chickenpox_3173.png', 'Chickenpox_3174.png', 'Chickenpox_3175.png', 'Chickenpox_3176.png', 'Chickenpox_3177.png', 'Chickenpox_3178.png', 'Chickenpox_3179.png', 'Chickenpox_3180.png', 'Chickenpox_3181.png', 'Chickenpox_3182.png', 'Chickenpox_3183.png', 'Chickenpox_3184.png', 'Chickenpox_3185.png', 'Chickenpox_3186.png', 'Chickenpox_3187.png', 'Chickenpox_3188.png', 'Chickenpox_3189.png', 'Chickenpox_3190.png', 'Chickenpox_3191.png', 'Chickenpox_3192.png', 'Chickenpox_3193.png', 'Chickenpox_3194.png', 'Chickenpox_3195.png', 'Chickenpox_3196.png', 'Chickenpox_3197.png', 'Chickenpox_3198.png', 'Chickenpox_3199.png', 'Chickenpox_3200.png', 'Chickenpox_3201.png', 'Chickenpox_3202.png', 'Chickenpox_3203.png', 'Chickenpox_3204.png', 'Chickenpox_3205.png', 'Chickenpox_3206.png', 'Chickenpox_3207.png', 'Chickenpox_3208.png', 'Chickenpox_3209.png', 'Chickenpox_3210.png', 'Chickenpox_3211.png', 'Chickenpox_3212.png', 'Chickenpox_3213.png', 'Chickenpox_3214.png', 'Chickenpox_3215.png', 'Chickenpox_3216.png', 'Chickenpox_3217.png', 'Chickenpox_3218.png', 'Chickenpox_3219.png', 'Chickenpox_3220.png', 'Chickenpox_3221.png', 'Chickenpox_3222.png', 'Chickenpox_3223.png', 'Chickenpox_3224.png', 'Chickenpox_3225.png', 'Chickenpox_3226.png', 'Chickenpox_3227.png', 'Chickenpox_3228.png', 'Chickenpox_3229.png', 'Chickenpox_3230.png', 'Chickenpox_3231.png', 'Chickenpox_3232.png', 'Chickenpox_3233.png', 'Chickenpox_3234.png', 'Chickenpox_3235.png', 'Chickenpox_3236.png', 'Chickenpox_3237.png', 'Chickenpox_3238.png', 'Chickenpox_3239.png', 'Chickenpox_3240.png', 'Chickenpox_3241.png', 'Chickenpox_3242.png', 'Chickenpox_3243.png', 'Chickenpox_3244.png', 'Chickenpox_3245.png', 'Chickenpox_3246.png', 'Chickenpox_3247.png', 'Chickenpox_3248.png', 'Chickenpox_3249.png', 'Chickenpox_3250.png', 'Chickenpox_3251.png', 'Chickenpox_3252.png', 'Chickenpox_3253.png', 'Chickenpox_3254.png', 'Chickenpox_3255.png', 'Chickenpox_3256.png', 'Chickenpox_3257.png', 'Chickenpox_3258.png', 'Chickenpox_3259.png', 'Chickenpox_3260.png', 'Chickenpox_3261.png', 'Chickenpox_3262.png', 'Chickenpox_3263.png', 'Chickenpox_3264.png', 'Chickenpox_3265.png', 'Chickenpox_3266.png', 'Chickenpox_3267.png', 'Chickenpox_3268.png', 'Chickenpox_3269.png', 'Chickenpox_3270.png', 'Chickenpox_3271.png', 'Chickenpox_3272.png', 'Chickenpox_3273.png', 'Chickenpox_3274.png', 'Chickenpox_3275.png', 'Chickenpox_3276.png', 'Chickenpox_3277.png', 'Chickenpox_3278.png', 'Chickenpox_3279.png', 'Chickenpox_3280.png', 'Chickenpox_3281.png', 'Chickenpox_3282.png', 'Chickenpox_3283.png', 'Chickenpox_3284.png', 'Chickenpox_3285.png', 'Chickenpox_3286.png', 'Chickenpox_3287.png', 'Chickenpox_3288.png', 'Chickenpox_3289.png', 'Chickenpox_3290.png', 'Chickenpox_3291.png', 'Chickenpox_3292.png', 'Chickenpox_3293.png', 'Chickenpox_3294.png', 'Chickenpox_3295.png', 'Chickenpox_3296.png', 'Chickenpox_3297.png', 'Chickenpox_3298.png', 'Chickenpox_3299.png', 'Chickenpox_3300.png', 'Chickenpox_3301.png', 'Chickenpox_3302.png', 'Chickenpox_3303.png', 'Chickenpox_3304.png', 'Chickenpox_3305.png', 'Chickenpox_3306.png', 'Chickenpox_3307.png', 'Chickenpox_3308.png', 'Chickenpox_3309.png', 'Chickenpox_3310.png', 'Chickenpox_3311.png', 'Chickenpox_3312.png', 'Chickenpox_3313.png', 'Chickenpox_3314.png', 'Chickenpox_3315.png', 'Chickenpox_3316.png', 'Chickenpox_3317.png', 'Chickenpox_3318.png', 'Chickenpox_3319.png', 'Chickenpox_3320.png', 'Chickenpox_3321.png', 'Chickenpox_3322.png', 'Chickenpox_3323.png', 'Chickenpox_3324.png', 'Chickenpox_3325.png', 'Chickenpox_3326.png', 'Chickenpox_3327.png', 'Chickenpox_3328.png', 'Chickenpox_3329.png', 'Chickenpox_3330.png', 'Chickenpox_3331.png', 'Chickenpox_3332.png', 'Chickenpox_3333.png', 'Chickenpox_3334.png', 'Chickenpox_3335.png', 'Chickenpox_3336.png', 'Chickenpox_3337.png', 'Chickenpox_3338.png', 'Chickenpox_3339.png', 'Chickenpox_3340.png', 'Chickenpox_3341.png', 'Chickenpox_3342.png', 'Chickenpox_3343.png', 'Chickenpox_3344.png', 'Chickenpox_3345.png', 'Chickenpox_3346.png', 'Chickenpox_3347.png', 'Chickenpox_3348.png']\n"
          ]
        }
      ]
    },
    {
      "cell_type": "code",
      "source": [
        "\n",
        "import os\n",
        "\n",
        "folder = r'/content/drive/MyDrive/Deep Learning Project/Menu_Aug/Random_tone/Monkeypox/'\n",
        "count = 2512\n",
        "# count increase by 1 in each iteration\n",
        "# iterate all files from a directory\n",
        "for file_name in os.listdir(folder):\n",
        "    # Construct old file name\n",
        "    source = folder + file_name\n",
        "\n",
        "    # Adding the count to the new file name and extension\n",
        "    destination = folder + \"Monkeypox_\" + str(count) + \".png\"\n",
        "\n",
        "    # Renaming the file\n",
        "    os.rename(source, destination)\n",
        "    count += 1\n",
        "print('All Files Renamed')\n",
        "\n",
        "print('New Names are')\n",
        "# verify the result\n",
        "res = os.listdir(folder)\n",
        "print(res)"
      ],
      "metadata": {
        "colab": {
          "base_uri": "https://localhost:8080/"
        },
        "id": "zCkUD_wnvY9W",
        "outputId": "b61ccc1a-8b60-48f4-ea72-a0c08432221c"
      },
      "execution_count": null,
      "outputs": [
        {
          "output_type": "stream",
          "name": "stdout",
          "text": [
            "All Files Renamed\n",
            "New Names are\n",
            "['Monkeypox_2512.png', 'Monkeypox_2513.png', 'Monkeypox_2514.png', 'Monkeypox_2515.png', 'Monkeypox_2516.png', 'Monkeypox_2517.png', 'Monkeypox_2518.png', 'Monkeypox_2519.png', 'Monkeypox_2520.png', 'Monkeypox_2521.png', 'Monkeypox_2522.png', 'Monkeypox_2523.png', 'Monkeypox_2524.png', 'Monkeypox_2525.png', 'Monkeypox_2526.png', 'Monkeypox_2527.png', 'Monkeypox_2528.png', 'Monkeypox_2529.png', 'Monkeypox_2530.png', 'Monkeypox_2531.png', 'Monkeypox_2532.png', 'Monkeypox_2533.png', 'Monkeypox_2534.png', 'Monkeypox_2535.png', 'Monkeypox_2536.png', 'Monkeypox_2537.png', 'Monkeypox_2538.png', 'Monkeypox_2539.png', 'Monkeypox_2540.png', 'Monkeypox_2541.png', 'Monkeypox_2542.png', 'Monkeypox_2543.png', 'Monkeypox_2544.png', 'Monkeypox_2545.png', 'Monkeypox_2546.png', 'Monkeypox_2547.png', 'Monkeypox_2548.png', 'Monkeypox_2549.png', 'Monkeypox_2550.png', 'Monkeypox_2551.png', 'Monkeypox_2552.png', 'Monkeypox_2553.png', 'Monkeypox_2554.png', 'Monkeypox_2555.png', 'Monkeypox_2556.png', 'Monkeypox_2557.png', 'Monkeypox_2558.png', 'Monkeypox_2559.png', 'Monkeypox_2560.png', 'Monkeypox_2561.png', 'Monkeypox_2562.png', 'Monkeypox_2563.png', 'Monkeypox_2564.png', 'Monkeypox_2565.png', 'Monkeypox_2566.png', 'Monkeypox_2567.png', 'Monkeypox_2568.png', 'Monkeypox_2569.png', 'Monkeypox_2570.png', 'Monkeypox_2571.png', 'Monkeypox_2572.png', 'Monkeypox_2573.png', 'Monkeypox_2574.png', 'Monkeypox_2575.png', 'Monkeypox_2576.png', 'Monkeypox_2577.png', 'Monkeypox_2578.png', 'Monkeypox_2579.png', 'Monkeypox_2580.png', 'Monkeypox_2581.png', 'Monkeypox_2582.png', 'Monkeypox_2583.png', 'Monkeypox_2584.png', 'Monkeypox_2585.png', 'Monkeypox_2586.png', 'Monkeypox_2587.png', 'Monkeypox_2588.png', 'Monkeypox_2589.png', 'Monkeypox_2590.png', 'Monkeypox_2591.png', 'Monkeypox_2592.png', 'Monkeypox_2593.png', 'Monkeypox_2594.png', 'Monkeypox_2595.png', 'Monkeypox_2596.png', 'Monkeypox_2597.png', 'Monkeypox_2598.png', 'Monkeypox_2599.png', 'Monkeypox_2600.png', 'Monkeypox_2601.png', 'Monkeypox_2602.png', 'Monkeypox_2603.png', 'Monkeypox_2604.png', 'Monkeypox_2605.png', 'Monkeypox_2606.png', 'Monkeypox_2607.png', 'Monkeypox_2608.png', 'Monkeypox_2609.png', 'Monkeypox_2610.png', 'Monkeypox_2611.png', 'Monkeypox_2612.png', 'Monkeypox_2613.png', 'Monkeypox_2614.png', 'Monkeypox_2615.png', 'Monkeypox_2616.png', 'Monkeypox_2617.png', 'Monkeypox_2618.png', 'Monkeypox_2619.png', 'Monkeypox_2620.png', 'Monkeypox_2621.png', 'Monkeypox_2622.png', 'Monkeypox_2623.png', 'Monkeypox_2624.png', 'Monkeypox_2625.png', 'Monkeypox_2626.png', 'Monkeypox_2627.png', 'Monkeypox_2628.png', 'Monkeypox_2629.png', 'Monkeypox_2630.png', 'Monkeypox_2631.png', 'Monkeypox_2632.png', 'Monkeypox_2633.png', 'Monkeypox_2634.png', 'Monkeypox_2635.png', 'Monkeypox_2636.png', 'Monkeypox_2637.png', 'Monkeypox_2638.png', 'Monkeypox_2639.png', 'Monkeypox_2640.png', 'Monkeypox_2641.png', 'Monkeypox_2642.png', 'Monkeypox_2643.png', 'Monkeypox_2644.png', 'Monkeypox_2645.png', 'Monkeypox_2646.png', 'Monkeypox_2647.png', 'Monkeypox_2648.png', 'Monkeypox_2649.png', 'Monkeypox_2650.png', 'Monkeypox_2651.png', 'Monkeypox_2652.png', 'Monkeypox_2653.png', 'Monkeypox_2654.png', 'Monkeypox_2655.png', 'Monkeypox_2656.png', 'Monkeypox_2657.png', 'Monkeypox_2658.png', 'Monkeypox_2659.png', 'Monkeypox_2660.png', 'Monkeypox_2661.png', 'Monkeypox_2662.png', 'Monkeypox_2663.png', 'Monkeypox_2664.png', 'Monkeypox_2665.png', 'Monkeypox_2666.png', 'Monkeypox_2667.png', 'Monkeypox_2668.png', 'Monkeypox_2669.png', 'Monkeypox_2670.png', 'Monkeypox_2671.png', 'Monkeypox_2672.png', 'Monkeypox_2673.png', 'Monkeypox_2674.png', 'Monkeypox_2675.png', 'Monkeypox_2676.png', 'Monkeypox_2677.png', 'Monkeypox_2678.png', 'Monkeypox_2679.png', 'Monkeypox_2680.png', 'Monkeypox_2681.png', 'Monkeypox_2682.png', 'Monkeypox_2683.png', 'Monkeypox_2684.png', 'Monkeypox_2685.png', 'Monkeypox_2686.png', 'Monkeypox_2687.png', 'Monkeypox_2688.png', 'Monkeypox_2689.png', 'Monkeypox_2690.png', 'Monkeypox_2691.png', 'Monkeypox_2692.png', 'Monkeypox_2693.png', 'Monkeypox_2694.png', 'Monkeypox_2695.png', 'Monkeypox_2696.png', 'Monkeypox_2697.png', 'Monkeypox_2698.png', 'Monkeypox_2699.png', 'Monkeypox_2700.png', 'Monkeypox_2701.png', 'Monkeypox_2702.png', 'Monkeypox_2703.png', 'Monkeypox_2704.png', 'Monkeypox_2705.png', 'Monkeypox_2706.png', 'Monkeypox_2707.png', 'Monkeypox_2708.png', 'Monkeypox_2709.png', 'Monkeypox_2710.png', 'Monkeypox_2711.png', 'Monkeypox_2712.png', 'Monkeypox_2713.png', 'Monkeypox_2714.png', 'Monkeypox_2715.png', 'Monkeypox_2716.png', 'Monkeypox_2717.png', 'Monkeypox_2718.png', 'Monkeypox_2719.png', 'Monkeypox_2720.png', 'Monkeypox_2721.png', 'Monkeypox_2722.png', 'Monkeypox_2723.png', 'Monkeypox_2724.png', 'Monkeypox_2725.png', 'Monkeypox_2726.png', 'Monkeypox_2727.png', 'Monkeypox_2728.png', 'Monkeypox_2729.png', 'Monkeypox_2730.png', 'Monkeypox_2731.png', 'Monkeypox_2732.png', 'Monkeypox_2733.png', 'Monkeypox_2734.png', 'Monkeypox_2735.png', 'Monkeypox_2736.png', 'Monkeypox_2737.png', 'Monkeypox_2738.png', 'Monkeypox_2739.png', 'Monkeypox_2740.png', 'Monkeypox_2741.png', 'Monkeypox_2742.png', 'Monkeypox_2743.png', 'Monkeypox_2744.png', 'Monkeypox_2745.png', 'Monkeypox_2746.png', 'Monkeypox_2747.png', 'Monkeypox_2748.png', 'Monkeypox_2749.png', 'Monkeypox_2750.png', 'Monkeypox_2751.png', 'Monkeypox_2752.png', 'Monkeypox_2753.png', 'Monkeypox_2754.png', 'Monkeypox_2755.png', 'Monkeypox_2756.png', 'Monkeypox_2757.png', 'Monkeypox_2758.png', 'Monkeypox_2759.png', 'Monkeypox_2760.png', 'Monkeypox_2761.png', 'Monkeypox_2762.png', 'Monkeypox_2763.png', 'Monkeypox_2764.png', 'Monkeypox_2765.png', 'Monkeypox_2766.png', 'Monkeypox_2767.png', 'Monkeypox_2768.png', 'Monkeypox_2769.png', 'Monkeypox_2770.png', 'Monkeypox_2771.png', 'Monkeypox_2772.png', 'Monkeypox_2773.png', 'Monkeypox_2774.png', 'Monkeypox_2775.png', 'Monkeypox_2776.png', 'Monkeypox_2777.png', 'Monkeypox_2778.png', 'Monkeypox_2779.png', 'Monkeypox_2780.png', 'Monkeypox_2781.png', 'Monkeypox_2782.png', 'Monkeypox_2783.png', 'Monkeypox_2784.png', 'Monkeypox_2785.png', 'Monkeypox_2786.png', 'Monkeypox_2787.png', 'Monkeypox_2788.png', 'Monkeypox_2789.png', 'Monkeypox_2790.png', 'Monkeypox_2791.png', 'Monkeypox_2792.png', 'Monkeypox_2793.png', 'Monkeypox_2794.png', 'Monkeypox_2795.png', 'Monkeypox_2796.png', 'Monkeypox_2797.png', 'Monkeypox_2798.png', 'Monkeypox_2799.png', 'Monkeypox_2800.png', 'Monkeypox_2801.png', 'Monkeypox_2802.png', 'Monkeypox_2803.png', 'Monkeypox_2804.png', 'Monkeypox_2805.png', 'Monkeypox_2806.png', 'Monkeypox_2807.png', 'Monkeypox_2808.png', 'Monkeypox_2809.png', 'Monkeypox_2810.png', 'Monkeypox_2811.png', 'Monkeypox_2812.png', 'Monkeypox_2813.png', 'Monkeypox_2814.png', 'Monkeypox_2815.png', 'Monkeypox_2816.png', 'Monkeypox_2817.png', 'Monkeypox_2818.png', 'Monkeypox_2819.png', 'Monkeypox_2820.png', 'Monkeypox_2821.png', 'Monkeypox_2822.png', 'Monkeypox_2823.png', 'Monkeypox_2824.png', 'Monkeypox_2825.png', 'Monkeypox_2826.png', 'Monkeypox_2827.png', 'Monkeypox_2828.png', 'Monkeypox_2829.png', 'Monkeypox_2830.png', 'Monkeypox_2831.png', 'Monkeypox_2832.png', 'Monkeypox_2833.png', 'Monkeypox_2834.png', 'Monkeypox_2835.png', 'Monkeypox_2836.png', 'Monkeypox_2837.png', 'Monkeypox_2838.png', 'Monkeypox_2839.png', 'Monkeypox_2840.png', 'Monkeypox_2841.png', 'Monkeypox_2842.png', 'Monkeypox_2843.png', 'Monkeypox_2844.png', 'Monkeypox_2845.png', 'Monkeypox_2846.png', 'Monkeypox_2847.png', 'Monkeypox_2848.png', 'Monkeypox_2849.png', 'Monkeypox_2850.png', 'Monkeypox_2851.png', 'Monkeypox_2852.png', 'Monkeypox_2853.png', 'Monkeypox_2854.png', 'Monkeypox_2855.png', 'Monkeypox_2856.png', 'Monkeypox_2857.png', 'Monkeypox_2858.png', 'Monkeypox_2859.png', 'Monkeypox_2860.png', 'Monkeypox_2861.png', 'Monkeypox_2862.png', 'Monkeypox_2863.png', 'Monkeypox_2864.png', 'Monkeypox_2865.png', 'Monkeypox_2866.png', 'Monkeypox_2867.png', 'Monkeypox_2868.png', 'Monkeypox_2869.png', 'Monkeypox_2870.png', 'Monkeypox_2871.png', 'Monkeypox_2872.png', 'Monkeypox_2873.png', 'Monkeypox_2874.png', 'Monkeypox_2875.png', 'Monkeypox_2876.png', 'Monkeypox_2877.png', 'Monkeypox_2878.png', 'Monkeypox_2879.png', 'Monkeypox_2880.png', 'Monkeypox_2881.png', 'Monkeypox_2882.png', 'Monkeypox_2883.png', 'Monkeypox_2884.png', 'Monkeypox_2885.png', 'Monkeypox_2886.png', 'Monkeypox_2887.png', 'Monkeypox_2888.png', 'Monkeypox_2889.png', 'Monkeypox_2890.png', 'Monkeypox_2891.png', 'Monkeypox_2892.png', 'Monkeypox_2893.png', 'Monkeypox_2894.png', 'Monkeypox_2895.png', 'Monkeypox_2896.png', 'Monkeypox_2897.png', 'Monkeypox_2898.png', 'Monkeypox_2899.png', 'Monkeypox_2900.png', 'Monkeypox_2901.png', 'Monkeypox_2902.png', 'Monkeypox_2903.png', 'Monkeypox_2904.png', 'Monkeypox_2905.png', 'Monkeypox_2906.png', 'Monkeypox_2907.png', 'Monkeypox_2908.png', 'Monkeypox_2909.png', 'Monkeypox_2910.png', 'Monkeypox_2911.png', 'Monkeypox_2912.png', 'Monkeypox_2913.png', 'Monkeypox_2914.png', 'Monkeypox_2915.png', 'Monkeypox_2916.png', 'Monkeypox_2917.png', 'Monkeypox_2918.png', 'Monkeypox_2919.png', 'Monkeypox_2920.png', 'Monkeypox_2921.png', 'Monkeypox_2922.png', 'Monkeypox_2923.png', 'Monkeypox_2924.png', 'Monkeypox_2925.png', 'Monkeypox_2926.png', 'Monkeypox_2927.png', 'Monkeypox_2928.png', 'Monkeypox_2929.png', 'Monkeypox_2930.png', 'Monkeypox_2931.png', 'Monkeypox_2932.png', 'Monkeypox_2933.png', 'Monkeypox_2934.png', 'Monkeypox_2935.png', 'Monkeypox_2936.png', 'Monkeypox_2937.png', 'Monkeypox_2938.png', 'Monkeypox_2939.png', 'Monkeypox_2940.png', 'Monkeypox_2941.png', 'Monkeypox_2942.png', 'Monkeypox_2943.png', 'Monkeypox_2944.png', 'Monkeypox_2945.png', 'Monkeypox_2946.png', 'Monkeypox_2947.png', 'Monkeypox_2948.png', 'Monkeypox_2949.png', 'Monkeypox_2950.png', 'Monkeypox_2951.png', 'Monkeypox_2952.png', 'Monkeypox_2953.png', 'Monkeypox_2954.png', 'Monkeypox_2955.png', 'Monkeypox_2956.png', 'Monkeypox_2957.png', 'Monkeypox_2958.png', 'Monkeypox_2959.png', 'Monkeypox_2960.png', 'Monkeypox_2961.png', 'Monkeypox_2962.png', 'Monkeypox_2963.png', 'Monkeypox_2964.png', 'Monkeypox_2965.png', 'Monkeypox_2966.png', 'Monkeypox_2967.png', 'Monkeypox_2968.png', 'Monkeypox_2969.png', 'Monkeypox_2970.png', 'Monkeypox_2971.png', 'Monkeypox_2972.png', 'Monkeypox_2973.png', 'Monkeypox_2974.png', 'Monkeypox_2975.png', 'Monkeypox_2976.png', 'Monkeypox_2977.png', 'Monkeypox_2978.png', 'Monkeypox_2979.png', 'Monkeypox_2980.png', 'Monkeypox_2981.png', 'Monkeypox_2982.png', 'Monkeypox_2983.png', 'Monkeypox_2984.png', 'Monkeypox_2985.png', 'Monkeypox_2986.png', 'Monkeypox_2987.png', 'Monkeypox_2988.png', 'Monkeypox_2989.png', 'Monkeypox_2990.png', 'Monkeypox_2991.png', 'Monkeypox_2992.png', 'Monkeypox_2993.png', 'Monkeypox_2994.png', 'Monkeypox_2995.png', 'Monkeypox_2996.png', 'Monkeypox_2997.png', 'Monkeypox_2998.png', 'Monkeypox_2999.png', 'Monkeypox_3000.png', 'Monkeypox_3001.png', 'Monkeypox_3002.png', 'Monkeypox_3003.png', 'Monkeypox_3004.png', 'Monkeypox_3005.png', 'Monkeypox_3006.png', 'Monkeypox_3007.png', 'Monkeypox_3008.png', 'Monkeypox_3009.png', 'Monkeypox_3010.png', 'Monkeypox_3011.png', 'Monkeypox_3012.png', 'Monkeypox_3013.png', 'Monkeypox_3014.png', 'Monkeypox_3015.png', 'Monkeypox_3016.png', 'Monkeypox_3017.png', 'Monkeypox_3018.png', 'Monkeypox_3019.png', 'Monkeypox_3020.png', 'Monkeypox_3021.png', 'Monkeypox_3022.png', 'Monkeypox_3023.png', 'Monkeypox_3024.png', 'Monkeypox_3025.png', 'Monkeypox_3026.png', 'Monkeypox_3027.png', 'Monkeypox_3028.png', 'Monkeypox_3029.png', 'Monkeypox_3030.png', 'Monkeypox_3031.png', 'Monkeypox_3032.png', 'Monkeypox_3033.png', 'Monkeypox_3034.png', 'Monkeypox_3035.png', 'Monkeypox_3036.png', 'Monkeypox_3037.png', 'Monkeypox_3038.png', 'Monkeypox_3039.png', 'Monkeypox_3040.png', 'Monkeypox_3041.png', 'Monkeypox_3042.png', 'Monkeypox_3043.png', 'Monkeypox_3044.png', 'Monkeypox_3045.png', 'Monkeypox_3046.png', 'Monkeypox_3047.png', 'Monkeypox_3048.png', 'Monkeypox_3049.png', 'Monkeypox_3050.png', 'Monkeypox_3051.png', 'Monkeypox_3052.png', 'Monkeypox_3053.png', 'Monkeypox_3054.png', 'Monkeypox_3055.png', 'Monkeypox_3056.png', 'Monkeypox_3057.png', 'Monkeypox_3058.png', 'Monkeypox_3059.png', 'Monkeypox_3060.png', 'Monkeypox_3061.png', 'Monkeypox_3062.png', 'Monkeypox_3063.png', 'Monkeypox_3064.png', 'Monkeypox_3065.png', 'Monkeypox_3066.png', 'Monkeypox_3067.png', 'Monkeypox_3068.png', 'Monkeypox_3069.png', 'Monkeypox_3070.png', 'Monkeypox_3071.png', 'Monkeypox_3072.png', 'Monkeypox_3073.png', 'Monkeypox_3074.png', 'Monkeypox_3075.png', 'Monkeypox_3076.png', 'Monkeypox_3077.png', 'Monkeypox_3078.png', 'Monkeypox_3079.png', 'Monkeypox_3080.png', 'Monkeypox_3081.png', 'Monkeypox_3082.png', 'Monkeypox_3083.png', 'Monkeypox_3084.png', 'Monkeypox_3085.png', 'Monkeypox_3086.png', 'Monkeypox_3087.png', 'Monkeypox_3088.png', 'Monkeypox_3089.png', 'Monkeypox_3090.png', 'Monkeypox_3091.png', 'Monkeypox_3092.png', 'Monkeypox_3093.png', 'Monkeypox_3094.png', 'Monkeypox_3095.png', 'Monkeypox_3096.png', 'Monkeypox_3097.png', 'Monkeypox_3098.png', 'Monkeypox_3099.png', 'Monkeypox_3100.png', 'Monkeypox_3101.png', 'Monkeypox_3102.png', 'Monkeypox_3103.png', 'Monkeypox_3104.png', 'Monkeypox_3105.png', 'Monkeypox_3106.png', 'Monkeypox_3107.png', 'Monkeypox_3108.png', 'Monkeypox_3109.png', 'Monkeypox_3110.png', 'Monkeypox_3111.png', 'Monkeypox_3112.png', 'Monkeypox_3113.png', 'Monkeypox_3114.png', 'Monkeypox_3115.png', 'Monkeypox_3116.png', 'Monkeypox_3117.png', 'Monkeypox_3118.png', 'Monkeypox_3119.png', 'Monkeypox_3120.png', 'Monkeypox_3121.png', 'Monkeypox_3122.png', 'Monkeypox_3123.png', 'Monkeypox_3124.png', 'Monkeypox_3125.png', 'Monkeypox_3126.png', 'Monkeypox_3127.png', 'Monkeypox_3128.png', 'Monkeypox_3129.png', 'Monkeypox_3130.png', 'Monkeypox_3131.png', 'Monkeypox_3132.png', 'Monkeypox_3133.png', 'Monkeypox_3134.png', 'Monkeypox_3135.png', 'Monkeypox_3136.png', 'Monkeypox_3137.png', 'Monkeypox_3138.png', 'Monkeypox_3139.png', 'Monkeypox_3140.png', 'Monkeypox_3141.png', 'Monkeypox_3142.png', 'Monkeypox_3143.png', 'Monkeypox_3144.png', 'Monkeypox_3145.png', 'Monkeypox_3146.png', 'Monkeypox_3147.png', 'Monkeypox_3148.png', 'Monkeypox_3149.png', 'Monkeypox_3150.png', 'Monkeypox_3151.png', 'Monkeypox_3152.png', 'Monkeypox_3153.png', 'Monkeypox_3154.png', 'Monkeypox_3155.png', 'Monkeypox_3156.png', 'Monkeypox_3157.png', 'Monkeypox_3158.png', 'Monkeypox_3159.png', 'Monkeypox_3160.png', 'Monkeypox_3161.png', 'Monkeypox_3162.png', 'Monkeypox_3163.png', 'Monkeypox_3164.png', 'Monkeypox_3165.png', 'Monkeypox_3166.png', 'Monkeypox_3167.png', 'Monkeypox_3168.png', 'Monkeypox_3169.png', 'Monkeypox_3170.png', 'Monkeypox_3171.png', 'Monkeypox_3172.png', 'Monkeypox_3173.png', 'Monkeypox_3174.png', 'Monkeypox_3175.png', 'Monkeypox_3176.png', 'Monkeypox_3177.png', 'Monkeypox_3178.png', 'Monkeypox_3179.png', 'Monkeypox_3180.png', 'Monkeypox_3181.png', 'Monkeypox_3182.png', 'Monkeypox_3183.png', 'Monkeypox_3184.png', 'Monkeypox_3185.png', 'Monkeypox_3186.png', 'Monkeypox_3187.png', 'Monkeypox_3188.png', 'Monkeypox_3189.png', 'Monkeypox_3190.png', 'Monkeypox_3191.png', 'Monkeypox_3192.png', 'Monkeypox_3193.png', 'Monkeypox_3194.png', 'Monkeypox_3195.png', 'Monkeypox_3196.png', 'Monkeypox_3197.png', 'Monkeypox_3198.png', 'Monkeypox_3199.png', 'Monkeypox_3200.png', 'Monkeypox_3201.png', 'Monkeypox_3202.png', 'Monkeypox_3203.png', 'Monkeypox_3204.png', 'Monkeypox_3205.png', 'Monkeypox_3206.png', 'Monkeypox_3207.png', 'Monkeypox_3208.png', 'Monkeypox_3209.png', 'Monkeypox_3210.png', 'Monkeypox_3211.png', 'Monkeypox_3212.png', 'Monkeypox_3213.png', 'Monkeypox_3214.png', 'Monkeypox_3215.png', 'Monkeypox_3216.png', 'Monkeypox_3217.png', 'Monkeypox_3218.png', 'Monkeypox_3219.png', 'Monkeypox_3220.png', 'Monkeypox_3221.png', 'Monkeypox_3222.png', 'Monkeypox_3223.png', 'Monkeypox_3224.png', 'Monkeypox_3225.png', 'Monkeypox_3226.png', 'Monkeypox_3227.png', 'Monkeypox_3228.png', 'Monkeypox_3229.png', 'Monkeypox_3230.png', 'Monkeypox_3231.png', 'Monkeypox_3232.png', 'Monkeypox_3233.png', 'Monkeypox_3234.png', 'Monkeypox_3235.png', 'Monkeypox_3236.png', 'Monkeypox_3237.png', 'Monkeypox_3238.png', 'Monkeypox_3239.png', 'Monkeypox_3240.png', 'Monkeypox_3241.png', 'Monkeypox_3242.png', 'Monkeypox_3243.png', 'Monkeypox_3244.png', 'Monkeypox_3245.png', 'Monkeypox_3246.png', 'Monkeypox_3247.png', 'Monkeypox_3248.png', 'Monkeypox_3249.png', 'Monkeypox_3250.png', 'Monkeypox_3251.png', 'Monkeypox_3252.png', 'Monkeypox_3253.png', 'Monkeypox_3254.png', 'Monkeypox_3255.png', 'Monkeypox_3256.png', 'Monkeypox_3257.png', 'Monkeypox_3258.png', 'Monkeypox_3259.png', 'Monkeypox_3260.png', 'Monkeypox_3261.png', 'Monkeypox_3262.png', 'Monkeypox_3263.png', 'Monkeypox_3264.png', 'Monkeypox_3265.png', 'Monkeypox_3266.png', 'Monkeypox_3267.png', 'Monkeypox_3268.png', 'Monkeypox_3269.png', 'Monkeypox_3270.png', 'Monkeypox_3271.png', 'Monkeypox_3272.png', 'Monkeypox_3273.png', 'Monkeypox_3274.png', 'Monkeypox_3275.png', 'Monkeypox_3276.png', 'Monkeypox_3277.png', 'Monkeypox_3278.png', 'Monkeypox_3279.png', 'Monkeypox_3280.png', 'Monkeypox_3281.png', 'Monkeypox_3282.png', 'Monkeypox_3283.png', 'Monkeypox_3284.png', 'Monkeypox_3285.png', 'Monkeypox_3286.png', 'Monkeypox_3287.png', 'Monkeypox_3288.png', 'Monkeypox_3289.png', 'Monkeypox_3290.png', 'Monkeypox_3291.png', 'Monkeypox_3292.png', 'Monkeypox_3293.png', 'Monkeypox_3294.png', 'Monkeypox_3295.png', 'Monkeypox_3296.png', 'Monkeypox_3297.png', 'Monkeypox_3298.png', 'Monkeypox_3299.png', 'Monkeypox_3300.png', 'Monkeypox_3301.png', 'Monkeypox_3302.png', 'Monkeypox_3303.png', 'Monkeypox_3304.png', 'Monkeypox_3305.png', 'Monkeypox_3306.png', 'Monkeypox_3307.png', 'Monkeypox_3308.png', 'Monkeypox_3309.png', 'Monkeypox_3310.png', 'Monkeypox_3311.png', 'Monkeypox_3312.png', 'Monkeypox_3313.png', 'Monkeypox_3314.png', 'Monkeypox_3315.png', 'Monkeypox_3316.png', 'Monkeypox_3317.png', 'Monkeypox_3318.png', 'Monkeypox_3319.png', 'Monkeypox_3320.png', 'Monkeypox_3321.png', 'Monkeypox_3322.png', 'Monkeypox_3323.png', 'Monkeypox_3324.png', 'Monkeypox_3325.png', 'Monkeypox_3326.png', 'Monkeypox_3327.png', 'Monkeypox_3328.png', 'Monkeypox_3329.png', 'Monkeypox_3330.png', 'Monkeypox_3331.png', 'Monkeypox_3332.png', 'Monkeypox_3333.png', 'Monkeypox_3334.png', 'Monkeypox_3335.png', 'Monkeypox_3336.png', 'Monkeypox_3337.png', 'Monkeypox_3338.png', 'Monkeypox_3339.png', 'Monkeypox_3340.png', 'Monkeypox_3341.png', 'Monkeypox_3342.png', 'Monkeypox_3343.png', 'Monkeypox_3344.png', 'Monkeypox_3345.png', 'Monkeypox_3346.png', 'Monkeypox_3347.png', 'Monkeypox_3348.png']\n"
          ]
        }
      ]
    },
    {
      "cell_type": "code",
      "source": [
        "chicken_input_path ='/content/drive/MyDrive/Deep Learning Project/Menu_Aug/step1/Normal/'\n",
        "chicken_output_path ='/content/drive/MyDrive/Deep Learning Project/Menu_Aug/Random_tone/Normal'\n",
        "chicken_input_images = listdir(chicken_input_path)\n",
        "chicken_input_images.sort()\n",
        "for i in chicken_input_images:\n",
        "  huesat_aug =  A.augmentations.transforms.RandomToneCurve(always_apply=False, p=1.0, scale=0.1)\n",
        "for i in chicken_input_images:\n",
        "    path2img = chicken_input_path + i\n",
        "    img = read_image(path2img)\n",
        "    aimg = augment_and_return(huesat_aug,img)\n",
        "    save_augment_img(aimg,i,chicken_output_path)\n"
      ],
      "metadata": {
        "id": "FAcLIe--uHEj"
      },
      "execution_count": null,
      "outputs": []
    },
    {
      "cell_type": "code",
      "source": [
        "\n",
        "import os\n",
        "\n",
        "folder = r'/content/drive/MyDrive/Deep Learning Project/Menu_Aug/Random_tone/Normal/'\n",
        "count = 2638\n",
        "# count increase by 1 in each iteration\n",
        "# iterate all files from a directory\n",
        "for file_name in os.listdir(folder):\n",
        "    # Construct old file name\n",
        "    source = folder + file_name\n",
        "\n",
        "    # Adding the count to the new file name and extension\n",
        "    destination = folder + \"Normal_\" + str(count) + \".png\"\n",
        "\n",
        "    # Renaming the file\n",
        "    os.rename(source, destination)\n",
        "    count += 1\n",
        "print('All Files Renamed')\n",
        "\n",
        "print('New Names are')\n",
        "# verify the result\n",
        "res = os.listdir(folder)\n",
        "print(res)"
      ],
      "metadata": {
        "colab": {
          "base_uri": "https://localhost:8080/"
        },
        "id": "RV4fExBBvezr",
        "outputId": "97c24e55-8a25-465b-a441-c48b5c14a156"
      },
      "execution_count": null,
      "outputs": [
        {
          "output_type": "stream",
          "name": "stdout",
          "text": [
            "All Files Renamed\n",
            "New Names are\n",
            "['Normal_2638.png', 'Normal_2639.png', 'Normal_2640.png', 'Normal_2641.png', 'Normal_2642.png', 'Normal_2643.png', 'Normal_2644.png', 'Normal_2645.png', 'Normal_2646.png', 'Normal_2647.png', 'Normal_2648.png', 'Normal_2649.png', 'Normal_2650.png', 'Normal_2651.png', 'Normal_2652.png', 'Normal_2653.png', 'Normal_2654.png', 'Normal_2655.png', 'Normal_2656.png', 'Normal_2657.png', 'Normal_2658.png', 'Normal_2659.png', 'Normal_2660.png', 'Normal_2661.png', 'Normal_2662.png', 'Normal_2663.png', 'Normal_2664.png', 'Normal_2665.png', 'Normal_2666.png', 'Normal_2667.png', 'Normal_2668.png', 'Normal_2669.png', 'Normal_2670.png', 'Normal_2671.png', 'Normal_2672.png', 'Normal_2673.png', 'Normal_2674.png', 'Normal_2675.png', 'Normal_2676.png', 'Normal_2677.png', 'Normal_2678.png', 'Normal_2679.png', 'Normal_2680.png', 'Normal_2681.png', 'Normal_2682.png', 'Normal_2683.png', 'Normal_2684.png', 'Normal_2685.png', 'Normal_2686.png', 'Normal_2687.png', 'Normal_2688.png', 'Normal_2689.png', 'Normal_2690.png', 'Normal_2691.png', 'Normal_2692.png', 'Normal_2693.png', 'Normal_2694.png', 'Normal_2695.png', 'Normal_2696.png', 'Normal_2697.png', 'Normal_2698.png', 'Normal_2699.png', 'Normal_2700.png', 'Normal_2701.png', 'Normal_2702.png', 'Normal_2703.png', 'Normal_2704.png', 'Normal_2705.png', 'Normal_2706.png', 'Normal_2707.png', 'Normal_2708.png', 'Normal_2709.png', 'Normal_2710.png', 'Normal_2711.png', 'Normal_2712.png', 'Normal_2713.png', 'Normal_2714.png', 'Normal_2715.png', 'Normal_2716.png', 'Normal_2717.png', 'Normal_2718.png', 'Normal_2719.png', 'Normal_2720.png', 'Normal_2721.png', 'Normal_2722.png', 'Normal_2723.png', 'Normal_2724.png', 'Normal_2725.png', 'Normal_2726.png', 'Normal_2727.png', 'Normal_2728.png', 'Normal_2729.png', 'Normal_2730.png', 'Normal_2731.png', 'Normal_2732.png', 'Normal_2733.png', 'Normal_2734.png', 'Normal_2735.png', 'Normal_2736.png', 'Normal_2737.png', 'Normal_2738.png', 'Normal_2739.png', 'Normal_2740.png', 'Normal_2741.png', 'Normal_2742.png', 'Normal_2743.png', 'Normal_2744.png', 'Normal_2745.png', 'Normal_2746.png', 'Normal_2747.png', 'Normal_2748.png', 'Normal_2749.png', 'Normal_2750.png', 'Normal_2751.png', 'Normal_2752.png', 'Normal_2753.png', 'Normal_2754.png', 'Normal_2755.png', 'Normal_2756.png', 'Normal_2757.png', 'Normal_2758.png', 'Normal_2759.png', 'Normal_2760.png', 'Normal_2761.png', 'Normal_2762.png', 'Normal_2763.png', 'Normal_2764.png', 'Normal_2765.png', 'Normal_2766.png', 'Normal_2767.png', 'Normal_2768.png', 'Normal_2769.png', 'Normal_2770.png', 'Normal_2771.png', 'Normal_2772.png', 'Normal_2773.png', 'Normal_2774.png', 'Normal_2775.png', 'Normal_2776.png', 'Normal_2777.png', 'Normal_2778.png', 'Normal_2779.png', 'Normal_2780.png', 'Normal_2781.png', 'Normal_2782.png', 'Normal_2783.png', 'Normal_2784.png', 'Normal_2785.png', 'Normal_2786.png', 'Normal_2787.png', 'Normal_2788.png', 'Normal_2789.png', 'Normal_2790.png', 'Normal_2791.png', 'Normal_2792.png', 'Normal_2793.png', 'Normal_2794.png', 'Normal_2795.png', 'Normal_2796.png', 'Normal_2797.png', 'Normal_2798.png', 'Normal_2799.png', 'Normal_2800.png', 'Normal_2801.png', 'Normal_2802.png', 'Normal_2803.png', 'Normal_2804.png', 'Normal_2805.png', 'Normal_2806.png', 'Normal_2807.png', 'Normal_2808.png', 'Normal_2809.png', 'Normal_2810.png', 'Normal_2811.png', 'Normal_2812.png', 'Normal_2813.png', 'Normal_2814.png', 'Normal_2815.png', 'Normal_2816.png', 'Normal_2817.png', 'Normal_2818.png', 'Normal_2819.png', 'Normal_2820.png', 'Normal_2821.png', 'Normal_2822.png', 'Normal_2823.png', 'Normal_2824.png', 'Normal_2825.png', 'Normal_2826.png', 'Normal_2827.png', 'Normal_2828.png', 'Normal_2829.png', 'Normal_2830.png', 'Normal_2831.png', 'Normal_2832.png', 'Normal_2833.png', 'Normal_2834.png', 'Normal_2835.png', 'Normal_2836.png', 'Normal_2837.png', 'Normal_2838.png', 'Normal_2839.png', 'Normal_2840.png', 'Normal_2841.png', 'Normal_2842.png', 'Normal_2843.png', 'Normal_2844.png', 'Normal_2845.png', 'Normal_2846.png', 'Normal_2847.png', 'Normal_2848.png', 'Normal_2849.png', 'Normal_2850.png', 'Normal_2851.png', 'Normal_2852.png', 'Normal_2853.png', 'Normal_2854.png', 'Normal_2855.png', 'Normal_2856.png', 'Normal_2857.png', 'Normal_2858.png', 'Normal_2859.png', 'Normal_2860.png', 'Normal_2861.png', 'Normal_2862.png', 'Normal_2863.png', 'Normal_2864.png', 'Normal_2865.png', 'Normal_2866.png', 'Normal_2867.png', 'Normal_2868.png', 'Normal_2869.png', 'Normal_2870.png', 'Normal_2871.png', 'Normal_2872.png', 'Normal_2873.png', 'Normal_2874.png', 'Normal_2875.png', 'Normal_2876.png', 'Normal_2877.png', 'Normal_2878.png', 'Normal_2879.png', 'Normal_2880.png', 'Normal_2881.png', 'Normal_2882.png', 'Normal_2883.png', 'Normal_2884.png', 'Normal_2885.png', 'Normal_2886.png', 'Normal_2887.png', 'Normal_2888.png', 'Normal_2889.png', 'Normal_2890.png', 'Normal_2891.png', 'Normal_2892.png', 'Normal_2893.png', 'Normal_2894.png', 'Normal_2895.png', 'Normal_2896.png', 'Normal_2897.png', 'Normal_2898.png', 'Normal_2899.png', 'Normal_2900.png', 'Normal_2901.png', 'Normal_2902.png', 'Normal_2903.png', 'Normal_2904.png', 'Normal_2905.png', 'Normal_2906.png', 'Normal_2907.png', 'Normal_2908.png', 'Normal_2909.png', 'Normal_2910.png', 'Normal_2911.png', 'Normal_2912.png', 'Normal_2913.png', 'Normal_2914.png', 'Normal_2915.png', 'Normal_2916.png', 'Normal_2917.png', 'Normal_2918.png', 'Normal_2919.png', 'Normal_2920.png', 'Normal_2921.png', 'Normal_2922.png', 'Normal_2923.png', 'Normal_2924.png', 'Normal_2925.png', 'Normal_2926.png', 'Normal_2927.png', 'Normal_2928.png', 'Normal_2929.png', 'Normal_2930.png', 'Normal_2931.png', 'Normal_2932.png', 'Normal_2933.png', 'Normal_2934.png', 'Normal_2935.png', 'Normal_2936.png', 'Normal_2937.png', 'Normal_2938.png', 'Normal_2939.png', 'Normal_2940.png', 'Normal_2941.png', 'Normal_2942.png', 'Normal_2943.png', 'Normal_2944.png', 'Normal_2945.png', 'Normal_2946.png', 'Normal_2947.png', 'Normal_2948.png', 'Normal_2949.png', 'Normal_2950.png', 'Normal_2951.png', 'Normal_2952.png', 'Normal_2953.png', 'Normal_2954.png', 'Normal_2955.png', 'Normal_2956.png', 'Normal_2957.png', 'Normal_2958.png', 'Normal_2959.png', 'Normal_2960.png', 'Normal_2961.png', 'Normal_2962.png', 'Normal_2963.png', 'Normal_2964.png', 'Normal_2965.png', 'Normal_2966.png', 'Normal_2967.png', 'Normal_2968.png', 'Normal_2969.png', 'Normal_2970.png', 'Normal_2971.png', 'Normal_2972.png', 'Normal_2973.png', 'Normal_2974.png', 'Normal_2975.png', 'Normal_2976.png', 'Normal_2977.png', 'Normal_2978.png', 'Normal_2979.png', 'Normal_2980.png', 'Normal_2981.png', 'Normal_2982.png', 'Normal_2983.png', 'Normal_2984.png', 'Normal_2985.png', 'Normal_2986.png', 'Normal_2987.png', 'Normal_2988.png', 'Normal_2989.png', 'Normal_2990.png', 'Normal_2991.png', 'Normal_2992.png', 'Normal_2993.png', 'Normal_2994.png', 'Normal_2995.png', 'Normal_2996.png', 'Normal_2997.png', 'Normal_2998.png', 'Normal_2999.png', 'Normal_3000.png', 'Normal_3001.png', 'Normal_3002.png', 'Normal_3003.png', 'Normal_3004.png', 'Normal_3005.png', 'Normal_3006.png', 'Normal_3007.png', 'Normal_3008.png', 'Normal_3009.png', 'Normal_3010.png', 'Normal_3011.png', 'Normal_3012.png', 'Normal_3013.png', 'Normal_3014.png', 'Normal_3015.png', 'Normal_3016.png', 'Normal_3017.png', 'Normal_3018.png', 'Normal_3019.png', 'Normal_3020.png', 'Normal_3021.png', 'Normal_3022.png', 'Normal_3023.png', 'Normal_3024.png', 'Normal_3025.png', 'Normal_3026.png', 'Normal_3027.png', 'Normal_3028.png', 'Normal_3029.png', 'Normal_3030.png', 'Normal_3031.png', 'Normal_3032.png', 'Normal_3033.png', 'Normal_3034.png', 'Normal_3035.png', 'Normal_3036.png', 'Normal_3037.png', 'Normal_3038.png', 'Normal_3039.png', 'Normal_3040.png', 'Normal_3041.png', 'Normal_3042.png', 'Normal_3043.png', 'Normal_3044.png', 'Normal_3045.png', 'Normal_3046.png', 'Normal_3047.png', 'Normal_3048.png', 'Normal_3049.png', 'Normal_3050.png', 'Normal_3051.png', 'Normal_3052.png', 'Normal_3053.png', 'Normal_3054.png', 'Normal_3055.png', 'Normal_3056.png', 'Normal_3057.png', 'Normal_3058.png', 'Normal_3059.png', 'Normal_3060.png', 'Normal_3061.png', 'Normal_3062.png', 'Normal_3063.png', 'Normal_3064.png', 'Normal_3065.png', 'Normal_3066.png', 'Normal_3067.png', 'Normal_3068.png', 'Normal_3069.png', 'Normal_3070.png', 'Normal_3071.png', 'Normal_3072.png', 'Normal_3073.png', 'Normal_3074.png', 'Normal_3075.png', 'Normal_3076.png', 'Normal_3077.png', 'Normal_3078.png', 'Normal_3079.png', 'Normal_3080.png', 'Normal_3081.png', 'Normal_3082.png', 'Normal_3083.png', 'Normal_3084.png', 'Normal_3085.png', 'Normal_3086.png', 'Normal_3087.png', 'Normal_3088.png', 'Normal_3089.png', 'Normal_3090.png', 'Normal_3091.png', 'Normal_3092.png', 'Normal_3093.png', 'Normal_3094.png', 'Normal_3095.png', 'Normal_3096.png', 'Normal_3097.png', 'Normal_3098.png', 'Normal_3099.png', 'Normal_3100.png', 'Normal_3101.png', 'Normal_3102.png', 'Normal_3103.png', 'Normal_3104.png', 'Normal_3105.png', 'Normal_3106.png', 'Normal_3107.png', 'Normal_3108.png', 'Normal_3109.png', 'Normal_3110.png', 'Normal_3111.png', 'Normal_3112.png', 'Normal_3113.png', 'Normal_3114.png', 'Normal_3115.png', 'Normal_3116.png', 'Normal_3117.png', 'Normal_3118.png', 'Normal_3119.png', 'Normal_3120.png', 'Normal_3121.png', 'Normal_3122.png', 'Normal_3123.png', 'Normal_3124.png', 'Normal_3125.png', 'Normal_3126.png', 'Normal_3127.png', 'Normal_3128.png', 'Normal_3129.png', 'Normal_3130.png', 'Normal_3131.png', 'Normal_3132.png', 'Normal_3133.png', 'Normal_3134.png', 'Normal_3135.png', 'Normal_3136.png', 'Normal_3137.png', 'Normal_3138.png', 'Normal_3139.png', 'Normal_3140.png', 'Normal_3141.png', 'Normal_3142.png', 'Normal_3143.png', 'Normal_3144.png', 'Normal_3145.png', 'Normal_3146.png', 'Normal_3147.png', 'Normal_3148.png', 'Normal_3149.png', 'Normal_3150.png', 'Normal_3151.png', 'Normal_3152.png', 'Normal_3153.png', 'Normal_3154.png', 'Normal_3155.png', 'Normal_3156.png', 'Normal_3157.png', 'Normal_3158.png', 'Normal_3159.png', 'Normal_3160.png', 'Normal_3161.png', 'Normal_3162.png', 'Normal_3163.png', 'Normal_3164.png', 'Normal_3165.png', 'Normal_3166.png', 'Normal_3167.png', 'Normal_3168.png', 'Normal_3169.png', 'Normal_3170.png', 'Normal_3171.png', 'Normal_3172.png', 'Normal_3173.png', 'Normal_3174.png', 'Normal_3175.png', 'Normal_3176.png', 'Normal_3177.png', 'Normal_3178.png', 'Normal_3179.png', 'Normal_3180.png', 'Normal_3181.png', 'Normal_3182.png', 'Normal_3183.png', 'Normal_3184.png', 'Normal_3185.png', 'Normal_3186.png', 'Normal_3187.png', 'Normal_3188.png', 'Normal_3189.png', 'Normal_3190.png', 'Normal_3191.png', 'Normal_3192.png', 'Normal_3193.png', 'Normal_3194.png', 'Normal_3195.png', 'Normal_3196.png', 'Normal_3197.png', 'Normal_3198.png', 'Normal_3199.png', 'Normal_3200.png', 'Normal_3201.png', 'Normal_3202.png', 'Normal_3203.png', 'Normal_3204.png', 'Normal_3205.png', 'Normal_3206.png', 'Normal_3207.png', 'Normal_3208.png', 'Normal_3209.png', 'Normal_3210.png', 'Normal_3211.png', 'Normal_3212.png', 'Normal_3213.png', 'Normal_3214.png', 'Normal_3215.png', 'Normal_3216.png', 'Normal_3217.png', 'Normal_3218.png', 'Normal_3219.png', 'Normal_3220.png', 'Normal_3221.png', 'Normal_3222.png', 'Normal_3223.png', 'Normal_3224.png', 'Normal_3225.png', 'Normal_3226.png', 'Normal_3227.png', 'Normal_3228.png', 'Normal_3229.png', 'Normal_3230.png', 'Normal_3231.png', 'Normal_3232.png', 'Normal_3233.png', 'Normal_3234.png', 'Normal_3235.png', 'Normal_3236.png', 'Normal_3237.png', 'Normal_3238.png', 'Normal_3239.png', 'Normal_3240.png', 'Normal_3241.png', 'Normal_3242.png', 'Normal_3243.png', 'Normal_3244.png', 'Normal_3245.png', 'Normal_3246.png', 'Normal_3247.png', 'Normal_3248.png', 'Normal_3249.png', 'Normal_3250.png', 'Normal_3251.png', 'Normal_3252.png', 'Normal_3253.png', 'Normal_3254.png', 'Normal_3255.png', 'Normal_3256.png', 'Normal_3257.png', 'Normal_3258.png', 'Normal_3259.png', 'Normal_3260.png', 'Normal_3261.png', 'Normal_3262.png', 'Normal_3263.png', 'Normal_3264.png', 'Normal_3265.png', 'Normal_3266.png', 'Normal_3267.png', 'Normal_3268.png', 'Normal_3269.png', 'Normal_3270.png', 'Normal_3271.png', 'Normal_3272.png', 'Normal_3273.png', 'Normal_3274.png', 'Normal_3275.png', 'Normal_3276.png', 'Normal_3277.png', 'Normal_3278.png', 'Normal_3279.png', 'Normal_3280.png', 'Normal_3281.png', 'Normal_3282.png', 'Normal_3283.png', 'Normal_3284.png', 'Normal_3285.png', 'Normal_3286.png', 'Normal_3287.png', 'Normal_3288.png', 'Normal_3289.png', 'Normal_3290.png', 'Normal_3291.png', 'Normal_3292.png', 'Normal_3293.png', 'Normal_3294.png', 'Normal_3295.png', 'Normal_3296.png', 'Normal_3297.png', 'Normal_3298.png', 'Normal_3299.png', 'Normal_3300.png', 'Normal_3301.png', 'Normal_3302.png', 'Normal_3303.png', 'Normal_3304.png', 'Normal_3305.png', 'Normal_3306.png', 'Normal_3307.png', 'Normal_3308.png', 'Normal_3309.png', 'Normal_3310.png', 'Normal_3311.png', 'Normal_3312.png', 'Normal_3313.png', 'Normal_3314.png', 'Normal_3315.png', 'Normal_3316.png', 'Normal_3317.png', 'Normal_3318.png', 'Normal_3319.png', 'Normal_3320.png', 'Normal_3321.png', 'Normal_3322.png', 'Normal_3323.png', 'Normal_3324.png', 'Normal_3325.png', 'Normal_3326.png', 'Normal_3327.png', 'Normal_3328.png', 'Normal_3329.png', 'Normal_3330.png', 'Normal_3331.png', 'Normal_3332.png', 'Normal_3333.png', 'Normal_3334.png', 'Normal_3335.png', 'Normal_3336.png', 'Normal_3337.png', 'Normal_3338.png', 'Normal_3339.png', 'Normal_3340.png', 'Normal_3341.png', 'Normal_3342.png', 'Normal_3343.png', 'Normal_3344.png', 'Normal_3345.png', 'Normal_3346.png', 'Normal_3347.png', 'Normal_3348.png', 'Normal_3349.png', 'Normal_3350.png', 'Normal_3351.png', 'Normal_3352.png', 'Normal_3353.png', 'Normal_3354.png', 'Normal_3355.png', 'Normal_3356.png', 'Normal_3357.png', 'Normal_3358.png', 'Normal_3359.png', 'Normal_3360.png', 'Normal_3361.png', 'Normal_3362.png', 'Normal_3363.png', 'Normal_3364.png', 'Normal_3365.png', 'Normal_3366.png', 'Normal_3367.png', 'Normal_3368.png', 'Normal_3369.png', 'Normal_3370.png', 'Normal_3371.png', 'Normal_3372.png', 'Normal_3373.png', 'Normal_3374.png', 'Normal_3375.png', 'Normal_3376.png', 'Normal_3377.png', 'Normal_3378.png', 'Normal_3379.png', 'Normal_3380.png', 'Normal_3381.png', 'Normal_3382.png', 'Normal_3383.png', 'Normal_3384.png', 'Normal_3385.png', 'Normal_3386.png', 'Normal_3387.png', 'Normal_3388.png', 'Normal_3389.png', 'Normal_3390.png', 'Normal_3391.png', 'Normal_3392.png', 'Normal_3393.png', 'Normal_3394.png', 'Normal_3395.png', 'Normal_3396.png', 'Normal_3397.png', 'Normal_3398.png', 'Normal_3399.png', 'Normal_3400.png', 'Normal_3401.png', 'Normal_3402.png', 'Normal_3403.png', 'Normal_3404.png', 'Normal_3405.png', 'Normal_3406.png', 'Normal_3407.png', 'Normal_3408.png', 'Normal_3409.png', 'Normal_3410.png', 'Normal_3411.png', 'Normal_3412.png', 'Normal_3413.png', 'Normal_3414.png', 'Normal_3415.png', 'Normal_3416.png', 'Normal_3417.png', 'Normal_3418.png', 'Normal_3419.png', 'Normal_3420.png', 'Normal_3421.png', 'Normal_3422.png', 'Normal_3423.png', 'Normal_3424.png', 'Normal_3425.png', 'Normal_3426.png', 'Normal_3427.png', 'Normal_3428.png', 'Normal_3429.png', 'Normal_3430.png', 'Normal_3431.png', 'Normal_3432.png', 'Normal_3433.png', 'Normal_3434.png', 'Normal_3435.png', 'Normal_3436.png', 'Normal_3437.png', 'Normal_3438.png', 'Normal_3439.png', 'Normal_3440.png', 'Normal_3441.png', 'Normal_3442.png', 'Normal_3443.png', 'Normal_3444.png', 'Normal_3445.png', 'Normal_3446.png', 'Normal_3447.png', 'Normal_3448.png', 'Normal_3449.png', 'Normal_3450.png', 'Normal_3451.png', 'Normal_3452.png', 'Normal_3453.png', 'Normal_3454.png', 'Normal_3455.png', 'Normal_3456.png', 'Normal_3457.png', 'Normal_3458.png', 'Normal_3459.png', 'Normal_3460.png', 'Normal_3461.png', 'Normal_3462.png', 'Normal_3463.png', 'Normal_3464.png', 'Normal_3465.png', 'Normal_3466.png', 'Normal_3467.png', 'Normal_3468.png', 'Normal_3469.png', 'Normal_3470.png', 'Normal_3471.png', 'Normal_3472.png', 'Normal_3473.png', 'Normal_3474.png', 'Normal_3475.png', 'Normal_3476.png', 'Normal_3477.png', 'Normal_3478.png', 'Normal_3479.png', 'Normal_3480.png', 'Normal_3481.png', 'Normal_3482.png', 'Normal_3483.png', 'Normal_3484.png', 'Normal_3485.png', 'Normal_3486.png', 'Normal_3487.png', 'Normal_3488.png', 'Normal_3489.png', 'Normal_3490.png', 'Normal_3491.png', 'Normal_3492.png', 'Normal_3493.png', 'Normal_3494.png', 'Normal_3495.png', 'Normal_3496.png', 'Normal_3497.png', 'Normal_3498.png', 'Normal_3499.png', 'Normal_3500.png', 'Normal_3501.png', 'Normal_3502.png', 'Normal_3503.png', 'Normal_3504.png', 'Normal_3505.png', 'Normal_3506.png', 'Normal_3507.png', 'Normal_3508.png', 'Normal_3509.png', 'Normal_3510.png', 'Normal_3511.png', 'Normal_3512.png', 'Normal_3513.png', 'Normal_3514.png', 'Normal_3515.png', 'Normal_3516.png']\n"
          ]
        }
      ]
    },
    {
      "cell_type": "markdown",
      "source": [
        "Join Augmented Data"
      ],
      "metadata": {
        "id": "IyJMGftjwEff"
      }
    },
    {
      "cell_type": "code",
      "source": [
        "# Providing the folder path\n",
        "origin = '/content/drive/MyDrive/Deep Learning Project/Menu_Aug/step1/Chickenpox/'\n",
        "target = '/content/drive/MyDrive/Deep Learning Project/Menu_Aug/Final_Data/Chickenpox/'\n",
        "\n",
        "# Fetching the list of all the files\n",
        "files = os.listdir(origin)\n",
        "\n",
        "# Fetching all the files to directory\n",
        "for file_name in files:\n",
        "   shutil.copy(origin+file_name, target+file_name)\n",
        "print(\"Files are copied successfully\")\n",
        "\n",
        "# Providing the folder path\n",
        "origin = '/content/drive/MyDrive/Deep Learning Project/Menu_Aug/Gray/Chickenpox/'\n",
        "target = '/content/drive/MyDrive/Deep Learning Project/Menu_Aug/Final_Data/Chickenpox/'\n",
        "\n",
        "# Fetching the list of all the files\n",
        "files = os.listdir(origin)\n",
        "\n",
        "# Fetching all the files to directory\n",
        "for file_name in files:\n",
        "   shutil.copy(origin+file_name, target+file_name)\n",
        "print(\"Files are copied successfully\")\n",
        "\n",
        "# Providing the folder path\n",
        "origin = '/content/drive/MyDrive/Deep Learning Project/Menu_Aug/Hue_sat/Chickenpox/'\n",
        "target = '/content/drive/MyDrive/Deep Learning Project/Menu_Aug/Final_Data/Chickenpox/'\n",
        "\n",
        "# Fetching the list of all the files\n",
        "files = os.listdir(origin)\n",
        "\n",
        "# Fetching all the files to directory\n",
        "for file_name in files:\n",
        "   shutil.copy(origin+file_name, target+file_name)\n",
        "print(\"Files are copied successfully\")\n",
        "\n",
        "# Providing the folder path\n",
        "origin = '/content/drive/MyDrive/Deep Learning Project/Menu_Aug/Random_tone/Chickenpox/'\n",
        "target = '/content/drive/MyDrive/Deep Learning Project/Menu_Aug/Final_Data/Chickenpox/'\n",
        "\n",
        "# Fetching the list of all the files\n",
        "files = os.listdir(origin)\n",
        "\n",
        "# Fetching all the files to directory\n",
        "for file_name in files:\n",
        "   shutil.copy(origin+file_name, target+file_name)\n",
        "print(\"Files are copied successfully\")"
      ],
      "metadata": {
        "id": "oIaTY7-nwH4A",
        "outputId": "8d94f1c1-a4a9-4408-d071-53bd3f2093f5",
        "colab": {
          "base_uri": "https://localhost:8080/"
        }
      },
      "execution_count": null,
      "outputs": [
        {
          "output_type": "stream",
          "name": "stdout",
          "text": [
            "Files are copied successfully\n",
            "Files are copied successfully\n",
            "Files are copied successfully\n",
            "Files are copied successfully\n"
          ]
        }
      ]
    },
    {
      "cell_type": "code",
      "source": [
        "# folder path\n",
        "dir_path = r'/content/drive/MyDrive/Deep Learning Project/Menu_Aug/Final_Data/Chickenpox/'\n",
        "count = 0\n",
        "# Iterate directory\n",
        "for path in os.listdir(dir_path):\n",
        "    # check if current path is a file\n",
        "    if os.path.isfile(os.path.join(dir_path, path)):\n",
        "        count += 1\n",
        "print('File count:', count)"
      ],
      "metadata": {
        "colab": {
          "base_uri": "https://localhost:8080/"
        },
        "id": "zAXTF6Dq3jSI",
        "outputId": "49cf75ba-f29d-4957-b090-b44349585aac"
      },
      "execution_count": null,
      "outputs": [
        {
          "output_type": "stream",
          "name": "stdout",
          "text": [
            "File count: 1284\n"
          ]
        }
      ]
    },
    {
      "cell_type": "code",
      "source": [
        "# Providing the folder path\n",
        "origin = '/content/drive/MyDrive/Deep Learning Project/Menu_Aug/step1/Measles/'\n",
        "target = '/content/drive/MyDrive/Deep Learning Project/Menu_Aug/Final_Data/Measles/'\n",
        "\n",
        "# Fetching the list of all the files\n",
        "files = os.listdir(origin)\n",
        "\n",
        "# Fetching all the files to directory\n",
        "for file_name in files:\n",
        "   shutil.copy(origin+file_name, target+file_name)\n",
        "print(\"Files are copied successfully\")\n",
        "\n",
        "# Providing the folder path\n",
        "origin = '/content/drive/MyDrive/Deep Learning Project/Menu_Aug/Gray/Measles/'\n",
        "target = '/content/drive/MyDrive/Deep Learning Project/Menu_Aug/Final_Data/Measles/'\n",
        "\n",
        "# Fetching the list of all the files\n",
        "files = os.listdir(origin)\n",
        "\n",
        "# Fetching all the files to directory\n",
        "for file_name in files:\n",
        "   shutil.copy(origin+file_name, target+file_name)\n",
        "print(\"Files are copied successfully\")\n",
        "\n",
        "# Providing the folder path\n",
        "origin = '/content/drive/MyDrive/Deep Learning Project/Menu_Aug/Hue_sat/Measles/'\n",
        "target = '/content/drive/MyDrive/Deep Learning Project/Menu_Aug/Final_Data/Measles/'\n",
        "\n",
        "# Fetching the list of all the files\n",
        "files = os.listdir(origin)\n",
        "\n",
        "# Fetching all the files to directory\n",
        "for file_name in files:\n",
        "   shutil.copy(origin+file_name, target+file_name)\n",
        "print(\"Files are copied successfully\")\n",
        "\n",
        "# Providing the folder path\n",
        "origin = '/content/drive/MyDrive/Deep Learning Project/Menu_Aug/Random_tone/Measles/'\n",
        "target = '/content/drive/MyDrive/Deep Learning Project/Menu_Aug/Final_Data/Measles/'\n",
        "\n",
        "# Fetching the list of all the files\n",
        "files = os.listdir(origin)\n",
        "\n",
        "# Fetching all the files to directory\n",
        "for file_name in files:\n",
        "   shutil.copy(origin+file_name, target+file_name)\n",
        "print(\"Files are copied successfully\")\n",
        "\n",
        "# folder path\n",
        "dir_path = r'/content/drive/MyDrive/Deep Learning Project/Menu_Aug/Final_Data/Measles/'\n",
        "count = 0\n",
        "# Iterate directory\n",
        "for path in os.listdir(dir_path):\n",
        "    # check if current path is a file\n",
        "    if os.path.isfile(os.path.join(dir_path, path)):\n",
        "        count += 1\n",
        "print('File count:', count)"
      ],
      "metadata": {
        "colab": {
          "base_uri": "https://localhost:8080/"
        },
        "id": "uRR9Bact31W-",
        "outputId": "e4eb6d10-1d0d-40ca-9582-cd4c281aeffa"
      },
      "execution_count": null,
      "outputs": [
        {
          "output_type": "stream",
          "name": "stdout",
          "text": [
            "Files are copied successfully\n",
            "Files are copied successfully\n",
            "Files are copied successfully\n",
            "Files are copied successfully\n",
            "File count: 1091\n"
          ]
        }
      ]
    },
    {
      "cell_type": "code",
      "source": [
        "# Providing the folder path\n",
        "origin = '/content/drive/MyDrive/Deep Learning Project/Menu_Aug/step1/Monkeypox/'\n",
        "target = '/content/drive/MyDrive/Deep Learning Project/Menu_Aug/Final_Data/Monkeypox/'\n",
        "\n",
        "# Fetching the list of all the files\n",
        "files = os.listdir(origin)\n",
        "\n",
        "# Fetching all the files to directory\n",
        "for file_name in files:\n",
        "   shutil.copy(origin+file_name, target+file_name)\n",
        "print(\"Files are copied successfully\")\n",
        "\n",
        "# Providing the folder path\n",
        "origin = '/content/drive/MyDrive/Deep Learning Project/Menu_Aug/Gray/Monkeypox/'\n",
        "target = '/content/drive/MyDrive/Deep Learning Project/Menu_Aug/Final_Data/Monkeypox/'\n",
        "\n",
        "# Fetching the list of all the files\n",
        "files = os.listdir(origin)\n",
        "\n",
        "# Fetching all the files to directory\n",
        "for file_name in files:\n",
        "   shutil.copy(origin+file_name, target+file_name)\n",
        "print(\"Files are copied successfully\")\n",
        "\n",
        "# Providing the folder path\n",
        "origin = '/content/drive/MyDrive/Deep Learning Project/Menu_Aug/Hue_sat/Monkeypox/'\n",
        "target = '/content/drive/MyDrive/Deep Learning Project/Menu_Aug/Final_Data/Monkeypox/'\n",
        "\n",
        "# Fetching the list of all the files\n",
        "files = os.listdir(origin)\n",
        "\n",
        "# Fetching all the files to directory\n",
        "for file_name in files:\n",
        "   shutil.copy(origin+file_name, target+file_name)\n",
        "print(\"Files are copied successfully\")\n",
        "\n",
        "# Providing the folder path\n",
        "origin = '/content/drive/MyDrive/Deep Learning Project/Menu_Aug/Random_tone/Monkeypox/'\n",
        "target = '/content/drive/MyDrive/Deep Learning Project/Menu_Aug/Final_Data/Monkeypox/'\n",
        "\n",
        "# Fetching the list of all the files\n",
        "files = os.listdir(origin)\n",
        "\n",
        "# Fetching all the files to directory\n",
        "for file_name in files:\n",
        "   shutil.copy(origin+file_name, target+file_name)\n",
        "print(\"Files are copied successfully\")\n",
        "\n",
        "# folder path\n",
        "dir_path = r'/content/drive/MyDrive/Deep Learning Project/Menu_Aug/Final_Data/Monkeypox/'\n",
        "count = 0\n",
        "# Iterate directory\n",
        "for path in os.listdir(dir_path):\n",
        "    # check if current path is a file\n",
        "    if os.path.isfile(os.path.join(dir_path, path)):\n",
        "        count += 1\n",
        "print('File count:', count)"
      ],
      "metadata": {
        "colab": {
          "base_uri": "https://localhost:8080/"
        },
        "id": "NPO5gfOC4DtS",
        "outputId": "b25d30c4-7c80-4e14-f413-70ec4afe85a7"
      },
      "execution_count": null,
      "outputs": [
        {
          "output_type": "stream",
          "name": "stdout",
          "text": [
            "Files are copied successfully\n",
            "Files are copied successfully\n",
            "Files are copied successfully\n",
            "Files are copied successfully\n",
            "File count: 3348\n"
          ]
        }
      ]
    },
    {
      "cell_type": "code",
      "source": [
        "# Providing the folder path\n",
        "origin = '/content/drive/MyDrive/Deep Learning Project/Menu_Aug/step1/Normal/'\n",
        "target = '/content/drive/MyDrive/Deep Learning Project/Menu_Aug/Final_Data/Normal/'\n",
        "\n",
        "# Fetching the list of all the files\n",
        "files = os.listdir(origin)\n",
        "\n",
        "# Fetching all the files to directory\n",
        "for file_name in files:\n",
        "   shutil.copy(origin+file_name, target+file_name)\n",
        "print(\"Files are copied successfully\")\n",
        "\n",
        "# Providing the folder path\n",
        "origin = '/content/drive/MyDrive/Deep Learning Project/Menu_Aug/Gray/Normal/'\n",
        "target = '/content/drive/MyDrive/Deep Learning Project/Menu_Aug/Final_Data/Normal/'\n",
        "\n",
        "# Fetching the list of all the files\n",
        "files = os.listdir(origin)\n",
        "\n",
        "# Fetching all the files to directory\n",
        "for file_name in files:\n",
        "   shutil.copy(origin+file_name, target+file_name)\n",
        "print(\"Files are copied successfully\")\n",
        "\n",
        "# Providing the folder path\n",
        "origin = '/content/drive/MyDrive/Deep Learning Project/Menu_Aug/Hue_sat/Normal/'\n",
        "target = '/content/drive/MyDrive/Deep Learning Project/Menu_Aug/Final_Data/Normal/'\n",
        "\n",
        "# Fetching the list of all the files\n",
        "files = os.listdir(origin)\n",
        "\n",
        "# Fetching all the files to directory\n",
        "for file_name in files:\n",
        "   shutil.copy(origin+file_name, target+file_name)\n",
        "print(\"Files are copied successfully\")\n",
        "\n",
        "# Providing the folder path\n",
        "origin = '/content/drive/MyDrive/Deep Learning Project/Menu_Aug/Random_tone/Normal/'\n",
        "target = '/content/drive/MyDrive/Deep Learning Project/Menu_Aug/Final_Data/Normal/'\n",
        "\n",
        "# Fetching the list of all the files\n",
        "files = os.listdir(origin)\n",
        "\n",
        "# Fetching all the files to directory\n",
        "for file_name in files:\n",
        "   shutil.copy(origin+file_name, target+file_name)\n",
        "print(\"Files are copied successfully\")\n",
        "\n",
        "# folder path\n",
        "dir_path = r'/content/drive/MyDrive/Deep Learning Project/Menu_Aug/Final_Data/Normal/'\n",
        "count = 0\n",
        "# Iterate directory\n",
        "for path in os.listdir(dir_path):\n",
        "    # check if current path is a file\n",
        "    if os.path.isfile(os.path.join(dir_path, path)):\n",
        "        count += 1\n",
        "print('File count:', count)"
      ],
      "metadata": {
        "colab": {
          "base_uri": "https://localhost:8080/"
        },
        "id": "zZylsk_R4iyl",
        "outputId": "6be79cfb-201b-4f2a-9da0-2aaef9e1a461"
      },
      "execution_count": null,
      "outputs": [
        {
          "output_type": "stream",
          "name": "stdout",
          "text": [
            "Files are copied successfully\n",
            "Files are copied successfully\n",
            "Files are copied successfully\n",
            "Files are copied successfully\n",
            "File count: 3513\n"
          ]
        }
      ]
    }
  ]
}