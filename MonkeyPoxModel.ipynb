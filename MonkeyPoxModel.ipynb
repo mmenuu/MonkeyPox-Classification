{
  "cells": [
    {
      "cell_type": "code",
      "execution_count": 99,
      "metadata": {
        "id": "InqrTwduzD4y",
        "colab": {
          "base_uri": "https://localhost:8080/"
        },
        "outputId": "f00e7591-cae8-48f8-93cb-a4850e71023d"
      },
      "outputs": [
        {
          "output_type": "stream",
          "name": "stdout",
          "text": [
            "Drive already mounted at /content/drive; to attempt to forcibly remount, call drive.mount(\"/content/drive\", force_remount=True).\n"
          ]
        }
      ],
      "source": [
        "from google.colab import drive\n",
        "drive.mount('/content/drive')"
      ]
    },
    {
      "cell_type": "code",
      "execution_count": 3,
      "metadata": {
        "colab": {
          "base_uri": "https://localhost:8080/"
        },
        "id": "GQVrC_jQzZ-M",
        "outputId": "fb9ea546-b2b5-4bde-bfec-3bed2d129190"
      },
      "outputs": [
        {
          "output_type": "stream",
          "name": "stdout",
          "text": [
            "Looking in indexes: https://pypi.org/simple, https://us-python.pkg.dev/colab-wheels/public/simple/\n",
            "Requirement already satisfied: split-folders in /usr/local/lib/python3.7/dist-packages (0.5.1)\n"
          ]
        },
        {
          "output_type": "stream",
          "name": "stderr",
          "text": [
            "\n",
            "Copying files: 0 files [00:00, ? files/s]\u001b[A\n",
            "Copying files: 2 files [00:00,  4.00 files/s]\u001b[A\n",
            "Copying files: 3 files [00:00,  3.70 files/s]\u001b[A\n",
            "Copying files: 4 files [00:01,  3.37 files/s]\u001b[A\n",
            "Copying files: 5 files [00:01,  3.28 files/s]\u001b[A\n",
            "Copying files: 6 files [00:01,  3.28 files/s]\u001b[A\n",
            "Copying files: 7 files [00:02,  2.90 files/s]\u001b[A\n",
            "Copying files: 8 files [00:02,  2.57 files/s]\u001b[A\n",
            "Copying files: 9 files [00:03,  2.46 files/s]\u001b[A\n",
            "Copying files: 10 files [00:03,  2.19 files/s]\u001b[A\n",
            "Copying files: 11 files [00:04,  2.21 files/s]\u001b[A\n",
            "Copying files: 12 files [00:04,  2.39 files/s]\u001b[A\n",
            "Copying files: 13 files [00:04,  2.38 files/s]\u001b[A\n",
            "Copying files: 14 files [00:05,  2.33 files/s]\u001b[A\n",
            "Copying files: 15 files [00:05,  2.44 files/s]\u001b[A\n",
            "Copying files: 16 files [00:06,  2.57 files/s]\u001b[A\n",
            "Copying files: 17 files [00:06,  2.88 files/s]\u001b[A\n",
            "Copying files: 18 files [00:06,  3.09 files/s]\u001b[A\n",
            "Copying files: 19 files [00:06,  3.09 files/s]\u001b[A\n",
            "Copying files: 20 files [00:07,  2.82 files/s]\u001b[A\n",
            "Copying files: 21 files [00:07,  2.27 files/s]\u001b[A\n",
            "Copying files: 22 files [00:08,  2.51 files/s]\u001b[A\n",
            "Copying files: 23 files [00:08,  2.55 files/s]\u001b[A\n",
            "Copying files: 24 files [00:08,  2.74 files/s]\u001b[A\n",
            "Copying files: 25 files [00:09,  2.87 files/s]\u001b[A\n",
            "Copying files: 26 files [00:09,  2.93 files/s]\u001b[A\n",
            "Copying files: 27 files [00:09,  3.13 files/s]\u001b[A\n",
            "Copying files: 28 files [00:10,  3.11 files/s]\u001b[A\n",
            "Copying files: 29 files [00:10,  3.21 files/s]\u001b[A\n",
            "Copying files: 30 files [00:10,  2.92 files/s]\u001b[A\n",
            "Copying files: 31 files [00:11,  2.63 files/s]\u001b[A\n",
            "Copying files: 32 files [00:11,  2.58 files/s]\u001b[A\n",
            "Copying files: 33 files [00:12,  2.47 files/s]\u001b[A\n",
            "Copying files: 34 files [00:12,  2.65 files/s]\u001b[A\n",
            "Copying files: 35 files [00:12,  2.53 files/s]\u001b[A\n",
            "Copying files: 36 files [00:13,  2.67 files/s]\u001b[A\n",
            "Copying files: 37 files [00:13,  2.48 files/s]\u001b[A\n",
            "Copying files: 38 files [00:14,  2.40 files/s]\u001b[A\n",
            "Copying files: 39 files [00:14,  2.37 files/s]\u001b[A\n",
            "Copying files: 40 files [00:14,  2.59 files/s]\u001b[A\n",
            "Copying files: 41 files [00:15,  2.41 files/s]\u001b[A\n",
            "Copying files: 42 files [00:15,  2.50 files/s]\u001b[A\n",
            "Copying files: 43 files [00:16,  2.66 files/s]\u001b[A\n",
            "Copying files: 44 files [00:16,  2.76 files/s]\u001b[A\n",
            "Copying files: 45 files [00:16,  2.54 files/s]\u001b[A\n",
            "Copying files: 46 files [00:17,  2.47 files/s]\u001b[A\n",
            "Copying files: 47 files [00:17,  2.80 files/s]\u001b[A\n",
            "Copying files: 48 files [00:18,  2.47 files/s]\u001b[A\n",
            "Copying files: 49 files [00:18,  2.56 files/s]\u001b[A\n",
            "Copying files: 50 files [00:18,  2.40 files/s]\u001b[A\n",
            "Copying files: 51 files [00:19,  2.61 files/s]\u001b[A\n",
            "Copying files: 52 files [00:19,  2.84 files/s]\u001b[A\n",
            "Copying files: 53 files [00:19,  2.85 files/s]\u001b[A\n",
            "Copying files: 54 files [00:20,  2.58 files/s]\u001b[A\n",
            "Copying files: 55 files [00:20,  2.72 files/s]\u001b[A\n",
            "Copying files: 56 files [00:20,  3.01 files/s]\u001b[A\n",
            "Copying files: 57 files [00:21,  3.07 files/s]\u001b[A\n",
            "Copying files: 58 files [00:21,  2.85 files/s]\u001b[A\n",
            "Copying files: 59 files [00:21,  2.93 files/s]\u001b[A\n",
            "Copying files: 60 files [00:22,  2.66 files/s]\u001b[A\n",
            "Copying files: 61 files [00:22,  2.90 files/s]\u001b[A\n",
            "Copying files: 62 files [00:22,  3.07 files/s]\u001b[A\n",
            "Copying files: 63 files [00:23,  2.73 files/s]\u001b[A\n",
            "Copying files: 64 files [00:23,  2.58 files/s]\u001b[A\n",
            "Copying files: 65 files [00:24,  2.49 files/s]\u001b[A\n",
            "Copying files: 66 files [00:24,  2.66 files/s]\u001b[A\n",
            "Copying files: 67 files [00:25,  2.34 files/s]\u001b[A\n",
            "Copying files: 68 files [00:25,  2.67 files/s]\u001b[A\n",
            "Copying files: 69 files [00:25,  2.77 files/s]\u001b[A\n",
            "Copying files: 70 files [00:26,  2.52 files/s]\u001b[A\n",
            "Copying files: 71 files [00:26,  2.68 files/s]\u001b[A\n",
            "Copying files: 72 files [00:26,  2.79 files/s]\u001b[A\n",
            "Copying files: 73 files [00:27,  2.49 files/s]\u001b[A\n",
            "Copying files: 74 files [00:27,  2.38 files/s]\u001b[A\n",
            "Copying files: 75 files [00:28,  2.58 files/s]\u001b[A\n",
            "Copying files: 76 files [00:28,  2.50 files/s]\u001b[A\n",
            "Copying files: 77 files [00:28,  2.72 files/s]\u001b[A\n",
            "Copying files: 78 files [00:29,  2.98 files/s]\u001b[A\n",
            "Copying files: 79 files [00:29,  2.96 files/s]\u001b[A\n",
            "Copying files: 80 files [00:29,  2.97 files/s]\u001b[A\n",
            "Copying files: 81 files [00:30,  2.95 files/s]\u001b[A\n",
            "Copying files: 82 files [00:30,  3.07 files/s]\u001b[A\n",
            "Copying files: 83 files [00:30,  3.01 files/s]\u001b[A\n",
            "Copying files: 84 files [00:31,  3.27 files/s]\u001b[A\n",
            "Copying files: 85 files [00:31,  2.89 files/s]\u001b[A\n",
            "Copying files: 86 files [00:31,  3.16 files/s]\u001b[A\n",
            "Copying files: 87 files [00:32,  2.62 files/s]\u001b[A\n",
            "Copying files: 88 files [00:32,  2.52 files/s]\u001b[A\n",
            "Copying files: 89 files [00:33,  2.38 files/s]\u001b[A\n",
            "Copying files: 90 files [00:33,  2.47 files/s]\u001b[A\n",
            "Copying files: 91 files [00:33,  2.35 files/s]\u001b[A\n",
            "Copying files: 92 files [00:34,  2.25 files/s]\u001b[A\n",
            "Copying files: 93 files [00:34,  2.29 files/s]\u001b[A\n",
            "Copying files: 94 files [00:35,  2.26 files/s]\u001b[A\n",
            "Copying files: 95 files [00:35,  2.51 files/s]\u001b[A\n",
            "Copying files: 99 files [00:35,  6.13 files/s]\u001b[A\n",
            "Copying files: 108 files [00:35, 16.18 files/s]\u001b[A\n",
            "Copying files: 116 files [00:35, 25.48 files/s]\u001b[A\n",
            "Copying files: 128 files [00:36, 41.24 files/s]\u001b[A\n",
            "Copying files: 135 files [00:36, 41.35 files/s]\u001b[A\n",
            "Copying files: 145 files [00:36, 52.92 files/s]\u001b[A\n",
            "Copying files: 153 files [00:36, 58.39 files/s]\u001b[A\n",
            "Copying files: 163 files [00:36, 67.09 files/s]\u001b[A\n",
            "Copying files: 171 files [00:36, 69.10 files/s]\u001b[A\n",
            "Copying files: 182 files [00:36, 78.36 files/s]\u001b[A\n",
            "Copying files: 191 files [00:36, 76.28 files/s]\u001b[A\n",
            "Copying files: 200 files [00:37, 30.26 files/s]\u001b[A\n",
            "Copying files: 207 files [00:39, 10.74 files/s]\u001b[A\n",
            "Copying files: 218 files [00:39, 15.82 files/s]\u001b[A\n",
            "Copying files: 226 files [00:39, 20.20 files/s]\u001b[A\n",
            "Copying files: 238 files [00:39, 28.85 files/s]\u001b[A\n",
            "Copying files: 246 files [00:39, 34.11 files/s]\u001b[A\n",
            "Copying files: 257 files [00:40, 43.33 files/s]\u001b[A\n",
            "Copying files: 267 files [00:40, 52.17 files/s]\u001b[A\n",
            "Copying files: 276 files [00:40, 57.94 files/s]\u001b[A\n",
            "Copying files: 285 files [00:40, 64.34 files/s]\u001b[A\n",
            "Copying files: 294 files [00:40, 67.62 files/s]\u001b[A\n",
            "Copying files: 305 files [00:40, 77.33 files/s]\u001b[A\n",
            "Copying files: 315 files [00:40, 79.65 files/s]\u001b[A\n",
            "Copying files: 324 files [00:40, 81.12 files/s]\u001b[A\n",
            "Copying files: 333 files [00:40, 82.55 files/s]\u001b[A\n",
            "Copying files: 342 files [00:41, 83.07 files/s]\u001b[A\n",
            "Copying files: 351 files [00:41, 84.78 files/s]\u001b[A\n",
            "Copying files: 360 files [00:41, 83.58 files/s]\u001b[A\n",
            "Copying files: 371 files [00:41, 89.19 files/s]\u001b[A\n",
            "Copying files: 381 files [00:41, 75.88 files/s]\u001b[A\n",
            "Copying files: 390 files [00:41, 78.24 files/s]\u001b[A\n",
            "Copying files: 401 files [00:41, 85.70 files/s]\u001b[A\n",
            "Copying files: 410 files [00:41, 84.58 files/s]\u001b[A\n",
            "Copying files: 421 files [00:41, 85.94 files/s]\u001b[A\n",
            "Copying files: 433 files [00:42, 93.43 files/s]\u001b[A\n",
            "Copying files: 443 files [00:42, 83.81 files/s]\u001b[A\n",
            "Copying files: 454 files [00:42, 88.70 files/s]\u001b[A\n",
            "Copying files: 464 files [00:42, 87.60 files/s]\u001b[A\n",
            "Copying files: 473 files [00:42, 84.77 files/s]\u001b[A\n",
            "Copying files: 484 files [00:42, 89.91 files/s]\u001b[A\n",
            "Copying files: 494 files [00:43, 32.90 files/s]\u001b[A\n",
            "Copying files: 501 files [00:44, 13.88 files/s]\u001b[A\n",
            "Copying files: 507 files [00:45, 16.65 files/s]\u001b[A\n",
            "Copying files: 515 files [00:45, 20.68 files/s]\u001b[A\n",
            "Copying files: 524 files [00:45, 27.39 files/s]\u001b[A\n",
            "Copying files: 531 files [00:45, 26.63 files/s]\u001b[A\n",
            "Copying files: 540 files [00:45, 34.03 files/s]\u001b[A\n",
            "Copying files: 552 files [00:45, 46.34 files/s]\u001b[A\n",
            "Copying files: 560 files [00:45, 51.92 files/s]\u001b[A\n",
            "Copying files: 571 files [00:46, 62.81 files/s]\u001b[A\n",
            "Copying files: 580 files [00:46, 66.62 files/s]\u001b[A\n",
            "Copying files: 590 files [00:46, 74.12 files/s]\u001b[A\n",
            "Copying files: 599 files [00:46, 75.40 files/s]\u001b[A\n",
            "Copying files: 608 files [00:46, 76.46 files/s]\u001b[A\n",
            "Copying files: 619 files [00:46, 83.99 files/s]\u001b[A\n",
            "Copying files: 628 files [00:46, 82.60 files/s]\u001b[A\n",
            "Copying files: 639 files [00:46, 89.16 files/s]\u001b[A\n",
            "Copying files: 649 files [00:46, 86.71 files/s]\u001b[A\n",
            "Copying files: 659 files [00:47, 88.08 files/s]\u001b[A\n",
            "Copying files: 668 files [00:47, 83.76 files/s]\u001b[A\n",
            "Copying files: 677 files [00:47, 84.50 files/s]\u001b[A\n",
            "Copying files: 688 files [00:47, 89.96 files/s]\u001b[A\n",
            "Copying files: 698 files [00:47, 81.54 files/s]\u001b[A\n",
            "Copying files: 709 files [00:47, 87.46 files/s]\u001b[A\n",
            "Copying files: 718 files [00:47, 86.09 files/s]\u001b[A\n",
            "Copying files: 727 files [00:47, 84.98 files/s]\u001b[A\n",
            "Copying files: 737 files [00:47, 88.26 files/s]\u001b[A\n",
            "Copying files: 746 files [00:48, 84.56 files/s]\u001b[A\n",
            "Copying files: 756 files [00:48, 88.40 files/s]\u001b[A\n",
            "Copying files: 770 files [00:48, 15.93 files/s]\n",
            "\n",
            "Copying files: 0 files [00:00, ? files/s]\u001b[A\n",
            "Copying files: 9 files [00:00, 72.22 files/s]\u001b[A\n",
            "Copying files: 17 files [00:00, 75.50 files/s]\u001b[A\n",
            "Copying files: 26 files [00:00, 80.54 files/s]\u001b[A\n",
            "Copying files: 37 files [00:00, 90.02 files/s]\u001b[A\n",
            "Copying files: 47 files [00:00, 89.87 files/s]\u001b[A\n",
            "Copying files: 57 files [00:00, 87.50 files/s]\u001b[A\n",
            "Copying files: 66 files [00:00, 88.16 files/s]\u001b[A\n",
            "Copying files: 75 files [00:00, 84.39 files/s]\u001b[A\n",
            "Copying files: 85 files [00:01, 84.84 files/s]\u001b[A\n",
            "Copying files: 94 files [00:01, 83.86 files/s]\u001b[A\n",
            "Copying files: 103 files [00:01, 70.23 files/s]\u001b[A\n",
            "Copying files: 114 files [00:01, 75.42 files/s]\u001b[A\n",
            "Copying files: 125 files [00:01, 83.57 files/s]\u001b[A\n",
            "Copying files: 134 files [00:01, 81.98 files/s]\u001b[A\n",
            "Copying files: 143 files [00:01, 84.01 files/s]\u001b[A\n",
            "Copying files: 152 files [00:01, 80.50 files/s]\u001b[A\n",
            "Copying files: 161 files [00:01, 79.89 files/s]\u001b[A\n",
            "Copying files: 172 files [00:02, 86.21 files/s]\u001b[A\n",
            "Copying files: 181 files [00:02, 80.90 files/s]\u001b[A\n",
            "Copying files: 190 files [00:02, 80.54 files/s]\u001b[A\n",
            "Copying files: 199 files [00:02, 75.17 files/s]\u001b[A\n",
            "Copying files: 208 files [00:02, 77.40 files/s]\u001b[A\n",
            "Copying files: 218 files [00:02, 82.72 files/s]\u001b[A\n",
            "Copying files: 227 files [00:02, 81.92 files/s]\u001b[A\n",
            "Copying files: 236 files [00:02, 83.81 files/s]\u001b[A\n",
            "Copying files: 246 files [00:02, 87.02 files/s]\u001b[A\n",
            "Copying files: 255 files [00:03, 83.19 files/s]\u001b[A\n",
            "Copying files: 265 files [00:03, 83.36 files/s]\u001b[A\n",
            "Copying files: 276 files [00:03, 90.05 files/s]\u001b[A\n",
            "Copying files: 286 files [00:03, 83.93 files/s]\u001b[A\n",
            "Copying files: 295 files [00:03, 84.91 files/s]\u001b[A\n",
            "Copying files: 306 files [00:03, 89.82 files/s]\u001b[A\n",
            "Copying files: 316 files [00:03, 89.24 files/s]\u001b[A\n",
            "Copying files: 325 files [00:03, 88.72 files/s]\u001b[A\n",
            "Copying files: 337 files [00:04, 95.28 files/s]\u001b[A\n",
            "Copying files: 347 files [00:04, 93.16 files/s]\u001b[A\n",
            "Copying files: 357 files [00:04, 92.18 files/s]\u001b[A\n",
            "Copying files: 368 files [00:04, 93.66 files/s]\u001b[A\n",
            "Copying files: 380 files [00:04, 100.55 files/s]\u001b[A\n",
            "Copying files: 391 files [00:04, 99.77 files/s] \u001b[A\n",
            "Copying files: 402 files [00:04, 95.05 files/s]\u001b[A\n",
            "Copying files: 412 files [00:04, 94.62 files/s]\u001b[A\n",
            "Copying files: 422 files [00:04, 93.16 files/s]\u001b[A\n",
            "Copying files: 432 files [00:05, 88.33 files/s]\u001b[A\n",
            "Copying files: 442 files [00:05, 90.35 files/s]\u001b[A\n",
            "Copying files: 452 files [00:05, 88.48 files/s]\u001b[A\n",
            "Copying files: 461 files [00:05, 84.64 files/s]\u001b[A\n",
            "Copying files: 470 files [00:05, 59.77 files/s]\u001b[A\n",
            "Copying files: 479 files [00:05, 64.95 files/s]\u001b[A\n",
            "Copying files: 490 files [00:05, 75.16 files/s]\u001b[A\n",
            "Copying files: 499 files [00:06, 66.46 files/s]\u001b[A\n",
            "Copying files: 509 files [00:06, 72.31 files/s]\u001b[A\n",
            "Copying files: 520 files [00:06, 80.95 files/s]\u001b[A\n",
            "Copying files: 529 files [00:06, 80.55 files/s]\u001b[A\n",
            "Copying files: 539 files [00:06, 82.84 files/s]\u001b[A\n",
            "Copying files: 551 files [00:06, 92.10 files/s]\u001b[A\n",
            "Copying files: 561 files [00:06, 92.88 files/s]\u001b[A\n",
            "Copying files: 571 files [00:06, 89.22 files/s]\u001b[A\n",
            "Copying files: 582 files [00:06, 94.40 files/s]\u001b[A\n",
            "Copying files: 592 files [00:07, 92.64 files/s]\u001b[A\n",
            "Copying files: 602 files [00:07, 92.57 files/s]\u001b[A\n",
            "Copying files: 614 files [00:07, 97.82 files/s]\u001b[A\n",
            "Copying files: 624 files [00:07, 89.75 files/s]\u001b[A\n",
            "Copying files: 634 files [00:07, 89.95 files/s]\u001b[A\n",
            "Copying files: 644 files [00:07, 78.50 files/s]\u001b[A\n",
            "Copying files: 655 files [00:07, 84.36 files/s]\u001b[A\n",
            "Copying files: 664 files [00:07, 85.02 files/s]\u001b[A\n",
            "Copying files: 673 files [00:07, 84.71 files/s]\u001b[A\n",
            "Copying files: 684 files [00:08, 90.54 files/s]\u001b[A\n",
            "Copying files: 694 files [00:08, 88.84 files/s]\u001b[A\n",
            "Copying files: 704 files [00:08, 87.22 files/s]\u001b[A\n",
            "Copying files: 713 files [00:08, 84.13 files/s]\u001b[A\n",
            "Copying files: 722 files [00:08, 84.91 files/s]\u001b[A\n",
            "Copying files: 733 files [00:08, 91.83 files/s]\u001b[A\n",
            "Copying files: 743 files [00:08, 90.76 files/s]\u001b[A\n",
            "Copying files: 753 files [00:08, 87.18 files/s]\u001b[A\n",
            "Copying files: 770 files [00:09, 84.92 files/s]\n"
          ]
        }
      ],
      "source": [
        "!pip install split-folders\n",
        "\n",
        "import splitfolders  # or import split_folders\n",
        "\n",
        "input_folder = '/content/drive/MyDrive/Deep Learning Project/Monkeypox Skin Image Dataset'\n",
        "\n",
        "# Split with a ratio.\n",
        "# To only split into training and validation set, set a tuple to `ratio`, i.e, `(.8, .2)`.\n",
        "#Train, val, test\n",
        "splitfolders.ratio(input_folder, output='/content/drive/MyDrive/Deep Learning Project/Monkeypox Skin Image Dataset3', \n",
        "                   seed=42, ratio=(.7, .2, .1), \n",
        "                   group_prefix=None) # default values\n",
        "\n",
        "\n",
        "# Split val/test with a fixed number of items e.g. 100 for each set.\n",
        "# To only split into training and validation set, use a single number to `fixed`, i.e., `10`.\n",
        "# enable oversampling of imbalanced datasets, works only with fixed\n",
        "splitfolders.fixed(input_folder, output='/content/drive/MyDrive/Deep Learning Project/Monkeypox Skin Image Dataset3', \n",
        "                   seed=42, fixed=(18, 9),oversample=False, group_prefix=None) "
      ]
    },
    {
      "cell_type": "code",
      "execution_count": 64,
      "metadata": {
        "id": "F_AhGuSVzdmH"
      },
      "outputs": [],
      "source": [
        "from tensorflow.keras.layers import Input, Lambda, Dense, Flatten,Dropout\n",
        "from tensorflow.keras.models import Model\n",
        "from tensorflow.keras.applications.vgg19 import VGG19\n",
        "from tensorflow.keras.applications.vgg19 import preprocess_input\n",
        "from tensorflow.keras.preprocessing import image\n",
        "from tensorflow.keras.preprocessing.image import ImageDataGenerator\n",
        "from tensorflow.keras.models import Sequential\n",
        "import numpy as np\n",
        "import pandas as pd\n",
        "import os\n",
        "import cv2\n",
        "import matplotlib.pyplot as plt"
      ]
    },
    {
      "cell_type": "code",
      "execution_count": 65,
      "metadata": {
        "id": "XRwIcoeVzeUC"
      },
      "outputs": [],
      "source": [
        "train_path=\"/content/drive/MyDrive/Deep Learning Project/Monkeypox Skin Image Dataset3/train\"\n",
        "test_path=\"/content/drive/MyDrive/Deep Learning Project/Monkeypox Skin Image Dataset3/test\"\n",
        "val_path=\"/content/drive/MyDrive/Deep Learning Project/Monkeypox Skin Image Dataset3/val\""
      ]
    },
    {
      "cell_type": "code",
      "execution_count": 66,
      "metadata": {
        "id": "wPuwjnZtzgi0"
      },
      "outputs": [],
      "source": [
        "x_train=[]\n",
        "\n",
        "for folder in os.listdir(train_path):\n",
        "\n",
        "    sub_path=train_path+\"/\"+folder\n",
        "\n",
        "    for img in os.listdir(sub_path):\n",
        "\n",
        "        image_path=sub_path+\"/\"+img\n",
        "\n",
        "        img_arr=cv2.imread(image_path)\n",
        "\n",
        "        img_arr=cv2.resize(img_arr,(224,224))\n",
        "\n",
        "        x_train.append(img_arr)\n"
      ]
    },
    {
      "cell_type": "code",
      "execution_count": 67,
      "metadata": {
        "id": "eE8WE1hkziec"
      },
      "outputs": [],
      "source": [
        "x_test=[]\n",
        "\n",
        "for folder in os.listdir(test_path):\n",
        "\n",
        "    sub_path=test_path+\"/\"+folder\n",
        "\n",
        "    for img in os.listdir(sub_path):\n",
        "\n",
        "        image_path=sub_path+\"/\"+img\n",
        "\n",
        "        img_arr=cv2.imread(image_path)\n",
        "\n",
        "        img_arr=cv2.resize(img_arr,(224,224))\n",
        "\n",
        "        x_test.append(img_arr)"
      ]
    },
    {
      "cell_type": "code",
      "execution_count": 80,
      "metadata": {
        "id": "qjnPGvOazkh0"
      },
      "outputs": [],
      "source": [
        "x_val=[]\n",
        "\n",
        "for folder in os.listdir(val_path):\n",
        "\n",
        "    sub_path=val_path+\"/\"+folder\n",
        "\n",
        "    for img in os.listdir(sub_path):\n",
        "\n",
        "        image_path=sub_path+\"/\"+img\n",
        "\n",
        "        img_arr=cv2.imread(image_path)\n",
        "\n",
        "        img_arr=cv2.resize(img_arr,(224,224))\n",
        "\n",
        "        x_val.append(img_arr)"
      ]
    },
    {
      "cell_type": "code",
      "execution_count": 81,
      "metadata": {
        "id": "lpTSlzSSzmXb"
      },
      "outputs": [],
      "source": [
        "train_x=np.array(x_train)\n",
        "test_x=np.array(x_test)\n",
        "val_x=np.array(x_val)"
      ]
    },
    {
      "cell_type": "code",
      "execution_count": 82,
      "metadata": {
        "id": "O2vWnlvwzobY"
      },
      "outputs": [],
      "source": [
        "train_x=train_x/255.0\n",
        "test_x=test_x/255.0\n",
        "val_x=val_x/255.0"
      ]
    },
    {
      "cell_type": "code",
      "execution_count": 83,
      "metadata": {
        "id": "jZgDDqzpzqRZ"
      },
      "outputs": [],
      "source": [
        "from tensorflow.keras.preprocessing.image import ImageDataGenerator\n",
        "train_datagen = ImageDataGenerator(rescale = 1./255)\n",
        "test_datagen = ImageDataGenerator(rescale = 1./255)\n",
        "val_datagen = ImageDataGenerator(rescale = 1./255)"
      ]
    },
    {
      "cell_type": "code",
      "execution_count": 104,
      "metadata": {
        "colab": {
          "base_uri": "https://localhost:8080/"
        },
        "id": "cWU9r-bdzr-R",
        "outputId": "61658970-c113-493f-af48-8c15f4ce57d9"
      },
      "outputs": [
        {
          "output_type": "stream",
          "name": "stdout",
          "text": [
            "Found 662 images belonging to 4 classes.\n",
            "Found 81 images belonging to 4 classes.\n",
            "Found 192 images belonging to 4 classes.\n"
          ]
        }
      ],
      "source": [
        "training_set = train_datagen.flow_from_directory(train_path,\n",
        "                                                 target_size = (224, 224),\n",
        "                                                 batch_size = 16,\n",
        "                                                 class_mode = 'sparse')\n",
        "test_set = test_datagen.flow_from_directory(test_path,\n",
        "                                            target_size = (224, 224),\n",
        "                                            batch_size = 16,\n",
        "                                            class_mode = 'sparse')\n",
        "val_set = val_datagen.flow_from_directory(val_path,\n",
        "                                            target_size = (224, 224),\n",
        "                                            batch_size = 16,\n",
        "                                            class_mode = 'sparse')"
      ]
    },
    {
      "cell_type": "code",
      "execution_count": 105,
      "metadata": {
        "id": "p_tzLMCFzt5a"
      },
      "outputs": [],
      "source": [
        "train_y=training_set.classes\n",
        "test_y=test_set.classes\n",
        "val_y=val_set.classes"
      ]
    },
    {
      "cell_type": "code",
      "execution_count": 106,
      "metadata": {
        "colab": {
          "base_uri": "https://localhost:8080/"
        },
        "id": "xCz1Lvxpzv8l",
        "outputId": "d4cacbc5-e3a0-412a-b4eb-acb97d7641a6"
      },
      "outputs": [
        {
          "output_type": "execute_result",
          "data": {
            "text/plain": [
              "{'Chickenpox': 0, 'Measles': 1, 'Monkeypox': 2, 'Normal': 3}"
            ]
          },
          "metadata": {},
          "execution_count": 106
        }
      ],
      "source": [
        "training_set.class_indices"
      ]
    },
    {
      "cell_type": "code",
      "execution_count": 107,
      "metadata": {
        "colab": {
          "base_uri": "https://localhost:8080/"
        },
        "id": "wLj2GKy_zyWy",
        "outputId": "4495a0c1-3956-433d-cb39-a9658d49fd71"
      },
      "outputs": [
        {
          "output_type": "execute_result",
          "data": {
            "text/plain": [
              "((662, 224, 224, 3), (81, 224, 224, 3), (192, 224, 224, 3))"
            ]
          },
          "metadata": {},
          "execution_count": 107
        }
      ],
      "source": [
        "train_x.shape,test_x.shape,val_x.shape"
      ]
    },
    {
      "cell_type": "code",
      "source": [
        "train_y.shape,test_y.shape,val_y.shape"
      ],
      "metadata": {
        "colab": {
          "base_uri": "https://localhost:8080/"
        },
        "id": "0bXTAC7ZTEU2",
        "outputId": "6404303e-6c47-472b-990b-c44fe3a46acd"
      },
      "execution_count": 108,
      "outputs": [
        {
          "output_type": "execute_result",
          "data": {
            "text/plain": [
              "((662,), (81,), (192,))"
            ]
          },
          "metadata": {},
          "execution_count": 108
        }
      ]
    },
    {
      "cell_type": "code",
      "execution_count": 109,
      "metadata": {
        "id": "30a2syX_z1iv"
      },
      "outputs": [],
      "source": [
        "# add preprocessing layer to the front of VGG\n",
        "\n",
        "vgg = VGG19(input_shape=IMAGE_SIZE + [3], weights='imagenet', include_top=False)"
      ]
    },
    {
      "cell_type": "code",
      "execution_count": 110,
      "metadata": {
        "id": "yKGXwVbMz3SG"
      },
      "outputs": [],
      "source": [
        "#do not train the pre-trained layers of VGG-19\n",
        "for layer in vgg.layers:\n",
        "    layer.trainable = False"
      ]
    },
    {
      "cell_type": "code",
      "execution_count": 111,
      "metadata": {
        "id": "gxgO-IJGz5IB"
      },
      "outputs": [],
      "source": [
        "x = Flatten()(vgg.output)"
      ]
    },
    {
      "cell_type": "code",
      "execution_count": 112,
      "metadata": {
        "id": "KYfTIJe4z7EZ"
      },
      "outputs": [],
      "source": [
        "#adding output layer.Softmax classifier is used as it is multi-class classification\n",
        "prediction = Dense(4, activation='softmax')(x)\n",
        "\n",
        "model = Model(inputs=vgg.input, outputs=prediction)"
      ]
    },
    {
      "cell_type": "code",
      "execution_count": 113,
      "metadata": {
        "colab": {
          "base_uri": "https://localhost:8080/"
        },
        "id": "AAY2_cKhz8tj",
        "outputId": "23040e31-13ee-4c2b-a469-19a05342034c"
      },
      "outputs": [
        {
          "output_type": "stream",
          "name": "stdout",
          "text": [
            "Model: \"model_3\"\n",
            "_________________________________________________________________\n",
            " Layer (type)                Output Shape              Param #   \n",
            "=================================================================\n",
            " input_4 (InputLayer)        [(None, 224, 224, 3)]     0         \n",
            "                                                                 \n",
            " block1_conv1 (Conv2D)       (None, 224, 224, 64)      1792      \n",
            "                                                                 \n",
            " block1_conv2 (Conv2D)       (None, 224, 224, 64)      36928     \n",
            "                                                                 \n",
            " block1_pool (MaxPooling2D)  (None, 112, 112, 64)      0         \n",
            "                                                                 \n",
            " block2_conv1 (Conv2D)       (None, 112, 112, 128)     73856     \n",
            "                                                                 \n",
            " block2_conv2 (Conv2D)       (None, 112, 112, 128)     147584    \n",
            "                                                                 \n",
            " block2_pool (MaxPooling2D)  (None, 56, 56, 128)       0         \n",
            "                                                                 \n",
            " block3_conv1 (Conv2D)       (None, 56, 56, 256)       295168    \n",
            "                                                                 \n",
            " block3_conv2 (Conv2D)       (None, 56, 56, 256)       590080    \n",
            "                                                                 \n",
            " block3_conv3 (Conv2D)       (None, 56, 56, 256)       590080    \n",
            "                                                                 \n",
            " block3_conv4 (Conv2D)       (None, 56, 56, 256)       590080    \n",
            "                                                                 \n",
            " block3_pool (MaxPooling2D)  (None, 28, 28, 256)       0         \n",
            "                                                                 \n",
            " block4_conv1 (Conv2D)       (None, 28, 28, 512)       1180160   \n",
            "                                                                 \n",
            " block4_conv2 (Conv2D)       (None, 28, 28, 512)       2359808   \n",
            "                                                                 \n",
            " block4_conv3 (Conv2D)       (None, 28, 28, 512)       2359808   \n",
            "                                                                 \n",
            " block4_conv4 (Conv2D)       (None, 28, 28, 512)       2359808   \n",
            "                                                                 \n",
            " block4_pool (MaxPooling2D)  (None, 14, 14, 512)       0         \n",
            "                                                                 \n",
            " block5_conv1 (Conv2D)       (None, 14, 14, 512)       2359808   \n",
            "                                                                 \n",
            " block5_conv2 (Conv2D)       (None, 14, 14, 512)       2359808   \n",
            "                                                                 \n",
            " block5_conv3 (Conv2D)       (None, 14, 14, 512)       2359808   \n",
            "                                                                 \n",
            " block5_conv4 (Conv2D)       (None, 14, 14, 512)       2359808   \n",
            "                                                                 \n",
            " block5_pool (MaxPooling2D)  (None, 7, 7, 512)         0         \n",
            "                                                                 \n",
            " flatten_3 (Flatten)         (None, 25088)             0         \n",
            "                                                                 \n",
            " dense_3 (Dense)             (None, 4)                 100356    \n",
            "                                                                 \n",
            "=================================================================\n",
            "Total params: 20,124,740\n",
            "Trainable params: 100,356\n",
            "Non-trainable params: 20,024,384\n",
            "_________________________________________________________________\n"
          ]
        }
      ],
      "source": [
        "# view the structure of the model\n",
        "model.summary()"
      ]
    },
    {
      "cell_type": "code",
      "execution_count": 114,
      "metadata": {
        "id": "vcoyu_u8z-wg"
      },
      "outputs": [],
      "source": [
        "model.compile(\n",
        "  loss='sparse_categorical_crossentropy',\n",
        "  optimizer=\"adam\",\n",
        "  metrics=['accuracy']\n",
        ")"
      ]
    },
    {
      "cell_type": "code",
      "execution_count": 95,
      "metadata": {
        "id": "CBJFXhty0Awa"
      },
      "outputs": [],
      "source": [
        "from tensorflow.keras.callbacks import EarlyStopping\n",
        "early_stop=EarlyStopping(monitor='val_loss',mode='min',verbose=1,patience=5)\n",
        "#Early stopping to avoid overfitting of model"
      ]
    },
    {
      "cell_type": "code",
      "source": [
        "train_y.shape"
      ],
      "metadata": {
        "colab": {
          "base_uri": "https://localhost:8080/"
        },
        "id": "d15fIPfBZG-J",
        "outputId": "993263bd-5907-44f1-e631-fd65995c1da1"
      },
      "execution_count": 115,
      "outputs": [
        {
          "output_type": "execute_result",
          "data": {
            "text/plain": [
              "(662,)"
            ]
          },
          "metadata": {},
          "execution_count": 115
        }
      ]
    },
    {
      "cell_type": "code",
      "source": [
        "train_x.shape"
      ],
      "metadata": {
        "colab": {
          "base_uri": "https://localhost:8080/"
        },
        "id": "UIV5aL3nZgSr",
        "outputId": "7eb8ac6f-feff-4760-8e83-6a27cf218389"
      },
      "execution_count": 116,
      "outputs": [
        {
          "output_type": "execute_result",
          "data": {
            "text/plain": [
              "(662, 224, 224, 3)"
            ]
          },
          "metadata": {},
          "execution_count": 116
        }
      ]
    },
    {
      "cell_type": "code",
      "source": [
        "val_y.shape"
      ],
      "metadata": {
        "colab": {
          "base_uri": "https://localhost:8080/"
        },
        "id": "TOd9EwgtqL3C",
        "outputId": "cde3fe2c-7624-4266-fd5d-4b5065ed00b9"
      },
      "execution_count": 117,
      "outputs": [
        {
          "output_type": "execute_result",
          "data": {
            "text/plain": [
              "(192,)"
            ]
          },
          "metadata": {},
          "execution_count": 117
        }
      ]
    },
    {
      "cell_type": "code",
      "source": [
        "val_x.shape"
      ],
      "metadata": {
        "colab": {
          "base_uri": "https://localhost:8080/"
        },
        "id": "PhlYKjVaqHdD",
        "outputId": "dbbe32c5-b2cf-4654-b03d-185a2da6a73e"
      },
      "execution_count": 118,
      "outputs": [
        {
          "output_type": "execute_result",
          "data": {
            "text/plain": [
              "(192, 224, 224, 3)"
            ]
          },
          "metadata": {},
          "execution_count": 118
        }
      ]
    },
    {
      "cell_type": "code",
      "execution_count": 119,
      "metadata": {
        "colab": {
          "base_uri": "https://localhost:8080/"
        },
        "id": "_agpjG-O0CZL",
        "outputId": "f52a7346-a515-42c6-9f10-5071fd869655"
      },
      "outputs": [
        {
          "output_type": "stream",
          "name": "stdout",
          "text": [
            "Epoch 1/10\n",
            "42/42 [==============================] - 481s 11s/step - loss: 1.0497 - accuracy: 0.6299 - val_loss: 0.8548 - val_accuracy: 0.6927\n",
            "Epoch 2/10\n",
            "42/42 [==============================] - 478s 11s/step - loss: 0.4347 - accuracy: 0.8595 - val_loss: 0.7817 - val_accuracy: 0.7760\n",
            "Epoch 3/10\n",
            "42/42 [==============================] - 487s 12s/step - loss: 0.3179 - accuracy: 0.8897 - val_loss: 0.7014 - val_accuracy: 0.7396\n",
            "Epoch 4/10\n",
            "42/42 [==============================] - 479s 11s/step - loss: 0.2108 - accuracy: 0.9290 - val_loss: 1.1409 - val_accuracy: 0.6823\n",
            "Epoch 5/10\n",
            "42/42 [==============================] - 477s 11s/step - loss: 0.2265 - accuracy: 0.9199 - val_loss: 0.8729 - val_accuracy: 0.7604\n",
            "Epoch 6/10\n",
            "42/42 [==============================] - 477s 11s/step - loss: 0.1169 - accuracy: 0.9728 - val_loss: 0.8775 - val_accuracy: 0.7604\n",
            "Epoch 7/10\n",
            "42/42 [==============================] - 477s 11s/step - loss: 0.1073 - accuracy: 0.9683 - val_loss: 0.8688 - val_accuracy: 0.7552\n",
            "Epoch 8/10\n",
            "42/42 [==============================] - 479s 11s/step - loss: 0.0639 - accuracy: 0.9924 - val_loss: 0.8521 - val_accuracy: 0.7917\n",
            "Epoch 8: early stopping\n"
          ]
        }
      ],
      "source": [
        "# fit the model\n",
        "history = model.fit(\n",
        "  train_x,\n",
        "  train_y,\n",
        "  validation_data=(val_x,val_y),\n",
        "  epochs=10,\n",
        "  callbacks=[early_stop],\n",
        "  batch_size=16,shuffle=True)"
      ]
    },
    {
      "cell_type": "code",
      "execution_count": 120,
      "metadata": {
        "id": "enzRFlw00Ec5",
        "colab": {
          "base_uri": "https://localhost:8080/",
          "height": 265
        },
        "outputId": "3ea20e09-f792-4a78-ec67-78183c8280ad"
      },
      "outputs": [
        {
          "output_type": "display_data",
          "data": {
            "text/plain": [
              "<Figure size 432x288 with 1 Axes>"
            ],
            "image/png": "[encoded data removed]"
          },
          "metadata": {
            "needs_background": "light"
          }
        }
      ],
      "source": [
        "# accuracies\n",
        "\n",
        "plt.plot(history.history['accuracy'], label='train acc')\n",
        "\n",
        "plt.plot(history.history['val_accuracy'], label='val acc')\n",
        "\n",
        "plt.legend()\n",
        "\n",
        "plt.savefig('vgg-acc-rps-1.png')\n",
        "\n",
        "plt.show()"
      ]
    },
    {
      "cell_type": "code",
      "execution_count": 121,
      "metadata": {
        "id": "S0FTrOfh0HVl",
        "colab": {
          "base_uri": "https://localhost:8080/",
          "height": 265
        },
        "outputId": "57b732fa-6286-4934-ec2a-f34df0a3a0a6"
      },
      "outputs": [
        {
          "output_type": "display_data",
          "data": {
            "text/plain": [
              "<Figure size 432x288 with 1 Axes>"
            ],
            "image/png": "[encoded data removed]"
          },
          "metadata": {
            "needs_background": "light"
          }
        }
      ],
      "source": [
        "# loss\n",
        "plt.plot(history.history['loss'], label='train loss')\n",
        "plt.plot(history.history['val_loss'], label='val loss')\n",
        "plt.legend()\n",
        "plt.savefig('vgg-loss-rps-1.png')\n",
        "plt.show()"
      ]
    },
    {
      "cell_type": "code",
      "execution_count": 127,
      "metadata": {
        "id": "8rjiQugn0KQO",
        "colab": {
          "base_uri": "https://localhost:8080/"
        },
        "outputId": "dfe3ec9a-dd46-4d5c-b9ab-95f87bda73a0"
      },
      "outputs": [
        {
          "output_type": "stream",
          "name": "stdout",
          "text": [
            "6/6 [==============================] - 47s 7s/step - loss: 1.2567 - accuracy: 0.6790\n"
          ]
        },
        {
          "output_type": "execute_result",
          "data": {
            "text/plain": [
              "[1.2566558122634888, 0.6790123581886292]"
            ]
          },
          "metadata": {},
          "execution_count": 127
        }
      ],
      "source": [
        "model.evaluate(test_x,test_y,batch_size=16)"
      ]
    },
    {
      "cell_type": "code",
      "execution_count": 123,
      "metadata": {
        "id": "EUtccv4q0NuA"
      },
      "outputs": [],
      "source": [
        "from sklearn.metrics import accuracy_score,classification_report,confusion_matrix\n",
        "import numpy as np"
      ]
    },
    {
      "cell_type": "code",
      "execution_count": 124,
      "metadata": {
        "id": "MfWRFIoV0OOu"
      },
      "outputs": [],
      "source": [
        "#predict\n",
        "y_pred=model.predict(test_x)\n",
        "y_pred=np.argmax(y_pred,axis=1)"
      ]
    },
    {
      "cell_type": "code",
      "execution_count": 125,
      "metadata": {
        "id": "zco1n0EN0QLP",
        "colab": {
          "base_uri": "https://localhost:8080/"
        },
        "outputId": "528b57f6-0639-4f9a-d8a3-1354bb344787"
      },
      "outputs": [
        {
          "output_type": "stream",
          "name": "stdout",
          "text": [
            "              precision    recall  f1-score   support\n",
            "\n",
            "           0       0.33      0.57      0.42         7\n",
            "           1       0.50      0.50      0.50        10\n",
            "           2       0.86      0.71      0.78        35\n",
            "           3       0.70      0.72      0.71        29\n",
            "\n",
            "    accuracy                           0.68        81\n",
            "   macro avg       0.60      0.63      0.60        81\n",
            "weighted avg       0.71      0.68      0.69        81\n",
            "\n"
          ]
        }
      ],
      "source": [
        "#get classification report\n",
        "print(classification_report(y_pred,test_y))\n"
      ]
    },
    {
      "cell_type": "code",
      "source": [
        "print(confusion_matrix(y_pred,test_y))"
      ],
      "metadata": {
        "colab": {
          "base_uri": "https://localhost:8080/"
        },
        "id": "0VSdM-nfMk1t",
        "outputId": "040f36d5-b772-403a-8e83-97f7ed214aeb"
      },
      "execution_count": 126,
      "outputs": [
        {
          "output_type": "stream",
          "name": "stdout",
          "text": [
            "[[ 4  0  1  2]\n",
            " [ 3  5  0  2]\n",
            " [ 3  2 25  5]\n",
            " [ 2  3  3 21]]\n"
          ]
        }
      ]
    }
  ],
  "metadata": {
    "colab": {
      "provenance": []
    },
    "kernelspec": {
      "display_name": "Python 3",
      "name": "python3"
    },
    "language_info": {
      "name": "python"
    }
  },
  "nbformat": 4,
  "nbformat_minor": 0
}